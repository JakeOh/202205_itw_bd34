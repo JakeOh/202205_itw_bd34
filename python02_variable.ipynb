{
  "nbformat": 4,
  "nbformat_minor": 0,
  "metadata": {
    "colab": {
      "name": "python02_variable.ipynb",
      "provenance": [],
      "collapsed_sections": [],
      "authorship_tag": "ABX9TyNdjtTPlErRJAyJL6CWhT9z",
      "include_colab_link": true
    },
    "kernelspec": {
      "name": "python3",
      "display_name": "Python 3"
    },
    "language_info": {
      "name": "python"
    }
  },
  "cells": [
    {
      "cell_type": "markdown",
      "metadata": {
        "id": "view-in-github",
        "colab_type": "text"
      },
      "source": [
        "<a href=\"https://colab.research.google.com/github/JakeOh/202205_itw_bd34/blob/main/python02_variable.ipynb\" target=\"_parent\"><img src=\"https://colab.research.google.com/assets/colab-badge.svg\" alt=\"Open In Colab\"/></a>"
      ]
    },
    {
      "cell_type": "markdown",
      "source": [
        "# Python Data Type(자료 타입)"
      ],
      "metadata": {
        "id": "aB1m4nbKyN69"
      }
    },
    {
      "cell_type": "markdown",
      "source": [
        "\n",
        "\n",
        "*   숫자 타입\n",
        "    *   정수(int)\n",
        "    *   실수(float)\n",
        "*   문자열(str)\n",
        "*   논리 타입(bool): True 또는 False 두 가지 상태를 저장하는 변수.\n",
        "\n"
      ],
      "metadata": {
        "id": "wFNPxFNDyYzD"
      }
    },
    {
      "cell_type": "markdown",
      "source": [
        "## 숫자 타입"
      ],
      "metadata": {
        "id": "KyWfcfLxJiBr"
      }
    },
    {
      "cell_type": "code",
      "execution_count": 1,
      "metadata": {
        "colab": {
          "base_uri": "https://localhost:8080/"
        },
        "id": "NaEc3uHuxPIG",
        "outputId": "f03f0bf6-e505-4f72-9762-a0b4bc8721aa"
      },
      "outputs": [
        {
          "output_type": "stream",
          "name": "stdout",
          "text": [
            "<class 'int'>\n",
            "n = 100\n"
          ]
        }
      ],
      "source": [
        "n = 100  # 변수 = 값\n",
        "print(type(n))  # 변수 n의 자료 타입을 출력\n",
        "print('n =', n)"
      ]
    },
    {
      "cell_type": "code",
      "source": [
        "n = 3.14\n",
        "print(type(n))\n",
        "print('n =', n)"
      ],
      "metadata": {
        "colab": {
          "base_uri": "https://localhost:8080/"
        },
        "id": "PZAuMyXWI8AK",
        "outputId": "b134b0ce-860c-47e0-f809-f4e5ad781956"
      },
      "execution_count": 2,
      "outputs": [
        {
          "output_type": "stream",
          "name": "stdout",
          "text": [
            "<class 'float'>\n",
            "n = 3.14\n"
          ]
        }
      ]
    },
    {
      "cell_type": "markdown",
      "source": [
        "## 문자열 타입"
      ],
      "metadata": {
        "id": "QHSar9eVKBPa"
      }
    },
    {
      "cell_type": "code",
      "source": [
        "s = '안녕하세요.'\n",
        "print(type(s))\n",
        "print(s)"
      ],
      "metadata": {
        "colab": {
          "base_uri": "https://localhost:8080/"
        },
        "id": "0PXQBtOWKPSK",
        "outputId": "d0daf54a-491f-49c4-be87-39080ee0564f"
      },
      "execution_count": 6,
      "outputs": [
        {
          "output_type": "stream",
          "name": "stdout",
          "text": [
            "<class 'str'>\n",
            "안녕하세요.\n"
          ]
        }
      ]
    },
    {
      "cell_type": "markdown",
      "source": [
        "파이썬에서 문자열은 작은 따옴표('')와 큰따옴표(\"\")를 모두 사용할 수 있음.\n",
        "\n",
        "아래의 두 문장은 같은 문장.\n",
        "\n",
        "```\n",
        "s = 'hello'\n",
        "s = \"hello\"\n",
        "```\n"
      ],
      "metadata": {
        "id": "-PH6lP9GLRdp"
      }
    },
    {
      "cell_type": "markdown",
      "source": [
        "## 논리 타입"
      ],
      "metadata": {
        "id": "urt1LNMaNJi5"
      }
    },
    {
      "cell_type": "code",
      "source": [
        "b = False  # 파이썬의 예약어(keyword)는 대소문자를 구분함!\n",
        "print(type(b))\n",
        "print(b)"
      ],
      "metadata": {
        "colab": {
          "base_uri": "https://localhost:8080/"
        },
        "id": "lMa1TTD6NONx",
        "outputId": "03043537-7af1-4fff-e8e8-d65e866e9a78"
      },
      "execution_count": 10,
      "outputs": [
        {
          "output_type": "stream",
          "name": "stdout",
          "text": [
            "<class 'bool'>\n",
            "False\n"
          ]
        }
      ]
    },
    {
      "cell_type": "code",
      "source": [
        "x = 5\n",
        "result = x > 0\n",
        "print(result)"
      ],
      "metadata": {
        "colab": {
          "base_uri": "https://localhost:8080/"
        },
        "id": "7t5HHQa7ODea",
        "outputId": "dc903d5b-dbf7-443f-986a-41104927f0f4"
      },
      "execution_count": 12,
      "outputs": [
        {
          "output_type": "stream",
          "name": "stdout",
          "text": [
            "True\n"
          ]
        }
      ]
    },
    {
      "cell_type": "markdown",
      "source": [
        "## 명시적 타입 변환(explicit type conversion/casting)\n",
        "\n",
        "*   `int(값)`: 값을 정수로 변환해서 리턴하는 함수.\n",
        "*   `float(값)`: 값을 실수로 변환해서 리턴하는 함수.\n",
        "*   `str(값)`: 값을 문자열로 변환해서 리턴하는 함수.\n"
      ],
      "metadata": {
        "id": "5n6-FF9MPMHl"
      }
    }
  ]
}