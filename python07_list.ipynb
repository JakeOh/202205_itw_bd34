{
  "nbformat": 4,
  "nbformat_minor": 0,
  "metadata": {
    "colab": {
      "name": "python07_list.ipynb",
      "provenance": [],
      "collapsed_sections": [],
      "authorship_tag": "ABX9TyOA3hxXKhOhMMw2itFCAd2L",
      "include_colab_link": true
    },
    "kernelspec": {
      "name": "python3",
      "display_name": "Python 3"
    },
    "language_info": {
      "name": "python"
    }
  },
  "cells": [
    {
      "cell_type": "markdown",
      "metadata": {
        "id": "view-in-github",
        "colab_type": "text"
      },
      "source": [
        "<a href=\"https://colab.research.google.com/github/JakeOh/202205_itw_bd34/blob/main/python07_list.ipynb\" target=\"_parent\"><img src=\"https://colab.research.google.com/assets/colab-badge.svg\" alt=\"Open In Colab\"/></a>"
      ]
    },
    {
      "cell_type": "markdown",
      "source": [
        "# List(리스트)"
      ],
      "metadata": {
        "id": "vY23J5EIKGTl"
      }
    },
    {
      "cell_type": "markdown",
      "source": [
        "*   list(리스트): 여러 개의 값들을 하나의 변수에 저장하기 위한 데이터 타입.\n",
        "*   element(원소, 요소): 리스트에 저장된 각각의 값.\n",
        "*   index(인덱스): 리스트에서 각각의 원소들이 저장된 위치(번호).\n",
        "    *   리스트의 인덱스는 **0**부터 시작!!\n",
        "    *   리스트의 마지막 원소의 인덱스는 (원소 개수 - 1).\n",
        "*   리스트는 원소들을 변경(추가, 삭제)할 수 있음.\n",
        "    *   튜플(tuple)과 다른 점!"
      ],
      "metadata": {
        "id": "YFW4enQpKLe8"
      }
    },
    {
      "cell_type": "code",
      "execution_count": 1,
      "metadata": {
        "colab": {
          "base_uri": "https://localhost:8080/"
        },
        "id": "QwwgekuRJ_Yz",
        "outputId": "833afc77-8c4c-4cd7-b898-edfebbc5f2c5"
      },
      "outputs": [
        {
          "output_type": "stream",
          "name": "stdout",
          "text": [
            "[1, 2, 10, 20, 100]\n"
          ]
        }
      ],
      "source": [
        "# 숫자들을 저장하는 list\n",
        "numbers = [1, 2, 10, 20, 100]\n",
        "print(numbers)"
      ]
    },
    {
      "cell_type": "code",
      "source": [
        "print(type(numbers))"
      ],
      "metadata": {
        "colab": {
          "base_uri": "https://localhost:8080/"
        },
        "id": "iu1vmltXM3T1",
        "outputId": "37ae37e0-d65e-4dd3-a9fa-c2cf22c90b71"
      },
      "execution_count": 2,
      "outputs": [
        {
          "output_type": "stream",
          "name": "stdout",
          "text": [
            "<class 'list'>\n"
          ]
        }
      ]
    },
    {
      "cell_type": "markdown",
      "source": [
        "## indexing\n",
        "\n",
        "인덱스를 사용해서 리스트의 원소를 사용하는 방법."
      ],
      "metadata": {
        "id": "BxRvC568NEZe"
      }
    },
    {
      "cell_type": "code",
      "source": [
        "print(numbers[0])  # 리스트에서 첫번째 원소"
      ],
      "metadata": {
        "colab": {
          "base_uri": "https://localhost:8080/"
        },
        "id": "9sPtrXlJNSEr",
        "outputId": "c2bf52c5-6813-4caa-d4b6-2728ceb14e5a"
      },
      "execution_count": 3,
      "outputs": [
        {
          "output_type": "stream",
          "name": "stdout",
          "text": [
            "1\n"
          ]
        }
      ]
    },
    {
      "cell_type": "code",
      "source": [
        "print(numbers[4])  # 리스트의 마지막 원소"
      ],
      "metadata": {
        "colab": {
          "base_uri": "https://localhost:8080/"
        },
        "id": "6lSoxeDFOjtV",
        "outputId": "e31495c2-e112-4bcb-832b-64a55235861e"
      },
      "execution_count": 4,
      "outputs": [
        {
          "output_type": "stream",
          "name": "stdout",
          "text": [
            "100\n"
          ]
        }
      ]
    },
    {
      "cell_type": "code",
      "source": [
        "# print(numbers[5])  #> IndexError가 발생함"
      ],
      "metadata": {
        "id": "F9Vl1oWwPAyv"
      },
      "execution_count": 6,
      "outputs": []
    },
    {
      "cell_type": "code",
      "source": [
        "print(numbers[-1])  # 음수 인덱스를 사용해서 리스트의 가장 마지막 원소를 찾을 수도 있음."
      ],
      "metadata": {
        "colab": {
          "base_uri": "https://localhost:8080/"
        },
        "id": "KNOBNceEQOCc",
        "outputId": "d64675be-19ac-4ad0-9d7c-3e0a8fcc8ded"
      },
      "execution_count": 8,
      "outputs": [
        {
          "output_type": "stream",
          "name": "stdout",
          "text": [
            "100\n"
          ]
        }
      ]
    },
    {
      "cell_type": "code",
      "source": [
        "# 리스트에서 끝에서 두번째 원소\n",
        "print(numbers[3])\n",
        "print(numbers[-2])"
      ],
      "metadata": {
        "colab": {
          "base_uri": "https://localhost:8080/"
        },
        "id": "rCOamQsQQdoV",
        "outputId": "10e88b96-d953-4974-e024-9912aa90402f"
      },
      "execution_count": 10,
      "outputs": [
        {
          "output_type": "stream",
          "name": "stdout",
          "text": [
            "20\n",
            "20\n"
          ]
        }
      ]
    },
    {
      "cell_type": "markdown",
      "source": [
        "## slicing"
      ],
      "metadata": {
        "id": "aFRS7on7Rg-x"
      }
    },
    {
      "cell_type": "markdown",
      "source": [
        "```\n",
        "list_name[start:end]\n",
        "```\n",
        "\n",
        "*   리스트에서 start <= index < end 범위의 원소들을 선택.\n",
        "*   start를 생략하면 인덱스 0번 원소(리스트의 첫번째 원소)부터 선택.\n",
        "*   end를 생략하면 리스트의 마지막 원소까지 선택.\n",
        "*   slicing의 결과는 **새로운 리스트**!"
      ],
      "metadata": {
        "id": "I4YZb6z-RmUl"
      }
    },
    {
      "cell_type": "code",
      "source": [
        "print(numbers)"
      ],
      "metadata": {
        "colab": {
          "base_uri": "https://localhost:8080/"
        },
        "id": "AiBZJKLITcyf",
        "outputId": "7835862e-a5f8-40e6-b527-a93d28a2e822"
      },
      "execution_count": 11,
      "outputs": [
        {
          "output_type": "stream",
          "name": "stdout",
          "text": [
            "[1, 2, 10, 20, 100]\n"
          ]
        }
      ]
    },
    {
      "cell_type": "code",
      "source": [
        "print(numbers[1:4])"
      ],
      "metadata": {
        "colab": {
          "base_uri": "https://localhost:8080/"
        },
        "id": "nY4woc26Texl",
        "outputId": "573507dc-4958-458a-f263-24302972b08f"
      },
      "execution_count": 12,
      "outputs": [
        {
          "output_type": "stream",
          "name": "stdout",
          "text": [
            "[2, 10, 20]\n"
          ]
        }
      ]
    },
    {
      "cell_type": "code",
      "source": [
        "print(numbers[2:5])"
      ],
      "metadata": {
        "colab": {
          "base_uri": "https://localhost:8080/"
        },
        "id": "pYQX-YRmUMdG",
        "outputId": "821dd84a-a922-48a7-a71a-a0f8788d2c94"
      },
      "execution_count": 13,
      "outputs": [
        {
          "output_type": "stream",
          "name": "stdout",
          "text": [
            "[10, 20, 100]\n"
          ]
        }
      ]
    },
    {
      "cell_type": "code",
      "source": [
        "print(numbers[2:])  # end를 생략하면 리스트의 끝까지 slicing."
      ],
      "metadata": {
        "colab": {
          "base_uri": "https://localhost:8080/"
        },
        "id": "MnPb4b-YUhFn",
        "outputId": "a5931a5a-c5d3-4fe8-bdfc-508041d87c17"
      },
      "execution_count": 14,
      "outputs": [
        {
          "output_type": "stream",
          "name": "stdout",
          "text": [
            "[10, 20, 100]\n"
          ]
        }
      ]
    },
    {
      "cell_type": "code",
      "source": [
        "print(numbers[:2])  # start를 생략하면 리스트의 처음부터 end 인덱스까지 slicing."
      ],
      "metadata": {
        "colab": {
          "base_uri": "https://localhost:8080/"
        },
        "id": "QzTkD0tPU3vG",
        "outputId": "dcb78642-092a-4fa8-950b-b18a40009947"
      },
      "execution_count": 15,
      "outputs": [
        {
          "output_type": "stream",
          "name": "stdout",
          "text": [
            "[1, 2]\n"
          ]
        }
      ]
    },
    {
      "cell_type": "code",
      "source": [
        "# 리스트에서 끝에서 2개 원소 선택\n",
        "print(numbers[-2:])"
      ],
      "metadata": {
        "colab": {
          "base_uri": "https://localhost:8080/"
        },
        "id": "3FnXm2gnVbRg",
        "outputId": "86d76f4b-822b-4959-9dc0-6411e446e3be"
      },
      "execution_count": 16,
      "outputs": [
        {
          "output_type": "stream",
          "name": "stdout",
          "text": [
            "[20, 100]\n"
          ]
        }
      ]
    },
    {
      "cell_type": "code",
      "source": [
        "print(numbers[0:1])  # slicing -> 리스트\n",
        "print(numbers[0])  # indexing -> 숫자"
      ],
      "metadata": {
        "colab": {
          "base_uri": "https://localhost:8080/"
        },
        "id": "W2S-AF9WWD_W",
        "outputId": "ab866b07-a035-4d9e-a9dc-6bbb3a645873"
      },
      "execution_count": 18,
      "outputs": [
        {
          "output_type": "stream",
          "name": "stdout",
          "text": [
            "[1]\n",
            "1\n"
          ]
        }
      ]
    }
  ]
}