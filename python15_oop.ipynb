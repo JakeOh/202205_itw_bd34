{
  "nbformat": 4,
  "nbformat_minor": 0,
  "metadata": {
    "colab": {
      "name": "python15_oop.ipynb",
      "provenance": [],
      "authorship_tag": "ABX9TyOm/Hgx9P8hQwqRvUIprVfm",
      "include_colab_link": true
    },
    "kernelspec": {
      "name": "python3",
      "display_name": "Python 3"
    },
    "language_info": {
      "name": "python"
    }
  },
  "cells": [
    {
      "cell_type": "markdown",
      "metadata": {
        "id": "view-in-github",
        "colab_type": "text"
      },
      "source": [
        "<a href=\"https://colab.research.google.com/github/JakeOh/202205_itw_bd34/blob/main/python15_oop.ipynb\" target=\"_parent\"><img src=\"https://colab.research.google.com/assets/colab-badge.svg\" alt=\"Open In Colab\"/></a>"
      ]
    },
    {
      "cell_type": "markdown",
      "source": [
        "# 배경 설명"
      ],
      "metadata": {
        "id": "9l0eNxG0krv6"
      }
    },
    {
      "cell_type": "markdown",
      "source": [
        "## list, dict, 반복문 사용"
      ],
      "metadata": {
        "id": "KrHYA39mkxMP"
      }
    },
    {
      "cell_type": "code",
      "execution_count": 10,
      "metadata": {
        "id": "T4RDAYQzh8Ho"
      },
      "outputs": [],
      "source": [
        "students = [\n",
        "            {'name': 'Aaa', 'korean': 100, 'english': 95, 'math': 90},\n",
        "            {'name': 'Bbb', 'korean': 50, 'english': 100, 'math': 70},\n",
        "            {'name': 'Ccc', 'korean': 80, 'english': 88, 'math': 20},\n",
        "            {'name': 'Ddd', 'korean': 100, 'english': 100, 'math': 100}\n",
        "]"
      ]
    },
    {
      "cell_type": "code",
      "source": [
        "# students에 있는 각 학생들의 총점과 평균을 출력\n",
        "for s in students:\n",
        "    total = s['korean'] + s['english'] + s['math']  # 학생의 세 과목 총점\n",
        "    mean = total / 3  # 학생의 세 과목 평균 점수\n",
        "    print(f'이름: {s[\"name\"]}, 총점: {total}, 평균: {mean}')"
      ],
      "metadata": {
        "colab": {
          "base_uri": "https://localhost:8080/"
        },
        "id": "aVEk40tKlnXB",
        "outputId": "ed2df6a0-058f-4cdf-ed99-6ff85a6ac93a"
      },
      "execution_count": 11,
      "outputs": [
        {
          "output_type": "stream",
          "name": "stdout",
          "text": [
            "이름: Aaa, 총점: 285, 평균: 95.0\n",
            "이름: Bbb, 총점: 220, 평균: 73.33333333333333\n",
            "이름: Ccc, 총점: 188, 평균: 62.666666666666664\n",
            "이름: Ddd, 총점: 300, 평균: 100.0\n"
          ]
        }
      ]
    },
    {
      "cell_type": "markdown",
      "source": [
        "위 코드의 문제점은 dict의 key가 학생마다 다르게 들어간 경우 에러가 발생할 수 있음.\n",
        "\n",
        "학생 한 명에 대한 dict를 함수를 사용해서 항상 동일한 key를 갖도록 만들면 되지 않을까?"
      ],
      "metadata": {
        "id": "derWlMpPqL38"
      }
    },
    {
      "cell_type": "markdown",
      "source": [
        "## 함수형 프로그래밍(Functional Programming)"
      ],
      "metadata": {
        "id": "mTrE1qSPqlK8"
      }
    },
    {
      "cell_type": "code",
      "source": [
        ""
      ],
      "metadata": {
        "id": "iaXPnOvOqqrx"
      },
      "execution_count": null,
      "outputs": []
    }
  ]
}