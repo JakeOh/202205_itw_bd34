{
  "nbformat": 4,
  "nbformat_minor": 0,
  "metadata": {
    "colab": {
      "name": "python08_list.ipynb",
      "provenance": [],
      "collapsed_sections": [],
      "authorship_tag": "ABX9TyP72h5vaB1D52Q9pG7DjPKg",
      "include_colab_link": true
    },
    "kernelspec": {
      "name": "python3",
      "display_name": "Python 3"
    },
    "language_info": {
      "name": "python"
    }
  },
  "cells": [
    {
      "cell_type": "markdown",
      "metadata": {
        "id": "view-in-github",
        "colab_type": "text"
      },
      "source": [
        "<a href=\"https://colab.research.google.com/github/JakeOh/202205_itw_bd34/blob/main/python08_list.ipynb\" target=\"_parent\"><img src=\"https://colab.research.google.com/assets/colab-badge.svg\" alt=\"Open In Colab\"/></a>"
      ]
    },
    {
      "cell_type": "markdown",
      "source": [
        "# list와 for 반복문"
      ],
      "metadata": {
        "id": "EyyNP_UaAt5q"
      }
    },
    {
      "cell_type": "code",
      "execution_count": 1,
      "metadata": {
        "colab": {
          "base_uri": "https://localhost:8080/"
        },
        "id": "swLBpbe0Agv1",
        "outputId": "45603e3d-d6db-4607-faf6-45599dac99e7"
      },
      "outputs": [
        {
          "output_type": "stream",
          "name": "stdout",
          "text": [
            "1\n",
            "10\n",
            "100\n",
            "1000\n"
          ]
        }
      ],
      "source": [
        "numbers = [1, 10, 100, 1000]\n",
        "# list의 값들을 순회(반복, iteration)\n",
        "for x in numbers:\n",
        "    print(x)"
      ]
    },
    {
      "cell_type": "code",
      "source": [
        "# list의 index와 값들을 함께 순회(iteration)\n",
        "for index, value in enumerate(numbers):\n",
        "    print(index, ':', value)"
      ],
      "metadata": {
        "colab": {
          "base_uri": "https://localhost:8080/"
        },
        "id": "e-AskjEgBWYQ",
        "outputId": "2909d6ca-4190-4e41-9275-9812c453f28d"
      },
      "execution_count": 2,
      "outputs": [
        {
          "output_type": "stream",
          "name": "stdout",
          "text": [
            "0 : 1\n",
            "1 : 10\n",
            "2 : 100\n",
            "3 : 1000\n"
          ]
        }
      ]
    },
    {
      "cell_type": "markdown",
      "source": [
        "*   빈 리스트(empty list)를 만듦.\n",
        "*   리스트에 정수 난수 10개를 저장.\n",
        "*   리스트에서 짝수들로만 이루어진 새로운 리스트를 만듦.\n",
        "*   리스트에서 홀수들로만 이루어진 새로운 리스트를 만듦."
      ],
      "metadata": {
        "id": "vdyQCdQbDUVo"
      }
    },
    {
      "cell_type": "code",
      "source": [
        "import random  # 난수를 사용하기 위한 모듈"
      ],
      "metadata": {
        "id": "1MFxmU4hDnX5"
      },
      "execution_count": 3,
      "outputs": []
    },
    {
      "cell_type": "code",
      "source": [
        "numbers = []  # empty list\n",
        "for _ in range(10):  # 10번 반복하면서\n",
        "    # 0 이상 100 미만의 정수 난수를 리스트 numbers의 가장 마지막에 추가.\n",
        "    numbers.append(random.randrange(100))\n",
        "print(numbers)"
      ],
      "metadata": {
        "colab": {
          "base_uri": "https://localhost:8080/"
        },
        "id": "tN9mEidxDyVy",
        "outputId": "529d7791-5829-43cf-b66c-91912ab26d3f"
      },
      "execution_count": 8,
      "outputs": [
        {
          "output_type": "stream",
          "name": "stdout",
          "text": [
            "[2, 20, 66, 83, 9, 59, 22, 30, 9, 32]\n"
          ]
        }
      ]
    },
    {
      "cell_type": "code",
      "source": [
        "evens = []  # 짝수들만 저장할 리스트\n",
        "odds = []  # 홀수들만 저장할 리스트\n",
        "for x in numbers:  # 리스트 numbers의 원소들을 순회(iteration)하면서\n",
        "    if x % 2 == 0:  # 리스트에서 꺼낸 원소가 짝수이면\n",
        "        evens.append(x)\n",
        "    else:  # 홀수이면\n",
        "        odds.append(x)\n",
        "\n",
        "print(evens)\n",
        "print(odds)"
      ],
      "metadata": {
        "colab": {
          "base_uri": "https://localhost:8080/"
        },
        "id": "rWC4MLbKJwPa",
        "outputId": "eaa6df5f-1673-4974-b72c-6e556bb6fcdc"
      },
      "execution_count": 9,
      "outputs": [
        {
          "output_type": "stream",
          "name": "stdout",
          "text": [
            "[2, 20, 66, 22, 30, 32]\n",
            "[83, 9, 59, 9]\n"
          ]
        }
      ]
    },
    {
      "cell_type": "markdown",
      "source": [
        "*   integers 이름의 빈 리스트를 만듦.\n",
        "*   리스트 integers에 -10 이상 10 이하의 정수 난수 10개를 저장.\n",
        "*   positives 이름의 빈 리스트를 만듦.\n",
        "*   positives에는 integers의 원소가 양수이면 True, 그렇지 않으면 False를 저장.\n",
        "*   positives를 출력."
      ],
      "metadata": {
        "id": "O-IMf6y3KuIf"
      }
    },
    {
      "cell_type": "code",
      "source": [
        "integers = []  # 빈 리스트 생성\n",
        "for _ in range(10):  # 10번 반복하면서\n",
        "    # -10 이상 10 이하의 난수를 리스트에 추가.\n",
        "    integers.append(random.randrange(-10, 11))\n",
        "\n",
        "print(integers)"
      ],
      "metadata": {
        "colab": {
          "base_uri": "https://localhost:8080/"
        },
        "id": "Tj31JTbBiMJ7",
        "outputId": "56eb4f4c-e803-4a1e-e6ea-8b72d73e57a0"
      },
      "execution_count": 12,
      "outputs": [
        {
          "output_type": "stream",
          "name": "stdout",
          "text": [
            "[10, -3, 1, -8, -5, -3, -4, 9, -5, 4]\n"
          ]
        }
      ]
    },
    {
      "cell_type": "code",
      "source": [
        "positives = []  # True/False를 저장할 빈 리스트\n",
        "for x in integers:  # 리스트 integers를 순회하면서\n",
        "    if x > 0:\n",
        "        positives.append(True)\n",
        "    else:\n",
        "        positives.append(False)\n",
        "\n",
        "print(positives)"
      ],
      "metadata": {
        "colab": {
          "base_uri": "https://localhost:8080/"
        },
        "id": "WAfmtwz6ixC8",
        "outputId": "61139fdb-6569-4e6d-aca4-0b5a5f905800"
      },
      "execution_count": 13,
      "outputs": [
        {
          "output_type": "stream",
          "name": "stdout",
          "text": [
            "[True, False, True, False, False, False, False, True, False, True]\n"
          ]
        }
      ]
    },
    {
      "cell_type": "markdown",
      "source": [
        "*   gender_codes 이름의 빈 리스트를 만듦.\n",
        "*   gender_codes에 0 또는 1을 무작위로(랜덤하게) 10개를 저장.\n",
        "*   gender 이름의 빈 리스트를 만듦.\n",
        "*   gender에는 gender_codes의 값이 0이면 'Male', 1이면 'Female'을 저장.\n",
        "*   gender를 출력."
      ],
      "metadata": {
        "id": "mFtiBZ8bLftO"
      }
    },
    {
      "cell_type": "code",
      "source": [
        "gender_codes = []\n",
        "for _ in range(10):\n",
        "    gender_codes.append(random.randrange(0, 2))\n",
        "\n",
        "print(gender_codes)"
      ],
      "metadata": {
        "colab": {
          "base_uri": "https://localhost:8080/"
        },
        "id": "K7KQDDAekOMd",
        "outputId": "760976ec-1b7b-472d-b031-830c7bc7d9b9"
      },
      "execution_count": 17,
      "outputs": [
        {
          "output_type": "stream",
          "name": "stdout",
          "text": [
            "[1, 0, 0, 1, 0, 0, 1, 1, 1, 0]\n"
          ]
        }
      ]
    },
    {
      "cell_type": "code",
      "source": [
        "gender = []\n",
        "for code in gender_codes:\n",
        "    if code == 0:\n",
        "        gender.append('Male')\n",
        "    else:\n",
        "        gender.append('Female')\n",
        "\n",
        "print(gender)"
      ],
      "metadata": {
        "colab": {
          "base_uri": "https://localhost:8080/"
        },
        "id": "EHM5PJPVkgyu",
        "outputId": "fd70fbc1-537f-4217-9a7a-9c04d2615a81"
      },
      "execution_count": 18,
      "outputs": [
        {
          "output_type": "stream",
          "name": "stdout",
          "text": [
            "['Female', 'Male', 'Male', 'Female', 'Male', 'Male', 'Female', 'Female', 'Female', 'Male']\n"
          ]
        }
      ]
    },
    {
      "cell_type": "markdown",
      "source": [
        "# list comprehension(리스트 내포)"
      ],
      "metadata": {
        "id": "DvYIP78slbf-"
      }
    },
    {
      "cell_type": "markdown",
      "source": [
        "*   빈 리스트에 1부터 10까지 정수를 오름차순 순서로 저장."
      ],
      "metadata": {
        "id": "poUn6Cgil18D"
      }
    },
    {
      "cell_type": "code",
      "source": [
        "numbers = []\n",
        "for x in range(1, 11):\n",
        "    numbers.append(x)\n",
        "print(numbers)"
      ],
      "metadata": {
        "colab": {
          "base_uri": "https://localhost:8080/"
        },
        "id": "nm8rxZSZlz1z",
        "outputId": "1df14153-4247-4998-e880-b77f5d302802"
      },
      "execution_count": 19,
      "outputs": [
        {
          "output_type": "stream",
          "name": "stdout",
          "text": [
            "[1, 2, 3, 4, 5, 6, 7, 8, 9, 10]\n"
          ]
        }
      ]
    },
    {
      "cell_type": "code",
      "source": [
        "numbers2 = [x for x in range(1, 11)]\n",
        "print(numbers2)"
      ],
      "metadata": {
        "colab": {
          "base_uri": "https://localhost:8080/"
        },
        "id": "wyjt3j6omVu0",
        "outputId": "122c5532-f376-4f6d-b6a8-71c60cb034e7"
      },
      "execution_count": 20,
      "outputs": [
        {
          "output_type": "stream",
          "name": "stdout",
          "text": [
            "[1, 2, 3, 4, 5, 6, 7, 8, 9, 10]\n"
          ]
        }
      ]
    },
    {
      "cell_type": "markdown",
      "source": [
        "*   `[1, 4, 9, 16, ..., 81, 100]`: 1~10 정수들의 제곱으로 이루어진 리스트"
      ],
      "metadata": {
        "id": "MJZTIPUlnR-z"
      }
    },
    {
      "cell_type": "code",
      "source": [
        "squares = []\n",
        "for x in range(1, 11):\n",
        "    squares.append(x ** 2)\n",
        "\n",
        "print(squares)"
      ],
      "metadata": {
        "colab": {
          "base_uri": "https://localhost:8080/"
        },
        "id": "ThJMSIRdmnI7",
        "outputId": "0b2f5b4c-909b-4db6-8160-a1ccdd8b32a5"
      },
      "execution_count": 21,
      "outputs": [
        {
          "output_type": "stream",
          "name": "stdout",
          "text": [
            "[1, 4, 9, 16, 25, 36, 49, 64, 81, 100]\n"
          ]
        }
      ]
    },
    {
      "cell_type": "code",
      "source": [
        "squares2 = [x ** 2 for x in range(1, 11)]\n",
        "print(squares2)"
      ],
      "metadata": {
        "colab": {
          "base_uri": "https://localhost:8080/"
        },
        "id": "CgAcrWenowss",
        "outputId": "428e3267-ea1b-420e-e566-98c5963cb293"
      },
      "execution_count": 22,
      "outputs": [
        {
          "output_type": "stream",
          "name": "stdout",
          "text": [
            "[1, 4, 9, 16, 25, 36, 49, 64, 81, 100]\n"
          ]
        }
      ]
    },
    {
      "cell_type": "markdown",
      "source": [
        "*   numbers 이름의 리스트에 [0, 100) 범위의 난수 10개를 저장"
      ],
      "metadata": {
        "id": "uy6H7OktpRd-"
      }
    },
    {
      "cell_type": "code",
      "source": [
        "numbers = [random.randrange(100) for _ in range(10)]\n",
        "print(numbers)"
      ],
      "metadata": {
        "colab": {
          "base_uri": "https://localhost:8080/"
        },
        "id": "s1P-ZnsxpJK7",
        "outputId": "bce8e4ca-e0cd-4e2e-83f3-b37a431f37cc"
      },
      "execution_count": 26,
      "outputs": [
        {
          "output_type": "stream",
          "name": "stdout",
          "text": [
            "[73, 14, 3, 38, 91, 35, 38, 86, 80, 5]\n"
          ]
        }
      ]
    },
    {
      "cell_type": "markdown",
      "source": [
        "*   numbers에 저장된 숫자들 중에서 짝수들로만 이루어진 리스트"
      ],
      "metadata": {
        "id": "HPTStNbUrBZN"
      }
    },
    {
      "cell_type": "code",
      "source": [
        "evens = [x for x in numbers if x % 2 == 0]\n",
        "print(evens)"
      ],
      "metadata": {
        "colab": {
          "base_uri": "https://localhost:8080/"
        },
        "id": "7yQllroHqoy7",
        "outputId": "fee4359a-391b-463f-861c-80bf350b48de"
      },
      "execution_count": 27,
      "outputs": [
        {
          "output_type": "stream",
          "name": "stdout",
          "text": [
            "[14, 38, 38, 86, 80]\n"
          ]
        }
      ]
    },
    {
      "cell_type": "code",
      "source": [
        "# 문자열들의 리스트\n",
        "fruits = ['apple', 'banana', 'cherry', 'durian', 'watermellon']\n",
        "# 문자열의 길이를 저장하는 리스트\n",
        "fruit_lengths = [len(x) for x in fruits]\n",
        "print(fruit_lengths)"
      ],
      "metadata": {
        "colab": {
          "base_uri": "https://localhost:8080/"
        },
        "id": "61_NqzocrtFL",
        "outputId": "07528815-f65f-4aa3-db6b-80495105a3c6"
      },
      "execution_count": 42,
      "outputs": [
        {
          "output_type": "stream",
          "name": "stdout",
          "text": [
            "[5, 6, 6, 6, 11]\n"
          ]
        }
      ]
    },
    {
      "cell_type": "markdown",
      "source": [
        "*   [0, 100) 범위의 정수 난수 10개를 갖는 리스트를 만듦.\n",
        "*   리스트의 원소가 짝수이면 'even', 홀수이면 'odd'를 갖는 리스트를 만듦."
      ],
      "metadata": {
        "id": "-tXlNdD1x8vh"
      }
    },
    {
      "cell_type": "code",
      "source": [
        "# if-else expression(표현식)\n",
        "n = 1\n",
        "is_even = 'even' if n % 2 == 0 else 'odd'\n",
        "print(is_even)"
      ],
      "metadata": {
        "colab": {
          "base_uri": "https://localhost:8080/"
        },
        "id": "w4nCFJ_Ox6Bh",
        "outputId": "e7358ddc-aa2e-440c-ae6b-a98a3f733154"
      },
      "execution_count": 44,
      "outputs": [
        {
          "output_type": "stream",
          "name": "stdout",
          "text": [
            "odd\n"
          ]
        }
      ]
    },
    {
      "cell_type": "code",
      "source": [
        "n = 2\n",
        "if n % 2 == 0:\n",
        "    is_even = 'even'\n",
        "else:\n",
        "    is_even = 'odd'\n",
        "print(is_even)"
      ],
      "metadata": {
        "colab": {
          "base_uri": "https://localhost:8080/"
        },
        "id": "a35a0DZ_zPb8",
        "outputId": "4cd65e2b-7a94-4c38-b116-086a42053b4e"
      },
      "execution_count": 47,
      "outputs": [
        {
          "output_type": "stream",
          "name": "stdout",
          "text": [
            "even\n"
          ]
        }
      ]
    },
    {
      "cell_type": "code",
      "source": [
        "numbers = [random.randrange(100) for _ in range(10)]\n",
        "print(numbers)"
      ],
      "metadata": {
        "colab": {
          "base_uri": "https://localhost:8080/"
        },
        "id": "cHqivqee0q5K",
        "outputId": "b6ad134d-334c-4fd6-a7d7-905c917034c1"
      },
      "execution_count": 51,
      "outputs": [
        {
          "output_type": "stream",
          "name": "stdout",
          "text": [
            "[49, 55, 11, 87, 87, 90, 72, 76, 8, 49]\n"
          ]
        }
      ]
    },
    {
      "cell_type": "code",
      "source": [
        "result = ['even' if x % 2 == 0 else 'odd' \n",
        "          for x in numbers]\n",
        "print(result)"
      ],
      "metadata": {
        "colab": {
          "base_uri": "https://localhost:8080/"
        },
        "id": "gNb3_h6F003J",
        "outputId": "23b26102-c847-47b1-8c51-34a054ea5d51"
      },
      "execution_count": 49,
      "outputs": [
        {
          "output_type": "stream",
          "name": "stdout",
          "text": [
            "['odd', 'odd', 'odd', 'odd', 'odd', 'odd', 'even', 'odd', 'even', 'even']\n"
          ]
        }
      ]
    },
    {
      "cell_type": "markdown",
      "source": [
        "*   0과 1이 랜덤하게 10개 저장된 리스트 만듦.\n",
        "*   0이면 'Male', 1이면 'Female'을 저장하는 리스트를 만듦."
      ],
      "metadata": {
        "id": "xXWA77P43ASz"
      }
    },
    {
      "cell_type": "code",
      "source": [
        "gender_codes = [random.randrange(0, 2) for _ in range(10)]\n",
        "print(gender_codes)\n",
        "gender = ['Male' if x == 0 else 'Female'\n",
        "          for x in gender_codes]\n",
        "print(gender)"
      ],
      "metadata": {
        "colab": {
          "base_uri": "https://localhost:8080/"
        },
        "id": "W1CkHTTo1Rd5",
        "outputId": "7050f5bc-4c95-4065-8668-7000d8431abe"
      },
      "execution_count": 52,
      "outputs": [
        {
          "output_type": "stream",
          "name": "stdout",
          "text": [
            "[1, 1, 1, 0, 0, 0, 1, 0, 1, 0]\n",
            "['Female', 'Female', 'Female', 'Male', 'Male', 'Male', 'Female', 'Male', 'Female', 'Male']\n"
          ]
        }
      ]
    },
    {
      "cell_type": "markdown",
      "source": [
        "*   numbers1: 10 미만의 0 또는 양의 정수 10개를 저장하고 있는 리스트.\n",
        "*   numbers2: 10 미만의 0 또는 양의 정수 10개를 저장하고 있는 리스트.\n",
        "*   adds: numbers1과 numbers2의 같은 인덱스에 있는 원소들끼리 더한 값을 저장하는 리스트."
      ],
      "metadata": {
        "id": "mcJ_iDRC5OnQ"
      }
    },
    {
      "cell_type": "code",
      "source": [
        "numbers1 = [random.randrange(10) for _ in range(10)]\n",
        "print(numbers1)\n",
        "\n",
        "numbers2 = [random.randrange(10) for _ in range(10)]\n",
        "print(numbers2)\n",
        "\n",
        "# adds = []\n",
        "# for i in range(10):\n",
        "#     adds.append(numbers1[i] + numbers2[i])\n",
        "adds = [numbers1[i] + numbers2[i] for i in range(10)]\n",
        "\n",
        "print(adds)"
      ],
      "metadata": {
        "colab": {
          "base_uri": "https://localhost:8080/"
        },
        "id": "GtghUxMe5-oa",
        "outputId": "22ce7d83-7450-404b-f760-36346c772827"
      },
      "execution_count": 56,
      "outputs": [
        {
          "output_type": "stream",
          "name": "stdout",
          "text": [
            "[6, 6, 4, 4, 0, 5, 4, 1, 0, 7]\n",
            "[3, 9, 0, 9, 5, 6, 1, 8, 0, 9]\n",
            "[9, 15, 4, 13, 5, 11, 5, 9, 0, 16]\n"
          ]
        }
      ]
    },
    {
      "cell_type": "code",
      "source": [
        "print(numbers1)\n",
        "print(numbers2)\n",
        "for x, y in zip(numbers1, numbers2):\n",
        "    print(x, y, x + y)"
      ],
      "metadata": {
        "colab": {
          "base_uri": "https://localhost:8080/"
        },
        "id": "Yl_LAQg0C15P",
        "outputId": "ad8bee65-a216-41bb-da82-fbdddb4da5c3"
      },
      "execution_count": 59,
      "outputs": [
        {
          "output_type": "stream",
          "name": "stdout",
          "text": [
            "[6, 6, 4, 4, 0, 5, 4, 1, 0, 7]\n",
            "[3, 9, 0, 9, 5, 6, 1, 8, 0, 9]\n",
            "6 3 9\n",
            "6 9 15\n",
            "4 0 4\n",
            "4 9 13\n",
            "0 5 5\n",
            "5 6 11\n",
            "4 1 5\n",
            "1 8 9\n",
            "0 0 0\n",
            "7 9 16\n"
          ]
        }
      ]
    },
    {
      "cell_type": "code",
      "source": [
        "adds = []\n",
        "for x, y in zip(numbers1, numbers2):\n",
        "    adds.append(x + y)\n",
        "\n",
        "print(adds)"
      ],
      "metadata": {
        "colab": {
          "base_uri": "https://localhost:8080/"
        },
        "id": "LqqDkRdIEeoq",
        "outputId": "9781866a-f57a-4de5-f544-6e0b6e903489"
      },
      "execution_count": 60,
      "outputs": [
        {
          "output_type": "stream",
          "name": "stdout",
          "text": [
            "[9, 15, 4, 13, 5, 11, 5, 9, 0, 16]\n"
          ]
        }
      ]
    },
    {
      "cell_type": "code",
      "source": [
        "adds = [x + y for x, y in zip(numbers1, numbers2)]\n",
        "print(adds)"
      ],
      "metadata": {
        "colab": {
          "base_uri": "https://localhost:8080/"
        },
        "id": "t1ws5IHwE4PH",
        "outputId": "c64b7668-09e5-4d35-d36a-63da77f92219"
      },
      "execution_count": 61,
      "outputs": [
        {
          "output_type": "stream",
          "name": "stdout",
          "text": [
            "[9, 15, 4, 13, 5, 11, 5, 9, 0, 16]\n"
          ]
        }
      ]
    },
    {
      "cell_type": "markdown",
      "source": [
        "# 다차원 리스트"
      ],
      "metadata": {
        "id": "x9_mDBb2FtKw"
      }
    },
    {
      "cell_type": "code",
      "source": [
        "# 2차원 리스트: 1차원 리스트들을 원소로 갖는 리스트.\n",
        "matrix = [[1, 2, 3],\n",
        "          [4, 5, 6],\n",
        "          [7, 8, 9]]\n",
        "print(matrix)"
      ],
      "metadata": {
        "colab": {
          "base_uri": "https://localhost:8080/"
        },
        "id": "zUv8hh1nFDpv",
        "outputId": "95a05781-0730-4726-f425-b2268701cc87"
      },
      "execution_count": 62,
      "outputs": [
        {
          "output_type": "stream",
          "name": "stdout",
          "text": [
            "[[1, 2, 3], [4, 5, 6], [7, 8, 9]]\n"
          ]
        }
      ]
    },
    {
      "cell_type": "markdown",
      "source": [
        "## 2차원 리스트의 indexing"
      ],
      "metadata": {
        "id": "0O0vq90gGjKg"
      }
    },
    {
      "cell_type": "code",
      "source": [
        "matrix[0]"
      ],
      "metadata": {
        "colab": {
          "base_uri": "https://localhost:8080/"
        },
        "id": "IqDxjkenGTAA",
        "outputId": "52f925b0-4d1e-4bb3-ec62-b05a7a47aa4a"
      },
      "execution_count": 63,
      "outputs": [
        {
          "output_type": "execute_result",
          "data": {
            "text/plain": [
              "[1, 2, 3]"
            ]
          },
          "metadata": {},
          "execution_count": 63
        }
      ]
    },
    {
      "cell_type": "code",
      "source": [
        "matrix[0][0]"
      ],
      "metadata": {
        "colab": {
          "base_uri": "https://localhost:8080/"
        },
        "id": "2H8cWoIqG31z",
        "outputId": "bcb18eb8-084c-4634-cca9-83434625c216"
      },
      "execution_count": 64,
      "outputs": [
        {
          "output_type": "execute_result",
          "data": {
            "text/plain": [
              "1"
            ]
          },
          "metadata": {},
          "execution_count": 64
        }
      ]
    },
    {
      "cell_type": "markdown",
      "source": [
        "## 2차원 리스트에서 for 반복문"
      ],
      "metadata": {
        "id": "1FmYDf44HKOz"
      }
    },
    {
      "cell_type": "code",
      "source": [
        "for row in matrix:\n",
        "    for x in row:\n",
        "        print(x, end='\\t')\n",
        "    print()"
      ],
      "metadata": {
        "colab": {
          "base_uri": "https://localhost:8080/"
        },
        "id": "ESljokIVHOsY",
        "outputId": "065a8f4b-55b3-4f9a-b060-664750e475c6"
      },
      "execution_count": 66,
      "outputs": [
        {
          "output_type": "stream",
          "name": "stdout",
          "text": [
            "1\t2\t3\t\n",
            "4\t5\t6\t\n",
            "7\t8\t9\t\n"
          ]
        }
      ]
    },
    {
      "cell_type": "code",
      "source": [
        "m1 = [[1, 2, 3],\n",
        "      [4, 5, 6]]\n",
        "m2 = [[1, 1, 1],\n",
        "      [2, 2, 2]]\n",
        "print(m1)\n",
        "print(m2)"
      ],
      "metadata": {
        "colab": {
          "base_uri": "https://localhost:8080/"
        },
        "id": "eGaHL3g4HUd3",
        "outputId": "9c7d1610-ca1f-455f-c0f3-332cf992f173"
      },
      "execution_count": 67,
      "outputs": [
        {
          "output_type": "stream",
          "name": "stdout",
          "text": [
            "[[1, 2, 3], [4, 5, 6]]\n",
            "[[1, 1, 1], [2, 2, 2]]\n"
          ]
        }
      ]
    },
    {
      "cell_type": "code",
      "source": [
        "adds = []  # 리스트들을 저장하기 위한 빈 리스트\n",
        "for row1, row2 in zip(m1, m2):\n",
        "    plus = []  # 1차원 리스트 row1과 row2에서 같은 인덱스에 있는 원소들끼리 더한 값을 저장할 리스트.\n",
        "    for x, y in zip(row1, row2):\n",
        "        plus.append(x + y)\n",
        "    adds.append(plus)\n",
        "\n",
        "print(adds)"
      ],
      "metadata": {
        "colab": {
          "base_uri": "https://localhost:8080/"
        },
        "id": "G_8Wfj2II9kO",
        "outputId": "801ab5d9-c5c3-4511-946c-1a8c36ba91f0"
      },
      "execution_count": 68,
      "outputs": [
        {
          "output_type": "stream",
          "name": "stdout",
          "text": [
            "[[2, 3, 4], [6, 7, 8]]\n"
          ]
        }
      ]
    },
    {
      "cell_type": "code",
      "source": [
        "adds = []\n",
        "for row1, row2 in zip(m1, m2):\n",
        "    plus = [x + y for x, y in zip(row1, row2)]\n",
        "    adds.append(plus)\n",
        "\n",
        "print(adds)"
      ],
      "metadata": {
        "colab": {
          "base_uri": "https://localhost:8080/"
        },
        "id": "3niUsbyFT3R1",
        "outputId": "c93209f5-18d0-4010-9a88-6b795cad4950"
      },
      "execution_count": 69,
      "outputs": [
        {
          "output_type": "stream",
          "name": "stdout",
          "text": [
            "[[2, 3, 4], [6, 7, 8]]\n"
          ]
        }
      ]
    },
    {
      "cell_type": "code",
      "source": [
        "adds = [[x + y for x, y in zip(row1, row2)]\n",
        "        for row1, row2 in zip(m1, m2)]\n",
        "print(adds)"
      ],
      "metadata": {
        "colab": {
          "base_uri": "https://localhost:8080/"
        },
        "id": "X-KbF60_UMku",
        "outputId": "0c71c196-c058-4a52-b44e-cddc023a990a"
      },
      "execution_count": 70,
      "outputs": [
        {
          "output_type": "stream",
          "name": "stdout",
          "text": [
            "[[2, 3, 4], [6, 7, 8]]\n"
          ]
        }
      ]
    }
  ]
}