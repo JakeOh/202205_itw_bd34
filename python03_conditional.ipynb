{
  "nbformat": 4,
  "nbformat_minor": 0,
  "metadata": {
    "colab": {
      "name": "python03_conditional.ipynb",
      "provenance": [],
      "collapsed_sections": [],
      "authorship_tag": "ABX9TyOXb6ng8oedNVG4JWjBWTfE",
      "include_colab_link": true
    },
    "kernelspec": {
      "name": "python3",
      "display_name": "Python 3"
    },
    "language_info": {
      "name": "python"
    }
  },
  "cells": [
    {
      "cell_type": "markdown",
      "metadata": {
        "id": "view-in-github",
        "colab_type": "text"
      },
      "source": [
        "<a href=\"https://colab.research.google.com/github/JakeOh/202205_itw_bd34/blob/main/python03_conditional.ipynb\" target=\"_parent\"><img src=\"https://colab.research.google.com/assets/colab-badge.svg\" alt=\"Open In Colab\"/></a>"
      ]
    },
    {
      "cell_type": "markdown",
      "source": [
        "# 조건문(Conditional Statement)"
      ],
      "metadata": {
        "id": "1Hc3X8_dwkBe"
      }
    },
    {
      "cell_type": "markdown",
      "source": [
        "## else 없는 조건문\n",
        "\n",
        "```\n",
        "if 조건식:\n",
        "    조건을 만족할 때 실행할 코드 블록(문장들).\n",
        "```\n",
        "\n",
        "*   `if 조건식` 뒤에는 반드시 콜론(:)을 써야 함. 블록 시작을 의미함.\n",
        "*   if 블록은 반드시 들여쓰기(indentation)를 해야 함.\n",
        "*   들여쓰기의 크기는 일정해야 함.\n"
      ],
      "metadata": {
        "id": "7ptbUcOTxXTe"
      }
    },
    {
      "cell_type": "code",
      "execution_count": 8,
      "metadata": {
        "id": "rid-ayMZwLtH"
      },
      "outputs": [],
      "source": [
        "age = -16\n",
        "if age >= 0:\n",
        "    print(f'당신의 나이는 {age}살 이군요.')  # (1) if (내부) 블록\n",
        "print('end...')  # (2) if 블록이 끝났을 때 실행할 문장."
      ]
    },
    {
      "cell_type": "markdown",
      "source": [
        "## else 있는 조건문\n",
        "\n",
        "```\n",
        "if 조건식:\n",
        "    조건식을 만족할 때 실행할 코드 블록\n",
        "else:\n",
        "    조건식을 만족하지 못할 때 실행할 코드 블록\n",
        "```\n",
        "\n",
        "*   `if 조건식`과 `else` 뒤에는 반드시 콜론(:)을 써야 함.\n",
        "*   if 블록과 else 블록은 반드시 들여쓰기를 해야 함.\n",
        "*   들여쓰기의 크기는 일정해야 함.\n"
      ],
      "metadata": {
        "id": "A_V0CUH13gDl"
      }
    },
    {
      "cell_type": "code",
      "source": [
        "age = -16\n",
        "if age >= 0:\n",
        "    print('정상적인 나이 입력값')  # (1)\n",
        "else:\n",
        "    print('잘못된 나이 입력값')  # (2)\n",
        "print('end...')  # (3)"
      ],
      "metadata": {
        "colab": {
          "base_uri": "https://localhost:8080/"
        },
        "id": "HS9Yj-r52tGP",
        "outputId": "8a059dfb-438f-4cd0-86fb-04b473c7082e"
      },
      "execution_count": 13,
      "outputs": [
        {
          "output_type": "stream",
          "name": "stdout",
          "text": [
            "잘못된 나이 입력값\n",
            "end...\n"
          ]
        }
      ]
    },
    {
      "cell_type": "markdown",
      "source": [
        "## Exercise\n",
        "\n",
        "*   정수 3개를 입력받고 변수에 저장\n",
        "*   정수 3개의 평균을 계산하고 출력\n",
        "*   평균이\n",
        "    *   90 이상이면, 'A'\n",
        "    *   80 이상이면, 'B'\n",
        "    *   70 이상이면, 'C'\n",
        "    *   70 미만이면, 'F' 출력\n",
        "    "
      ],
      "metadata": {
        "id": "xYpLpOFt8wf9"
      }
    }
  ]
}