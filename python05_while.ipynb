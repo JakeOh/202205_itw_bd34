{
  "nbformat": 4,
  "nbformat_minor": 0,
  "metadata": {
    "colab": {
      "name": "python05_while.ipynb",
      "provenance": [],
      "collapsed_sections": [],
      "authorship_tag": "ABX9TyM75A/UUxY+23sfICHLDXV7",
      "include_colab_link": true
    },
    "kernelspec": {
      "name": "python3",
      "display_name": "Python 3"
    },
    "language_info": {
      "name": "python"
    }
  },
  "cells": [
    {
      "cell_type": "markdown",
      "metadata": {
        "id": "view-in-github",
        "colab_type": "text"
      },
      "source": [
        "<a href=\"https://colab.research.google.com/github/JakeOh/202205_itw_bd34/blob/main/python05_while.ipynb\" target=\"_parent\"><img src=\"https://colab.research.google.com/assets/colab-badge.svg\" alt=\"Open In Colab\"/></a>"
      ]
    },
    {
      "cell_type": "markdown",
      "source": [
        "# while loop(반복문)"
      ],
      "metadata": {
        "id": "04UocUa8iKvU"
      }
    },
    {
      "cell_type": "markdown",
      "source": [
        "```\n",
        "[초기화 문장]\n",
        "while 조건식:\n",
        "    조건식을 만족하는 동안에 반복할 코드 블록\n",
        "    [조건을 변경할 수 있는 문장]\n",
        "```\n",
        "\n",
        "*   `while 조건식` 다음에는 반드시 콜론(:)을 사용.\n",
        "*   조건식을 만족하는 동안에 블록 내부를 계속 반복 실행.\n",
        "*   조건식을 만족하지 못하면 반복을 중지.\n"
      ],
      "metadata": {
        "id": "IQzHHw75iS1z"
      }
    },
    {
      "cell_type": "code",
      "execution_count": 4,
      "metadata": {
        "colab": {
          "base_uri": "https://localhost:8080/"
        },
        "id": "t3LQwSpdhbXf",
        "outputId": "1a5ccbdf-3f15-4a8b-f22d-5a62974d0680"
      },
      "outputs": [
        {
          "output_type": "stream",
          "name": "stdout",
          "text": [
            "1\n",
            "2\n",
            "3\n",
            "4\n",
            "5\n"
          ]
        }
      ],
      "source": [
        "print(1)\n",
        "print(2)\n",
        "print(3)\n",
        "print(4)\n",
        "print(5)"
      ]
    },
    {
      "cell_type": "code",
      "source": [
        "n = 1  # 초기화\n",
        "while n <= 5:  # 변수 n의 값이 5보다 작거나 같은 동안에\n",
        "    print(n)   # 변수 n의 값을 출력\n",
        "    n += 1     # n = n + 1. 변수 n의 값을 1 증가."
      ],
      "metadata": {
        "colab": {
          "base_uri": "https://localhost:8080/"
        },
        "id": "hsMJVwW7ku87",
        "outputId": "acc16ad9-1e3a-454f-d40c-d84db44d3273"
      },
      "execution_count": 7,
      "outputs": [
        {
          "output_type": "stream",
          "name": "stdout",
          "text": [
            "1\n",
            "2\n",
            "3\n",
            "4\n",
            "5\n"
          ]
        }
      ]
    },
    {
      "cell_type": "code",
      "source": [
        "# 5 4 3 2 1 출력\n",
        "n = 5  # n은 5부터 시작.\n",
        "while n >= 1:  # n의 값이 1보다 크거나 같은 동안 반복.\n",
        "    print(n)  # n을 출력.\n",
        "    n -= 1  # n의 값을 1 감소."
      ],
      "metadata": {
        "colab": {
          "base_uri": "https://localhost:8080/"
        },
        "id": "YV5GGjwjnZME",
        "outputId": "674cdf5f-300e-4db6-f1b6-af8a79de0ba6"
      },
      "execution_count": 8,
      "outputs": [
        {
          "output_type": "stream",
          "name": "stdout",
          "text": [
            "5\n",
            "4\n",
            "3\n",
            "2\n",
            "1\n"
          ]
        }
      ]
    }
  ]
}