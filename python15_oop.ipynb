{
  "nbformat": 4,
  "nbformat_minor": 0,
  "metadata": {
    "colab": {
      "name": "python15_oop.ipynb",
      "provenance": [],
      "collapsed_sections": [],
      "authorship_tag": "ABX9TyO8aGKK9119yJjXEk1F8krh",
      "include_colab_link": true
    },
    "kernelspec": {
      "name": "python3",
      "display_name": "Python 3"
    },
    "language_info": {
      "name": "python"
    }
  },
  "cells": [
    {
      "cell_type": "markdown",
      "metadata": {
        "id": "view-in-github",
        "colab_type": "text"
      },
      "source": [
        "<a href=\"https://colab.research.google.com/github/JakeOh/202205_itw_bd34/blob/main/python15_oop.ipynb\" target=\"_parent\"><img src=\"https://colab.research.google.com/assets/colab-badge.svg\" alt=\"Open In Colab\"/></a>"
      ]
    },
    {
      "cell_type": "markdown",
      "source": [
        "# 배경 설명"
      ],
      "metadata": {
        "id": "9l0eNxG0krv6"
      }
    },
    {
      "cell_type": "markdown",
      "source": [
        "## list, dict, 반복문 사용"
      ],
      "metadata": {
        "id": "KrHYA39mkxMP"
      }
    },
    {
      "cell_type": "code",
      "execution_count": 10,
      "metadata": {
        "id": "T4RDAYQzh8Ho"
      },
      "outputs": [],
      "source": [
        "students = [\n",
        "            {'name': 'Aaa', 'korean': 100, 'english': 95, 'math': 90},\n",
        "            {'name': 'Bbb', 'korean': 50, 'english': 100, 'math': 70},\n",
        "            {'name': 'Ccc', 'korean': 80, 'english': 88, 'math': 20},\n",
        "            {'name': 'Ddd', 'korean': 100, 'english': 100, 'math': 100}\n",
        "]"
      ]
    },
    {
      "cell_type": "code",
      "source": [
        "# students에 있는 각 학생들의 총점과 평균을 출력\n",
        "for s in students:\n",
        "    total = s['korean'] + s['english'] + s['math']  # 학생의 세 과목 총점\n",
        "    mean = total / 3  # 학생의 세 과목 평균 점수\n",
        "    print(f'이름: {s[\"name\"]}, 총점: {total}, 평균: {mean}')"
      ],
      "metadata": {
        "colab": {
          "base_uri": "https://localhost:8080/"
        },
        "id": "aVEk40tKlnXB",
        "outputId": "ed2df6a0-058f-4cdf-ed99-6ff85a6ac93a"
      },
      "execution_count": 11,
      "outputs": [
        {
          "output_type": "stream",
          "name": "stdout",
          "text": [
            "이름: Aaa, 총점: 285, 평균: 95.0\n",
            "이름: Bbb, 총점: 220, 평균: 73.33333333333333\n",
            "이름: Ccc, 총점: 188, 평균: 62.666666666666664\n",
            "이름: Ddd, 총점: 300, 평균: 100.0\n"
          ]
        }
      ]
    },
    {
      "cell_type": "markdown",
      "source": [
        "위 코드의 문제점은 dict의 key가 학생마다 다르게 들어간 경우 에러가 발생할 수 있음.\n",
        "\n",
        "학생 한 명에 대한 dict를 함수를 사용해서 항상 동일한 key를 갖도록 만들면 되지 않을까?"
      ],
      "metadata": {
        "id": "derWlMpPqL38"
      }
    },
    {
      "cell_type": "markdown",
      "source": [
        "## 함수형 프로그래밍(Functional Programming)"
      ],
      "metadata": {
        "id": "mTrE1qSPqlK8"
      }
    },
    {
      "cell_type": "code",
      "source": [
        "def create_student(name, korean, english, math):\n",
        "    student = {'name': name,\n",
        "               'korean': korean,\n",
        "               'english': english,\n",
        "               'math': math}\n",
        "    return student"
      ],
      "metadata": {
        "id": "iaXPnOvOqqrx"
      },
      "execution_count": 12,
      "outputs": []
    },
    {
      "cell_type": "code",
      "source": [
        "stu1 = create_student('오쌤', 50, 70, 100)\n",
        "stu1"
      ],
      "metadata": {
        "colab": {
          "base_uri": "https://localhost:8080/"
        },
        "id": "r_gtGEwFwCz1",
        "outputId": "68c5abfb-8212-4514-caca-dccf427e4e43"
      },
      "execution_count": 14,
      "outputs": [
        {
          "output_type": "execute_result",
          "data": {
            "text/plain": [
              "{'english': 70, 'korean': 50, 'math': 100, 'name': '오쌤'}"
            ]
          },
          "metadata": {},
          "execution_count": 14
        }
      ]
    },
    {
      "cell_type": "code",
      "source": [
        "def calc_total(student):\n",
        "    total = student['korean'] + student['english'] + student['math']\n",
        "    return total"
      ],
      "metadata": {
        "id": "AXexgRulwKO7"
      },
      "execution_count": 15,
      "outputs": []
    },
    {
      "cell_type": "code",
      "source": [
        "calc_total(stu1)"
      ],
      "metadata": {
        "colab": {
          "base_uri": "https://localhost:8080/"
        },
        "id": "SlWr4rZsyEEl",
        "outputId": "3def3f25-a1f2-4216-cef0-5950a2ca5352"
      },
      "execution_count": 16,
      "outputs": [
        {
          "output_type": "execute_result",
          "data": {
            "text/plain": [
              "220"
            ]
          },
          "metadata": {},
          "execution_count": 16
        }
      ]
    },
    {
      "cell_type": "code",
      "source": [
        "def calc_mean(student):\n",
        "    mean = calc_total(student) / 3\n",
        "    return mean"
      ],
      "metadata": {
        "id": "OMwpZcIQyGjl"
      },
      "execution_count": 17,
      "outputs": []
    },
    {
      "cell_type": "code",
      "source": [
        "calc_mean(stu1)"
      ],
      "metadata": {
        "colab": {
          "base_uri": "https://localhost:8080/"
        },
        "id": "IK58y8l_zSdN",
        "outputId": "09344719-6f87-4031-e1ac-92cb0c64680f"
      },
      "execution_count": 19,
      "outputs": [
        {
          "output_type": "execute_result",
          "data": {
            "text/plain": [
              "73.33333333333333"
            ]
          },
          "metadata": {},
          "execution_count": 19
        }
      ]
    },
    {
      "cell_type": "code",
      "source": [
        "students = [\n",
        "            create_student('Aaa', 100, 90, 80),\n",
        "            create_student('Bbb', 50, 60, 70),\n",
        "            create_student('Ccc', 90, 92, 98)\n",
        "]\n",
        "students"
      ],
      "metadata": {
        "colab": {
          "base_uri": "https://localhost:8080/"
        },
        "id": "II1hq5NgzZhE",
        "outputId": "336a68db-f80e-4275-c259-f3364a6e9aab"
      },
      "execution_count": 20,
      "outputs": [
        {
          "output_type": "execute_result",
          "data": {
            "text/plain": [
              "[{'english': 90, 'korean': 100, 'math': 80, 'name': 'Aaa'},\n",
              " {'english': 60, 'korean': 50, 'math': 70, 'name': 'Bbb'},\n",
              " {'english': 92, 'korean': 90, 'math': 98, 'name': 'Ccc'}]"
            ]
          },
          "metadata": {},
          "execution_count": 20
        }
      ]
    },
    {
      "cell_type": "code",
      "source": [
        "for s in students:\n",
        "    total = calc_total(s)\n",
        "    mean = calc_mean(s)\n",
        "    print(f'이름: {s[\"name\"]}, 총점: {total}, 평균: {mean}')"
      ],
      "metadata": {
        "colab": {
          "base_uri": "https://localhost:8080/"
        },
        "id": "2OK5yy3G0rkF",
        "outputId": "6661eb06-4cd9-4bee-add3-d8698b6aefd3"
      },
      "execution_count": 21,
      "outputs": [
        {
          "output_type": "stream",
          "name": "stdout",
          "text": [
            "이름: Aaa, 총점: 270, 평균: 90.0\n",
            "이름: Bbb, 총점: 180, 평균: 60.0\n",
            "이름: Ccc, 총점: 280, 평균: 93.33333333333333\n"
          ]
        }
      ]
    },
    {
      "cell_type": "markdown",
      "source": [
        "함수형 프로그래밍 방식의 문제점은 총점, 평균을 계산하는 함수들이 학생 dict(국어, 영어, 수학 점수)와 매우 밀접한 관계를 맺고 있다는 점.\n",
        "\n",
        "서로 밀접한 관계를 가지고 있는 데이터(이름, 국어, 영어, 수학)들과 기능(함수: 평균, 총점 계산)들을 하나의 객체로 묶을 수 없을까?"
      ],
      "metadata": {
        "id": "egL_rKMz3osm"
      }
    },
    {
      "cell_type": "markdown",
      "source": [
        "# OOP(Object-Oriented Programming, 객체 지향 프로그래밍)"
      ],
      "metadata": {
        "id": "TrjsgcL44Rfm"
      }
    },
    {
      "cell_type": "markdown",
      "source": [
        "*   객체(object): 프로그램으로 구현할 대상. 데이터 + 기능 ==> 자료구조.\n",
        "*   클래스(class): 객체를 구현하기 위한 설계도. 프로그램 코드.\n",
        "    *   특성, 속성(attribute, property): 객체가 가져야 하는 데이터. 변수에 저장되는 값.\n",
        "    *   메서드(method): 객체가 가져야 하는 기능. 클래스 내부에서 정의하는 함수.\n",
        "    *   class = property + method\n",
        "*   인스턴스(instance): 설계도인 클래스에 따라서 메모리에 생성된 객체.\n",
        "*   인스턴스 생성(intanciate): 클래스의 인스턴스를 메모리에 적재하는 과정.\n",
        "*   생성자(constructor): 인스턴스를 생성해 주는 함수. 클래스 이름과 동일."
      ],
      "metadata": {
        "id": "ZTmhqlRQ4c4O"
      }
    },
    {
      "cell_type": "code",
      "source": [
        "# 클래스 정의\n",
        "class Student:\n",
        "    # 객체의 속성들을 초기화(저장)하는 함수 - 생성자를 호출하면 자동으로 호출되는 메서드.\n",
        "    def __init__(self, name, korean, english, math):\n",
        "        self.name = name\n",
        "        self.korean = korean\n",
        "        self.english = english\n",
        "        self.math = math\n",
        "\n",
        "    # 학생(Student) 객체의 기능 - 메서드 정의\n",
        "    def calc_total(self):\n",
        "        total = self.korean + self.english + self.math\n",
        "        return total\n",
        "    \n",
        "    def calc_mean(self):\n",
        "        mean = self.calc_total() / 3\n",
        "        return mean"
      ],
      "metadata": {
        "id": "d8bjyj3D1z7P"
      },
      "execution_count": 27,
      "outputs": []
    },
    {
      "cell_type": "code",
      "source": [
        "gildong = Student('홍길동', 100, 50, 90)  # 생성자 호출.\n",
        "print(gildong)  # gildong 변수: 생성된 인스턴스의 주소값을 저장.\n",
        "print(type(gildong))"
      ],
      "metadata": {
        "colab": {
          "base_uri": "https://localhost:8080/"
        },
        "id": "itdHe5laEImz",
        "outputId": "c9b2fc3a-e0c5-4893-a9ac-043da981f58e"
      },
      "execution_count": 28,
      "outputs": [
        {
          "output_type": "stream",
          "name": "stdout",
          "text": [
            "<__main__.Student object at 0x7f79e839d150>\n",
            "<class '__main__.Student'>\n"
          ]
        }
      ]
    },
    {
      "cell_type": "code",
      "source": [
        "# 객체(인스턴스) 참조(reference): 인스턴스가 저장된 메모리 주소로 객체를 찾아가는 것.\n",
        "print(gildong.name)\n",
        "print(gildong.korean)\n",
        "print(gildong.english)\n",
        "print(gildong.math)"
      ],
      "metadata": {
        "colab": {
          "base_uri": "https://localhost:8080/"
        },
        "id": "S44xlMwlF5XM",
        "outputId": "1d2d144e-4721-47dd-9507-8b79464494bd"
      },
      "execution_count": 29,
      "outputs": [
        {
          "output_type": "stream",
          "name": "stdout",
          "text": [
            "홍길동\n",
            "100\n",
            "50\n",
            "90\n"
          ]
        }
      ]
    },
    {
      "cell_type": "code",
      "source": [
        "print(gildong.calc_total())\n",
        "print(gildong.calc_mean())"
      ],
      "metadata": {
        "colab": {
          "base_uri": "https://localhost:8080/"
        },
        "id": "-UdSrKk7TBgm",
        "outputId": "b8a7f16a-3fcd-4139-cab2-b59bc441a24d"
      },
      "execution_count": 30,
      "outputs": [
        {
          "output_type": "stream",
          "name": "stdout",
          "text": [
            "240\n",
            "80.0\n"
          ]
        }
      ]
    }
  ]
}