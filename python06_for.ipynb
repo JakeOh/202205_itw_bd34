{
  "nbformat": 4,
  "nbformat_minor": 0,
  "metadata": {
    "colab": {
      "name": "python06_for.ipynb",
      "provenance": [],
      "collapsed_sections": [],
      "authorship_tag": "ABX9TyPeUv9GbfxB0eU63WqD3e1m",
      "include_colab_link": true
    },
    "kernelspec": {
      "name": "python3",
      "display_name": "Python 3"
    },
    "language_info": {
      "name": "python"
    }
  },
  "cells": [
    {
      "cell_type": "markdown",
      "metadata": {
        "id": "view-in-github",
        "colab_type": "text"
      },
      "source": [
        "<a href=\"https://colab.research.google.com/github/JakeOh/202205_itw_bd34/blob/main/python06_for.ipynb\" target=\"_parent\"><img src=\"https://colab.research.google.com/assets/colab-badge.svg\" alt=\"Open In Colab\"/></a>"
      ]
    },
    {
      "cell_type": "markdown",
      "source": [
        "# for loop"
      ],
      "metadata": {
        "id": "a-iXb8up4Ulw"
      }
    },
    {
      "cell_type": "markdown",
      "source": [
        "```\n",
        "for 변수 in iterable-type:\n",
        "    반복해서 실행할 코드 블록\n",
        "```\n",
        "\n",
        "*   iterable-type: 순회(반복)이 가능한 데이터 타입.\n",
        "    *   `str`, `range`, `list`, `tuple`, `dict`, ...\n",
        "*   for 반복문은 iterable-type의 객체에서 원소들을 하나씩 꺼내서 변수에 저장하고, 코드 블록을 반복해서 실행.\n",
        "*   iterable-type의 객체에서 더이상 꺼낼 원소가 없을 때 반복문이 종료.\n"
      ],
      "metadata": {
        "id": "a6oCyN5U4YsW"
      }
    },
    {
      "cell_type": "code",
      "execution_count": 1,
      "metadata": {
        "colab": {
          "base_uri": "https://localhost:8080/"
        },
        "id": "DbjQse7C4L-F",
        "outputId": "9de506f8-ce62-4708-cddf-ca40f476a072"
      },
      "outputs": [
        {
          "output_type": "execute_result",
          "data": {
            "text/plain": [
              "True"
            ]
          },
          "metadata": {},
          "execution_count": 1
        }
      ],
      "source": [
        "1 in (1, 2, 3)"
      ]
    },
    {
      "cell_type": "code",
      "source": [
        "5 in (1, 2, 3)"
      ],
      "metadata": {
        "colab": {
          "base_uri": "https://localhost:8080/"
        },
        "id": "yXnnMpps58bn",
        "outputId": "5447f06f-9e58-4553-e7e6-260b656642e9"
      },
      "execution_count": 2,
      "outputs": [
        {
          "output_type": "execute_result",
          "data": {
            "text/plain": [
              "False"
            ]
          },
          "metadata": {},
          "execution_count": 2
        }
      ]
    },
    {
      "cell_type": "code",
      "source": [
        "'세' in '안녕하세요'"
      ],
      "metadata": {
        "colab": {
          "base_uri": "https://localhost:8080/"
        },
        "id": "07E-VreZ6GQ5",
        "outputId": "fa344c63-f9aa-400e-d3a7-1e648a84fde0"
      },
      "execution_count": 3,
      "outputs": [
        {
          "output_type": "execute_result",
          "data": {
            "text/plain": [
              "True"
            ]
          },
          "metadata": {},
          "execution_count": 3
        }
      ]
    },
    {
      "cell_type": "code",
      "source": [
        "for x in '안녕하세요!':\n",
        "    print(x)"
      ],
      "metadata": {
        "colab": {
          "base_uri": "https://localhost:8080/"
        },
        "id": "SQXYqJlW6Xda",
        "outputId": "f43d309b-e4d8-427e-bd0d-cde936ed3cdd"
      },
      "execution_count": 4,
      "outputs": [
        {
          "output_type": "stream",
          "name": "stdout",
          "text": [
            "안\n",
            "녕\n",
            "하\n",
            "세\n",
            "요\n",
            "!\n"
          ]
        }
      ]
    },
    {
      "cell_type": "markdown",
      "source": [
        "## `range()` 함수와 for loop"
      ],
      "metadata": {
        "id": "6FzT1WAv_1xB"
      }
    },
    {
      "cell_type": "code",
      "source": [
        "# range(start, stop, step): start <= x < stop 범위의 step(양수)만큼씩 증가하는 정수들을 생성.\n",
        "for x in range(1, 5, 1):\n",
        "    print(x)"
      ],
      "metadata": {
        "colab": {
          "base_uri": "https://localhost:8080/"
        },
        "id": "X9qlrr2e_7W_",
        "outputId": "ab5c20fd-bfce-439f-f380-91530b5a667e"
      },
      "execution_count": 5,
      "outputs": [
        {
          "output_type": "stream",
          "name": "stdout",
          "text": [
            "1\n",
            "2\n",
            "3\n",
            "4\n"
          ]
        }
      ]
    },
    {
      "cell_type": "code",
      "source": [
        "# range(start, stop): start <= x < stop 범위의 1씩 증가하는 정수들을 생성.\n",
        "for x in range(1, 5):  # (1, 2, 3, 4)\n",
        "    print(x)"
      ],
      "metadata": {
        "colab": {
          "base_uri": "https://localhost:8080/"
        },
        "id": "MBPbnb81A_Rr",
        "outputId": "44c65119-bf1a-4e7c-e55b-f43010243c4e"
      },
      "execution_count": 6,
      "outputs": [
        {
          "output_type": "stream",
          "name": "stdout",
          "text": [
            "1\n",
            "2\n",
            "3\n",
            "4\n"
          ]
        }
      ]
    },
    {
      "cell_type": "code",
      "source": [
        "# range(stop): 0 <= x < stop 범위의 1씩 증가하는 정수들을 생성.\n",
        "for x in range(5):  # (0, 1, 2, 3, 4)\n",
        "    print(x)"
      ],
      "metadata": {
        "colab": {
          "base_uri": "https://localhost:8080/"
        },
        "id": "huMt3Y7eBPcx",
        "outputId": "21c4dd2d-3307-4c26-ab72-aaf5aac82e71"
      },
      "execution_count": 7,
      "outputs": [
        {
          "output_type": "stream",
          "name": "stdout",
          "text": [
            "0\n",
            "1\n",
            "2\n",
            "3\n",
            "4\n"
          ]
        }
      ]
    },
    {
      "cell_type": "code",
      "source": [
        "# range(start, stop, step): start >= x > stop 범위의 step(음수)만큼씩 감소하는 정수들을 생성.\n",
        "for x in range(5, 0, -1):  # (5, 4, 3, 2, 1)\n",
        "    print(x)"
      ],
      "metadata": {
        "colab": {
          "base_uri": "https://localhost:8080/"
        },
        "id": "OIERasmJCD8R",
        "outputId": "d38636df-72c6-42bd-c233-c544e5795964"
      },
      "execution_count": 8,
      "outputs": [
        {
          "output_type": "stream",
          "name": "stdout",
          "text": [
            "5\n",
            "4\n",
            "3\n",
            "2\n",
            "1\n"
          ]
        }
      ]
    },
    {
      "cell_type": "markdown",
      "source": [
        "*   0 이상 10 미만의 짝수들을 오름차순 출력"
      ],
      "metadata": {
        "id": "t_EU52McDp1Q"
      }
    },
    {
      "cell_type": "code",
      "source": [
        "for x in range(0, 10, 2):\n",
        "    print(x)"
      ],
      "metadata": {
        "colab": {
          "base_uri": "https://localhost:8080/"
        },
        "id": "_1kWZQtJFhjQ",
        "outputId": "29abcff4-3456-4bf3-e2aa-2ee6c8c07d2f"
      },
      "execution_count": 9,
      "outputs": [
        {
          "output_type": "stream",
          "name": "stdout",
          "text": [
            "0\n",
            "2\n",
            "4\n",
            "6\n",
            "8\n"
          ]
        }
      ]
    },
    {
      "cell_type": "markdown",
      "source": [
        "*   1 이상 9 이하의 홀수들을 내림차순으로 출력"
      ],
      "metadata": {
        "id": "Rnz4jJE4Dum_"
      }
    },
    {
      "cell_type": "code",
      "source": [
        "for x in range(9, 0, -2):  # (9, 7, 5, 3, 1)\n",
        "    print(x)"
      ],
      "metadata": {
        "colab": {
          "base_uri": "https://localhost:8080/"
        },
        "id": "Mr6w_0I5F9vR",
        "outputId": "b51c16c7-1ef7-414f-b046-b942cf11b6d2"
      },
      "execution_count": 11,
      "outputs": [
        {
          "output_type": "stream",
          "name": "stdout",
          "text": [
            "9\n",
            "7\n",
            "5\n",
            "3\n",
            "1\n"
          ]
        }
      ]
    },
    {
      "cell_type": "markdown",
      "source": [
        "*   다음과 같이 출력하는 코드를 작성\n",
        "\n",
        "```\n",
        "*\n",
        "**\n",
        "***\n",
        "****\n",
        "*****\n",
        "```\n"
      ],
      "metadata": {
        "id": "ByJJL56fEIS5"
      }
    },
    {
      "cell_type": "code",
      "source": [
        "for n in range(1, 6):\n",
        "    print('*' * n)"
      ],
      "metadata": {
        "colab": {
          "base_uri": "https://localhost:8080/"
        },
        "id": "gb8cwyvGGb0I",
        "outputId": "0e07cdce-196f-42e0-904a-cb2978c4e300"
      },
      "execution_count": 12,
      "outputs": [
        {
          "output_type": "stream",
          "name": "stdout",
          "text": [
            "*\n",
            "**\n",
            "***\n",
            "****\n",
            "*****\n"
          ]
        }
      ]
    },
    {
      "cell_type": "markdown",
      "source": [
        "*   다음과 같이 출력하는 코드를 작성\n",
        "\n",
        "```\n",
        "*****\n",
        "****\n",
        "***\n",
        "**\n",
        "*\n",
        "```\n"
      ],
      "metadata": {
        "id": "uN5uAHCbEUGf"
      }
    },
    {
      "cell_type": "code",
      "source": [
        "for n in range(5, 0, -1):\n",
        "    print('*' * n)"
      ],
      "metadata": {
        "colab": {
          "base_uri": "https://localhost:8080/"
        },
        "id": "XDE2mPVkG8z5",
        "outputId": "86ed4ee5-312f-4ff4-faf7-f0b951cd828c"
      },
      "execution_count": 13,
      "outputs": [
        {
          "output_type": "stream",
          "name": "stdout",
          "text": [
            "*****\n",
            "****\n",
            "***\n",
            "**\n",
            "*\n"
          ]
        }
      ]
    },
    {
      "cell_type": "code",
      "source": [
        "# 구구단 2단을 출력\n",
        "for n in range(1, 10):\n",
        "    print(f'2 x {n} = {2 * n}')"
      ],
      "metadata": {
        "colab": {
          "base_uri": "https://localhost:8080/"
        },
        "id": "jqylQJjhZfE-",
        "outputId": "429b8ec1-61fd-42ce-a0ed-1cdb81749e30"
      },
      "execution_count": 14,
      "outputs": [
        {
          "output_type": "stream",
          "name": "stdout",
          "text": [
            "2 x 1 = 2\n",
            "2 x 2 = 4\n",
            "2 x 3 = 6\n",
            "2 x 4 = 8\n",
            "2 x 5 = 10\n",
            "2 x 6 = 12\n",
            "2 x 7 = 14\n",
            "2 x 8 = 16\n",
            "2 x 9 = 18\n"
          ]
        }
      ]
    },
    {
      "cell_type": "markdown",
      "source": [
        "## nested for loop(중첩 for 반복문)"
      ],
      "metadata": {
        "id": "ZQcLBxMxatN8"
      }
    },
    {
      "cell_type": "code",
      "source": [
        "# 구구단 2단부터 9단까지 출력\n",
        "for x in range(2, 10):\n",
        "    for y in range(1, 10):\n",
        "        print(f'{x} x {y} = {x * y}')\n",
        "    print('-' * 20)"
      ],
      "metadata": {
        "colab": {
          "base_uri": "https://localhost:8080/"
        },
        "id": "Csg3AWzPa03r",
        "outputId": "2c7355f7-70cb-472f-987c-098a0f11a139"
      },
      "execution_count": 15,
      "outputs": [
        {
          "output_type": "stream",
          "name": "stdout",
          "text": [
            "2 x 1 = 2\n",
            "2 x 2 = 4\n",
            "2 x 3 = 6\n",
            "2 x 4 = 8\n",
            "2 x 5 = 10\n",
            "2 x 6 = 12\n",
            "2 x 7 = 14\n",
            "2 x 8 = 16\n",
            "2 x 9 = 18\n",
            "--------------------\n",
            "3 x 1 = 3\n",
            "3 x 2 = 6\n",
            "3 x 3 = 9\n",
            "3 x 4 = 12\n",
            "3 x 5 = 15\n",
            "3 x 6 = 18\n",
            "3 x 7 = 21\n",
            "3 x 8 = 24\n",
            "3 x 9 = 27\n",
            "--------------------\n",
            "4 x 1 = 4\n",
            "4 x 2 = 8\n",
            "4 x 3 = 12\n",
            "4 x 4 = 16\n",
            "4 x 5 = 20\n",
            "4 x 6 = 24\n",
            "4 x 7 = 28\n",
            "4 x 8 = 32\n",
            "4 x 9 = 36\n",
            "--------------------\n",
            "5 x 1 = 5\n",
            "5 x 2 = 10\n",
            "5 x 3 = 15\n",
            "5 x 4 = 20\n",
            "5 x 5 = 25\n",
            "5 x 6 = 30\n",
            "5 x 7 = 35\n",
            "5 x 8 = 40\n",
            "5 x 9 = 45\n",
            "--------------------\n",
            "6 x 1 = 6\n",
            "6 x 2 = 12\n",
            "6 x 3 = 18\n",
            "6 x 4 = 24\n",
            "6 x 5 = 30\n",
            "6 x 6 = 36\n",
            "6 x 7 = 42\n",
            "6 x 8 = 48\n",
            "6 x 9 = 54\n",
            "--------------------\n",
            "7 x 1 = 7\n",
            "7 x 2 = 14\n",
            "7 x 3 = 21\n",
            "7 x 4 = 28\n",
            "7 x 5 = 35\n",
            "7 x 6 = 42\n",
            "7 x 7 = 49\n",
            "7 x 8 = 56\n",
            "7 x 9 = 63\n",
            "--------------------\n",
            "8 x 1 = 8\n",
            "8 x 2 = 16\n",
            "8 x 3 = 24\n",
            "8 x 4 = 32\n",
            "8 x 5 = 40\n",
            "8 x 6 = 48\n",
            "8 x 7 = 56\n",
            "8 x 8 = 64\n",
            "8 x 9 = 72\n",
            "--------------------\n",
            "9 x 1 = 9\n",
            "9 x 2 = 18\n",
            "9 x 3 = 27\n",
            "9 x 4 = 36\n",
            "9 x 5 = 45\n",
            "9 x 6 = 54\n",
            "9 x 7 = 63\n",
            "9 x 8 = 72\n",
            "9 x 9 = 81\n",
            "--------------------\n"
          ]
        }
      ]
    },
    {
      "cell_type": "markdown",
      "source": [
        "## `break`와 `continue`\n",
        "\n",
        "*   `break`: iteration(반복)을 종료.\n",
        "*   `continue`: (현재 작업을 멈추고,) 다음 iteration(반복)을 수행."
      ],
      "metadata": {
        "id": "OO3vVx4gdFx0"
      }
    },
    {
      "cell_type": "code",
      "source": [
        "for x in range(5):\n",
        "    if x == 2:\n",
        "        break\n",
        "    print(x)"
      ],
      "metadata": {
        "colab": {
          "base_uri": "https://localhost:8080/"
        },
        "id": "URblP7IddgeJ",
        "outputId": "cd76b93d-7d91-4227-cdc6-059b04bf715e"
      },
      "execution_count": 17,
      "outputs": [
        {
          "output_type": "stream",
          "name": "stdout",
          "text": [
            "0\n",
            "1\n"
          ]
        }
      ]
    },
    {
      "cell_type": "code",
      "source": [
        "for x in range(5):\n",
        "    if x == 2:\n",
        "        continue\n",
        "    print(x)"
      ],
      "metadata": {
        "colab": {
          "base_uri": "https://localhost:8080/"
        },
        "id": "JnbZZHxyePzU",
        "outputId": "494efd47-9042-469d-93d6-a39e66ecbb9b"
      },
      "execution_count": 18,
      "outputs": [
        {
          "output_type": "stream",
          "name": "stdout",
          "text": [
            "0\n",
            "1\n",
            "3\n",
            "4\n"
          ]
        }
      ]
    },
    {
      "cell_type": "code",
      "source": [
        "# 구구단 2단은 2x2까지, 3단은 3x3까지, ... 출력\n",
        "for x in range(2, 10):\n",
        "    for y in range(1, 10):\n",
        "        print(f'{x} x {y} = {x * y}')\n",
        "        if x == y:\n",
        "            break\n",
        "    print('-' * 20)"
      ],
      "metadata": {
        "colab": {
          "base_uri": "https://localhost:8080/"
        },
        "id": "ZV3TrbnSezyH",
        "outputId": "a3298a30-2b2c-4670-f6f4-471905630c1c"
      },
      "execution_count": 20,
      "outputs": [
        {
          "output_type": "stream",
          "name": "stdout",
          "text": [
            "2 x 1 = 2\n",
            "2 x 2 = 4\n",
            "--------------------\n",
            "3 x 1 = 3\n",
            "3 x 2 = 6\n",
            "3 x 3 = 9\n",
            "--------------------\n",
            "4 x 1 = 4\n",
            "4 x 2 = 8\n",
            "4 x 3 = 12\n",
            "4 x 4 = 16\n",
            "--------------------\n",
            "5 x 1 = 5\n",
            "5 x 2 = 10\n",
            "5 x 3 = 15\n",
            "5 x 4 = 20\n",
            "5 x 5 = 25\n",
            "--------------------\n",
            "6 x 1 = 6\n",
            "6 x 2 = 12\n",
            "6 x 3 = 18\n",
            "6 x 4 = 24\n",
            "6 x 5 = 30\n",
            "6 x 6 = 36\n",
            "--------------------\n",
            "7 x 1 = 7\n",
            "7 x 2 = 14\n",
            "7 x 3 = 21\n",
            "7 x 4 = 28\n",
            "7 x 5 = 35\n",
            "7 x 6 = 42\n",
            "7 x 7 = 49\n",
            "--------------------\n",
            "8 x 1 = 8\n",
            "8 x 2 = 16\n",
            "8 x 3 = 24\n",
            "8 x 4 = 32\n",
            "8 x 5 = 40\n",
            "8 x 6 = 48\n",
            "8 x 7 = 56\n",
            "8 x 8 = 64\n",
            "--------------------\n",
            "9 x 1 = 9\n",
            "9 x 2 = 18\n",
            "9 x 3 = 27\n",
            "9 x 4 = 36\n",
            "9 x 5 = 45\n",
            "9 x 6 = 54\n",
            "9 x 7 = 63\n",
            "9 x 8 = 72\n",
            "9 x 9 = 81\n",
            "--------------------\n"
          ]
        }
      ]
    },
    {
      "cell_type": "code",
      "source": [
        "for x in range(2, 10):\n",
        "    for y in range(1, x + 1):\n",
        "        print(f'{x} x {y} = {x * y}')\n",
        "    print('-' * 20)"
      ],
      "metadata": {
        "colab": {
          "base_uri": "https://localhost:8080/"
        },
        "id": "-fsOXgqpg391",
        "outputId": "b1222586-5a39-4f45-9707-ec6677dd81c8"
      },
      "execution_count": 21,
      "outputs": [
        {
          "output_type": "stream",
          "name": "stdout",
          "text": [
            "2 x 1 = 2\n",
            "2 x 2 = 4\n",
            "--------------------\n",
            "3 x 1 = 3\n",
            "3 x 2 = 6\n",
            "3 x 3 = 9\n",
            "--------------------\n",
            "4 x 1 = 4\n",
            "4 x 2 = 8\n",
            "4 x 3 = 12\n",
            "4 x 4 = 16\n",
            "--------------------\n",
            "5 x 1 = 5\n",
            "5 x 2 = 10\n",
            "5 x 3 = 15\n",
            "5 x 4 = 20\n",
            "5 x 5 = 25\n",
            "--------------------\n",
            "6 x 1 = 6\n",
            "6 x 2 = 12\n",
            "6 x 3 = 18\n",
            "6 x 4 = 24\n",
            "6 x 5 = 30\n",
            "6 x 6 = 36\n",
            "--------------------\n",
            "7 x 1 = 7\n",
            "7 x 2 = 14\n",
            "7 x 3 = 21\n",
            "7 x 4 = 28\n",
            "7 x 5 = 35\n",
            "7 x 6 = 42\n",
            "7 x 7 = 49\n",
            "--------------------\n",
            "8 x 1 = 8\n",
            "8 x 2 = 16\n",
            "8 x 3 = 24\n",
            "8 x 4 = 32\n",
            "8 x 5 = 40\n",
            "8 x 6 = 48\n",
            "8 x 7 = 56\n",
            "8 x 8 = 64\n",
            "--------------------\n",
            "9 x 1 = 9\n",
            "9 x 2 = 18\n",
            "9 x 3 = 27\n",
            "9 x 4 = 36\n",
            "9 x 5 = 45\n",
            "9 x 6 = 54\n",
            "9 x 7 = 63\n",
            "9 x 8 = 72\n",
            "9 x 9 = 81\n",
            "--------------------\n"
          ]
        }
      ]
    },
    {
      "cell_type": "markdown",
      "source": [
        "# `print()` 함수\n",
        "\n",
        "*   문자열을 출력할 때 함께 사용되는 특수 기호\n",
        "    *   '\\t': 탭(tab)\n",
        "    *   '\\n': 줄바꿈(new line)\n",
        "*   `print()` 함수의 파라미터(parameter)\n",
        "    *   `end`: print 함수의 argument들을 콘솔에 출력한 후 어떤 동작을 할 것인 지를 설정. 기본값은 줄바꿈('\\n').\n",
        "    *   `sep`: separator(구분자). print 함수의 argument들을 출력할 때, 각각의 argument들을 구분하기 위한 문자를 설정. 기본값은 공백 한 칸(' ')."
      ],
      "metadata": {
        "id": "2EDNqv_qhjQ9"
      }
    },
    {
      "cell_type": "code",
      "source": [
        "print('안녕 Hello Bon Jour')"
      ],
      "metadata": {
        "colab": {
          "base_uri": "https://localhost:8080/"
        },
        "id": "x4XgN80_jaDW",
        "outputId": "1881114c-d205-4ce9-f718-70a7f9de0064"
      },
      "execution_count": 23,
      "outputs": [
        {
          "output_type": "stream",
          "name": "stdout",
          "text": [
            "안녕 Hello Bon Jour\n"
          ]
        }
      ]
    },
    {
      "cell_type": "code",
      "source": [
        "print('안녕\\tHello\\tBon Jour')"
      ],
      "metadata": {
        "colab": {
          "base_uri": "https://localhost:8080/"
        },
        "id": "lbZT8AxwjlzG",
        "outputId": "65014dea-2760-421d-ec12-9350f4f32f14"
      },
      "execution_count": 24,
      "outputs": [
        {
          "output_type": "stream",
          "name": "stdout",
          "text": [
            "안녕\tHello\tBon Jour\n"
          ]
        }
      ]
    },
    {
      "cell_type": "code",
      "source": [
        "print('안녕\\nHello\\nBon Jour')"
      ],
      "metadata": {
        "colab": {
          "base_uri": "https://localhost:8080/"
        },
        "id": "kFYGxiD0kNB-",
        "outputId": "b2fbf447-2ff4-4cb8-f7df-6d7b807399e4"
      },
      "execution_count": 25,
      "outputs": [
        {
          "output_type": "stream",
          "name": "stdout",
          "text": [
            "안녕\n",
            "Hello\n",
            "Bon Jour\n"
          ]
        }
      ]
    },
    {
      "cell_type": "code",
      "source": [
        "print('안녕', 'Hello', 123)"
      ],
      "metadata": {
        "colab": {
          "base_uri": "https://localhost:8080/"
        },
        "id": "F0WmH1_Kp3b3",
        "outputId": "24ecee1c-ce89-401d-a13f-37e393997e7d"
      },
      "execution_count": 26,
      "outputs": [
        {
          "output_type": "stream",
          "name": "stdout",
          "text": [
            "안녕 Hello 123\n"
          ]
        }
      ]
    },
    {
      "cell_type": "code",
      "source": [
        "print('안녕', 'Hello', 123, sep=',')"
      ],
      "metadata": {
        "colab": {
          "base_uri": "https://localhost:8080/"
        },
        "id": "XGeXGJRcqGDY",
        "outputId": "0850a118-fdcf-4915-c557-7cab83388ef5"
      },
      "execution_count": 29,
      "outputs": [
        {
          "output_type": "stream",
          "name": "stdout",
          "text": [
            "안녕,Hello,123\n"
          ]
        }
      ]
    },
    {
      "cell_type": "code",
      "source": [
        "print('안녕')\n",
        "print('Hello')\n",
        "print(123)"
      ],
      "metadata": {
        "colab": {
          "base_uri": "https://localhost:8080/"
        },
        "id": "YEjAE1zzrIVP",
        "outputId": "b0d8a99b-1bad-471c-889e-5b5b377a0298"
      },
      "execution_count": 30,
      "outputs": [
        {
          "output_type": "stream",
          "name": "stdout",
          "text": [
            "안녕\n",
            "Hello\n",
            "123\n"
          ]
        }
      ]
    },
    {
      "cell_type": "code",
      "source": [
        "print('안녕', end='\\t')\n",
        "print('Hello')  # end='\\n': 기본값\n",
        "print(123)\n",
        "print()"
      ],
      "metadata": {
        "colab": {
          "base_uri": "https://localhost:8080/"
        },
        "id": "pg845aLgrkVY",
        "outputId": "9cb83be8-860f-40b4-8104-23772e792663"
      },
      "execution_count": 33,
      "outputs": [
        {
          "output_type": "stream",
          "name": "stdout",
          "text": [
            "안녕\tHello\n",
            "123\n"
          ]
        }
      ]
    },
    {
      "cell_type": "markdown",
      "source": [
        "# Exercise"
      ],
      "metadata": {
        "id": "vUSCTFjqsovh"
      }
    },
    {
      "cell_type": "markdown",
      "source": [
        "## 1. 아래와 같이 출력되는 코드를 작성하세요.\n",
        "\n",
        "```\n",
        "1 little 2 little 3 little indian\n",
        "4 little 5 little 6 little indian\n",
        "7 little 8 little 9 little indian\n",
        "10 little indian boys!\n",
        "```\n"
      ],
      "metadata": {
        "id": "q15qeYNlsrAv"
      }
    },
    {
      "cell_type": "code",
      "source": [
        "for n in range(1, 11):\n",
        "    print(n, 'little', end=' ')\n",
        "    if n % 3 == 0:\n",
        "        print('indian')\n",
        "print('indian boys!')"
      ],
      "metadata": {
        "colab": {
          "base_uri": "https://localhost:8080/"
        },
        "id": "_k8cUA5LuzVf",
        "outputId": "ca39270e-39d8-4242-b650-251526c4f91d"
      },
      "execution_count": 42,
      "outputs": [
        {
          "output_type": "stream",
          "name": "stdout",
          "text": [
            "1 little 2 little 3 little indian\n",
            "4 little 5 little 6 little indian\n",
            "7 little 8 little 9 little indian\n",
            "10 little indian boys!\n"
          ]
        }
      ]
    },
    {
      "cell_type": "markdown",
      "source": [
        "## 2. 아래와 같이 출력되는 코드를 작성하세요.\n",
        "\n",
        "```\n",
        "1  2  *  4  5  *  7  8  *  10\n",
        "11 12 *  14 15 *  17 18 *  20\n",
        "21 22 *  24 25 *  27 28 *  *\n",
        "*  *  *  *  *  *  *  *  *  40\n",
        "...\n",
        "81 82 *  84 85 *  87 88 *  * \n",
        "*  *  *  *  *  *  *  *  *  100\n",
        "```\n"
      ],
      "metadata": {
        "id": "_EUim0BNtBkH"
      }
    },
    {
      "cell_type": "code",
      "source": [
        "for n in range(1, 101):\n",
        "    if (n % 10 == 3) or (n % 10 == 6) or (n % 10 == 9):\n",
        "        # 10으로 나눈 나머지는 1의 자리 숫자:\n",
        "        # 1의 자리 숫자가 3 또는 6 또는 9 이면\n",
        "        print('*', end='\\t')\n",
        "    elif (n // 10 == 3) or (n // 10 == 6) or (n // 10 == 9):\n",
        "        # 10으로 나눈 몫은 10의 자리 숫자:\n",
        "        # 10의 자리 숫자가 3 또는 6 또는 9 이면\n",
        "        print('*', end='\\t')\n",
        "    else:\n",
        "        print(n, end='\\t')\n",
        "    if n % 10 == 0:\n",
        "        print()"
      ],
      "metadata": {
        "colab": {
          "base_uri": "https://localhost:8080/"
        },
        "id": "PSNLT-ci-QEb",
        "outputId": "105c4682-afbe-4f4c-f892-1488e8e74456"
      },
      "execution_count": 50,
      "outputs": [
        {
          "output_type": "stream",
          "name": "stdout",
          "text": [
            "1\t2\t*\t4\t5\t*\t7\t8\t*\t10\t\n",
            "11\t12\t*\t14\t15\t*\t17\t18\t*\t20\t\n",
            "21\t22\t*\t24\t25\t*\t27\t28\t*\t*\t\n",
            "*\t*\t*\t*\t*\t*\t*\t*\t*\t40\t\n",
            "41\t42\t*\t44\t45\t*\t47\t48\t*\t50\t\n",
            "51\t52\t*\t54\t55\t*\t57\t58\t*\t*\t\n",
            "*\t*\t*\t*\t*\t*\t*\t*\t*\t70\t\n",
            "71\t72\t*\t74\t75\t*\t77\t78\t*\t80\t\n",
            "81\t82\t*\t84\t85\t*\t87\t88\t*\t*\t\n",
            "*\t*\t*\t*\t*\t*\t*\t*\t*\t100\t\n"
          ]
        }
      ]
    },
    {
      "cell_type": "code",
      "source": [
        "for n in range(1, 101):\n",
        "    n_str = str(n)  # 명시적 타입 변환: 정수 -> 문자열 변환\n",
        "    if ('3' in n_str) or ('6' in n_str) or ('9' in n_str):\n",
        "        print('*', end='\\t')\n",
        "    else:\n",
        "        print(n, end='\\t')\n",
        "    if n % 10 == 0:\n",
        "        print()"
      ],
      "metadata": {
        "colab": {
          "base_uri": "https://localhost:8080/"
        },
        "id": "8SlufwERDADE",
        "outputId": "88683dc6-4915-48df-dfe3-289e502ce0e8"
      },
      "execution_count": 59,
      "outputs": [
        {
          "output_type": "stream",
          "name": "stdout",
          "text": [
            "1\t2\t*\t4\t5\t*\t7\t8\t*\t10\t\n",
            "11\t12\t*\t14\t15\t*\t17\t18\t*\t20\t\n",
            "21\t22\t*\t24\t25\t*\t27\t28\t*\t*\t\n",
            "*\t*\t*\t*\t*\t*\t*\t*\t*\t40\t\n",
            "41\t42\t*\t44\t45\t*\t47\t48\t*\t50\t\n",
            "51\t52\t*\t54\t55\t*\t57\t58\t*\t*\t\n",
            "*\t*\t*\t*\t*\t*\t*\t*\t*\t70\t\n",
            "71\t72\t*\t74\t75\t*\t77\t78\t*\t80\t\n",
            "81\t82\t*\t84\t85\t*\t87\t88\t*\t*\t\n",
            "*\t*\t*\t*\t*\t*\t*\t*\t*\t100\t\n"
          ]
        }
      ]
    }
  ]
}