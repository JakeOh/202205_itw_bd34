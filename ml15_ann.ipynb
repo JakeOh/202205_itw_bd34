{
  "nbformat": 4,
  "nbformat_minor": 0,
  "metadata": {
    "colab": {
      "name": "ml15_ann.ipynb",
      "provenance": [],
      "collapsed_sections": [],
      "authorship_tag": "ABX9TyOQNyoeZlOmYqn5LVMwvsjv",
      "include_colab_link": true
    },
    "kernelspec": {
      "name": "python3",
      "display_name": "Python 3"
    },
    "language_info": {
      "name": "python"
    },
    "accelerator": "GPU",
    "gpuClass": "standard"
  },
  "cells": [
    {
      "cell_type": "markdown",
      "metadata": {
        "id": "view-in-github",
        "colab_type": "text"
      },
      "source": [
        "<a href=\"https://colab.research.google.com/github/JakeOh/202205_itw_bd34/blob/main/ml15_ann.ipynb\" target=\"_parent\"><img src=\"https://colab.research.google.com/assets/colab-badge.svg\" alt=\"Open In Colab\"/></a>"
      ]
    },
    {
      "cell_type": "markdown",
      "source": [
        "ANN(Artificial Neural Network, 인공 신경망)"
      ],
      "metadata": {
        "id": "KTWSZ9oK2MGt"
      }
    },
    {
      "cell_type": "markdown",
      "source": [
        "# Imports"
      ],
      "metadata": {
        "id": "O41NHIOC2MD-"
      }
    },
    {
      "cell_type": "code",
      "execution_count": 1,
      "metadata": {
        "id": "yn_Y4s0x2E72"
      },
      "outputs": [],
      "source": [
        "import numpy as np\n",
        "import matplotlib.pyplot as plt\n",
        "\n",
        "# scikit-learn\n",
        "from sklearn import datasets\n",
        "from sklearn.linear_model import SGDClassifier\n",
        "from sklearn.model_selection import cross_validate, train_test_split\n",
        "\n",
        "# tensorflow, keras\n",
        "import tensorflow as tf\n",
        "from tensorflow import keras"
      ]
    },
    {
      "cell_type": "code",
      "source": [
        "tf.__version__  # Google Colab에 설치된 Tensorflow 버전"
      ],
      "metadata": {
        "colab": {
          "base_uri": "https://localhost:8080/",
          "height": 36
        },
        "id": "zM8tZjvE6iH-",
        "outputId": "4cff4fbb-0be0-49fe-8520-252ef283bbe1"
      },
      "execution_count": 2,
      "outputs": [
        {
          "output_type": "execute_result",
          "data": {
            "text/plain": [
              "'2.8.2'"
            ],
            "application/vnd.google.colaboratory.intrinsic+json": {
              "type": "string"
            }
          },
          "metadata": {},
          "execution_count": 2
        }
      ]
    },
    {
      "cell_type": "code",
      "source": [
        "keras.__version__  # Google Colab의 Keras 버전"
      ],
      "metadata": {
        "colab": {
          "base_uri": "https://localhost:8080/",
          "height": 36
        },
        "id": "vKnYcei76p6u",
        "outputId": "f7b7a7de-6d10-4a0a-846a-9c6ab5c89b6a"
      },
      "execution_count": 3,
      "outputs": [
        {
          "output_type": "execute_result",
          "data": {
            "text/plain": [
              "'2.8.0'"
            ],
            "application/vnd.google.colaboratory.intrinsic+json": {
              "type": "string"
            }
          },
          "metadata": {},
          "execution_count": 3
        }
      ]
    },
    {
      "cell_type": "markdown",
      "source": [
        "# Iris 데이터 셋"
      ],
      "metadata": {
        "id": "wnPG0jSI-kJg"
      }
    },
    {
      "cell_type": "code",
      "source": [
        "data, target = datasets.load_iris(return_X_y=True)"
      ],
      "metadata": {
        "id": "RI83dLPq-mCe"
      },
      "execution_count": 4,
      "outputs": []
    },
    {
      "cell_type": "code",
      "source": [
        "data[:5]"
      ],
      "metadata": {
        "colab": {
          "base_uri": "https://localhost:8080/"
        },
        "id": "PqCSq_Sa-wJt",
        "outputId": "2e7f1b20-83d1-454c-f7db-b750c162c123"
      },
      "execution_count": 5,
      "outputs": [
        {
          "output_type": "execute_result",
          "data": {
            "text/plain": [
              "array([[5.1, 3.5, 1.4, 0.2],\n",
              "       [4.9, 3. , 1.4, 0.2],\n",
              "       [4.7, 3.2, 1.3, 0.2],\n",
              "       [4.6, 3.1, 1.5, 0.2],\n",
              "       [5. , 3.6, 1.4, 0.2]])"
            ]
          },
          "metadata": {},
          "execution_count": 5
        }
      ]
    },
    {
      "cell_type": "code",
      "source": [
        "target[:5]"
      ],
      "metadata": {
        "colab": {
          "base_uri": "https://localhost:8080/"
        },
        "id": "5g6jpz5D-yZN",
        "outputId": "a02f2e6d-433d-4829-a3e5-982b6ddeaa93"
      },
      "execution_count": 6,
      "outputs": [
        {
          "output_type": "execute_result",
          "data": {
            "text/plain": [
              "array([0, 0, 0, 0, 0])"
            ]
          },
          "metadata": {},
          "execution_count": 6
        }
      ]
    },
    {
      "cell_type": "markdown",
      "source": [
        "## petal_length, petal_width 변수만 선택한 이진 분류"
      ],
      "metadata": {
        "id": "6Gu25j7p_AL2"
      }
    },
    {
      "cell_type": "code",
      "source": [
        "X = data[:, 2:].copy()\n",
        "y = (target != 0).astype('int')"
      ],
      "metadata": {
        "id": "vtdXgdqB-zgN"
      },
      "execution_count": 7,
      "outputs": []
    },
    {
      "cell_type": "code",
      "source": [
        "X[:5]"
      ],
      "metadata": {
        "colab": {
          "base_uri": "https://localhost:8080/"
        },
        "id": "U1GSfCm6_nj-",
        "outputId": "738a5a0f-d1f6-4573-efae-c3b22912d28e"
      },
      "execution_count": 8,
      "outputs": [
        {
          "output_type": "execute_result",
          "data": {
            "text/plain": [
              "array([[1.4, 0.2],\n",
              "       [1.4, 0.2],\n",
              "       [1.3, 0.2],\n",
              "       [1.5, 0.2],\n",
              "       [1.4, 0.2]])"
            ]
          },
          "metadata": {},
          "execution_count": 8
        }
      ]
    },
    {
      "cell_type": "code",
      "source": [
        "y"
      ],
      "metadata": {
        "colab": {
          "base_uri": "https://localhost:8080/"
        },
        "id": "mRNKaUje_qRV",
        "outputId": "c7b3f8cb-8375-4d3f-ec2d-3264993872e1"
      },
      "execution_count": 9,
      "outputs": [
        {
          "output_type": "execute_result",
          "data": {
            "text/plain": [
              "array([0, 0, 0, 0, 0, 0, 0, 0, 0, 0, 0, 0, 0, 0, 0, 0, 0, 0, 0, 0, 0, 0,\n",
              "       0, 0, 0, 0, 0, 0, 0, 0, 0, 0, 0, 0, 0, 0, 0, 0, 0, 0, 0, 0, 0, 0,\n",
              "       0, 0, 0, 0, 0, 0, 1, 1, 1, 1, 1, 1, 1, 1, 1, 1, 1, 1, 1, 1, 1, 1,\n",
              "       1, 1, 1, 1, 1, 1, 1, 1, 1, 1, 1, 1, 1, 1, 1, 1, 1, 1, 1, 1, 1, 1,\n",
              "       1, 1, 1, 1, 1, 1, 1, 1, 1, 1, 1, 1, 1, 1, 1, 1, 1, 1, 1, 1, 1, 1,\n",
              "       1, 1, 1, 1, 1, 1, 1, 1, 1, 1, 1, 1, 1, 1, 1, 1, 1, 1, 1, 1, 1, 1,\n",
              "       1, 1, 1, 1, 1, 1, 1, 1, 1, 1, 1, 1, 1, 1, 1, 1, 1, 1])"
            ]
          },
          "metadata": {},
          "execution_count": 9
        }
      ]
    },
    {
      "cell_type": "markdown",
      "source": [
        "## SGD Classifier"
      ],
      "metadata": {
        "id": "wl8TvsNV__hf"
      }
    },
    {
      "cell_type": "code",
      "source": [
        "sgd = SGDClassifier(loss='log', max_iter=10,\n",
        "                    n_jobs=-1, random_state=42)"
      ],
      "metadata": {
        "id": "33djN8vw_toO"
      },
      "execution_count": 10,
      "outputs": []
    },
    {
      "cell_type": "code",
      "source": [
        "sgd.fit(X, y)"
      ],
      "metadata": {
        "colab": {
          "base_uri": "https://localhost:8080/"
        },
        "id": "9G_bLY3N_w4l",
        "outputId": "10dae05c-db2d-464c-b313-69fd9bc3c007"
      },
      "execution_count": 11,
      "outputs": [
        {
          "output_type": "execute_result",
          "data": {
            "text/plain": [
              "SGDClassifier(loss='log', max_iter=10, n_jobs=-1, random_state=42)"
            ]
          },
          "metadata": {},
          "execution_count": 11
        }
      ]
    },
    {
      "cell_type": "code",
      "source": [
        "sgd.coef_"
      ],
      "metadata": {
        "colab": {
          "base_uri": "https://localhost:8080/"
        },
        "id": "KrTRFJZ3AazG",
        "outputId": "bfb8b1af-b90a-4e64-fedb-aa5432bb72ab"
      },
      "execution_count": 12,
      "outputs": [
        {
          "output_type": "execute_result",
          "data": {
            "text/plain": [
              "array([[9.29310825, 9.5046378 ]])"
            ]
          },
          "metadata": {},
          "execution_count": 12
        }
      ]
    },
    {
      "cell_type": "code",
      "source": [
        "sgd.intercept_"
      ],
      "metadata": {
        "colab": {
          "base_uri": "https://localhost:8080/"
        },
        "id": "z4hqPP5fAhun",
        "outputId": "74a53371-2bf3-4155-ad88-06adc2778c72"
      },
      "execution_count": 13,
      "outputs": [
        {
          "output_type": "execute_result",
          "data": {
            "text/plain": [
              "array([-33.65502003])"
            ]
          },
          "metadata": {},
          "execution_count": 13
        }
      ]
    },
    {
      "cell_type": "code",
      "source": [
        "pred_prob = sgd.predict_proba(X)\n",
        "pred_prob[:5]"
      ],
      "metadata": {
        "colab": {
          "base_uri": "https://localhost:8080/"
        },
        "id": "OT5XYJQBAjJl",
        "outputId": "6bcb9c58-8d00-4be6-d9e3-9282b209b242"
      },
      "execution_count": 14,
      "outputs": [
        {
          "output_type": "execute_result",
          "data": {
            "text/plain": [
              "array([[9.99999993e-01, 7.23930287e-09],\n",
              "       [9.99999993e-01, 7.23930287e-09],\n",
              "       [9.99999997e-01, 2.85826298e-09],\n",
              "       [9.99999982e-01, 1.83354387e-08],\n",
              "       [9.99999993e-01, 7.23930287e-09]])"
            ]
          },
          "metadata": {},
          "execution_count": 14
        }
      ]
    },
    {
      "cell_type": "code",
      "source": [
        "pred = sgd.predict(X)\n",
        "pred[:5]"
      ],
      "metadata": {
        "colab": {
          "base_uri": "https://localhost:8080/"
        },
        "id": "TDd-NhDjB134",
        "outputId": "da51935e-2157-41bd-cdc4-4499e81bd573"
      },
      "execution_count": 15,
      "outputs": [
        {
          "output_type": "execute_result",
          "data": {
            "text/plain": [
              "array([0, 0, 0, 0, 0])"
            ]
          },
          "metadata": {},
          "execution_count": 15
        }
      ]
    },
    {
      "cell_type": "code",
      "source": [
        "np.mean(y == pred)"
      ],
      "metadata": {
        "colab": {
          "base_uri": "https://localhost:8080/"
        },
        "id": "QipRn3plCE0W",
        "outputId": "2b1e8aa6-af61-4033-f761-1efc5741a592"
      },
      "execution_count": 16,
      "outputs": [
        {
          "output_type": "execute_result",
          "data": {
            "text/plain": [
              "1.0"
            ]
          },
          "metadata": {},
          "execution_count": 16
        }
      ]
    },
    {
      "cell_type": "markdown",
      "source": [
        "## Neural Network"
      ],
      "metadata": {
        "id": "6Y1lbvP5CpDH"
      }
    },
    {
      "cell_type": "code",
      "source": [
        "# 신경망 모델 생성\n",
        "model = keras.Sequential(layers=[keras.layers.Dense(units=1,\n",
        "                                                    activation='sigmoid',\n",
        "                                                    input_shape=(2,))],\n",
        "                         name='iris_binary_single_layer')"
      ],
      "metadata": {
        "id": "gB1WBm5oCst-"
      },
      "execution_count": 17,
      "outputs": []
    },
    {
      "cell_type": "code",
      "source": [
        "# 신경망 모델 요약 정보: layers, parameters\n",
        "model.summary()"
      ],
      "metadata": {
        "colab": {
          "base_uri": "https://localhost:8080/"
        },
        "id": "EGAE2nR7E1bV",
        "outputId": "91098b6f-2e66-4b03-98e1-e945676a1ca3"
      },
      "execution_count": 18,
      "outputs": [
        {
          "output_type": "stream",
          "name": "stdout",
          "text": [
            "Model: \"iris_binary_single_layer\"\n",
            "_________________________________________________________________\n",
            " Layer (type)                Output Shape              Param #   \n",
            "=================================================================\n",
            " dense (Dense)               (None, 1)                 3         \n",
            "                                                                 \n",
            "=================================================================\n",
            "Total params: 3\n",
            "Trainable params: 3\n",
            "Non-trainable params: 0\n",
            "_________________________________________________________________\n"
          ]
        }
      ]
    },
    {
      "cell_type": "code",
      "source": [
        "# 신경망 모델 컴파일: optimizer(훈련 방식), loss(손실 함수), metrics(평가 점수 함수) 설정\n",
        "model.compile(optimizer='sgd', \n",
        "              loss=keras.losses.binary_crossentropy,\n",
        "              metrics=keras.metrics.binary_accuracy)"
      ],
      "metadata": {
        "id": "R8jrPiBAE8yO"
      },
      "execution_count": 19,
      "outputs": []
    },
    {
      "cell_type": "code",
      "source": [
        "# 신경망 훈련\n",
        "model.fit(X, y, epochs=10, batch_size=1)"
      ],
      "metadata": {
        "colab": {
          "base_uri": "https://localhost:8080/"
        },
        "id": "wITsjk8tHQ2e",
        "outputId": "e36ef3ff-8731-4c56-e979-ed6b76f1e5c0"
      },
      "execution_count": 20,
      "outputs": [
        {
          "output_type": "stream",
          "name": "stdout",
          "text": [
            "Epoch 1/10\n",
            "150/150 [==============================] - 3s 2ms/step - loss: 0.5041 - binary_accuracy: 0.6667\n",
            "Epoch 2/10\n",
            "150/150 [==============================] - 0s 2ms/step - loss: 0.3303 - binary_accuracy: 0.6733\n",
            "Epoch 3/10\n",
            "150/150 [==============================] - 0s 2ms/step - loss: 0.2935 - binary_accuracy: 0.8467\n",
            "Epoch 4/10\n",
            "150/150 [==============================] - 0s 2ms/step - loss: 0.2739 - binary_accuracy: 0.9267\n",
            "Epoch 5/10\n",
            "150/150 [==============================] - 0s 2ms/step - loss: 0.2565 - binary_accuracy: 0.9533\n",
            "Epoch 6/10\n",
            "150/150 [==============================] - 0s 2ms/step - loss: 0.2409 - binary_accuracy: 0.9800\n",
            "Epoch 7/10\n",
            "150/150 [==============================] - 0s 2ms/step - loss: 0.2268 - binary_accuracy: 0.9867\n",
            "Epoch 8/10\n",
            "150/150 [==============================] - 0s 2ms/step - loss: 0.2142 - binary_accuracy: 0.9933\n",
            "Epoch 9/10\n",
            "150/150 [==============================] - 0s 2ms/step - loss: 0.2027 - binary_accuracy: 0.9933\n",
            "Epoch 10/10\n",
            "150/150 [==============================] - 0s 2ms/step - loss: 0.1924 - binary_accuracy: 1.0000\n"
          ]
        },
        {
          "output_type": "execute_result",
          "data": {
            "text/plain": [
              "<keras.callbacks.History at 0x7f06a01d3110>"
            ]
          },
          "metadata": {},
          "execution_count": 20
        }
      ]
    },
    {
      "cell_type": "code",
      "source": [
        "model.weights"
      ],
      "metadata": {
        "colab": {
          "base_uri": "https://localhost:8080/"
        },
        "id": "AdnCzNXHHslo",
        "outputId": "be0b0cd3-4ed2-4a9b-ec0b-5eba16a00159"
      },
      "execution_count": 21,
      "outputs": [
        {
          "output_type": "execute_result",
          "data": {
            "text/plain": [
              "[<tf.Variable 'dense/kernel:0' shape=(2, 1) dtype=float32, numpy=\n",
              " array([[0.48115423],\n",
              "        [1.4339734 ]], dtype=float32)>,\n",
              " <tf.Variable 'dense/bias:0' shape=(1,) dtype=float32, numpy=array([-1.7035384], dtype=float32)>]"
            ]
          },
          "metadata": {},
          "execution_count": 21
        }
      ]
    },
    {
      "cell_type": "code",
      "source": [
        "pred = model.predict(X)  # 이진 분류에서 predict()는 양성(1)이 될 확률\n",
        "pred.shape"
      ],
      "metadata": {
        "colab": {
          "base_uri": "https://localhost:8080/"
        },
        "id": "e6S4OsRTIeIW",
        "outputId": "41d76023-eea8-4c5a-8720-1e58a4c5cc54"
      },
      "execution_count": 22,
      "outputs": [
        {
          "output_type": "execute_result",
          "data": {
            "text/plain": [
              "(150, 1)"
            ]
          },
          "metadata": {},
          "execution_count": 22
        }
      ]
    },
    {
      "cell_type": "code",
      "source": [
        "pred[:5]"
      ],
      "metadata": {
        "colab": {
          "base_uri": "https://localhost:8080/"
        },
        "id": "zUsF_mbwRYVm",
        "outputId": "03acd141-9737-4d0f-c132-a16541100d46"
      },
      "execution_count": 23,
      "outputs": [
        {
          "output_type": "execute_result",
          "data": {
            "text/plain": [
              "array([[0.32232055],\n",
              "       [0.32232055],\n",
              "       [0.31190178],\n",
              "       [0.33291897],\n",
              "       [0.32232055]], dtype=float32)"
            ]
          },
          "metadata": {},
          "execution_count": 23
        }
      ]
    },
    {
      "cell_type": "code",
      "source": [
        "# 예측값(0 또는 1)을 계산하기 위해서는 확률 > 0.5 비교해야 함.\n",
        "pred_label = (pred > 0.5).astype('int').reshape((-1,))\n",
        "pred_label"
      ],
      "metadata": {
        "colab": {
          "base_uri": "https://localhost:8080/"
        },
        "id": "SxC1aeY1Sb4o",
        "outputId": "0f14f5b5-a121-45c0-9249-dc0747315489"
      },
      "execution_count": 24,
      "outputs": [
        {
          "output_type": "execute_result",
          "data": {
            "text/plain": [
              "array([0, 0, 0, 0, 0, 0, 0, 0, 0, 0, 0, 0, 0, 0, 0, 0, 0, 0, 0, 0, 0, 0,\n",
              "       0, 0, 0, 0, 0, 0, 0, 0, 0, 0, 0, 0, 0, 0, 0, 0, 0, 0, 0, 0, 0, 0,\n",
              "       0, 0, 0, 0, 0, 0, 1, 1, 1, 1, 1, 1, 1, 1, 1, 1, 1, 1, 1, 1, 1, 1,\n",
              "       1, 1, 1, 1, 1, 1, 1, 1, 1, 1, 1, 1, 1, 1, 1, 1, 1, 1, 1, 1, 1, 1,\n",
              "       1, 1, 1, 1, 1, 1, 1, 1, 1, 1, 1, 1, 1, 1, 1, 1, 1, 1, 1, 1, 1, 1,\n",
              "       1, 1, 1, 1, 1, 1, 1, 1, 1, 1, 1, 1, 1, 1, 1, 1, 1, 1, 1, 1, 1, 1,\n",
              "       1, 1, 1, 1, 1, 1, 1, 1, 1, 1, 1, 1, 1, 1, 1, 1, 1, 1])"
            ]
          },
          "metadata": {},
          "execution_count": 24
        }
      ]
    },
    {
      "cell_type": "code",
      "source": [
        "np.mean(y == pred_label)  # 정확도: 실젯값과 예측값 비교"
      ],
      "metadata": {
        "colab": {
          "base_uri": "https://localhost:8080/"
        },
        "id": "JzfkaxjHS7DH",
        "outputId": "71abee5e-30eb-4377-fe04-a26e3cbda7fc"
      },
      "execution_count": 25,
      "outputs": [
        {
          "output_type": "execute_result",
          "data": {
            "text/plain": [
              "1.0"
            ]
          },
          "metadata": {},
          "execution_count": 25
        }
      ]
    },
    {
      "cell_type": "markdown",
      "source": [
        "## 모든 변수(sl, sw, pl, pw)를 사용한 이진 분류"
      ],
      "metadata": {
        "id": "M3bApUTXTn6O"
      }
    },
    {
      "cell_type": "code",
      "source": [
        "X = data.copy()"
      ],
      "metadata": {
        "id": "QFAXk_oMTfD1"
      },
      "execution_count": 26,
      "outputs": []
    },
    {
      "cell_type": "markdown",
      "source": [
        "### SGD"
      ],
      "metadata": {
        "id": "6QTEgCgvT62v"
      }
    },
    {
      "cell_type": "code",
      "source": [
        "sgd = SGDClassifier(loss='log', max_iter=10,\n",
        "                    n_jobs=-1, random_state=42)"
      ],
      "metadata": {
        "id": "cV4rfEyRT7zm"
      },
      "execution_count": 27,
      "outputs": []
    },
    {
      "cell_type": "code",
      "source": [
        "sgd.fit(X, y)"
      ],
      "metadata": {
        "colab": {
          "base_uri": "https://localhost:8080/"
        },
        "id": "pqr7-ksQUGfO",
        "outputId": "51863fdb-c0f9-4259-c4d6-49cfaca80af7"
      },
      "execution_count": 28,
      "outputs": [
        {
          "output_type": "execute_result",
          "data": {
            "text/plain": [
              "SGDClassifier(loss='log', max_iter=10, n_jobs=-1, random_state=42)"
            ]
          },
          "metadata": {},
          "execution_count": 28
        }
      ]
    },
    {
      "cell_type": "code",
      "source": [
        "sgd.coef_, sgd.intercept_"
      ],
      "metadata": {
        "colab": {
          "base_uri": "https://localhost:8080/"
        },
        "id": "MlYVkg9aImPf",
        "outputId": "0996efb5-57ef-4b8d-e16d-a29bbc270fe6"
      },
      "execution_count": 35,
      "outputs": [
        {
          "output_type": "execute_result",
          "data": {
            "text/plain": [
              "(array([[ -7.56466569, -26.11029771,  43.43582235,  20.74182528]]),\n",
              " array([-14.82209562]))"
            ]
          },
          "metadata": {},
          "execution_count": 35
        }
      ]
    },
    {
      "cell_type": "code",
      "source": [
        "pred = sgd.predict(X)  # 예측값(0 또는 1)"
      ],
      "metadata": {
        "id": "39bDSPcMUOje"
      },
      "execution_count": 29,
      "outputs": []
    },
    {
      "cell_type": "code",
      "source": [
        "np.mean(y == pred)"
      ],
      "metadata": {
        "colab": {
          "base_uri": "https://localhost:8080/"
        },
        "id": "RrB2MUcRUXqt",
        "outputId": "2eeef452-97ab-4986-f7a4-37fa806e282c"
      },
      "execution_count": 30,
      "outputs": [
        {
          "output_type": "execute_result",
          "data": {
            "text/plain": [
              "1.0"
            ]
          },
          "metadata": {},
          "execution_count": 30
        }
      ]
    },
    {
      "cell_type": "markdown",
      "source": [
        "### 신경망"
      ],
      "metadata": {
        "id": "vmbx2t4NUg1-"
      }
    },
    {
      "cell_type": "code",
      "source": [
        "model = keras.Sequential(layers=[keras.layers.Dense(units=1,\n",
        "                                                    activation='sigmoid',\n",
        "                                                    input_shape=(4,))])"
      ],
      "metadata": {
        "id": "kWfnc8jCUabF"
      },
      "execution_count": 31,
      "outputs": []
    },
    {
      "cell_type": "code",
      "source": [
        "model.summary()"
      ],
      "metadata": {
        "colab": {
          "base_uri": "https://localhost:8080/"
        },
        "id": "dWmzOjmHVh5H",
        "outputId": "29dd338e-da35-4767-bf22-670a2bcd9fd1"
      },
      "execution_count": 32,
      "outputs": [
        {
          "output_type": "stream",
          "name": "stdout",
          "text": [
            "Model: \"sequential\"\n",
            "_________________________________________________________________\n",
            " Layer (type)                Output Shape              Param #   \n",
            "=================================================================\n",
            " dense_1 (Dense)             (None, 1)                 5         \n",
            "                                                                 \n",
            "=================================================================\n",
            "Total params: 5\n",
            "Trainable params: 5\n",
            "Non-trainable params: 0\n",
            "_________________________________________________________________\n"
          ]
        }
      ]
    },
    {
      "cell_type": "code",
      "source": [
        "model.compile(optimizer=keras.optimizers.SGD(),\n",
        "              loss=keras.losses.binary_crossentropy,\n",
        "              metrics=keras.metrics.binary_accuracy)"
      ],
      "metadata": {
        "id": "1mkNyE5YVjl-"
      },
      "execution_count": 33,
      "outputs": []
    },
    {
      "cell_type": "code",
      "source": [
        "model.fit(X, y, batch_size=1, epochs=10)"
      ],
      "metadata": {
        "colab": {
          "base_uri": "https://localhost:8080/"
        },
        "id": "MO-OXzz3WjYw",
        "outputId": "3b543107-14f0-47ab-fe22-227aeb4bdef7"
      },
      "execution_count": 34,
      "outputs": [
        {
          "output_type": "stream",
          "name": "stdout",
          "text": [
            "Epoch 1/10\n",
            "150/150 [==============================] - 1s 2ms/step - loss: 0.8471 - binary_accuracy: 0.6467\n",
            "Epoch 2/10\n",
            "150/150 [==============================] - 0s 2ms/step - loss: 0.3228 - binary_accuracy: 0.8800\n",
            "Epoch 3/10\n",
            "150/150 [==============================] - 0s 2ms/step - loss: 0.1834 - binary_accuracy: 1.0000\n",
            "Epoch 4/10\n",
            "150/150 [==============================] - 0s 2ms/step - loss: 0.1250 - binary_accuracy: 1.0000\n",
            "Epoch 5/10\n",
            "150/150 [==============================] - 0s 2ms/step - loss: 0.0972 - binary_accuracy: 1.0000\n",
            "Epoch 6/10\n",
            "150/150 [==============================] - 0s 2ms/step - loss: 0.0782 - binary_accuracy: 1.0000\n",
            "Epoch 7/10\n",
            "150/150 [==============================] - 0s 2ms/step - loss: 0.0663 - binary_accuracy: 1.0000\n",
            "Epoch 8/10\n",
            "150/150 [==============================] - 0s 2ms/step - loss: 0.0573 - binary_accuracy: 1.0000\n",
            "Epoch 9/10\n",
            "150/150 [==============================] - 0s 2ms/step - loss: 0.0510 - binary_accuracy: 1.0000\n",
            "Epoch 10/10\n",
            "150/150 [==============================] - 0s 2ms/step - loss: 0.0456 - binary_accuracy: 1.0000\n"
          ]
        },
        {
          "output_type": "execute_result",
          "data": {
            "text/plain": [
              "<keras.callbacks.History at 0x7f06a027d2d0>"
            ]
          },
          "metadata": {},
          "execution_count": 34
        }
      ]
    },
    {
      "cell_type": "code",
      "source": [
        "# 신경망이 학습 데이터를 훈련하면 가중치들을 찾음.\n",
        "model.weights"
      ],
      "metadata": {
        "id": "h_OBa6xHWqWF",
        "colab": {
          "base_uri": "https://localhost:8080/"
        },
        "outputId": "aa7a0979-63f0-4614-b9b7-db082ecb917f"
      },
      "execution_count": 36,
      "outputs": [
        {
          "output_type": "execute_result",
          "data": {
            "text/plain": [
              "[<tf.Variable 'dense_1/kernel:0' shape=(4, 1) dtype=float32, numpy=\n",
              " array([[-0.18837994],\n",
              "        [-1.1131188 ],\n",
              "        [ 1.5116737 ],\n",
              "        [ 0.99822456]], dtype=float32)>,\n",
              " <tf.Variable 'dense_1/bias:0' shape=(1,) dtype=float32, numpy=array([-0.37639856], dtype=float32)>]"
            ]
          },
          "metadata": {},
          "execution_count": 36
        }
      ]
    },
    {
      "cell_type": "code",
      "source": [
        "pred = model.predict(X)\n",
        "pred[:5]"
      ],
      "metadata": {
        "colab": {
          "base_uri": "https://localhost:8080/"
        },
        "id": "LHZUAtDjKKHn",
        "outputId": "dce4cba2-11d9-48ef-cd11-79b7f140a379"
      },
      "execution_count": 37,
      "outputs": [
        {
          "output_type": "execute_result",
          "data": {
            "text/plain": [
              "array([[0.05131645],\n",
              "       [0.08924986],\n",
              "       [0.06543989],\n",
              "       [0.0973995 ],\n",
              "       [0.04699684]], dtype=float32)"
            ]
          },
          "metadata": {},
          "execution_count": 37
        }
      ]
    },
    {
      "cell_type": "code",
      "source": [
        "pred_label = (pred > 0.5).astype('int').reshape((-1,))\n",
        "pred_label[:5]"
      ],
      "metadata": {
        "colab": {
          "base_uri": "https://localhost:8080/"
        },
        "id": "5Be9SjEtK6oQ",
        "outputId": "f1183a6a-9dbd-42aa-8549-d0cd141bfb85"
      },
      "execution_count": 40,
      "outputs": [
        {
          "output_type": "execute_result",
          "data": {
            "text/plain": [
              "array([0, 0, 0, 0, 0])"
            ]
          },
          "metadata": {},
          "execution_count": 40
        }
      ]
    },
    {
      "cell_type": "code",
      "source": [
        "np.mean(y == pred_label)  # 훈련 셋 정확도"
      ],
      "metadata": {
        "colab": {
          "base_uri": "https://localhost:8080/"
        },
        "id": "PRO5FTPjLXFQ",
        "outputId": "97d09068-2d57-4cf1-c470-6a0bd510d20d"
      },
      "execution_count": 42,
      "outputs": [
        {
          "output_type": "execute_result",
          "data": {
            "text/plain": [
              "1.0"
            ]
          },
          "metadata": {},
          "execution_count": 42
        }
      ]
    },
    {
      "cell_type": "markdown",
      "source": [
        "## Iris 다중 클래스 분류"
      ],
      "metadata": {
        "id": "TQ_SBKIvP_D_"
      }
    },
    {
      "cell_type": "code",
      "source": [
        "data[:5]"
      ],
      "metadata": {
        "colab": {
          "base_uri": "https://localhost:8080/"
        },
        "id": "DiHRXU4sQCs_",
        "outputId": "0536f692-679a-49c7-c1e5-bc8bd2e450de"
      },
      "execution_count": 43,
      "outputs": [
        {
          "output_type": "execute_result",
          "data": {
            "text/plain": [
              "array([[5.1, 3.5, 1.4, 0.2],\n",
              "       [4.9, 3. , 1.4, 0.2],\n",
              "       [4.7, 3.2, 1.3, 0.2],\n",
              "       [4.6, 3.1, 1.5, 0.2],\n",
              "       [5. , 3.6, 1.4, 0.2]])"
            ]
          },
          "metadata": {},
          "execution_count": 43
        }
      ]
    },
    {
      "cell_type": "code",
      "source": [
        "target"
      ],
      "metadata": {
        "colab": {
          "base_uri": "https://localhost:8080/"
        },
        "id": "6yzAd9pqQIfg",
        "outputId": "d775e7c5-81b6-485f-cf38-facaa6f8080d"
      },
      "execution_count": 44,
      "outputs": [
        {
          "output_type": "execute_result",
          "data": {
            "text/plain": [
              "array([0, 0, 0, 0, 0, 0, 0, 0, 0, 0, 0, 0, 0, 0, 0, 0, 0, 0, 0, 0, 0, 0,\n",
              "       0, 0, 0, 0, 0, 0, 0, 0, 0, 0, 0, 0, 0, 0, 0, 0, 0, 0, 0, 0, 0, 0,\n",
              "       0, 0, 0, 0, 0, 0, 1, 1, 1, 1, 1, 1, 1, 1, 1, 1, 1, 1, 1, 1, 1, 1,\n",
              "       1, 1, 1, 1, 1, 1, 1, 1, 1, 1, 1, 1, 1, 1, 1, 1, 1, 1, 1, 1, 1, 1,\n",
              "       1, 1, 1, 1, 1, 1, 1, 1, 1, 1, 1, 1, 2, 2, 2, 2, 2, 2, 2, 2, 2, 2,\n",
              "       2, 2, 2, 2, 2, 2, 2, 2, 2, 2, 2, 2, 2, 2, 2, 2, 2, 2, 2, 2, 2, 2,\n",
              "       2, 2, 2, 2, 2, 2, 2, 2, 2, 2, 2, 2, 2, 2, 2, 2, 2, 2])"
            ]
          },
          "metadata": {},
          "execution_count": 44
        }
      ]
    },
    {
      "cell_type": "markdown",
      "source": [
        "### SGD classifier"
      ],
      "metadata": {
        "id": "RikuX5nkQODn"
      }
    },
    {
      "cell_type": "code",
      "source": [
        "sgd = SGDClassifier(loss='log', max_iter=10, n_jobs=-1, random_state=42)"
      ],
      "metadata": {
        "id": "xBrP9qf-QKCn"
      },
      "execution_count": 45,
      "outputs": []
    },
    {
      "cell_type": "code",
      "source": [
        "sgd.fit(X=data, y=target)"
      ],
      "metadata": {
        "colab": {
          "base_uri": "https://localhost:8080/"
        },
        "id": "O78w-yZaQpFI",
        "outputId": "fafba436-d88e-45fc-c0a3-fa0d3aa1bc18"
      },
      "execution_count": 46,
      "outputs": [
        {
          "output_type": "stream",
          "name": "stderr",
          "text": [
            "/usr/local/lib/python3.7/dist-packages/sklearn/linear_model/_stochastic_gradient.py:700: ConvergenceWarning: Maximum number of iteration reached before convergence. Consider increasing max_iter to improve the fit.\n",
            "  ConvergenceWarning,\n"
          ]
        },
        {
          "output_type": "execute_result",
          "data": {
            "text/plain": [
              "SGDClassifier(loss='log', max_iter=10, n_jobs=-1, random_state=42)"
            ]
          },
          "metadata": {},
          "execution_count": 46
        }
      ]
    },
    {
      "cell_type": "code",
      "source": [
        "sgd.coef_  # (n_classes, n_features)"
      ],
      "metadata": {
        "colab": {
          "base_uri": "https://localhost:8080/"
        },
        "id": "0tJBZxccQs3O",
        "outputId": "bdb8d4ac-2f06-468d-90f9-4dc3eb6adb79"
      },
      "execution_count": 47,
      "outputs": [
        {
          "output_type": "execute_result",
          "data": {
            "text/plain": [
              "array([[   7.32064421,   13.17715959,  -27.57442655,  -12.68911664],\n",
              "       [  51.85595122, -145.56864647,   40.12103144, -111.8071359 ],\n",
              "       [-122.62126983, -110.20331528,  189.91857208,  159.89458444]])"
            ]
          },
          "metadata": {},
          "execution_count": 47
        }
      ]
    },
    {
      "cell_type": "code",
      "source": [
        "sgd.intercept_"
      ],
      "metadata": {
        "colab": {
          "base_uri": "https://localhost:8080/"
        },
        "id": "xTX_ZKCNQ4rG",
        "outputId": "dcb70031-3c8b-4e6f-c7ce-87aece44afe4"
      },
      "execution_count": 48,
      "outputs": [
        {
          "output_type": "execute_result",
          "data": {
            "text/plain": [
              "array([   4.97012943,   87.73116955, -122.93221386])"
            ]
          },
          "metadata": {},
          "execution_count": 48
        }
      ]
    },
    {
      "cell_type": "code",
      "source": [
        "# 훈련 셋 예측 확률\n",
        "pred_prob = sgd.predict_proba(X=data)\n",
        "pred_prob[:5]"
      ],
      "metadata": {
        "colab": {
          "base_uri": "https://localhost:8080/"
        },
        "id": "2gEBHAXLQ7M3",
        "outputId": "07a5c5bd-81b4-444d-e8a6-2937c9239248"
      },
      "execution_count": 49,
      "outputs": [
        {
          "output_type": "execute_result",
          "data": {
            "text/plain": [
              "array([[1.00000000e+00, 2.34871875e-54, 0.00000000e+00],\n",
              "       [1.00000000e+00, 2.99578244e-27, 0.00000000e+00],\n",
              "       [1.00000000e+00, 3.85472447e-46, 0.00000000e+00],\n",
              "       [1.00000000e+00, 1.38277811e-38, 0.00000000e+00],\n",
              "       [1.00000000e+00, 6.26310478e-63, 0.00000000e+00]])"
            ]
          },
          "metadata": {},
          "execution_count": 49
        }
      ]
    },
    {
      "cell_type": "code",
      "source": [
        "pred_prob[-5:]"
      ],
      "metadata": {
        "colab": {
          "base_uri": "https://localhost:8080/"
        },
        "id": "rXLRm56_Tiaj",
        "outputId": "195a7e8f-e3ae-46f6-ba03-bfd89e0edc22"
      },
      "execution_count": 50,
      "outputs": [
        {
          "output_type": "execute_result",
          "data": {
            "text/plain": [
              "array([[4.79904210e-35, 1.80385537e-22, 1.00000000e+00],\n",
              "       [7.02140712e-35, 5.00000000e-01, 5.00000000e-01],\n",
              "       [4.99499990e-34, 2.08553589e-12, 1.00000000e+00],\n",
              "       [9.67207569e-37, 1.55894047e-55, 1.00000000e+00],\n",
              "       [1.23211445e-33, 5.96727101e-18, 1.00000000e+00]])"
            ]
          },
          "metadata": {},
          "execution_count": 50
        }
      ]
    },
    {
      "cell_type": "code",
      "source": [
        "np.argmax(pred_prob, axis=1)"
      ],
      "metadata": {
        "colab": {
          "base_uri": "https://localhost:8080/"
        },
        "id": "dZiSXwInUMy2",
        "outputId": "fac516be-070e-4467-adc0-6a09d19f0816"
      },
      "execution_count": 53,
      "outputs": [
        {
          "output_type": "execute_result",
          "data": {
            "text/plain": [
              "array([0, 0, 0, 0, 0, 0, 0, 0, 0, 0, 0, 0, 0, 0, 0, 0, 0, 0, 0, 0, 0, 0,\n",
              "       0, 0, 0, 0, 0, 0, 0, 0, 0, 0, 0, 0, 0, 0, 0, 0, 0, 0, 0, 0, 0, 0,\n",
              "       0, 0, 0, 0, 0, 0, 1, 1, 1, 1, 1, 1, 0, 1, 1, 1, 1, 1, 1, 1, 0, 1,\n",
              "       2, 1, 1, 1, 2, 1, 1, 1, 1, 1, 1, 1, 1, 1, 1, 1, 1, 2, 2, 0, 1, 1,\n",
              "       1, 1, 1, 1, 1, 1, 1, 1, 1, 1, 1, 1, 2, 2, 2, 2, 2, 1, 2, 1, 1, 2,\n",
              "       2, 2, 2, 2, 2, 2, 2, 2, 1, 1, 2, 2, 1, 2, 2, 2, 2, 2, 2, 1, 1, 2,\n",
              "       2, 1, 1, 1, 2, 2, 2, 2, 2, 2, 2, 2, 2, 2, 1, 2, 2, 2])"
            ]
          },
          "metadata": {},
          "execution_count": 53
        }
      ]
    },
    {
      "cell_type": "code",
      "source": [
        "pred_label = sgd.predict(X=data)\n",
        "pred_label"
      ],
      "metadata": {
        "colab": {
          "base_uri": "https://localhost:8080/"
        },
        "id": "bV4O_FWBTlam",
        "outputId": "65e94492-a4a8-4399-cf8f-bbe7412ec351"
      },
      "execution_count": 51,
      "outputs": [
        {
          "output_type": "execute_result",
          "data": {
            "text/plain": [
              "array([0, 0, 0, 0, 0, 0, 0, 0, 0, 0, 0, 0, 0, 0, 0, 0, 0, 0, 0, 0, 0, 0,\n",
              "       0, 0, 0, 0, 0, 0, 0, 0, 0, 0, 0, 0, 0, 0, 0, 0, 0, 0, 0, 0, 0, 0,\n",
              "       0, 0, 0, 0, 0, 0, 1, 1, 1, 1, 1, 1, 0, 1, 1, 1, 1, 1, 1, 1, 0, 1,\n",
              "       2, 1, 1, 1, 2, 1, 1, 1, 1, 1, 1, 1, 1, 1, 1, 1, 1, 2, 2, 0, 1, 1,\n",
              "       1, 1, 1, 1, 1, 1, 1, 1, 1, 1, 1, 1, 2, 2, 2, 2, 2, 2, 2, 2, 2, 2,\n",
              "       2, 2, 2, 2, 2, 2, 2, 2, 2, 1, 2, 2, 2, 2, 2, 2, 2, 2, 2, 1, 2, 2,\n",
              "       2, 1, 2, 2, 2, 2, 2, 2, 2, 2, 2, 2, 2, 2, 2, 2, 2, 2])"
            ]
          },
          "metadata": {},
          "execution_count": 51
        }
      ]
    },
    {
      "cell_type": "code",
      "source": [
        "np.mean(target == pred_label)"
      ],
      "metadata": {
        "colab": {
          "base_uri": "https://localhost:8080/"
        },
        "id": "gDsd1DMaT7fX",
        "outputId": "d4d58741-2a4d-480e-b36e-d2e33b47f418"
      },
      "execution_count": 52,
      "outputs": [
        {
          "output_type": "execute_result",
          "data": {
            "text/plain": [
              "0.9333333333333333"
            ]
          },
          "metadata": {},
          "execution_count": 52
        }
      ]
    },
    {
      "cell_type": "markdown",
      "source": [
        "### NN"
      ],
      "metadata": {
        "id": "fOwzx1YjWFq_"
      }
    },
    {
      "cell_type": "code",
      "source": [
        "model = keras.Sequential()\n",
        "model.add(keras.layers.Dense(units=3,\n",
        "                             activation=keras.activations.softmax,\n",
        "                             input_shape=(4,)))"
      ],
      "metadata": {
        "id": "m_lIDGiBUFgN"
      },
      "execution_count": 65,
      "outputs": []
    },
    {
      "cell_type": "code",
      "source": [
        "model.summary()"
      ],
      "metadata": {
        "colab": {
          "base_uri": "https://localhost:8080/"
        },
        "id": "xdGMNcUWY4Cm",
        "outputId": "0d1b4d2b-07c4-4366-f207-fece9c7f91d5"
      },
      "execution_count": 66,
      "outputs": [
        {
          "output_type": "stream",
          "name": "stdout",
          "text": [
            "Model: \"sequential_2\"\n",
            "_________________________________________________________________\n",
            " Layer (type)                Output Shape              Param #   \n",
            "=================================================================\n",
            " dense_3 (Dense)             (None, 3)                 15        \n",
            "                                                                 \n",
            "=================================================================\n",
            "Total params: 15\n",
            "Trainable params: 15\n",
            "Non-trainable params: 0\n",
            "_________________________________________________________________\n"
          ]
        }
      ]
    },
    {
      "cell_type": "code",
      "source": [
        "model.compile(optimizer=keras.optimizers.SGD(),\n",
        "              loss=keras.losses.sparse_categorical_crossentropy,\n",
        "              metrics=keras.metrics.sparse_categorical_accuracy)\n",
        "# optimizer='sgd', loss='sparse_categorical_crossentropy', metrics='...'"
      ],
      "metadata": {
        "id": "LSEy3NPaY59W"
      },
      "execution_count": 67,
      "outputs": []
    },
    {
      "cell_type": "code",
      "source": [
        "model.fit(x=data, y=target, batch_size=1, epochs=10)"
      ],
      "metadata": {
        "colab": {
          "base_uri": "https://localhost:8080/"
        },
        "id": "Lf7219kJZ68n",
        "outputId": "a4242898-13e0-4e34-fa48-8ad7ced02f07"
      },
      "execution_count": 68,
      "outputs": [
        {
          "output_type": "stream",
          "name": "stdout",
          "text": [
            "Epoch 1/10\n",
            "150/150 [==============================] - 0s 2ms/step - loss: 0.8465 - sparse_categorical_accuracy: 0.6667\n",
            "Epoch 2/10\n",
            "150/150 [==============================] - 0s 2ms/step - loss: 0.5546 - sparse_categorical_accuracy: 0.7867\n",
            "Epoch 3/10\n",
            "150/150 [==============================] - 0s 2ms/step - loss: 0.4781 - sparse_categorical_accuracy: 0.7933\n",
            "Epoch 4/10\n",
            "150/150 [==============================] - 0s 2ms/step - loss: 0.4412 - sparse_categorical_accuracy: 0.7867\n",
            "Epoch 5/10\n",
            "150/150 [==============================] - 0s 2ms/step - loss: 0.4153 - sparse_categorical_accuracy: 0.8400\n",
            "Epoch 6/10\n",
            "150/150 [==============================] - 0s 2ms/step - loss: 0.4148 - sparse_categorical_accuracy: 0.8067\n",
            "Epoch 7/10\n",
            "150/150 [==============================] - 0s 2ms/step - loss: 0.3863 - sparse_categorical_accuracy: 0.8400\n",
            "Epoch 8/10\n",
            "150/150 [==============================] - 0s 2ms/step - loss: 0.3659 - sparse_categorical_accuracy: 0.8333\n",
            "Epoch 9/10\n",
            "150/150 [==============================] - 0s 2ms/step - loss: 0.3574 - sparse_categorical_accuracy: 0.8667\n",
            "Epoch 10/10\n",
            "150/150 [==============================] - 0s 2ms/step - loss: 0.3355 - sparse_categorical_accuracy: 0.8867\n"
          ]
        },
        {
          "output_type": "execute_result",
          "data": {
            "text/plain": [
              "<keras.callbacks.History at 0x7f060b240290>"
            ]
          },
          "metadata": {},
          "execution_count": 68
        }
      ]
    },
    {
      "cell_type": "code",
      "source": [
        "# 신경망 모델이 훈련을 통해서 찾은 가중치: (n_inputs, n_units) & (n_units,)\n",
        "model.weights"
      ],
      "metadata": {
        "colab": {
          "base_uri": "https://localhost:8080/"
        },
        "id": "GNsozFU6amce",
        "outputId": "9dda7952-0d90-4695-ea13-0e743418c349"
      },
      "execution_count": 69,
      "outputs": [
        {
          "output_type": "execute_result",
          "data": {
            "text/plain": [
              "[<tf.Variable 'dense_3/kernel:0' shape=(4, 3) dtype=float32, numpy=\n",
              " array([[ 0.43337086,  0.36322987, -0.77960867],\n",
              "        [ 0.69662786, -0.72153366, -0.78999084],\n",
              "        [-1.1369903 ,  0.31952307,  1.4951575 ],\n",
              "        [-1.2023998 , -0.74803066,  0.9259775 ]], dtype=float32)>,\n",
              " <tf.Variable 'dense_3/bias:0' shape=(3,) dtype=float32, numpy=array([ 0.2039111 ,  0.17619413, -0.380105  ], dtype=float32)>]"
            ]
          },
          "metadata": {},
          "execution_count": 69
        }
      ]
    },
    {
      "cell_type": "code",
      "source": [
        "# 다중 클래스 분류 신경망 모델의 predict(): 각 클래스가 될 확률들\n",
        "pred = model.predict(x=data)"
      ],
      "metadata": {
        "id": "vBVnYCPpfYpu"
      },
      "execution_count": 70,
      "outputs": []
    },
    {
      "cell_type": "code",
      "source": [
        "pred[:5]"
      ],
      "metadata": {
        "colab": {
          "base_uri": "https://localhost:8080/"
        },
        "id": "P6jcsN_Ug8XW",
        "outputId": "2c8f0136-c570-49cc-abcc-0d78b1ff9fe2"
      },
      "execution_count": 71,
      "outputs": [
        {
          "output_type": "execute_result",
          "data": {
            "text/plain": [
              "array([[9.6118772e-01, 3.8442396e-02, 3.6989909e-04],\n",
              "       [9.2297441e-01, 7.6073624e-02, 9.5200160e-04],\n",
              "       [9.4772053e-01, 5.1568165e-02, 7.1129220e-04],\n",
              "       [9.2067242e-01, 7.7795371e-02, 1.5322866e-03],\n",
              "       [9.6588004e-01, 3.3758383e-02, 3.6167150e-04]], dtype=float32)"
            ]
          },
          "metadata": {},
          "execution_count": 71
        }
      ]
    },
    {
      "cell_type": "code",
      "source": [
        "pred[-5:]"
      ],
      "metadata": {
        "colab": {
          "base_uri": "https://localhost:8080/"
        },
        "id": "fD1zBXfcg989",
        "outputId": "f0c64efd-226e-48ff-9504-4be966b80236"
      },
      "execution_count": 72,
      "outputs": [
        {
          "output_type": "execute_result",
          "data": {
            "text/plain": [
              "array([[0.00366599, 0.17518978, 0.8211443 ],\n",
              "       [0.0039038 , 0.24293919, 0.75315696],\n",
              "       [0.0051534 , 0.21792412, 0.7769225 ],\n",
              "       [0.00236819, 0.08894419, 0.90868765],\n",
              "       [0.00519335, 0.18080674, 0.81399995]], dtype=float32)"
            ]
          },
          "metadata": {},
          "execution_count": 72
        }
      ]
    },
    {
      "cell_type": "code",
      "source": [
        "pred.shape  #> 신경망에서 최종 output의 shape"
      ],
      "metadata": {
        "colab": {
          "base_uri": "https://localhost:8080/"
        },
        "id": "YrrFYt3PhaZV",
        "outputId": "63a2da4e-9fb6-4f79-ae64-7fb99cc4b317"
      },
      "execution_count": 73,
      "outputs": [
        {
          "output_type": "execute_result",
          "data": {
            "text/plain": [
              "(150, 3)"
            ]
          },
          "metadata": {},
          "execution_count": 73
        }
      ]
    },
    {
      "cell_type": "code",
      "source": [
        "pred_label = np.argmax(pred, axis=1)\n",
        "pred_label"
      ],
      "metadata": {
        "colab": {
          "base_uri": "https://localhost:8080/"
        },
        "id": "QH-AvaWAhbFH",
        "outputId": "8fbd24d4-730e-42d5-c55c-b846e64b6d17"
      },
      "execution_count": 74,
      "outputs": [
        {
          "output_type": "execute_result",
          "data": {
            "text/plain": [
              "array([0, 0, 0, 0, 0, 0, 0, 0, 0, 0, 0, 0, 0, 0, 0, 0, 0, 0, 0, 0, 0, 0,\n",
              "       0, 0, 0, 0, 0, 0, 0, 0, 0, 0, 0, 0, 0, 0, 0, 0, 0, 0, 0, 0, 0, 0,\n",
              "       0, 0, 0, 0, 0, 0, 1, 1, 1, 1, 1, 2, 2, 1, 1, 2, 1, 1, 1, 2, 1, 1,\n",
              "       2, 1, 2, 1, 2, 1, 2, 1, 1, 1, 1, 2, 2, 1, 1, 1, 1, 2, 2, 2, 1, 1,\n",
              "       1, 1, 2, 2, 1, 1, 1, 1, 1, 1, 1, 1, 2, 2, 2, 2, 2, 2, 2, 2, 2, 2,\n",
              "       2, 2, 2, 2, 2, 2, 2, 2, 2, 2, 2, 2, 2, 2, 2, 2, 2, 2, 2, 2, 2, 2,\n",
              "       2, 2, 2, 2, 2, 2, 2, 2, 2, 2, 2, 2, 2, 2, 2, 2, 2, 2])"
            ]
          },
          "metadata": {},
          "execution_count": 74
        }
      ]
    },
    {
      "cell_type": "code",
      "source": [
        "np.mean(target == pred_label)"
      ],
      "metadata": {
        "colab": {
          "base_uri": "https://localhost:8080/"
        },
        "id": "ixvRhExjh3Dt",
        "outputId": "797e83e0-302e-43de-9ed4-8f299d8aec2a"
      },
      "execution_count": 75,
      "outputs": [
        {
          "output_type": "execute_result",
          "data": {
            "text/plain": [
              "0.9"
            ]
          },
          "metadata": {},
          "execution_count": 75
        }
      ]
    },
    {
      "cell_type": "markdown",
      "source": [
        "# Fashion MNIST datasets"
      ],
      "metadata": {
        "id": "55ACDNHhi-uF"
      }
    },
    {
      "cell_type": "code",
      "source": [
        "(X_tr, y_tr), (X_te, y_te) = keras.datasets.fashion_mnist.load_data()"
      ],
      "metadata": {
        "colab": {
          "base_uri": "https://localhost:8080/"
        },
        "id": "SGMjskbQh_91",
        "outputId": "491c41ee-cd31-458d-a212-8841d6d5a134"
      },
      "execution_count": 76,
      "outputs": [
        {
          "output_type": "stream",
          "name": "stdout",
          "text": [
            "Downloading data from https://storage.googleapis.com/tensorflow/tf-keras-datasets/train-labels-idx1-ubyte.gz\n",
            "32768/29515 [=================================] - 0s 0us/step\n",
            "40960/29515 [=========================================] - 0s 0us/step\n",
            "Downloading data from https://storage.googleapis.com/tensorflow/tf-keras-datasets/train-images-idx3-ubyte.gz\n",
            "26427392/26421880 [==============================] - 0s 0us/step\n",
            "26435584/26421880 [==============================] - 0s 0us/step\n",
            "Downloading data from https://storage.googleapis.com/tensorflow/tf-keras-datasets/t10k-labels-idx1-ubyte.gz\n",
            "16384/5148 [===============================================================================================] - 0s 0us/step\n",
            "Downloading data from https://storage.googleapis.com/tensorflow/tf-keras-datasets/t10k-images-idx3-ubyte.gz\n",
            "4423680/4422102 [==============================] - 0s 0us/step\n",
            "4431872/4422102 [==============================] - 0s 0us/step\n"
          ]
        }
      ]
    },
    {
      "cell_type": "code",
      "source": [
        "X_tr.shape, y_tr.shape"
      ],
      "metadata": {
        "colab": {
          "base_uri": "https://localhost:8080/"
        },
        "id": "x3ZI0tUWjO81",
        "outputId": "b06501f8-7f61-47cc-a74e-991cc07d85d7"
      },
      "execution_count": 77,
      "outputs": [
        {
          "output_type": "execute_result",
          "data": {
            "text/plain": [
              "((60000, 28, 28), (60000,))"
            ]
          },
          "metadata": {},
          "execution_count": 77
        }
      ]
    },
    {
      "cell_type": "code",
      "source": [
        "img = X_tr[0]\n",
        "plt.imshow(img, cmap=plt.cm.binary)\n",
        "plt.show()"
      ],
      "metadata": {
        "colab": {
          "base_uri": "https://localhost:8080/",
          "height": 265
        },
        "id": "y9uh1wK_jlv9",
        "outputId": "c56c52f6-7126-40af-945a-59c592e00445"
      },
      "execution_count": 78,
      "outputs": [
        {
          "output_type": "display_data",
          "data": {
            "text/plain": [
              "<Figure size 432x288 with 1 Axes>"
            ],
            "image/png": "[encoded data removed]"
          },
          "metadata": {
            "needs_background": "light"
          }
        }
      ]
    },
    {
      "cell_type": "code",
      "source": [
        "y_tr[0]"
      ],
      "metadata": {
        "colab": {
          "base_uri": "https://localhost:8080/"
        },
        "id": "MkdEzLNBj5j1",
        "outputId": "d67258ff-4759-47bf-d7b8-e0a812dc26e9"
      },
      "execution_count": 79,
      "outputs": [
        {
          "output_type": "execute_result",
          "data": {
            "text/plain": [
              "9"
            ]
          },
          "metadata": {},
          "execution_count": 79
        }
      ]
    },
    {
      "cell_type": "code",
      "source": [
        "np.unique(y_tr, return_counts=True)"
      ],
      "metadata": {
        "colab": {
          "base_uri": "https://localhost:8080/"
        },
        "id": "pgv2LdbWkB7N",
        "outputId": "2f0412fd-0561-45cc-c272-6bb9bf191354"
      },
      "execution_count": 81,
      "outputs": [
        {
          "output_type": "execute_result",
          "data": {
            "text/plain": [
              "(array([0, 1, 2, 3, 4, 5, 6, 7, 8, 9], dtype=uint8),\n",
              " array([6000, 6000, 6000, 6000, 6000, 6000, 6000, 6000, 6000, 6000]))"
            ]
          },
          "metadata": {},
          "execution_count": 81
        }
      ]
    },
    {
      "cell_type": "code",
      "source": [
        "X_te.shape, y_te.shape"
      ],
      "metadata": {
        "colab": {
          "base_uri": "https://localhost:8080/"
        },
        "id": "DU2tgmvckNqn",
        "outputId": "213c50cd-a24f-4513-82af-15f073d3d8a0"
      },
      "execution_count": 82,
      "outputs": [
        {
          "output_type": "execute_result",
          "data": {
            "text/plain": [
              "((10000, 28, 28), (10000,))"
            ]
          },
          "metadata": {},
          "execution_count": 82
        }
      ]
    },
    {
      "cell_type": "code",
      "source": [
        "img = X_te[0]\n",
        "plt.imshow(img, cmap=plt.cm.binary)\n",
        "plt.show()"
      ],
      "metadata": {
        "colab": {
          "base_uri": "https://localhost:8080/",
          "height": 265
        },
        "id": "Sg7Rct7Nkabd",
        "outputId": "91ba764d-e5ba-4bf2-e98e-491659f23ff7"
      },
      "execution_count": 83,
      "outputs": [
        {
          "output_type": "display_data",
          "data": {
            "text/plain": [
              "<Figure size 432x288 with 1 Axes>"
            ],
            "image/png": "[encoded data removed]"
          },
          "metadata": {
            "needs_background": "light"
          }
        }
      ]
    },
    {
      "cell_type": "code",
      "source": [
        "y_te[0]"
      ],
      "metadata": {
        "colab": {
          "base_uri": "https://localhost:8080/"
        },
        "id": "WLjusxggkiHd",
        "outputId": "8be2a480-8011-48cc-a548-184ea1d45963"
      },
      "execution_count": 85,
      "outputs": [
        {
          "output_type": "execute_result",
          "data": {
            "text/plain": [
              "9"
            ]
          },
          "metadata": {},
          "execution_count": 85
        }
      ]
    },
    {
      "cell_type": "code",
      "source": [
        "np.unique(y_te, return_counts=True)"
      ],
      "metadata": {
        "colab": {
          "base_uri": "https://localhost:8080/"
        },
        "id": "1c-1Mhrxklxt",
        "outputId": "bd16b2ea-d971-4f36-e93a-fc7114d85ddc"
      },
      "execution_count": 86,
      "outputs": [
        {
          "output_type": "execute_result",
          "data": {
            "text/plain": [
              "(array([0, 1, 2, 3, 4, 5, 6, 7, 8, 9], dtype=uint8),\n",
              " array([1000, 1000, 1000, 1000, 1000, 1000, 1000, 1000, 1000, 1000]))"
            ]
          },
          "metadata": {},
          "execution_count": 86
        }
      ]
    },
    {
      "cell_type": "code",
      "source": [
        ""
      ],
      "metadata": {
        "id": "_Kwr4zc6ktHG"
      },
      "execution_count": null,
      "outputs": []
    }
  ]
}