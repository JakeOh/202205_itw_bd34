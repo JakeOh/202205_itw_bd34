{
  "nbformat": 4,
  "nbformat_minor": 0,
  "metadata": {
    "colab": {
      "name": "python01.ipynb",
      "provenance": [],
      "collapsed_sections": [],
      "authorship_tag": "ABX9TyP/kKxc/eC6to2XcK0QGAh6",
      "include_colab_link": true
    },
    "kernelspec": {
      "name": "python3",
      "display_name": "Python 3"
    },
    "language_info": {
      "name": "python"
    }
  },
  "cells": [
    {
      "cell_type": "markdown",
      "metadata": {
        "id": "view-in-github",
        "colab_type": "text"
      },
      "source": [
        "<a href=\"https://colab.research.google.com/github/JakeOh/202205_itw_bd34/blob/main/python01.ipynb\" target=\"_parent\"><img src=\"https://colab.research.google.com/assets/colab-badge.svg\" alt=\"Open In Colab\"/></a>"
      ]
    },
    {
      "cell_type": "markdown",
      "source": [
        "# Colab Notebook"
      ],
      "metadata": {
        "id": "BcmQJionZLWe"
      }
    },
    {
      "cell_type": "code",
      "execution_count": 1,
      "metadata": {
        "colab": {
          "base_uri": "https://localhost:8080/"
        },
        "id": "Wc0gxKrkXsfy",
        "outputId": "4f2fd7e2-08bf-4726-e903-26c7c277899f"
      },
      "outputs": [
        {
          "output_type": "stream",
          "name": "stdout",
          "text": [
            "안녕하세요!\n"
          ]
        }
      ],
      "source": [
        "print('안녕하세요!')"
      ]
    },
    {
      "cell_type": "markdown",
      "source": [
        "# Python 버전 확인"
      ],
      "metadata": {
        "id": "elSJE6BcezRd"
      }
    },
    {
      "cell_type": "code",
      "source": [
        "import sys  # sys 모듈을 사용.\n",
        "\n",
        "print(sys.version)"
      ],
      "metadata": {
        "colab": {
          "base_uri": "https://localhost:8080/"
        },
        "id": "hJ91L4XqfL5F",
        "outputId": "620813a1-2cad-450f-f2b0-ef2f6b959955"
      },
      "execution_count": 3,
      "outputs": [
        {
          "output_type": "stream",
          "name": "stdout",
          "text": [
            "3.7.13 (default, Apr 24 2022, 01:04:09) \n",
            "[GCC 7.5.0]\n"
          ]
        }
      ]
    },
    {
      "cell_type": "markdown",
      "source": [
        "# 여러가지 print 방법"
      ],
      "metadata": {
        "id": "BvRbhANbgujN"
      }
    },
    {
      "cell_type": "code",
      "source": [
        "print('Hello, Python!')\n",
        "# 파이썬에서 문자열은 작은 따옴표('') 또는 큰 따옴표(\"\")를 사용."
      ],
      "metadata": {
        "colab": {
          "base_uri": "https://localhost:8080/"
        },
        "id": "pZ9est5Pg4DN",
        "outputId": "3e8e251c-5bef-42a8-ce42-a8520b2cf70a"
      },
      "execution_count": 5,
      "outputs": [
        {
          "output_type": "stream",
          "name": "stdout",
          "text": [
            "Hello, Python!\n"
          ]
        }
      ]
    },
    {
      "cell_type": "markdown",
      "source": [
        "`print()` 함수에 argument(인수)를 여러 개를 전달하면, 각각의 argument들을 공백으로 연결해서 한 줄에 출력."
      ],
      "metadata": {
        "id": "1PleVsy9jb9d"
      }
    },
    {
      "cell_type": "code",
      "source": [
        "print('Hello', '안녕', 'Bon Jour')"
      ],
      "metadata": {
        "colab": {
          "base_uri": "https://localhost:8080/"
        },
        "id": "BC2yrfB5kNh9",
        "outputId": "0faab52b-bb2c-4185-cf98-b22d8b6a6f06"
      },
      "execution_count": 6,
      "outputs": [
        {
          "output_type": "stream",
          "name": "stdout",
          "text": [
            "Hello 안녕 Bon Jour\n"
          ]
        }
      ]
    },
    {
      "cell_type": "code",
      "source": [
        "print('Hello', '안녕', 'Bon Jour', sep='::')\n",
        "# print 함수의 sep argument의 값을 바꿔주면, 출력 값들의 구분자(separator)를 설정할 수 있음."
      ],
      "metadata": {
        "colab": {
          "base_uri": "https://localhost:8080/"
        },
        "id": "vmekngd_k8W8",
        "outputId": "479db1ed-94d9-40c6-d351-9904ce7c0d95"
      },
      "execution_count": 7,
      "outputs": [
        {
          "output_type": "stream",
          "name": "stdout",
          "text": [
            "Hello::안녕::Bon Jour\n"
          ]
        }
      ]
    },
    {
      "cell_type": "code",
      "source": [
        "print(1, '+', 2, '=', 3)"
      ],
      "metadata": {
        "colab": {
          "base_uri": "https://localhost:8080/"
        },
        "id": "KrUx8vL7l8wF",
        "outputId": "eebc0591-1da6-426e-8bb4-e1706378a3e3"
      },
      "execution_count": 8,
      "outputs": [
        {
          "output_type": "stream",
          "name": "stdout",
          "text": [
            "1 + 2 = 3\n"
          ]
        }
      ]
    },
    {
      "cell_type": "code",
      "source": [
        "print(1, '+', 2, '=', (1 + 2))"
      ],
      "metadata": {
        "colab": {
          "base_uri": "https://localhost:8080/"
        },
        "id": "2YtucasYmQRX",
        "outputId": "f0646a86-a5e4-4e5c-fb84-940ffa7142f6"
      },
      "execution_count": 10,
      "outputs": [
        {
          "output_type": "stream",
          "name": "stdout",
          "text": [
            "1 + 2 = 3\n"
          ]
        }
      ]
    },
    {
      "cell_type": "markdown",
      "source": [
        "placeholder 문자열과 `format()` 메서드(함수)를 사용해서 출력하는 방법:"
      ],
      "metadata": {
        "id": "xX_gC-0qm2h1"
      }
    },
    {
      "cell_type": "code",
      "source": [
        "print('{} + {} = {}'.format(1, 2, (1+2)))"
      ],
      "metadata": {
        "colab": {
          "base_uri": "https://localhost:8080/"
        },
        "id": "G-2_wVa1nHr2",
        "outputId": "9d28605c-19cb-475f-a1b1-e70814962491"
      },
      "execution_count": 11,
      "outputs": [
        {
          "output_type": "stream",
          "name": "stdout",
          "text": [
            "1 + 2 = 3\n"
          ]
        }
      ]
    },
    {
      "cell_type": "code",
      "source": [
        "# 변수(variable): 값을 저장하는 메모리 공간.\n",
        "x = 100  # 변수 x에 숫자 100을 저장.\n",
        "y = 20"
      ],
      "metadata": {
        "id": "FQL-SE9prkvV"
      },
      "execution_count": 14,
      "outputs": []
    },
    {
      "cell_type": "code",
      "source": [
        "print('{} + {} = {}'.format(x, y, (x+y)))"
      ],
      "metadata": {
        "colab": {
          "base_uri": "https://localhost:8080/"
        },
        "id": "PnWCSfYSsMEM",
        "outputId": "7a36957c-a051-4d5e-c88c-15f2bd9de43f"
      },
      "execution_count": 15,
      "outputs": [
        {
          "output_type": "stream",
          "name": "stdout",
          "text": [
            "100 + 20 = 120\n"
          ]
        }
      ]
    },
    {
      "cell_type": "markdown",
      "source": [
        "파이썬 3.6 버전부터 formatted string 기능이 새로 추가됨."
      ],
      "metadata": {
        "id": "sxp6biuStBRV"
      }
    },
    {
      "cell_type": "code",
      "source": [
        "print(f'{x} + {y} = {x + y}')"
      ],
      "metadata": {
        "colab": {
          "base_uri": "https://localhost:8080/"
        },
        "id": "yo0aB-5xtVzN",
        "outputId": "05b3c69c-95f8-448f-abfd-b557f48dbe0b"
      },
      "execution_count": 16,
      "outputs": [
        {
          "output_type": "stream",
          "name": "stdout",
          "text": [
            "100 + 20 = 120\n"
          ]
        }
      ]
    },
    {
      "cell_type": "code",
      "source": [
        "name = '여러분'\n",
        "print(f'안녕하세요, {name}')"
      ],
      "metadata": {
        "colab": {
          "base_uri": "https://localhost:8080/"
        },
        "id": "n-BiivL7uWOT",
        "outputId": "82c70de6-b7bd-4518-ea7e-b7be2bf37b1f"
      },
      "execution_count": 18,
      "outputs": [
        {
          "output_type": "stream",
          "name": "stdout",
          "text": [
            "안녕하세요, 여러분\n"
          ]
        }
      ]
    },
    {
      "cell_type": "markdown",
      "source": [
        "키보드로 문자열을 입력받아서, 화면에 입력받은 내용을 출력."
      ],
      "metadata": {
        "id": "BMNpvIFNu8Zc"
      }
    },
    {
      "cell_type": "code",
      "source": [
        "name = input('이름을 입력하세요>>>')\n",
        "print(f'안녕하세요, {name}님!')"
      ],
      "metadata": {
        "colab": {
          "base_uri": "https://localhost:8080/"
        },
        "id": "82XSGyWSvLa8",
        "outputId": "c697d419-2eb7-4af7-f23b-83432d178e2d"
      },
      "execution_count": 20,
      "outputs": [
        {
          "output_type": "stream",
          "name": "stdout",
          "text": [
            "이름을 입력하세요>>>123\n",
            "안녕하세요, 123님!\n"
          ]
        }
      ]
    }
  ]
}