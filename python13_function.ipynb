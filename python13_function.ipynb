{
  "nbformat": 4,
  "nbformat_minor": 0,
  "metadata": {
    "colab": {
      "name": "python13_function.ipynb",
      "provenance": [],
      "collapsed_sections": [],
      "authorship_tag": "ABX9TyNHxwiD2MHOfP4J6P5op8z8",
      "include_colab_link": true
    },
    "kernelspec": {
      "name": "python3",
      "display_name": "Python 3"
    },
    "language_info": {
      "name": "python"
    }
  },
  "cells": [
    {
      "cell_type": "markdown",
      "metadata": {
        "id": "view-in-github",
        "colab_type": "text"
      },
      "source": [
        "<a href=\"https://colab.research.google.com/github/JakeOh/202205_itw_bd34/blob/main/python13_function.ipynb\" target=\"_parent\"><img src=\"https://colab.research.google.com/assets/colab-badge.svg\" alt=\"Open In Colab\"/></a>"
      ]
    },
    {
      "cell_type": "markdown",
      "source": [
        "# Default Argument"
      ],
      "metadata": {
        "id": "sK8hE2q9pV7y"
      }
    },
    {
      "cell_type": "markdown",
      "source": [
        "Default argument(기본 인수):\n",
        "\n",
        "*   함수를 정의할 때 parameter에 설정하는 기본값.\n",
        "    *   default parameter(기본 매개변수): 기본값을 가지고 있는 파라미터.\n",
        "*   함수를 호출할 때 default parameter에 값을 전달하지 않으면, defualt argument가 사용됨.\n",
        "*   함수를 호출할 때 default parameter에 값을 전달하면, default argument는 무시되고 전달한 값이 사용됨."
      ],
      "metadata": {
        "id": "ZyNwZjVqpaR5"
      }
    },
    {
      "cell_type": "code",
      "execution_count": 1,
      "metadata": {
        "id": "-Ze0PYeupI-Y"
      },
      "outputs": [],
      "source": [
        "def repeat_message(message, n=1):\n",
        "    for _ in range(n):\n",
        "        print(message)"
      ]
    },
    {
      "cell_type": "code",
      "source": [
        "repeat_message('안녕하세요')"
      ],
      "metadata": {
        "colab": {
          "base_uri": "https://localhost:8080/"
        },
        "id": "8F6V6bFfqvsL",
        "outputId": "c1275687-8b3e-4240-ede5-48399e18fcc8"
      },
      "execution_count": 2,
      "outputs": [
        {
          "output_type": "stream",
          "name": "stdout",
          "text": [
            "안녕하세요\n"
          ]
        }
      ]
    },
    {
      "cell_type": "code",
      "source": [
        "repeat_message('안녕하세요', 3)"
      ],
      "metadata": {
        "colab": {
          "base_uri": "https://localhost:8080/"
        },
        "id": "Rf4rheXzrU3s",
        "outputId": "055749f5-6498-424e-cd0a-b77cbcf50225"
      },
      "execution_count": 3,
      "outputs": [
        {
          "output_type": "stream",
          "name": "stdout",
          "text": [
            "안녕하세요\n",
            "안녕하세요\n",
            "안녕하세요\n"
          ]
        }
      ]
    },
    {
      "cell_type": "markdown",
      "source": [
        "(주의)\n",
        "\n",
        "함수를 정의할 때 default parameter(기본값을 갖는 파라미터)는 기본값을 갖지 않는 파라미터들 뒤에 선언해야 함!"
      ],
      "metadata": {
        "id": "yXtvurKMwVju"
      }
    },
    {
      "cell_type": "code",
      "source": [
        "def test(x, y=1):\n",
        "    pass"
      ],
      "metadata": {
        "id": "_cVd4cYAwl-I"
      },
      "execution_count": 4,
      "outputs": []
    },
    {
      "cell_type": "code",
      "source": [
        "def test2(x=1, y):\n",
        "    pass"
      ],
      "metadata": {
        "colab": {
          "base_uri": "https://localhost:8080/",
          "height": 138
        },
        "id": "rrO_-RSxw53F",
        "outputId": "30c8daa7-c75e-4907-cf94-9cf20b3c3cf8"
      },
      "execution_count": 5,
      "outputs": [
        {
          "output_type": "error",
          "ename": "SyntaxError",
          "evalue": "ignored",
          "traceback": [
            "\u001b[0;36m  File \u001b[0;32m\"<ipython-input-5-787409f53555>\"\u001b[0;36m, line \u001b[0;32m1\u001b[0m\n\u001b[0;31m    def test2(x=1, y):\u001b[0m\n\u001b[0m             ^\u001b[0m\n\u001b[0;31mSyntaxError\u001b[0m\u001b[0;31m:\u001b[0m non-default argument follows default argument\n"
          ]
        }
      ]
    },
    {
      "cell_type": "markdown",
      "source": [
        "# Argument 전달 방법"
      ],
      "metadata": {
        "id": "9gC9rda8xb0d"
      }
    },
    {
      "cell_type": "markdown",
      "source": [
        "함수를 호출할 때, 값(argument)를 전달하는 방법:\n",
        "\n",
        "*   positional argument: 함수에 선언된 파라미터 순서대로 argument들을 전달하는 방법.\n",
        "*   keyword argument: `param_name=value`와 같은 형식으로 argument들을 전달하는 방법.\n",
        "    *   keyword argument 방법을 사용할 때는 함수에 선언된 파라미터 순서를 지키지 않아도 괜찮음.\n",
        "*   (주의) 함수를 호출할 때 positional 방식과 keyword 방식을 함께 사용하는 경우에는, positional argument를 먼저 사용하고 keyword argument는 뒤에 사용해야 함."
      ],
      "metadata": {
        "id": "L4UFnA_exfnF"
      }
    },
    {
      "cell_type": "code",
      "source": [
        "def subtract(x, y):\n",
        "    return x - y"
      ],
      "metadata": {
        "id": "RrkyBUqyy6iO"
      },
      "execution_count": 6,
      "outputs": []
    },
    {
      "cell_type": "code",
      "source": [
        "subtract(1, 2)  # positional argument 방식의 함수 호출"
      ],
      "metadata": {
        "colab": {
          "base_uri": "https://localhost:8080/"
        },
        "id": "IE52Dqvwy-Ht",
        "outputId": "420b0d17-cb83-482a-8d5c-94524eadc013"
      },
      "execution_count": 8,
      "outputs": [
        {
          "output_type": "execute_result",
          "data": {
            "text/plain": [
              "-1"
            ]
          },
          "metadata": {},
          "execution_count": 8
        }
      ]
    },
    {
      "cell_type": "code",
      "source": [
        "subtract(x=1, y=2)  # keyword argument 방식의 함수 호출"
      ],
      "metadata": {
        "colab": {
          "base_uri": "https://localhost:8080/"
        },
        "id": "dZih5VAwzuwt",
        "outputId": "ee95aff2-3807-43b1-d711-d0ef7fb2e911"
      },
      "execution_count": 9,
      "outputs": [
        {
          "output_type": "execute_result",
          "data": {
            "text/plain": [
              "-1"
            ]
          },
          "metadata": {},
          "execution_count": 9
        }
      ]
    },
    {
      "cell_type": "code",
      "source": [
        "subtract(y=2, x=1)  # keyword 방식에서는 파라미터 순서를 지키지 않아도 괜찮음."
      ],
      "metadata": {
        "colab": {
          "base_uri": "https://localhost:8080/"
        },
        "id": "t-DXQETRz8z-",
        "outputId": "090e48bc-3718-4651-c0d7-115965613915"
      },
      "execution_count": 10,
      "outputs": [
        {
          "output_type": "execute_result",
          "data": {
            "text/plain": [
              "-1"
            ]
          },
          "metadata": {},
          "execution_count": 10
        }
      ]
    },
    {
      "cell_type": "code",
      "source": [
        "subtract(1, y=2)  # postional과 keyword 방식을 함께 사용."
      ],
      "metadata": {
        "colab": {
          "base_uri": "https://localhost:8080/"
        },
        "id": "TEfBC7oD0Mb9",
        "outputId": "2476e01a-f230-40bf-c20e-ea985f7981da"
      },
      "execution_count": 11,
      "outputs": [
        {
          "output_type": "execute_result",
          "data": {
            "text/plain": [
              "-1"
            ]
          },
          "metadata": {},
          "execution_count": 11
        }
      ]
    },
    {
      "cell_type": "code",
      "source": [
        "subtract(x=1, 2)  # postitional 방식이 keyword 방식보다 뒤에 사용되면 (문법) 에러 발생."
      ],
      "metadata": {
        "colab": {
          "base_uri": "https://localhost:8080/",
          "height": 138
        },
        "id": "4KAaXKZt1Dl2",
        "outputId": "e9d5f958-a590-4e26-e510-ac3207c7e588"
      },
      "execution_count": 12,
      "outputs": [
        {
          "output_type": "error",
          "ename": "SyntaxError",
          "evalue": "ignored",
          "traceback": [
            "\u001b[0;36m  File \u001b[0;32m\"<ipython-input-12-b00c2d32bf57>\"\u001b[0;36m, line \u001b[0;32m1\u001b[0m\n\u001b[0;31m    subtract(x=1, 2)\u001b[0m\n\u001b[0m                 ^\u001b[0m\n\u001b[0;31mSyntaxError\u001b[0m\u001b[0;31m:\u001b[0m positional argument follows keyword argument\n"
          ]
        }
      ]
    },
    {
      "cell_type": "code",
      "source": [
        "print(1, 2, sep=',')"
      ],
      "metadata": {
        "colab": {
          "base_uri": "https://localhost:8080/"
        },
        "id": "a0VPkDWO1t3_",
        "outputId": "3bb6700c-31be-48c6-8f9f-dd7cdbd521ad"
      },
      "execution_count": 14,
      "outputs": [
        {
          "output_type": "stream",
          "name": "stdout",
          "text": [
            "1,2\n"
          ]
        }
      ]
    },
    {
      "cell_type": "code",
      "source": [
        "print(1, sep=',', 2)"
      ],
      "metadata": {
        "colab": {
          "base_uri": "https://localhost:8080/",
          "height": 138
        },
        "id": "tXu-2jS51-iX",
        "outputId": "e1c77b02-49ba-43a0-a1da-94b408a4678e"
      },
      "execution_count": 15,
      "outputs": [
        {
          "output_type": "error",
          "ename": "SyntaxError",
          "evalue": "ignored",
          "traceback": [
            "\u001b[0;36m  File \u001b[0;32m\"<ipython-input-15-63e40966d037>\"\u001b[0;36m, line \u001b[0;32m1\u001b[0m\n\u001b[0;31m    print(1, sep=',', 2)\u001b[0m\n\u001b[0m                     ^\u001b[0m\n\u001b[0;31mSyntaxError\u001b[0m\u001b[0;31m:\u001b[0m positional argument follows keyword argument\n"
          ]
        }
      ]
    },
    {
      "cell_type": "markdown",
      "source": [
        "# 가변길이 인수(Variable-length Argument)"
      ],
      "metadata": {
        "id": "pAFMO4lw2Odu"
      }
    },
    {
      "cell_type": "markdown",
      "source": [
        "가변길이 인수:\n",
        "\n",
        "*   함수 argument의 개수가 임의로 변할 수 있는 것. 함수를 호출할 때 argument를 몇 개를 전달해도 됨.\n",
        "    *   argument를 한 개도 전달하지 않아도 됨.\n",
        "*   함수를 정의할 때, 파라미터 앞에 `*`를 사용하면 가변길이 인수를 의미함.\n",
        "*   함수 내부에서 가변길이 인수는 튜플 취급을 함.\n",
        "    *   가변길이 인수는 인덱스를 가지고 있음.\n",
        "    *   가변길이 인수는 `for-in` 구문에서 사용할 수 있음.\n",
        "*   가변길이 인수는 keyword argument 방식으로는 전달할 수 없음.\n",
        "*   함수를 정의할 때 가변길이 인수를 갖는 파라미터는 오직 1개만 선언할 수 있음."
      ],
      "metadata": {
        "id": "vKoY2BSPMqrA"
      }
    },
    {
      "cell_type": "code",
      "source": [
        "print('hello')  # print() 함수에게 argument를 1개 전달.\n",
        "print()  # print() 함수에게 argument를 1개도 전달하지 않음.\n",
        "print('hello', 'python')  # print() 함수에게 argument를 2개 전달."
      ],
      "metadata": {
        "colab": {
          "base_uri": "https://localhost:8080/"
        },
        "id": "wHBQHRPvNSfP",
        "outputId": "304bd134-2676-435a-f67d-cf7b27db0d71"
      },
      "execution_count": 17,
      "outputs": [
        {
          "output_type": "stream",
          "name": "stdout",
          "text": [
            "hello\n",
            "\n",
            "hello python\n"
          ]
        }
      ]
    },
    {
      "cell_type": "code",
      "source": [
        "def add_all(*values):\n",
        "    \"\"\"argument로 전달된 모든 숫자들의 합을 계산해서 리턴.\n",
        "    argument가 없는 경우 0을 리턴.\n",
        "    \"\"\"\n",
        "    total = 0  # 전달받은 모든 값들을 순서대로 더해나갈 변수.\n",
        "    for x in values:  # 가변길이 인수 values는 튜플이므로 반복문을 사용할 수 있음.\n",
        "        total += x  # values의 값을 차례로 더해나감.\n",
        "    \n",
        "    return total"
      ],
      "metadata": {
        "id": "P9zw7hSTOzer"
      },
      "execution_count": 28,
      "outputs": []
    },
    {
      "cell_type": "code",
      "source": [
        "add_all(1, 3, 5)"
      ],
      "metadata": {
        "colab": {
          "base_uri": "https://localhost:8080/"
        },
        "id": "OOIDp2IdPDJw",
        "outputId": "c2191f10-c94c-40b0-ffec-6beee787c928"
      },
      "execution_count": 29,
      "outputs": [
        {
          "output_type": "execute_result",
          "data": {
            "text/plain": [
              "9"
            ]
          },
          "metadata": {},
          "execution_count": 29
        }
      ]
    },
    {
      "cell_type": "code",
      "source": [
        "add_all(10, 20)"
      ],
      "metadata": {
        "colab": {
          "base_uri": "https://localhost:8080/"
        },
        "id": "OTae_tFXRu2-",
        "outputId": "f89bad9f-65be-4c8b-c8ad-435de47cf337"
      },
      "execution_count": 30,
      "outputs": [
        {
          "output_type": "execute_result",
          "data": {
            "text/plain": [
              "30"
            ]
          },
          "metadata": {},
          "execution_count": 30
        }
      ]
    },
    {
      "cell_type": "code",
      "source": [
        "add_all()"
      ],
      "metadata": {
        "colab": {
          "base_uri": "https://localhost:8080/"
        },
        "id": "PbnH-S-BSVH6",
        "outputId": "6078e35d-1cd3-4978-a878-68dd522badc0"
      },
      "execution_count": 31,
      "outputs": [
        {
          "output_type": "execute_result",
          "data": {
            "text/plain": [
              "0"
            ]
          },
          "metadata": {},
          "execution_count": 31
        }
      ]
    },
    {
      "cell_type": "code",
      "source": [
        "def fn_test(x, *y):\n",
        "    print('x =', x)\n",
        "    print('y =', y)"
      ],
      "metadata": {
        "id": "oDV9Bjx2Sxoy"
      },
      "execution_count": 33,
      "outputs": []
    },
    {
      "cell_type": "code",
      "source": [
        "# 파라미터 x: 반드시 값이 1개 전달되어야 하는 파라미터.\n",
        "# 파라미터 y: 전달되는 값의 개수의 제한이 없는 파라미터.\n",
        "fn_test(1, 2, 3)"
      ],
      "metadata": {
        "colab": {
          "base_uri": "https://localhost:8080/"
        },
        "id": "dWPiesvOTWOz",
        "outputId": "e937fe0a-e4be-4e39-e280-8544e131574a"
      },
      "execution_count": 37,
      "outputs": [
        {
          "output_type": "stream",
          "name": "stdout",
          "text": [
            "x = 1\n",
            "y = (2, 3)\n"
          ]
        }
      ]
    },
    {
      "cell_type": "code",
      "source": [
        "fn_test(1, y=(1, 2, 3))  # 가변길이 인수는 keyword 방식으로 사용할 수 없음!"
      ],
      "metadata": {
        "colab": {
          "base_uri": "https://localhost:8080/",
          "height": 175
        },
        "id": "bklGZ2UWUolB",
        "outputId": "9b5885d5-f596-4137-d892-974c6014084c"
      },
      "execution_count": 38,
      "outputs": [
        {
          "output_type": "error",
          "ename": "TypeError",
          "evalue": "ignored",
          "traceback": [
            "\u001b[0;31m---------------------------------------------------------------------------\u001b[0m",
            "\u001b[0;31mTypeError\u001b[0m                                 Traceback (most recent call last)",
            "\u001b[0;32m<ipython-input-38-0276a5988638>\u001b[0m in \u001b[0;36m<module>\u001b[0;34m()\u001b[0m\n\u001b[0;32m----> 1\u001b[0;31m \u001b[0mfn_test\u001b[0m\u001b[0;34m(\u001b[0m\u001b[0;36m1\u001b[0m\u001b[0;34m,\u001b[0m \u001b[0my\u001b[0m\u001b[0;34m=\u001b[0m\u001b[0;34m(\u001b[0m\u001b[0;36m1\u001b[0m\u001b[0;34m,\u001b[0m \u001b[0;36m2\u001b[0m\u001b[0;34m,\u001b[0m \u001b[0;36m3\u001b[0m\u001b[0;34m)\u001b[0m\u001b[0;34m)\u001b[0m\u001b[0;34m\u001b[0m\u001b[0;34m\u001b[0m\u001b[0m\n\u001b[0m",
            "\u001b[0;31mTypeError\u001b[0m: fn_test() got an unexpected keyword argument 'y'"
          ]
        }
      ]
    },
    {
      "cell_type": "code",
      "source": [
        "def fn_test2(*x, *y):\n",
        "    pass\n",
        "# 가변길이 인수를 2개 이상 선언할 수는 없음!"
      ],
      "metadata": {
        "colab": {
          "base_uri": "https://localhost:8080/",
          "height": 138
        },
        "id": "BYo-8JkOVaV3",
        "outputId": "c51a4226-017b-4df5-f9d4-19c5bc9f41a6"
      },
      "execution_count": 39,
      "outputs": [
        {
          "output_type": "error",
          "ename": "SyntaxError",
          "evalue": "ignored",
          "traceback": [
            "\u001b[0;36m  File \u001b[0;32m\"<ipython-input-39-992a8195e90d>\"\u001b[0;36m, line \u001b[0;32m1\u001b[0m\n\u001b[0;31m    def fn_test2(*x, *y):\u001b[0m\n\u001b[0m                     ^\u001b[0m\n\u001b[0;31mSyntaxError\u001b[0m\u001b[0;31m:\u001b[0m invalid syntax\n"
          ]
        }
      ]
    },
    {
      "cell_type": "code",
      "source": [
        "def calculate(*values, op):\n",
        "    \"\"\"op가 '+'인 경우에는 모든 값들(values)의 합을 리턴하고,\n",
        "    op가 '*'인 경우에는 모든 값들(values)의 곱을 리턴하고,\n",
        "    op가 '+'도 아니고 '*'도 아닌 경우에는 ValueError를 발생시킴.\n",
        "    값들(values)가 하나도 전달되지 않은 경우, op='+' 이면 0을 리턴하고 op='*' 이면 1을 리턴.\n",
        "    \"\"\"\n",
        "    if op == '+':\n",
        "        result = 0\n",
        "        for x in values:\n",
        "            result += x\n",
        "    elif op == '*':\n",
        "        result = 1\n",
        "        for x in values:\n",
        "            result *= x\n",
        "    else:\n",
        "        raise ValueError('op는 + 또는 *만 가능합니다.')\n",
        "\n",
        "    return result"
      ],
      "metadata": {
        "id": "ImVzS9aCVeoE"
      },
      "execution_count": 40,
      "outputs": []
    },
    {
      "cell_type": "code",
      "source": [
        "# 1부터 5까지 합을 출력\n",
        "calculate(1, 2, 3, 4, 5, op='+')"
      ],
      "metadata": {
        "colab": {
          "base_uri": "https://localhost:8080/"
        },
        "id": "WwLe-brOc0p-",
        "outputId": "cb6e8de2-6b7e-42bf-adb4-1ef11e877965"
      },
      "execution_count": 43,
      "outputs": [
        {
          "output_type": "execute_result",
          "data": {
            "text/plain": [
              "15"
            ]
          },
          "metadata": {},
          "execution_count": 43
        }
      ]
    },
    {
      "cell_type": "code",
      "source": [
        "# 1부터 5까지 곱을 출력\n",
        "calculate(1, 2, 3, 4, 5, op='*')"
      ],
      "metadata": {
        "colab": {
          "base_uri": "https://localhost:8080/"
        },
        "id": "IoP6CPmcc7VV",
        "outputId": "f8ce778d-0452-49cb-e44d-9f52b0d56de9"
      },
      "execution_count": 44,
      "outputs": [
        {
          "output_type": "execute_result",
          "data": {
            "text/plain": [
              "120"
            ]
          },
          "metadata": {},
          "execution_count": 44
        }
      ]
    },
    {
      "cell_type": "code",
      "source": [
        "print(1, 2, 3, 4, 5, ',')\n",
        "print(1, 2, 3, 4, 5, sep='--')"
      ],
      "metadata": {
        "colab": {
          "base_uri": "https://localhost:8080/"
        },
        "id": "pkABB58HfumP",
        "outputId": "5ea2b45c-e154-489f-cc25-7fb84879fbb9"
      },
      "execution_count": 47,
      "outputs": [
        {
          "output_type": "stream",
          "name": "stdout",
          "text": [
            "1 2 3 4 5 ,\n",
            "1--2--3--4--5\n"
          ]
        }
      ]
    },
    {
      "cell_type": "code",
      "source": [
        "# '+', '*'가 아닌 경우 에러 발생\n",
        "calculate(1, 2, 3, op='%')"
      ],
      "metadata": {
        "colab": {
          "base_uri": "https://localhost:8080/",
          "height": 323
        },
        "id": "EDsQeyBgc-wO",
        "outputId": "88a6bf9f-0b01-4490-bdc4-9260b5b144d9"
      },
      "execution_count": 48,
      "outputs": [
        {
          "output_type": "error",
          "ename": "ValueError",
          "evalue": "ignored",
          "traceback": [
            "\u001b[0;31m---------------------------------------------------------------------------\u001b[0m",
            "\u001b[0;31mValueError\u001b[0m                                Traceback (most recent call last)",
            "\u001b[0;32m<ipython-input-48-198a1ecc50c4>\u001b[0m in \u001b[0;36m<module>\u001b[0;34m()\u001b[0m\n\u001b[1;32m      1\u001b[0m \u001b[0;31m# '+', '*'가 아닌 경우 에러 발생\u001b[0m\u001b[0;34m\u001b[0m\u001b[0;34m\u001b[0m\u001b[0;34m\u001b[0m\u001b[0m\n\u001b[0;32m----> 2\u001b[0;31m \u001b[0mcalculate\u001b[0m\u001b[0;34m(\u001b[0m\u001b[0;36m1\u001b[0m\u001b[0;34m,\u001b[0m \u001b[0;36m2\u001b[0m\u001b[0;34m,\u001b[0m \u001b[0;36m3\u001b[0m\u001b[0;34m,\u001b[0m \u001b[0mop\u001b[0m\u001b[0;34m=\u001b[0m\u001b[0;34m'%'\u001b[0m\u001b[0;34m)\u001b[0m\u001b[0;34m\u001b[0m\u001b[0;34m\u001b[0m\u001b[0m\n\u001b[0m",
            "\u001b[0;32m<ipython-input-40-ce242b6a9c58>\u001b[0m in \u001b[0;36mcalculate\u001b[0;34m(op, *values)\u001b[0m\n\u001b[1;32m     14\u001b[0m             \u001b[0mresult\u001b[0m \u001b[0;34m*=\u001b[0m \u001b[0mx\u001b[0m\u001b[0;34m\u001b[0m\u001b[0;34m\u001b[0m\u001b[0m\n\u001b[1;32m     15\u001b[0m     \u001b[0;32melse\u001b[0m\u001b[0;34m:\u001b[0m\u001b[0;34m\u001b[0m\u001b[0;34m\u001b[0m\u001b[0m\n\u001b[0;32m---> 16\u001b[0;31m         \u001b[0;32mraise\u001b[0m \u001b[0mValueError\u001b[0m\u001b[0;34m(\u001b[0m\u001b[0;34m'op는 + 또는 *만 가능합니다.'\u001b[0m\u001b[0;34m)\u001b[0m\u001b[0;34m\u001b[0m\u001b[0;34m\u001b[0m\u001b[0m\n\u001b[0m\u001b[1;32m     17\u001b[0m \u001b[0;34m\u001b[0m\u001b[0m\n\u001b[1;32m     18\u001b[0m     \u001b[0;32mreturn\u001b[0m \u001b[0mresult\u001b[0m\u001b[0;34m\u001b[0m\u001b[0;34m\u001b[0m\u001b[0m\n",
            "\u001b[0;31mValueError\u001b[0m: op는 + 또는 *만 가능합니다."
          ]
        }
      ]
    }
  ]
}