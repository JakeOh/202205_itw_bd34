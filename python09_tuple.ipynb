{
  "nbformat": 4,
  "nbformat_minor": 0,
  "metadata": {
    "colab": {
      "name": "python09_tuple.ipynb",
      "provenance": [],
      "collapsed_sections": [],
      "authorship_tag": "ABX9TyPQqXKW/RTFfZic9gR9s5qz",
      "include_colab_link": true
    },
    "kernelspec": {
      "name": "python3",
      "display_name": "Python 3"
    },
    "language_info": {
      "name": "python"
    }
  },
  "cells": [
    {
      "cell_type": "markdown",
      "metadata": {
        "id": "view-in-github",
        "colab_type": "text"
      },
      "source": [
        "<a href=\"https://colab.research.google.com/github/JakeOh/202205_itw_bd34/blob/main/python09_tuple.ipynb\" target=\"_parent\"><img src=\"https://colab.research.google.com/assets/colab-badge.svg\" alt=\"Open In Colab\"/></a>"
      ]
    },
    {
      "cell_type": "markdown",
      "source": [
        "# 튜플(tuple)"
      ],
      "metadata": {
        "id": "NeZVj-VfaFJU"
      }
    },
    {
      "cell_type": "markdown",
      "source": [
        "*   tuple: 저장된 원소들을 변경할 수 없는 리스트.\n",
        "*   인덱스 기반의 데이터 타입.\n",
        "    *   인덱스를 사용해서 저장된 원소를 참조.\n",
        "    *   indexing, slicing\n",
        "*   append, remove 등과 같은 메서드들이 제공되지 않음."
      ],
      "metadata": {
        "id": "SFHumgCMaL08"
      }
    },
    {
      "cell_type": "code",
      "execution_count": 3,
      "metadata": {
        "colab": {
          "base_uri": "https://localhost:8080/"
        },
        "id": "zBU0Sa_eZ6vc",
        "outputId": "833ca27e-0f19-4769-e9ff-460d8d41dfc1"
      },
      "outputs": [
        {
          "output_type": "stream",
          "name": "stdout",
          "text": [
            "(1, 2, 3, 1, 2, 3, 1, 2)\n",
            "<class 'tuple'>\n"
          ]
        }
      ],
      "source": [
        "numbers = (1, 2, 3, 1, 2, 3, 1, 2)\n",
        "print(numbers)\n",
        "print(type(numbers))"
      ]
    },
    {
      "cell_type": "code",
      "source": [
        "numbers.count(1)  # tuple numbers에서 값 1이 몇 번 등장하는 지를 리턴."
      ],
      "metadata": {
        "colab": {
          "base_uri": "https://localhost:8080/"
        },
        "id": "Lv6l_NR0bhGl",
        "outputId": "4b4dfe19-b9d5-4a83-9c60-6791cd8e7410"
      },
      "execution_count": 7,
      "outputs": [
        {
          "output_type": "execute_result",
          "data": {
            "text/plain": [
              "3"
            ]
          },
          "metadata": {},
          "execution_count": 7
        }
      ]
    },
    {
      "cell_type": "code",
      "source": [
        "numbers.index(1)  # tuple numbers에서 값 1이 가장 처음 등장하는 인덱스를 리턴."
      ],
      "metadata": {
        "colab": {
          "base_uri": "https://localhost:8080/"
        },
        "id": "l59tOwZ_cYbE",
        "outputId": "4abdda61-b80f-4fe7-d537-5bcfe25c9a15"
      },
      "execution_count": 5,
      "outputs": [
        {
          "output_type": "execute_result",
          "data": {
            "text/plain": [
              "0"
            ]
          },
          "metadata": {},
          "execution_count": 5
        }
      ]
    },
    {
      "cell_type": "markdown",
      "source": [
        "## indexing"
      ],
      "metadata": {
        "id": "c6gI_Ceec-52"
      }
    },
    {
      "cell_type": "code",
      "source": [
        "print(numbers)"
      ],
      "metadata": {
        "colab": {
          "base_uri": "https://localhost:8080/"
        },
        "id": "gxPIzM2zdDsb",
        "outputId": "57b612c6-3071-4781-eeac-2161f0cc63fd"
      },
      "execution_count": 8,
      "outputs": [
        {
          "output_type": "stream",
          "name": "stdout",
          "text": [
            "(1, 2, 3, 1, 2, 3, 1, 2)\n"
          ]
        }
      ]
    },
    {
      "cell_type": "code",
      "source": [
        "numbers[0]  # tuple에서 첫번째 원소 참조"
      ],
      "metadata": {
        "colab": {
          "base_uri": "https://localhost:8080/"
        },
        "id": "3nanrbLzdEi7",
        "outputId": "17101b98-76e1-455b-9e45-b69bb00a9b62"
      },
      "execution_count": 9,
      "outputs": [
        {
          "output_type": "execute_result",
          "data": {
            "text/plain": [
              "1"
            ]
          },
          "metadata": {},
          "execution_count": 9
        }
      ]
    },
    {
      "cell_type": "code",
      "source": [
        "numbers[-1]  # tuple에서 마지막 원소 참조"
      ],
      "metadata": {
        "colab": {
          "base_uri": "https://localhost:8080/"
        },
        "id": "YlAj62KpdYx0",
        "outputId": "02851cfa-4e02-497c-d553-9c945fa8ace1"
      },
      "execution_count": 10,
      "outputs": [
        {
          "output_type": "execute_result",
          "data": {
            "text/plain": [
              "2"
            ]
          },
          "metadata": {},
          "execution_count": 10
        }
      ]
    },
    {
      "cell_type": "markdown",
      "source": [
        "## slicing"
      ],
      "metadata": {
        "id": "t281TgrVdmCk"
      }
    },
    {
      "cell_type": "code",
      "source": [
        "numbers[:3]  # tuple에서 앞에서 3개를 slicing"
      ],
      "metadata": {
        "colab": {
          "base_uri": "https://localhost:8080/"
        },
        "id": "Q0Ol35Ccdfxb",
        "outputId": "691911f0-01e7-4fe4-e55c-7e72940e0e6c"
      },
      "execution_count": 11,
      "outputs": [
        {
          "output_type": "execute_result",
          "data": {
            "text/plain": [
              "(1, 2, 3)"
            ]
          },
          "metadata": {},
          "execution_count": 11
        }
      ]
    },
    {
      "cell_type": "code",
      "source": [
        "numbers[-3:]  # tuple에서 뒤에서 3개를 slicing"
      ],
      "metadata": {
        "colab": {
          "base_uri": "https://localhost:8080/"
        },
        "id": "E4kA7Hvtd3oW",
        "outputId": "4d69b632-34a7-48cd-911b-aacfc74a5dd3"
      },
      "execution_count": 12,
      "outputs": [
        {
          "output_type": "execute_result",
          "data": {
            "text/plain": [
              "(3, 1, 2)"
            ]
          },
          "metadata": {},
          "execution_count": 12
        }
      ]
    },
    {
      "cell_type": "markdown",
      "source": [
        "## decomposition(분해)"
      ],
      "metadata": {
        "id": "DMNIJRwQeK5D"
      }
    },
    {
      "cell_type": "code",
      "source": [
        "a, b = (1, 2)  # 튜플의 원소 개수만큼 변수를 선언.\n",
        "print(a)\n",
        "print(b)"
      ],
      "metadata": {
        "colab": {
          "base_uri": "https://localhost:8080/"
        },
        "id": "r3UdUJCSd_Cz",
        "outputId": "f50586dc-1094-499f-e621-e09841d2b316"
      },
      "execution_count": 15,
      "outputs": [
        {
          "output_type": "stream",
          "name": "stdout",
          "text": [
            "1\n",
            "2\n"
          ]
        }
      ]
    },
    {
      "cell_type": "code",
      "source": [
        "x, y, z = [1, 2, 3]\n",
        "print(x, y, z)"
      ],
      "metadata": {
        "colab": {
          "base_uri": "https://localhost:8080/"
        },
        "id": "5Zltg8NYetwM",
        "outputId": "55b04e20-f869-4397-ffad-9b02e093291d"
      },
      "execution_count": 16,
      "outputs": [
        {
          "output_type": "stream",
          "name": "stdout",
          "text": [
            "1 2 3\n"
          ]
        }
      ]
    },
    {
      "cell_type": "markdown",
      "source": [
        "## tuple과 for 반복문"
      ],
      "metadata": {
        "id": "RhgeyqCsfvGc"
      }
    },
    {
      "cell_type": "code",
      "source": [
        "for x in (1, 2, 10, 20):\n",
        "    print(x)"
      ],
      "metadata": {
        "colab": {
          "base_uri": "https://localhost:8080/"
        },
        "id": "IphCXIk6fz9j",
        "outputId": "6e9940bf-353e-469c-c665-e2769de0eb64"
      },
      "execution_count": 17,
      "outputs": [
        {
          "output_type": "stream",
          "name": "stdout",
          "text": [
            "1\n",
            "2\n",
            "10\n",
            "20\n"
          ]
        }
      ]
    },
    {
      "cell_type": "code",
      "source": [
        "mat_tuple = ((1, 2),\n",
        "             (3, 4),\n",
        "             (5, 6))\n",
        "for row in mat_tuple:\n",
        "    for x in row:\n",
        "        print(x, end='\\t')\n",
        "    print()"
      ],
      "metadata": {
        "colab": {
          "base_uri": "https://localhost:8080/"
        },
        "id": "1RGgywXcf55T",
        "outputId": "e51a25d4-9313-4738-f41d-5d97ddee2f74"
      },
      "execution_count": 20,
      "outputs": [
        {
          "output_type": "stream",
          "name": "stdout",
          "text": [
            "1\t2\t\n",
            "3\t4\t\n",
            "5\t6\t\n"
          ]
        }
      ]
    },
    {
      "cell_type": "code",
      "source": [
        "for x, y in mat_tuple:\n",
        "    print(x, y, sep='\\t')"
      ],
      "metadata": {
        "colab": {
          "base_uri": "https://localhost:8080/"
        },
        "id": "XuYeCJuOhruT",
        "outputId": "356f4978-bc19-487d-bc23-433fcb68b1d6"
      },
      "execution_count": 22,
      "outputs": [
        {
          "output_type": "stream",
          "name": "stdout",
          "text": [
            "1\t2\n",
            "3\t4\n",
            "5\t6\n"
          ]
        }
      ]
    }
  ]
}