{
  "nbformat": 4,
  "nbformat_minor": 0,
  "metadata": {
    "colab": {
      "name": "da10_apt.ipynb",
      "provenance": [],
      "authorship_tag": "ABX9TyMM9F1KnbwglRrteIYdGE44",
      "include_colab_link": true
    },
    "kernelspec": {
      "name": "python3",
      "display_name": "Python 3"
    },
    "language_info": {
      "name": "python"
    }
  },
  "cells": [
    {
      "cell_type": "markdown",
      "metadata": {
        "id": "view-in-github",
        "colab_type": "text"
      },
      "source": [
        "<a href=\"https://colab.research.google.com/github/JakeOh/202205_itw_bd34/blob/main/da10_apt.ipynb\" target=\"_parent\"><img src=\"https://colab.research.google.com/assets/colab-badge.svg\" alt=\"Open In Colab\"/></a>"
      ]
    },
    {
      "cell_type": "markdown",
      "source": [
        "\n",
        "*   [apt_201910.csv](https://github.com/JakeOh/202205_itw_bd34/raw/main/datasets/apt_201910.csv) 파일을 읽고 DataFrame 생성\n",
        "    *   encoding 파라미터 설정\n",
        "    *   '가격' 컬럼에는 숫자 자릿수를 구분하는 comma가 사용되고 있음(예: 10,000)\n",
        "        *   '가격' 컬럼은 숫자 타입이어야 함!\n",
        "*   데이터 프레임 파악\n",
        "    *   info, head, tail, describe, dtypes, ...\n",
        "*   '시군구' 컬럼의 값을 이용해서, 'province' 파생 변수(도, 광역시 이름) 만듦.\n",
        "    *   '강원도 강릉시 견소동' -> '강원도'\n",
        "*   '계약년월' 컬럼의 값을 이용해서, 'year(계약년도)', 'month(계약월)' 파생 변수 만듦.\n",
        "    *   201910 -> 2019, 10\n",
        "*    서울특별시 아파트들의 동별 아파트 가격의 개수, 평균, 최솟값, 최댓값\n",
        "*    도/광역시별 아파트 가격 개수, 평균, 최솟값, 최댓값\n",
        "*    면적이  $84 m^2$  이상  $100 m^2$  미만의 서울특별시 아파트들 중에서, 동별 아파트 가격 개수, 평균, 최솟값, 최댓값\n",
        "*    면적이 $84 m^2$ 이상 $100 m^2$ 미만의 아파트들 중에서, 도/광역시별 아파트 가격 개수, 평균, 최솟값, 최댓값\n",
        "    *   결과를 평균의 내림차순으로 정렬해서 출력\n",
        "    *   결과를 최댓값의 내림차순으로 정렬해서 출력\n",
        "    *   결과를 최솟값의 오름차순으로 정렬해서 출력\n"
      ],
      "metadata": {
        "id": "e7wWh-0qQu4y"
      }
    },
    {
      "cell_type": "code",
      "execution_count": null,
      "metadata": {
        "id": "7rolDNrJQpcS"
      },
      "outputs": [],
      "source": [
        ""
      ]
    }
  ]
}