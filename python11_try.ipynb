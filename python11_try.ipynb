{
  "nbformat": 4,
  "nbformat_minor": 0,
  "metadata": {
    "colab": {
      "name": "python11_try.ipynb",
      "provenance": [],
      "collapsed_sections": [],
      "authorship_tag": "ABX9TyN4U7vk4VeMdbl6TuIUlTxc",
      "include_colab_link": true
    },
    "kernelspec": {
      "name": "python3",
      "display_name": "Python 3"
    },
    "language_info": {
      "name": "python"
    }
  },
  "cells": [
    {
      "cell_type": "markdown",
      "metadata": {
        "id": "view-in-github",
        "colab_type": "text"
      },
      "source": [
        "<a href=\"https://colab.research.google.com/github/JakeOh/202205_itw_bd34/blob/main/python11_try.ipynb\" target=\"_parent\"><img src=\"https://colab.research.google.com/assets/colab-badge.svg\" alt=\"Open In Colab\"/></a>"
      ]
    },
    {
      "cell_type": "markdown",
      "source": [
        "# 오류(Error)의 종류"
      ],
      "metadata": {
        "id": "BGj01tM3tvt2"
      }
    },
    {
      "cell_type": "code",
      "source": [
        "# prnt('안녕하세요.')\n",
        "#> NameError 발생: 'prnt' 이름의 함수가 정의되어 있지 않기 때문에\n",
        "print('안녕하세요')"
      ],
      "metadata": {
        "colab": {
          "base_uri": "https://localhost:8080/"
        },
        "id": "93P1x_rBtvF_",
        "outputId": "6b8456a9-1564-4e40-a45c-77f3d1b16d60"
      },
      "execution_count": 2,
      "outputs": [
        {
          "output_type": "stream",
          "name": "stdout",
          "text": [
            "안녕하세요\n"
          ]
        }
      ]
    },
    {
      "cell_type": "code",
      "execution_count": 4,
      "metadata": {
        "id": "8g33GTWXtju9"
      },
      "outputs": [],
      "source": [
        "# n = int('100.')\n",
        "#> ValueError 발생: '100.' 문자열 literal(값)은 정수로 변환할 수 없기 때문에\n",
        "n = int('100')"
      ]
    },
    {
      "cell_type": "code",
      "source": [
        "# print(100 + '200')\n",
        "#> TypeError: '숫자 + 문자열'은 제공되지 않는 연산이기 때문에.\n",
        "print(100 + 200)\n",
        "print('100' + '200')"
      ],
      "metadata": {
        "colab": {
          "base_uri": "https://localhost:8080/"
        },
        "id": "UTdAvOcZwXi2",
        "outputId": "77bf9d1d-1a6e-4542-e1fe-db0f7a6a871f"
      },
      "execution_count": 6,
      "outputs": [
        {
          "output_type": "stream",
          "name": "stdout",
          "text": [
            "300\n",
            "100200\n"
          ]
        }
      ]
    },
    {
      "cell_type": "code",
      "source": [
        "numbers = [1, 2, 3]\n",
        "# print(numbers[3])\n",
        "#> IndexError: 리스트의 인덱스가 범위를 벗어났기 때문에.\n",
        "print(numbers[2])"
      ],
      "metadata": {
        "colab": {
          "base_uri": "https://localhost:8080/"
        },
        "id": "tpeWpoiTxxsv",
        "outputId": "02940b11-ba01-4552-8b83-830b4c2be099"
      },
      "execution_count": 8,
      "outputs": [
        {
          "output_type": "stream",
          "name": "stdout",
          "text": [
            "3\n"
          ]
        }
      ]
    },
    {
      "cell_type": "markdown",
      "source": [
        "프로그램 실행 중에 오류(error)가 발생하는 경우 해결 방법:\n",
        "\n",
        "*   오류가 발생한 위치와 원인을 파악해서 오류가 발생하지 않도록 코드를 수정.\n",
        "*   오류가 발생하더라도 프로그램이 (비정상적으로) 종료되지 않고 계속 실행될 수 있도록 처리.\n"
      ],
      "metadata": {
        "id": "plCzMYOby45_"
      }
    },
    {
      "cell_type": "markdown",
      "source": [
        "# try-except 구문"
      ],
      "metadata": {
        "id": "C5JQOTulyvWB"
      }
    },
    {
      "cell_type": "markdown",
      "source": [
        "\n",
        "```\n",
        "try:\n",
        "    (1) 실행할 코드 블록\n",
        "except [에러 이름 [as 변수]]:\n",
        "    (2) 에러가 발생했을 때 실행 코드 블록\n",
        "[else:\n",
        "    (3) try 블록이 에러 없이 정상적으로 모두 실행됐을 때 실행할 코드 블록]\n",
        "[finally:\n",
        "    (4) try 블록 실행 중에 에러 발생 여부에 상관없이 항상 실행할 코드 블록]\n",
        "```\n",
        "\n",
        "*   except에서 에러 이름을 생략하면, 모든 종류의 에러를 처리할 수 있음.\n",
        "*   except에서 에러 이름를 지정하면, 지정한 이름의 에러만 처리할 수 있음.\n",
        "*   처리해야 할 에러의 종류가 여러개가 있다면 except 구문을 여러개 사용할 수도 있음.\n",
        "*   try 구문의 실행 순서\n",
        "    *   에러가 발생하지 않은 경우: (1) -> (3) -> (4)\n",
        "    *   에러가 발생한 경우: (1) -> (2) -> (4)\n",
        "    "
      ],
      "metadata": {
        "id": "K04a1vjAzYuI"
      }
    },
    {
      "cell_type": "code",
      "source": [
        "x = float(input('숫자 입력>>> '))\n",
        "y = float(input('숫자 입력>>> '))\n",
        "print(f'{x} + {y} = {x + y}')\n",
        "print(f'{x} - {y} = {x - y}')\n",
        "print(f'{x} x {y} = {x * y}')\n",
        "print(f'{x} / {y} = {x / y}')"
      ],
      "metadata": {
        "colab": {
          "base_uri": "https://localhost:8080/",
          "height": 286
        },
        "id": "-iRXGD-D1bow",
        "outputId": "23108d7c-03a5-4a47-b3cd-86f5b41370f8"
      },
      "execution_count": 10,
      "outputs": [
        {
          "name": "stdout",
          "output_type": "stream",
          "text": [
            "숫자 입력>>> 1.0\n",
            "숫자 입력>>> 2.a\n"
          ]
        },
        {
          "output_type": "error",
          "ename": "ValueError",
          "evalue": "ignored",
          "traceback": [
            "\u001b[0;31m---------------------------------------------------------------------------\u001b[0m",
            "\u001b[0;31mValueError\u001b[0m                                Traceback (most recent call last)",
            "\u001b[0;32m<ipython-input-10-315d048bbd64>\u001b[0m in \u001b[0;36m<module>\u001b[0;34m()\u001b[0m\n\u001b[1;32m      1\u001b[0m \u001b[0mx\u001b[0m \u001b[0;34m=\u001b[0m \u001b[0mfloat\u001b[0m\u001b[0;34m(\u001b[0m\u001b[0minput\u001b[0m\u001b[0;34m(\u001b[0m\u001b[0;34m'숫자 입력>>> '\u001b[0m\u001b[0;34m)\u001b[0m\u001b[0;34m)\u001b[0m\u001b[0;34m\u001b[0m\u001b[0;34m\u001b[0m\u001b[0m\n\u001b[0;32m----> 2\u001b[0;31m \u001b[0my\u001b[0m \u001b[0;34m=\u001b[0m \u001b[0mfloat\u001b[0m\u001b[0;34m(\u001b[0m\u001b[0minput\u001b[0m\u001b[0;34m(\u001b[0m\u001b[0;34m'숫자 입력>>> '\u001b[0m\u001b[0;34m)\u001b[0m\u001b[0;34m)\u001b[0m\u001b[0;34m\u001b[0m\u001b[0;34m\u001b[0m\u001b[0m\n\u001b[0m\u001b[1;32m      3\u001b[0m \u001b[0mprint\u001b[0m\u001b[0;34m(\u001b[0m\u001b[0;34mf'{x} + {y} = {x + y}'\u001b[0m\u001b[0;34m)\u001b[0m\u001b[0;34m\u001b[0m\u001b[0;34m\u001b[0m\u001b[0m\n\u001b[1;32m      4\u001b[0m \u001b[0mprint\u001b[0m\u001b[0;34m(\u001b[0m\u001b[0;34mf'{x} - {y} = {x - y}'\u001b[0m\u001b[0;34m)\u001b[0m\u001b[0;34m\u001b[0m\u001b[0;34m\u001b[0m\u001b[0m\n\u001b[1;32m      5\u001b[0m \u001b[0mprint\u001b[0m\u001b[0;34m(\u001b[0m\u001b[0;34mf'{x} x {y} = {x * y}'\u001b[0m\u001b[0;34m)\u001b[0m\u001b[0;34m\u001b[0m\u001b[0;34m\u001b[0m\u001b[0m\n",
            "\u001b[0;31mValueError\u001b[0m: could not convert string to float: '2.a'"
          ]
        }
      ]
    }
  ]
}