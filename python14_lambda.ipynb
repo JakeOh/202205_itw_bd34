{
  "nbformat": 4,
  "nbformat_minor": 0,
  "metadata": {
    "colab": {
      "name": "python14_lambda.ipynb",
      "provenance": [],
      "collapsed_sections": [],
      "authorship_tag": "ABX9TyOO/Dm6Ab6LPdzILFYAEsgj",
      "include_colab_link": true
    },
    "kernelspec": {
      "name": "python3",
      "display_name": "Python 3"
    },
    "language_info": {
      "name": "python"
    }
  },
  "cells": [
    {
      "cell_type": "markdown",
      "metadata": {
        "id": "view-in-github",
        "colab_type": "text"
      },
      "source": [
        "<a href=\"https://colab.research.google.com/github/JakeOh/202205_itw_bd34/blob/main/python14_lambda.ipynb\" target=\"_parent\"><img src=\"https://colab.research.google.com/assets/colab-badge.svg\" alt=\"Open In Colab\"/></a>"
      ]
    },
    {
      "cell_type": "markdown",
      "source": [
        "# 1급 객체(first-class object)로서의 함수"
      ],
      "metadata": {
        "id": "o8sXiOYt1XJ_"
      }
    },
    {
      "cell_type": "markdown",
      "source": [
        "함수(function)은 객체(object)이다.\n",
        "\n",
        "*   함수는 변수에 할당(저장)할 수 있음.\n",
        "*   함수의 argument로 다른 함수를 전달할 수 있음."
      ],
      "metadata": {
        "id": "E7R84gcG1eul"
      }
    },
    {
      "cell_type": "code",
      "execution_count": 3,
      "metadata": {
        "colab": {
          "base_uri": "https://localhost:8080/"
        },
        "id": "hx0a3Onh1ClY",
        "outputId": "c65dc8d8-ed56-48bc-f1b7-81873af0249a"
      },
      "outputs": [
        {
          "output_type": "execute_result",
          "data": {
            "text/plain": [
              "1"
            ]
          },
          "metadata": {},
          "execution_count": 3
        }
      ],
      "source": [
        "# 숫자는 객체(object)다. --> 숫자는 변수에 저장\n",
        "x = 1\n",
        "x"
      ]
    },
    {
      "cell_type": "code",
      "source": [
        "print(x)  # --> 숫자는 함수의 argument로 전달할 수 있음."
      ],
      "metadata": {
        "colab": {
          "base_uri": "https://localhost:8080/"
        },
        "id": "VRMuRfOS29QP",
        "outputId": "20161ca5-71ce-41a7-d081-cf9a57d57a9a"
      },
      "execution_count": 4,
      "outputs": [
        {
          "output_type": "stream",
          "name": "stdout",
          "text": [
            "1\n"
          ]
        }
      ]
    },
    {
      "cell_type": "code",
      "source": [
        "# 함수 정의\n",
        "def twice(x):\n",
        "    return 2 * x"
      ],
      "metadata": {
        "id": "zyf6AOyE3Cam"
      },
      "execution_count": 5,
      "outputs": []
    },
    {
      "cell_type": "code",
      "source": [
        "twice  # 함수 호출 아님! twice 라는 이름의 객체를 콘솔창에 출력."
      ],
      "metadata": {
        "colab": {
          "base_uri": "https://localhost:8080/"
        },
        "id": "A92xPNAV3lbQ",
        "outputId": "41bf1016-e7e0-48ca-a37d-9ff81cabe468"
      },
      "execution_count": 6,
      "outputs": [
        {
          "output_type": "execute_result",
          "data": {
            "text/plain": [
              "<function __main__.twice>"
            ]
          },
          "metadata": {},
          "execution_count": 6
        }
      ]
    },
    {
      "cell_type": "code",
      "source": [
        "twice(2)  # 함수 호출."
      ],
      "metadata": {
        "colab": {
          "base_uri": "https://localhost:8080/"
        },
        "id": "dneUcRxF4KrH",
        "outputId": "af1ba6b8-6701-43f2-ed6a-9c37c11c42fe"
      },
      "execution_count": 7,
      "outputs": [
        {
          "output_type": "execute_result",
          "data": {
            "text/plain": [
              "4"
            ]
          },
          "metadata": {},
          "execution_count": 7
        }
      ]
    },
    {
      "cell_type": "code",
      "source": [
        "result = twice(3)  # 함수 twice()의 호출 결과를 변수 result에 저장.\n",
        "result"
      ],
      "metadata": {
        "colab": {
          "base_uri": "https://localhost:8080/"
        },
        "id": "PnHTkSNG4i3v",
        "outputId": "0b98b00b-adc8-449e-912f-6d18fb81cff6"
      },
      "execution_count": 8,
      "outputs": [
        {
          "output_type": "execute_result",
          "data": {
            "text/plain": [
              "6"
            ]
          },
          "metadata": {},
          "execution_count": 8
        }
      ]
    },
    {
      "cell_type": "code",
      "source": [
        "double = twice  # 함수 twice를 변수 double에 저장.\n",
        "double"
      ],
      "metadata": {
        "colab": {
          "base_uri": "https://localhost:8080/"
        },
        "id": "_hazEYfm4XVO",
        "outputId": "cb43763c-6f21-4de5-c5c3-5e78bb074b3e"
      },
      "execution_count": 9,
      "outputs": [
        {
          "output_type": "execute_result",
          "data": {
            "text/plain": [
              "<function __main__.twice>"
            ]
          },
          "metadata": {},
          "execution_count": 9
        }
      ]
    },
    {
      "cell_type": "code",
      "source": [
        "double(3)  # 변수 double은 함수이므로 호출할 수 있음."
      ],
      "metadata": {
        "colab": {
          "base_uri": "https://localhost:8080/"
        },
        "id": "Hp3CAdYU5WZo",
        "outputId": "9e54a428-4d8c-4f9e-f58b-15769f05e708"
      },
      "execution_count": 10,
      "outputs": [
        {
          "output_type": "execute_result",
          "data": {
            "text/plain": [
              "6"
            ]
          },
          "metadata": {},
          "execution_count": 10
        }
      ]
    },
    {
      "cell_type": "code",
      "source": [
        "def calculate(x, y, fn):\n",
        "    \"\"\" fn(x, y)의 결과를 리턴.\n",
        "    \n",
        "    @param x: 숫자.\n",
        "    @param y: 숫자.\n",
        "    @param fn: 함수.\n",
        "    \"\"\"\n",
        "    result = fn(x, y)\n",
        "    return result"
      ],
      "metadata": {
        "id": "dgAYqwiv5yFo"
      },
      "execution_count": 11,
      "outputs": []
    },
    {
      "cell_type": "code",
      "source": [
        "def plus(x, y):\n",
        "    return x + y"
      ],
      "metadata": {
        "id": "xyxYjaO66RKp"
      },
      "execution_count": 12,
      "outputs": []
    },
    {
      "cell_type": "code",
      "source": [
        "calculate(1, 2, plus)\n",
        "#> calculate 함수를 호출할 때 파라미터 fn에 plus 함수를 argument로 전달."
      ],
      "metadata": {
        "colab": {
          "base_uri": "https://localhost:8080/"
        },
        "id": "hCxoEC5S6ofg",
        "outputId": "f97734d0-c19c-4d9f-d7c5-d8c6260c41c0"
      },
      "execution_count": 13,
      "outputs": [
        {
          "output_type": "execute_result",
          "data": {
            "text/plain": [
              "3"
            ]
          },
          "metadata": {},
          "execution_count": 13
        }
      ]
    },
    {
      "cell_type": "code",
      "source": [
        "def minus(x, y):\n",
        "    return x - y"
      ],
      "metadata": {
        "id": "0le_wgq17_Ip"
      },
      "execution_count": 14,
      "outputs": []
    },
    {
      "cell_type": "code",
      "source": [
        "calculate(1, 2, minus)"
      ],
      "metadata": {
        "colab": {
          "base_uri": "https://localhost:8080/"
        },
        "id": "ncnoYhS98CSR",
        "outputId": "be48fe7c-d39d-4e7f-f811-bf15c6ab0ca5"
      },
      "execution_count": 15,
      "outputs": [
        {
          "output_type": "execute_result",
          "data": {
            "text/plain": [
              "-1"
            ]
          },
          "metadata": {},
          "execution_count": 15
        }
      ]
    },
    {
      "cell_type": "markdown",
      "source": [
        "# 람다 표현식(Lambda expression)"
      ],
      "metadata": {
        "id": "QsBVOoS4CHY7"
      }
    },
    {
      "cell_type": "markdown",
      "source": [
        "```\n",
        "lambda param1, param2, ...: expression\n",
        "```\n",
        "\n",
        "*   이름이 없는 함수.\n",
        "*   함수 이름을 만들지 않고, 함수의 파라미터 선언과 함수의 반환 값(식)만으로 함수를 정의 하는 방법.\n",
        "*   간단하게 정의할 수 있는 함수를 변수(파라미터)에 저장하기 위한 용도.\n"
      ],
      "metadata": {
        "id": "Iom8bduYCM4z"
      }
    },
    {
      "cell_type": "code",
      "source": [
        "plus_one = lambda x: x + 1  # argument x를 전달받아서 x+1을 리턴하는 함수."
      ],
      "metadata": {
        "id": "lBacJw1JDXl8"
      },
      "execution_count": 16,
      "outputs": []
    },
    {
      "cell_type": "code",
      "source": [
        "plus_one(1)"
      ],
      "metadata": {
        "colab": {
          "base_uri": "https://localhost:8080/"
        },
        "id": "t-3XdeOYDojc",
        "outputId": "23db5f48-c7cc-4521-a8e4-dafc553833fc"
      },
      "execution_count": 17,
      "outputs": [
        {
          "output_type": "execute_result",
          "data": {
            "text/plain": [
              "2"
            ]
          },
          "metadata": {},
          "execution_count": 17
        }
      ]
    },
    {
      "cell_type": "code",
      "source": [
        "plus = lambda x, y: x + y  # argument로 x, y를 전달받아서 x + y를 리턴하는 함수."
      ],
      "metadata": {
        "id": "fANgigfdEAE0"
      },
      "execution_count": 18,
      "outputs": []
    },
    {
      "cell_type": "code",
      "source": [
        "plus(1, 2)"
      ],
      "metadata": {
        "colab": {
          "base_uri": "https://localhost:8080/"
        },
        "id": "GaBR-BLiEb59",
        "outputId": "18b68d81-aa51-4556-d2a0-e5b268ed6f93"
      },
      "execution_count": 19,
      "outputs": [
        {
          "output_type": "execute_result",
          "data": {
            "text/plain": [
              "3"
            ]
          },
          "metadata": {},
          "execution_count": 19
        }
      ]
    },
    {
      "cell_type": "code",
      "source": [
        "# 람다 표현식은 argument로 다른 함수에 전달할 수 있음.\n",
        "calculate(1, 2, lambda x, y: x + y)"
      ],
      "metadata": {
        "colab": {
          "base_uri": "https://localhost:8080/"
        },
        "id": "_fi-c1rBEe7b",
        "outputId": "d75a0501-9abb-49af-fc76-7e89f0bd8abe"
      },
      "execution_count": 20,
      "outputs": [
        {
          "output_type": "execute_result",
          "data": {
            "text/plain": [
              "3"
            ]
          },
          "metadata": {},
          "execution_count": 20
        }
      ]
    },
    {
      "cell_type": "code",
      "source": [
        "calculate(1, 2, lambda x, y: x - y)"
      ],
      "metadata": {
        "colab": {
          "base_uri": "https://localhost:8080/"
        },
        "id": "qvYPBeeIE348",
        "outputId": "a73bb6e3-8bb9-4143-852c-96ba0b5393c8"
      },
      "execution_count": 21,
      "outputs": [
        {
          "output_type": "execute_result",
          "data": {
            "text/plain": [
              "-1"
            ]
          },
          "metadata": {},
          "execution_count": 21
        }
      ]
    },
    {
      "cell_type": "markdown",
      "source": [
        "## lambda 식을 argument로 전달받는 함수의 예"
      ],
      "metadata": {
        "id": "WOX-HgQlF3be"
      }
    },
    {
      "cell_type": "markdown",
      "source": [
        "*   filtering: 전체 데이터에서 조건을 만족하는 데이터만 선택."
      ],
      "metadata": {
        "id": "AcA8a2AJi6DZ"
      }
    },
    {
      "cell_type": "code",
      "source": [
        "numbers = [1, -2, -3, 4, 5, -6]"
      ],
      "metadata": {
        "id": "1yBhQZURGAUM"
      },
      "execution_count": 22,
      "outputs": []
    },
    {
      "cell_type": "code",
      "source": [
        "# numbers 리스트에서 양수들로만 이루어진 리스트 --> filtering\n",
        "result = filter(lambda x: x > 0, numbers)\n",
        "list(result)  # filtering된 결과를 list로 만듦."
      ],
      "metadata": {
        "colab": {
          "base_uri": "https://localhost:8080/"
        },
        "id": "78IdUCgKGo-d",
        "outputId": "0a0dfb34-5344-41e6-e5be-d4d57aa9805f"
      },
      "execution_count": 23,
      "outputs": [
        {
          "output_type": "execute_result",
          "data": {
            "text/plain": [
              "[1, 4, 5]"
            ]
          },
          "metadata": {},
          "execution_count": 23
        }
      ]
    },
    {
      "cell_type": "code",
      "source": [
        "# number 리스트에서 짝수들로만 이루어진 리스트 --> filtering\n",
        "result = filter(lambda x: x % 2 == 0, numbers)\n",
        "list(result)"
      ],
      "metadata": {
        "colab": {
          "base_uri": "https://localhost:8080/"
        },
        "id": "HD5hf7DGIUqI",
        "outputId": "3995c1c7-a75a-4655-a07b-1fea6f6e1c52"
      },
      "execution_count": 24,
      "outputs": [
        {
          "output_type": "execute_result",
          "data": {
            "text/plain": [
              "[-2, 4, -6]"
            ]
          },
          "metadata": {},
          "execution_count": 24
        }
      ]
    },
    {
      "cell_type": "markdown",
      "source": [
        "*   mapping: 'Male' --> 0, 'Female' --> 1"
      ],
      "metadata": {
        "id": "uOQ1qd-wk3x5"
      }
    },
    {
      "cell_type": "code",
      "source": [
        "gender = ['Female', 'Male', 'Male', 'Female']"
      ],
      "metadata": {
        "id": "3mAOR19xlWAR"
      },
      "execution_count": 25,
      "outputs": []
    },
    {
      "cell_type": "code",
      "source": [
        "result = map(lambda x: 0 if x == 'Male' else 1, gender)\n",
        "tuple(result)"
      ],
      "metadata": {
        "colab": {
          "base_uri": "https://localhost:8080/"
        },
        "id": "Bg2qd1TrljmK",
        "outputId": "82618b6b-2fc5-4c33-a19f-cb8dbc6df794"
      },
      "execution_count": 26,
      "outputs": [
        {
          "output_type": "execute_result",
          "data": {
            "text/plain": [
              "(1, 0, 0, 1)"
            ]
          },
          "metadata": {},
          "execution_count": 26
        }
      ]
    },
    {
      "cell_type": "markdown",
      "source": [
        "*   [0, 100) 범위의 정수 10개를 저장하고 있는 리스트에서, 원소가 짝수이면 'even', 홀수이면 'odd'를 갖는 새로운 리스트를 매핑\n",
        "\n",
        "```\n",
        "[10, 55, 90, ...] --> ['even', 'odd', 'even', ...]\n",
        "```\n"
      ],
      "metadata": {
        "id": "NmIjTI8WrWb2"
      }
    },
    {
      "cell_type": "code",
      "source": [
        "import random"
      ],
      "metadata": {
        "id": "vD7o4xjqm94T"
      },
      "execution_count": 27,
      "outputs": []
    },
    {
      "cell_type": "code",
      "source": [
        "numbers = [random.randrange(100) for _ in range(10)]\n",
        "numbers"
      ],
      "metadata": {
        "colab": {
          "base_uri": "https://localhost:8080/"
        },
        "id": "pdzQJQH9r5_0",
        "outputId": "df7e4188-a461-41af-c363-eaaae5898a4e"
      },
      "execution_count": 29,
      "outputs": [
        {
          "output_type": "execute_result",
          "data": {
            "text/plain": [
              "[51, 96, 42, 28, 75, 14, 91, 57, 6, 35]"
            ]
          },
          "metadata": {},
          "execution_count": 29
        }
      ]
    },
    {
      "cell_type": "code",
      "source": [
        "result = map(lambda x: 'even' if x % 2 == 0 else 'odd', numbers)\n",
        "list(result)"
      ],
      "metadata": {
        "colab": {
          "base_uri": "https://localhost:8080/"
        },
        "id": "zX4468BxsM1N",
        "outputId": "2bfffcc9-9927-4fdb-db74-1aed41514cb9"
      },
      "execution_count": 30,
      "outputs": [
        {
          "output_type": "execute_result",
          "data": {
            "text/plain": [
              "['odd', 'even', 'even', 'even', 'odd', 'even', 'odd', 'odd', 'even', 'odd']"
            ]
          },
          "metadata": {},
          "execution_count": 30
        }
      ]
    },
    {
      "cell_type": "code",
      "source": [
        "# if-else 표현식에서 elif\n",
        "# 0 ~ 19: teen, 20 ~ 59: adult, 60 ~ : senior\n",
        "age = 70\n",
        "category = 'teen' if age < 20 else ('adult' if age < 60 else 'senior')\n",
        "print(category)"
      ],
      "metadata": {
        "colab": {
          "base_uri": "https://localhost:8080/"
        },
        "id": "kAtU_PPCuzO-",
        "outputId": "ccd7e38f-ef7d-4a51-9203-052875ad1719"
      },
      "execution_count": 33,
      "outputs": [
        {
          "output_type": "stream",
          "name": "stdout",
          "text": [
            "senior\n"
          ]
        }
      ]
    },
    {
      "cell_type": "code",
      "source": [
        "age = [random.randrange(100) for _ in range(10)]\n",
        "age"
      ],
      "metadata": {
        "colab": {
          "base_uri": "https://localhost:8080/"
        },
        "id": "oZEiKziGxKZm",
        "outputId": "90b5f013-e49e-4c4a-fd6d-f60248f8bd1a"
      },
      "execution_count": 36,
      "outputs": [
        {
          "output_type": "execute_result",
          "data": {
            "text/plain": [
              "[82, 47, 45, 79, 4, 30, 19, 83, 61, 48]"
            ]
          },
          "metadata": {},
          "execution_count": 36
        }
      ]
    },
    {
      "cell_type": "code",
      "source": [
        "result = map(lambda x: 'teen' if x < 20 else ('adult' if x < 60 else 'senior'), \n",
        "             age)\n",
        "list(result)"
      ],
      "metadata": {
        "colab": {
          "base_uri": "https://localhost:8080/"
        },
        "id": "gwGvE2SPxRyv",
        "outputId": "a5bfcf2c-eb20-4058-9cb1-5a3b1d334c13"
      },
      "execution_count": 37,
      "outputs": [
        {
          "output_type": "execute_result",
          "data": {
            "text/plain": [
              "['senior',\n",
              " 'adult',\n",
              " 'adult',\n",
              " 'senior',\n",
              " 'teen',\n",
              " 'adult',\n",
              " 'teen',\n",
              " 'senior',\n",
              " 'senior',\n",
              " 'adult']"
            ]
          },
          "metadata": {},
          "execution_count": 37
        }
      ]
    },
    {
      "cell_type": "markdown",
      "source": [
        "### filtering 구현"
      ],
      "metadata": {
        "id": "2N87ae7FzO5f"
      }
    },
    {
      "cell_type": "code",
      "source": [
        "def my_filter(iterable, fn):\n",
        "    \"\"\"iterable의 원소들 중에서 함수 fn의 결과가 True가 되는 원소들로 이루어진 리스트를 리턴.\n",
        "\n",
        "    @param iterable: list, tuple.\n",
        "    @param fn: argument가 1개이고 True 또는 False를 리턴하는 함수.\n",
        "    @return: list. [x1, x2, ...]\n",
        "    \"\"\"\n",
        "    \n",
        "    # result = []  # 필터링된 결과들을 저장할 빈 리스트.\n",
        "    # for x in iterable:  # iterable에서 원소를 하나씩 꺼내면서 반복\n",
        "    #     if fn(x):  # 함수 fn()의 리턴값이 True이면\n",
        "    #         result.append(x)  # 필터링 결과 리스트에 추가.\n",
        "    result = [x for x in iterable if fn(x)]\n",
        "\n",
        "    return result"
      ],
      "metadata": {
        "id": "Fh6e3ki9yf5X"
      },
      "execution_count": 41,
      "outputs": []
    },
    {
      "cell_type": "code",
      "source": [
        "numbers = [random.randrange(100) for _ in range(10)]\n",
        "print(numbers)\n",
        "\n",
        "result = my_filter(numbers, lambda x: x % 2 == 0)  # 숫자들 중에서 짝수만 필터링\n",
        "print(result)"
      ],
      "metadata": {
        "colab": {
          "base_uri": "https://localhost:8080/"
        },
        "id": "FH4gqPIC1C2R",
        "outputId": "b7a745c1-b8f5-43ca-cfac-369edbf45039"
      },
      "execution_count": 42,
      "outputs": [
        {
          "output_type": "stream",
          "name": "stdout",
          "text": [
            "[23, 15, 0, 47, 35, 21, 82, 80, 39, 31]\n",
            "[0, 82, 80]\n"
          ]
        }
      ]
    },
    {
      "cell_type": "code",
      "source": [
        "age = [random.randrange(100) for _ in range(10)]\n",
        "print(age)\n",
        "\n",
        "# age의 원소들 중에서 미성년자(20세 미만)인 데이터들만 필터링\n",
        "result = my_filter(age, lambda x: x < 20)\n",
        "print(result)"
      ],
      "metadata": {
        "colab": {
          "base_uri": "https://localhost:8080/"
        },
        "id": "WFcYCM981dwp",
        "outputId": "bc3ff743-af18-4275-a4d6-e5c97ee9b846"
      },
      "execution_count": 44,
      "outputs": [
        {
          "output_type": "stream",
          "name": "stdout",
          "text": [
            "[90, 67, 90, 40, 16, 80, 24, 7, 83, 30]\n",
            "[16, 7]\n"
          ]
        }
      ]
    },
    {
      "cell_type": "markdown",
      "source": [
        "### mapping 구현"
      ],
      "metadata": {
        "id": "w3JReLDy9TNn"
      }
    },
    {
      "cell_type": "code",
      "source": [
        "def my_mapper1(iterable, fn):\n",
        "    \"\"\"iterable의 원소를 함수 fn의 argument로 전달했을 때 그 리턴값들로 이루어진 리스트를 리턴.\n",
        "\n",
        "    @param iterable: list, tuple.\n",
        "    @param fn: argument가 1개이고 리턴값을 갖는 함수.\n",
        "    @return: list. [fn(x1), fn(x2), ...].\n",
        "    \"\"\"\n",
        "    \n",
        "    # result = []  # 함수 fn()의 리턴값들을 저장할 빈 리스트.\n",
        "    # for x in iterable:  # iterable의 원소들을 하나씩 꺼내서 반복하면서\n",
        "    #     result.append(fn(x))  # 원소 x를 함수 fn()에 전달했을 때 리턴값을 리스트에 추가.\n",
        "    result = [fn(x) for x in iterable]\n",
        "\n",
        "    return result"
      ],
      "metadata": {
        "id": "1MysdEuH8GQq"
      },
      "execution_count": 45,
      "outputs": []
    },
    {
      "cell_type": "code",
      "source": [
        "# my_mapper1() 테스트 코드\n",
        "gender = ['Female', 'Female', 'Male', 'Female', 'Male']\n",
        "\n",
        "# 'Female' --> 1, 'Male' --> 0\n",
        "result = my_mapper1(gender, lambda x: 0 if x == 'Male' else 1)\n",
        "print(result)"
      ],
      "metadata": {
        "colab": {
          "base_uri": "https://localhost:8080/"
        },
        "id": "jicrdUA_-VSk",
        "outputId": "71729d2a-cbb3-49f8-86e0-ec57f3fef41d"
      },
      "execution_count": 46,
      "outputs": [
        {
          "output_type": "stream",
          "name": "stdout",
          "text": [
            "[1, 1, 0, 1, 0]\n"
          ]
        }
      ]
    },
    {
      "cell_type": "code",
      "source": [
        "# 문자열들의 리스트를 그 문자열의 길이를 갖는 리스트에 mapping\n",
        "# ['abc', 'apple', '안녕하세요!'] --> [3, 5, 6]\n",
        "words = ['abc', 'apple', '안녕하세요!', 'Hello, python.']\n",
        "result = my_mapper1(words, lambda x: len(x))\n",
        "print(result)"
      ],
      "metadata": {
        "colab": {
          "base_uri": "https://localhost:8080/"
        },
        "id": "gl7gZ_qBV7U8",
        "outputId": "aef06377-66b8-4bb4-d2d0-bc1f07845e76"
      },
      "execution_count": 48,
      "outputs": [
        {
          "output_type": "stream",
          "name": "stdout",
          "text": [
            "[3, 5, 6, 14]\n"
          ]
        }
      ]
    },
    {
      "cell_type": "code",
      "source": [
        "def my_mapper2(iterable, fn):\n",
        "    \"\"\"iterable의 원소를 key로 하고, 그 원소를 함수 fn에 전달했을 때의 리턴값을 value로 하는 dict를 리턴.\n",
        "\n",
        "    @param iterable: list, tuple.\n",
        "    @param fn: argument는 1개이고 리턴값이 있는 함수.\n",
        "    @return: dict. {x1: fn(x1), x2: fn(x2), ...}\n",
        "    \"\"\"\n",
        "    \n",
        "    # result = {}  # key:value를 저장할 빈 리스트\n",
        "    # for x in iterable:  # iterable에서 원소들을 하나씩 꺼내면서 반복\n",
        "    #     result[x] = fn(x)  # 그 원소 x를 key로 하고, 함수 fn()의 리턴값을 value로 해서 추가.\n",
        "    result = {x: fn(x) for x in iterable}\n",
        "\n",
        "    return result"
      ],
      "metadata": {
        "id": "ZcoreMUn-Y6K"
      },
      "execution_count": 49,
      "outputs": []
    },
    {
      "cell_type": "code",
      "source": [
        "# my_mapper2() 테스트 코드\n",
        "packages = ['NumPy', 'pandas', 'matplotlib', 'seaborn', 'keras', 'tensorflow']\n",
        "result = my_mapper2(packages, lambda x: len(x))\n",
        "print(result)"
      ],
      "metadata": {
        "colab": {
          "base_uri": "https://localhost:8080/"
        },
        "id": "K4vBkd0I_OWt",
        "outputId": "58f938c3-4fcd-468c-dfcc-975b64309f63"
      },
      "execution_count": 50,
      "outputs": [
        {
          "output_type": "stream",
          "name": "stdout",
          "text": [
            "{'NumPy': 5, 'pandas': 6, 'matplotlib': 10, 'seaborn': 7, 'keras': 5, 'tensorflow': 10}\n"
          ]
        }
      ]
    },
    {
      "cell_type": "code",
      "source": [
        "# [0, 100) 범위의 정수 난수 10개를 저장.\n",
        "age = [random.randrange(100) for _ in range(10)]\n",
        "print(age)\n",
        "\n",
        "# 20 미만인 경우 'A', 60 미만인 경우 'B', 60 이상인 경우 'C'를 매핑한 dict.\n",
        "result = my_mapper2(age,\n",
        "                    lambda x: 'A' if x < 20 else ('B' if x < 60 else 'C'))\n",
        "print(result)"
      ],
      "metadata": {
        "colab": {
          "base_uri": "https://localhost:8080/"
        },
        "id": "pdTPrOspadLY",
        "outputId": "eb871af2-e11a-4279-c82a-6ded72968777"
      },
      "execution_count": 51,
      "outputs": [
        {
          "output_type": "stream",
          "name": "stdout",
          "text": [
            "[94, 0, 64, 26, 61, 9, 75, 45, 11, 91]\n",
            "{94: 'C', 0: 'A', 64: 'C', 26: 'B', 61: 'C', 9: 'A', 75: 'C', 45: 'B', 11: 'A', 91: 'C'}\n"
          ]
        }
      ]
    }
  ]
}