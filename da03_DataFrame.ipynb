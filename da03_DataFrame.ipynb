{
  "nbformat": 4,
  "nbformat_minor": 0,
  "metadata": {
    "colab": {
      "name": "da03_DataFrame.ipynb",
      "provenance": [],
      "collapsed_sections": [],
      "authorship_tag": "ABX9TyOsxOqru3ZOcmnNswlrrpgQ",
      "include_colab_link": true
    },
    "kernelspec": {
      "name": "python3",
      "display_name": "Python 3"
    },
    "language_info": {
      "name": "python"
    }
  },
  "cells": [
    {
      "cell_type": "markdown",
      "metadata": {
        "id": "view-in-github",
        "colab_type": "text"
      },
      "source": [
        "<a href=\"https://colab.research.google.com/github/JakeOh/202205_itw_bd34/blob/main/da03_DataFrame.ipynb\" target=\"_parent\"><img src=\"https://colab.research.google.com/assets/colab-badge.svg\" alt=\"Open In Colab\"/></a>"
      ]
    },
    {
      "cell_type": "markdown",
      "source": [
        "# 필요한 모듈 import"
      ],
      "metadata": {
        "id": "pRxkXnOc_W_H"
      }
    },
    {
      "cell_type": "code",
      "execution_count": null,
      "metadata": {
        "id": "DFS-8e0s_PGm"
      },
      "outputs": [],
      "source": [
        "import pandas as pd\n",
        "import seaborn as sns"
      ]
    },
    {
      "cell_type": "markdown",
      "source": [
        "# 예제 데이터셋 가져오기"
      ],
      "metadata": {
        "id": "85ai0r2A_baF"
      }
    },
    {
      "cell_type": "code",
      "source": [
        "tips = sns.load_dataset('tips')"
      ],
      "metadata": {
        "id": "75CAJqCf_ewt"
      },
      "execution_count": null,
      "outputs": []
    },
    {
      "cell_type": "markdown",
      "source": [
        "# Exercises"
      ],
      "metadata": {
        "id": "X3yakJyd_kFn"
      }
    },
    {
      "cell_type": "markdown",
      "source": [
        "*   DataFrame의 row, column 개수\n",
        "*   DataFrame의 컬럼 이름\n",
        "*   DataFrame에서 첫 5개 row 출력\n",
        "*   DataFrmae에서 마지막 5개 row 출력\n",
        "*   DataFrame의 요약 정보 출력\n",
        "*   DataFrame에서 숫자 타입 변수들의 기술 통계량 출력\n",
        "*   DataFrame에서 카테고리 타입 변수들의 빈도수 출력\n",
        "*   total_bill 컬럼의 값이 최댓값인 행을 출력\n",
        "*   total_bill 컬럼의 값이 최솟값인 행을 출력\n",
        "*   남성(sex)들의 팁(tip)의 평균 출력\n",
        "*   여성(sex)들의 팁(tip)의 평균 출력\n",
        "*   일요일(day)의 팁(tip)의 평균 출력\n",
        "*   일요일(day), 남성(sex)의 팁(tip)의 평균 출력\n",
        "*   일요일(day), 여성(sex)의 팁(tip)의 평균 출력"
      ],
      "metadata": {
        "id": "joziX81o_l--"
      }
    }
  ]
}