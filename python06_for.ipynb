{
  "nbformat": 4,
  "nbformat_minor": 0,
  "metadata": {
    "colab": {
      "name": "python06_for.ipynb",
      "provenance": [],
      "collapsed_sections": [],
      "authorship_tag": "ABX9TyM/d5FvQOZV2XY85CjVZmWQ",
      "include_colab_link": true
    },
    "kernelspec": {
      "name": "python3",
      "display_name": "Python 3"
    },
    "language_info": {
      "name": "python"
    }
  },
  "cells": [
    {
      "cell_type": "markdown",
      "metadata": {
        "id": "view-in-github",
        "colab_type": "text"
      },
      "source": [
        "<a href=\"https://colab.research.google.com/github/JakeOh/202205_itw_bd34/blob/main/python06_for.ipynb\" target=\"_parent\"><img src=\"https://colab.research.google.com/assets/colab-badge.svg\" alt=\"Open In Colab\"/></a>"
      ]
    },
    {
      "cell_type": "markdown",
      "source": [
        "# for loop"
      ],
      "metadata": {
        "id": "a-iXb8up4Ulw"
      }
    },
    {
      "cell_type": "markdown",
      "source": [
        "```\n",
        "for 변수 in iterable-type:\n",
        "    반복해서 실행할 코드 블록\n",
        "```\n",
        "\n",
        "*   iterable-type: 순회(반복)이 가능한 데이터 타입.\n",
        "    *   `str`, `range`, `list`, `tuple`, `dict`, ...\n",
        "*   for 반복문은 iterable-type의 객체에서 원소들을 하나씩 꺼내서 변수에 저장하고, 코드 블록을 반복해서 실행.\n",
        "*   iterable-type의 객체에서 더이상 꺼낼 원소가 없을 때 반복문이 종료.\n"
      ],
      "metadata": {
        "id": "a6oCyN5U4YsW"
      }
    },
    {
      "cell_type": "code",
      "execution_count": 1,
      "metadata": {
        "colab": {
          "base_uri": "https://localhost:8080/"
        },
        "id": "DbjQse7C4L-F",
        "outputId": "9de506f8-ce62-4708-cddf-ca40f476a072"
      },
      "outputs": [
        {
          "output_type": "execute_result",
          "data": {
            "text/plain": [
              "True"
            ]
          },
          "metadata": {},
          "execution_count": 1
        }
      ],
      "source": [
        "1 in (1, 2, 3)"
      ]
    },
    {
      "cell_type": "code",
      "source": [
        "5 in (1, 2, 3)"
      ],
      "metadata": {
        "colab": {
          "base_uri": "https://localhost:8080/"
        },
        "id": "yXnnMpps58bn",
        "outputId": "5447f06f-9e58-4553-e7e6-260b656642e9"
      },
      "execution_count": 2,
      "outputs": [
        {
          "output_type": "execute_result",
          "data": {
            "text/plain": [
              "False"
            ]
          },
          "metadata": {},
          "execution_count": 2
        }
      ]
    },
    {
      "cell_type": "code",
      "source": [
        "'세' in '안녕하세요'"
      ],
      "metadata": {
        "colab": {
          "base_uri": "https://localhost:8080/"
        },
        "id": "07E-VreZ6GQ5",
        "outputId": "fa344c63-f9aa-400e-d3a7-1e648a84fde0"
      },
      "execution_count": 3,
      "outputs": [
        {
          "output_type": "execute_result",
          "data": {
            "text/plain": [
              "True"
            ]
          },
          "metadata": {},
          "execution_count": 3
        }
      ]
    },
    {
      "cell_type": "code",
      "source": [
        "for x in '안녕하세요!':\n",
        "    print(x)"
      ],
      "metadata": {
        "colab": {
          "base_uri": "https://localhost:8080/"
        },
        "id": "SQXYqJlW6Xda",
        "outputId": "f43d309b-e4d8-427e-bd0d-cde936ed3cdd"
      },
      "execution_count": 4,
      "outputs": [
        {
          "output_type": "stream",
          "name": "stdout",
          "text": [
            "안\n",
            "녕\n",
            "하\n",
            "세\n",
            "요\n",
            "!\n"
          ]
        }
      ]
    },
    {
      "cell_type": "markdown",
      "source": [
        "## `range()` 함수와 for loop"
      ],
      "metadata": {
        "id": "6FzT1WAv_1xB"
      }
    },
    {
      "cell_type": "code",
      "source": [
        "# range(start, stop, step): start <= x < stop 범위의 step(양수)만큼씩 증가하는 정수들을 생성.\n",
        "for x in range(1, 5, 1):\n",
        "    print(x)"
      ],
      "metadata": {
        "colab": {
          "base_uri": "https://localhost:8080/"
        },
        "id": "X9qlrr2e_7W_",
        "outputId": "ab5c20fd-bfce-439f-f380-91530b5a667e"
      },
      "execution_count": 5,
      "outputs": [
        {
          "output_type": "stream",
          "name": "stdout",
          "text": [
            "1\n",
            "2\n",
            "3\n",
            "4\n"
          ]
        }
      ]
    },
    {
      "cell_type": "code",
      "source": [
        "# range(start, stop): start <= x < stop 범위의 1씩 증가하는 정수들을 생성.\n",
        "for x in range(1, 5):  # (1, 2, 3, 4)\n",
        "    print(x)"
      ],
      "metadata": {
        "colab": {
          "base_uri": "https://localhost:8080/"
        },
        "id": "MBPbnb81A_Rr",
        "outputId": "44c65119-bf1a-4e7c-e55b-f43010243c4e"
      },
      "execution_count": 6,
      "outputs": [
        {
          "output_type": "stream",
          "name": "stdout",
          "text": [
            "1\n",
            "2\n",
            "3\n",
            "4\n"
          ]
        }
      ]
    },
    {
      "cell_type": "code",
      "source": [
        "# range(stop): 0 <= x < stop 범위의 1씩 증가하는 정수들을 생성.\n",
        "for x in range(5):  # (0, 1, 2, 3, 4)\n",
        "    print(x)"
      ],
      "metadata": {
        "colab": {
          "base_uri": "https://localhost:8080/"
        },
        "id": "huMt3Y7eBPcx",
        "outputId": "21c4dd2d-3307-4c26-ab72-aaf5aac82e71"
      },
      "execution_count": 7,
      "outputs": [
        {
          "output_type": "stream",
          "name": "stdout",
          "text": [
            "0\n",
            "1\n",
            "2\n",
            "3\n",
            "4\n"
          ]
        }
      ]
    },
    {
      "cell_type": "code",
      "source": [
        "# range(start, stop, step): start >= x > stop 범위의 step(음수)만큼씩 감소하는 정수들을 생성.\n",
        "for x in range(5, 0, -1):  # (5, 4, 3, 2, 1)\n",
        "    print(x)"
      ],
      "metadata": {
        "colab": {
          "base_uri": "https://localhost:8080/"
        },
        "id": "OIERasmJCD8R",
        "outputId": "d38636df-72c6-42bd-c233-c544e5795964"
      },
      "execution_count": 8,
      "outputs": [
        {
          "output_type": "stream",
          "name": "stdout",
          "text": [
            "5\n",
            "4\n",
            "3\n",
            "2\n",
            "1\n"
          ]
        }
      ]
    },
    {
      "cell_type": "markdown",
      "source": [
        "*   0 이상 10 미만의 짝수들을 오름차순 출력"
      ],
      "metadata": {
        "id": "t_EU52McDp1Q"
      }
    },
    {
      "cell_type": "code",
      "source": [
        "for x in range(0, 10, 2):\n",
        "    print(x)"
      ],
      "metadata": {
        "colab": {
          "base_uri": "https://localhost:8080/"
        },
        "id": "_1kWZQtJFhjQ",
        "outputId": "29abcff4-3456-4bf3-e2aa-2ee6c8c07d2f"
      },
      "execution_count": 9,
      "outputs": [
        {
          "output_type": "stream",
          "name": "stdout",
          "text": [
            "0\n",
            "2\n",
            "4\n",
            "6\n",
            "8\n"
          ]
        }
      ]
    },
    {
      "cell_type": "markdown",
      "source": [
        "*   1 이상 9 이하의 홀수들을 내림차순으로 출력"
      ],
      "metadata": {
        "id": "Rnz4jJE4Dum_"
      }
    },
    {
      "cell_type": "code",
      "source": [
        "for x in range(9, 0, -2):  # (9, 7, 5, 3, 1)\n",
        "    print(x)"
      ],
      "metadata": {
        "colab": {
          "base_uri": "https://localhost:8080/"
        },
        "id": "Mr6w_0I5F9vR",
        "outputId": "b51c16c7-1ef7-414f-b046-b942cf11b6d2"
      },
      "execution_count": 11,
      "outputs": [
        {
          "output_type": "stream",
          "name": "stdout",
          "text": [
            "9\n",
            "7\n",
            "5\n",
            "3\n",
            "1\n"
          ]
        }
      ]
    },
    {
      "cell_type": "markdown",
      "source": [
        "*   다음과 같이 출력하는 코드를 작성\n",
        "\n",
        "```\n",
        "*\n",
        "**\n",
        "***\n",
        "****\n",
        "*****\n",
        "```\n"
      ],
      "metadata": {
        "id": "ByJJL56fEIS5"
      }
    },
    {
      "cell_type": "code",
      "source": [
        "for n in range(1, 6):\n",
        "    print('*' * n)"
      ],
      "metadata": {
        "colab": {
          "base_uri": "https://localhost:8080/"
        },
        "id": "gb8cwyvGGb0I",
        "outputId": "0e07cdce-196f-42e0-904a-cb2978c4e300"
      },
      "execution_count": 12,
      "outputs": [
        {
          "output_type": "stream",
          "name": "stdout",
          "text": [
            "*\n",
            "**\n",
            "***\n",
            "****\n",
            "*****\n"
          ]
        }
      ]
    },
    {
      "cell_type": "markdown",
      "source": [
        "*   다음과 같이 출력하는 코드를 작성\n",
        "\n",
        "```\n",
        "*****\n",
        "****\n",
        "***\n",
        "**\n",
        "*\n",
        "```\n"
      ],
      "metadata": {
        "id": "uN5uAHCbEUGf"
      }
    },
    {
      "cell_type": "code",
      "source": [
        "for n in range(5, 0, -1):\n",
        "    print('*' * n)"
      ],
      "metadata": {
        "colab": {
          "base_uri": "https://localhost:8080/"
        },
        "id": "XDE2mPVkG8z5",
        "outputId": "86ed4ee5-312f-4ff4-faf7-f0b951cd828c"
      },
      "execution_count": 13,
      "outputs": [
        {
          "output_type": "stream",
          "name": "stdout",
          "text": [
            "*****\n",
            "****\n",
            "***\n",
            "**\n",
            "*\n"
          ]
        }
      ]
    }
  ]
}