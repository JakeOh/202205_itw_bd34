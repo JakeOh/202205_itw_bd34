{
  "nbformat": 4,
  "nbformat_minor": 0,
  "metadata": {
    "colab": {
      "name": "da13_json.ipynb",
      "provenance": [],
      "collapsed_sections": [],
      "authorship_tag": "ABX9TyNGKmz2duLjlmWwxco5vO/u",
      "include_colab_link": true
    },
    "kernelspec": {
      "name": "python3",
      "display_name": "Python 3"
    },
    "language_info": {
      "name": "python"
    }
  },
  "cells": [
    {
      "cell_type": "markdown",
      "metadata": {
        "id": "view-in-github",
        "colab_type": "text"
      },
      "source": [
        "<a href=\"https://colab.research.google.com/github/JakeOh/202205_itw_bd34/blob/main/da13_json.ipynb\" target=\"_parent\"><img src=\"https://colab.research.google.com/assets/colab-badge.svg\" alt=\"Open In Colab\"/></a>"
      ]
    },
    {
      "cell_type": "markdown",
      "source": [
        "# JSON\n",
        "\n",
        "*   JSON(JavaScript Object Notation): 자바스크립트 객체 표현법.\n",
        "*   `{key1: value1, key2: value2, ...}` 형식의 문자열\n",
        "*   Python의 `dict` 클래스 객체의 문자열 표현과 비슷.\n",
        "*   `json` 모듈: JSON 형식 문자열(str) <---> `dict` 타입 객체(object)\n",
        "    *   `json.dumps(obj)`: Python 객체 obj를 JSON 형식의 문자열로 변환(serialization, 직렬화)해서 리턴.\n",
        "    *   `json.loads(s)`: JSON 형식의 문자열 s를 Python 객체로 변환(de-serialization, 역직렬화)해서 리턴.\n",
        "    *   `json.dump(obj, fp)`: Python 객체 obj를 문자열로 변환해서 파일 fp에 씀(write).\n",
        "    *   `json.load(fp)`: 파일 fp에서 JSON 형식의 문자열을 읽어서 Python 객체로 변환하고 리턴.\n"
      ],
      "metadata": {
        "id": "z7-A9L6CBdm-"
      }
    },
    {
      "cell_type": "markdown",
      "source": [
        "# Imports"
      ],
      "metadata": {
        "id": "GvqqpLVhD9NO"
      }
    },
    {
      "cell_type": "code",
      "execution_count": 1,
      "metadata": {
        "id": "zIkjZdF5BZTo"
      },
      "outputs": [],
      "source": [
        "import json  # JSON 읽기/쓰기 기능을 가지고 있는 파이썬 모듈\n",
        "import numpy as np\n",
        "import pandas as pd\n",
        "import matplotlib.pyplot as plt\n",
        "import seaborn as sns"
      ]
    },
    {
      "cell_type": "markdown",
      "source": [
        "# Serialization"
      ],
      "metadata": {
        "id": "uNsElmv5ESUO"
      }
    },
    {
      "cell_type": "code",
      "source": [
        "# 직렬화: Python 객체 ---> JSON 문자열\n",
        "person = {\n",
        "    'name': '홍길동',\n",
        "    'age': 16,\n",
        "    'phones': ['02-0000-0000', '010-1111-1111']\n",
        "}"
      ],
      "metadata": {
        "id": "0auEqsvaENH2"
      },
      "execution_count": 2,
      "outputs": []
    },
    {
      "cell_type": "code",
      "source": [
        "type(person)  #> dict 타입(객체)"
      ],
      "metadata": {
        "colab": {
          "base_uri": "https://localhost:8080/"
        },
        "id": "3NbPm-pwFbOu",
        "outputId": "aec78350-1eb9-4c0f-caf7-e2e760f3937b"
      },
      "execution_count": 4,
      "outputs": [
        {
          "output_type": "execute_result",
          "data": {
            "text/plain": [
              "dict"
            ]
          },
          "metadata": {},
          "execution_count": 4
        }
      ]
    },
    {
      "cell_type": "code",
      "source": [
        "person_json = json.dumps(person)\n",
        "person_json"
      ],
      "metadata": {
        "colab": {
          "base_uri": "https://localhost:8080/",
          "height": 36
        },
        "id": "j2PsesJUE6On",
        "outputId": "3a9c2282-be97-4d54-b2f6-acbe8195945e"
      },
      "execution_count": 5,
      "outputs": [
        {
          "output_type": "execute_result",
          "data": {
            "text/plain": [
              "'{\"name\": \"\\\\ud64d\\\\uae38\\\\ub3d9\", \"age\": 16, \"phones\": [\"02-0000-0000\", \"010-1111-1111\"]}'"
            ],
            "application/vnd.google.colaboratory.intrinsic+json": {
              "type": "string"
            }
          },
          "metadata": {},
          "execution_count": 5
        }
      ]
    },
    {
      "cell_type": "code",
      "source": [
        "type(person_json)  #> str 타입(문자열)"
      ],
      "metadata": {
        "colab": {
          "base_uri": "https://localhost:8080/"
        },
        "id": "CmEtBhd2FF6F",
        "outputId": "76688f12-9b35-459f-bb81-5db5fe3460b6"
      },
      "execution_count": 6,
      "outputs": [
        {
          "output_type": "execute_result",
          "data": {
            "text/plain": [
              "str"
            ]
          },
          "metadata": {},
          "execution_count": 6
        }
      ]
    },
    {
      "cell_type": "markdown",
      "source": [
        "# Deserialization"
      ],
      "metadata": {
        "id": "GqdHwLGVGFum"
      }
    },
    {
      "cell_type": "code",
      "source": [
        "# 역직렬화: JSON 형식의 문자열 ---> Python 객체(object)\n",
        "result = json.loads(person_json)\n",
        "result"
      ],
      "metadata": {
        "colab": {
          "base_uri": "https://localhost:8080/"
        },
        "id": "Ry5U57nlGK2G",
        "outputId": "32e10859-3626-4fa7-a5df-4563d17ec317"
      },
      "execution_count": 7,
      "outputs": [
        {
          "output_type": "execute_result",
          "data": {
            "text/plain": [
              "{'age': 16, 'name': '홍길동', 'phones': ['02-0000-0000', '010-1111-1111']}"
            ]
          },
          "metadata": {},
          "execution_count": 7
        }
      ]
    },
    {
      "cell_type": "code",
      "source": [
        "type(result)"
      ],
      "metadata": {
        "colab": {
          "base_uri": "https://localhost:8080/"
        },
        "id": "qWMltMRiGg3u",
        "outputId": "8dfe9bd0-462b-4f72-a580-0b5a5db6effb"
      },
      "execution_count": 8,
      "outputs": [
        {
          "output_type": "execute_result",
          "data": {
            "text/plain": [
              "dict"
            ]
          },
          "metadata": {},
          "execution_count": 8
        }
      ]
    },
    {
      "cell_type": "markdown",
      "source": [
        "# JSON 파일 쓰기(write)/읽기(read)"
      ],
      "metadata": {
        "id": "FQ73ZJozMJso"
      }
    },
    {
      "cell_type": "markdown",
      "source": [
        "*   pickle: binary(이진) 파일 읽기/쓰기\n",
        "*   json: text(텍스트) 파일 읽기/쓰기"
      ],
      "metadata": {
        "id": "0YyK0OCJMPpo"
      }
    },
    {
      "cell_type": "code",
      "source": [
        "with open('gildong.json', mode='wt') as f:  # 파일을 '텍스트 쓰기' 모드로 오픈.\n",
        "    # mode='rt'기본값, mode='w'와 mode='wt'는 같은 의미.\n",
        "    f.write(json.dumps(person))  # person 객체를 JSON 문자열로 변환 후 파일에 씀(write).\n",
        "    # with-as 구문 종료 후에는 f.close() 자동으로 호출됨."
      ],
      "metadata": {
        "id": "MhRwg7jNGhn3"
      },
      "execution_count": 10,
      "outputs": []
    },
    {
      "cell_type": "code",
      "source": [
        "with open('gildong.json') as f:  # 파일을 '텍스트 읽기(rt)' 모드로 오픈.\n",
        "    # mode='rt'가 기본값이므로 생략 가능.\n",
        "    line = f.readline()  # 파일의 첫번째 줄(line)을 읽음.\n",
        "    print(line)\n",
        "    obj = json.loads(line)  # 파일에서 읽은 문자열을 객체로 변환\n",
        "    print(obj)"
      ],
      "metadata": {
        "colab": {
          "base_uri": "https://localhost:8080/"
        },
        "id": "321uWqiGNzap",
        "outputId": "af72e8bb-023f-4268-a6af-e35f85569bde"
      },
      "execution_count": 12,
      "outputs": [
        {
          "output_type": "stream",
          "name": "stdout",
          "text": [
            "{\"name\": \"\\ud64d\\uae38\\ub3d9\", \"age\": 16, \"phones\": [\"02-0000-0000\", \"010-1111-1111\"]}\n",
            "{'name': '홍길동', 'age': 16, 'phones': ['02-0000-0000', '010-1111-1111']}\n"
          ]
        }
      ]
    },
    {
      "cell_type": "code",
      "source": [
        "file_name = 'movies.txt'\n",
        "with open(file_name, mode='w') as f:\n",
        "    # dict 객체 생성\n",
        "    movie1 = {'mid': 1, 'title': '브로커', 'genre': 'drama'}\n",
        "    movie2 = {'mid': 2, 'title': '범죄도시2', 'genre': 'action'}\n",
        "    movie3 = {'mid': 3, 'title': '짱구는 못말려', 'genre': 'animation'}\n",
        "    # dict 객체 ---> JSON 문자열\n",
        "    m1_s = json.dumps(movie1)\n",
        "    m2_s = json.dumps(movie2)\n",
        "    m3_s = json.dumps(movie3)\n",
        "    # 3개의 문자열을 한 줄씩 파일에 write\n",
        "    f.write(m1_s + '\\n')\n",
        "    f.write(m2_s + '\\n')\n",
        "    f.write(m3_s + '\\n')"
      ],
      "metadata": {
        "id": "0JdtIdEdPFmR"
      },
      "execution_count": 13,
      "outputs": []
    },
    {
      "cell_type": "code",
      "source": [
        "# movies.txt 파일에서 한 줄씩 읽으면서, 읽은 문자열을 dict 객체로 변환하고 리스트에 추가.\n",
        "movies = []\n",
        "with open(file_name, mode='rt') as f:\n",
        "    for line in f:\n",
        "        obj = json.loads(line.strip())\n",
        "        movies.append(obj)\n",
        "\n",
        "movies"
      ],
      "metadata": {
        "colab": {
          "base_uri": "https://localhost:8080/"
        },
        "id": "vlIlcgv-RAdo",
        "outputId": "73955a4d-e4b8-47de-e6ca-0bac341f2577"
      },
      "execution_count": 16,
      "outputs": [
        {
          "output_type": "execute_result",
          "data": {
            "text/plain": [
              "[{'genre': 'drama', 'mid': 1, 'title': '브로커'},\n",
              " {'genre': 'action', 'mid': 2, 'title': '범죄도시2'},\n",
              " {'genre': 'animation', 'mid': 3, 'title': '짱구는 못말려'}]"
            ]
          },
          "metadata": {},
          "execution_count": 16
        }
      ]
    },
    {
      "cell_type": "code",
      "source": [
        "# list comprehension\n",
        "with open(file_name) as f:\n",
        "    movies = [json.loads(line.strip()) for line in f]\n",
        "\n",
        "movies"
      ],
      "metadata": {
        "colab": {
          "base_uri": "https://localhost:8080/"
        },
        "id": "gyQSJnfgSQba",
        "outputId": "186d1881-e9ba-4573-e4b8-da1537fc2a5e"
      },
      "execution_count": 17,
      "outputs": [
        {
          "output_type": "execute_result",
          "data": {
            "text/plain": [
              "[{'genre': 'drama', 'mid': 1, 'title': '브로커'},\n",
              " {'genre': 'action', 'mid': 2, 'title': '범죄도시2'},\n",
              " {'genre': 'animation', 'mid': 3, 'title': '짱구는 못말려'}]"
            ]
          },
          "metadata": {},
          "execution_count": 17
        }
      ]
    },
    {
      "cell_type": "code",
      "source": [
        "df = pd.DataFrame(movies)\n",
        "df"
      ],
      "metadata": {
        "colab": {
          "base_uri": "https://localhost:8080/",
          "height": 143
        },
        "id": "Aay58SimTO6S",
        "outputId": "3263157f-def5-489b-d7f8-59788bf755d7"
      },
      "execution_count": 18,
      "outputs": [
        {
          "output_type": "execute_result",
          "data": {
            "text/plain": [
              "   mid    title      genre\n",
              "0    1      브로커      drama\n",
              "1    2    범죄도시2     action\n",
              "2    3  짱구는 못말려  animation"
            ],
            "text/html": [
              "\n",
              "  <div id=\"df-0921a13b-dc1c-478e-b512-20f5dab74557\">\n",
              "    <div class=\"colab-df-container\">\n",
              "      <div>\n",
              "<style scoped>\n",
              "    .dataframe tbody tr th:only-of-type {\n",
              "        vertical-align: middle;\n",
              "    }\n",
              "\n",
              "    .dataframe tbody tr th {\n",
              "        vertical-align: top;\n",
              "    }\n",
              "\n",
              "    .dataframe thead th {\n",
              "        text-align: right;\n",
              "    }\n",
              "</style>\n",
              "<table border=\"1\" class=\"dataframe\">\n",
              "  <thead>\n",
              "    <tr style=\"text-align: right;\">\n",
              "      <th></th>\n",
              "      <th>mid</th>\n",
              "      <th>title</th>\n",
              "      <th>genre</th>\n",
              "    </tr>\n",
              "  </thead>\n",
              "  <tbody>\n",
              "    <tr>\n",
              "      <th>0</th>\n",
              "      <td>1</td>\n",
              "      <td>브로커</td>\n",
              "      <td>drama</td>\n",
              "    </tr>\n",
              "    <tr>\n",
              "      <th>1</th>\n",
              "      <td>2</td>\n",
              "      <td>범죄도시2</td>\n",
              "      <td>action</td>\n",
              "    </tr>\n",
              "    <tr>\n",
              "      <th>2</th>\n",
              "      <td>3</td>\n",
              "      <td>짱구는 못말려</td>\n",
              "      <td>animation</td>\n",
              "    </tr>\n",
              "  </tbody>\n",
              "</table>\n",
              "</div>\n",
              "      <button class=\"colab-df-convert\" onclick=\"convertToInteractive('df-0921a13b-dc1c-478e-b512-20f5dab74557')\"\n",
              "              title=\"Convert this dataframe to an interactive table.\"\n",
              "              style=\"display:none;\">\n",
              "        \n",
              "  <svg xmlns=\"http://www.w3.org/2000/svg\" height=\"24px\"viewBox=\"0 0 24 24\"\n",
              "       width=\"24px\">\n",
              "    <path d=\"M0 0h24v24H0V0z\" fill=\"none\"/>\n",
              "    <path d=\"M18.56 5.44l.94 2.06.94-2.06 2.06-.94-2.06-.94-.94-2.06-.94 2.06-2.06.94zm-11 1L8.5 8.5l.94-2.06 2.06-.94-2.06-.94L8.5 2.5l-.94 2.06-2.06.94zm10 10l.94 2.06.94-2.06 2.06-.94-2.06-.94-.94-2.06-.94 2.06-2.06.94z\"/><path d=\"M17.41 7.96l-1.37-1.37c-.4-.4-.92-.59-1.43-.59-.52 0-1.04.2-1.43.59L10.3 9.45l-7.72 7.72c-.78.78-.78 2.05 0 2.83L4 21.41c.39.39.9.59 1.41.59.51 0 1.02-.2 1.41-.59l7.78-7.78 2.81-2.81c.8-.78.8-2.07 0-2.86zM5.41 20L4 18.59l7.72-7.72 1.47 1.35L5.41 20z\"/>\n",
              "  </svg>\n",
              "      </button>\n",
              "      \n",
              "  <style>\n",
              "    .colab-df-container {\n",
              "      display:flex;\n",
              "      flex-wrap:wrap;\n",
              "      gap: 12px;\n",
              "    }\n",
              "\n",
              "    .colab-df-convert {\n",
              "      background-color: #E8F0FE;\n",
              "      border: none;\n",
              "      border-radius: 50%;\n",
              "      cursor: pointer;\n",
              "      display: none;\n",
              "      fill: #1967D2;\n",
              "      height: 32px;\n",
              "      padding: 0 0 0 0;\n",
              "      width: 32px;\n",
              "    }\n",
              "\n",
              "    .colab-df-convert:hover {\n",
              "      background-color: #E2EBFA;\n",
              "      box-shadow: 0px 1px 2px rgba(60, 64, 67, 0.3), 0px 1px 3px 1px rgba(60, 64, 67, 0.15);\n",
              "      fill: #174EA6;\n",
              "    }\n",
              "\n",
              "    [theme=dark] .colab-df-convert {\n",
              "      background-color: #3B4455;\n",
              "      fill: #D2E3FC;\n",
              "    }\n",
              "\n",
              "    [theme=dark] .colab-df-convert:hover {\n",
              "      background-color: #434B5C;\n",
              "      box-shadow: 0px 1px 3px 1px rgba(0, 0, 0, 0.15);\n",
              "      filter: drop-shadow(0px 1px 2px rgba(0, 0, 0, 0.3));\n",
              "      fill: #FFFFFF;\n",
              "    }\n",
              "  </style>\n",
              "\n",
              "      <script>\n",
              "        const buttonEl =\n",
              "          document.querySelector('#df-0921a13b-dc1c-478e-b512-20f5dab74557 button.colab-df-convert');\n",
              "        buttonEl.style.display =\n",
              "          google.colab.kernel.accessAllowed ? 'block' : 'none';\n",
              "\n",
              "        async function convertToInteractive(key) {\n",
              "          const element = document.querySelector('#df-0921a13b-dc1c-478e-b512-20f5dab74557');\n",
              "          const dataTable =\n",
              "            await google.colab.kernel.invokeFunction('convertToInteractive',\n",
              "                                                     [key], {});\n",
              "          if (!dataTable) return;\n",
              "\n",
              "          const docLinkHtml = 'Like what you see? Visit the ' +\n",
              "            '<a target=\"_blank\" href=https://colab.research.google.com/notebooks/data_table.ipynb>data table notebook</a>'\n",
              "            + ' to learn more about interactive tables.';\n",
              "          element.innerHTML = '';\n",
              "          dataTable['output_type'] = 'display_data';\n",
              "          await google.colab.output.renderOutput(dataTable, element);\n",
              "          const docLink = document.createElement('div');\n",
              "          docLink.innerHTML = docLinkHtml;\n",
              "          element.appendChild(docLink);\n",
              "        }\n",
              "      </script>\n",
              "    </div>\n",
              "  </div>\n",
              "  "
            ]
          },
          "metadata": {},
          "execution_count": 18
        }
      ]
    },
    {
      "cell_type": "code",
      "source": [
        ""
      ],
      "metadata": {
        "id": "olSox7d2TTfL"
      },
      "execution_count": null,
      "outputs": []
    }
  ]
}