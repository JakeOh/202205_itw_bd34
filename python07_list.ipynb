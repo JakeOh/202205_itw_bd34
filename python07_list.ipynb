{
  "nbformat": 4,
  "nbformat_minor": 0,
  "metadata": {
    "colab": {
      "name": "python07_list.ipynb",
      "provenance": [],
      "collapsed_sections": [],
      "authorship_tag": "ABX9TyNxeomgzPID1dLCEN9L9nIu",
      "include_colab_link": true
    },
    "kernelspec": {
      "name": "python3",
      "display_name": "Python 3"
    },
    "language_info": {
      "name": "python"
    }
  },
  "cells": [
    {
      "cell_type": "markdown",
      "metadata": {
        "id": "view-in-github",
        "colab_type": "text"
      },
      "source": [
        "<a href=\"https://colab.research.google.com/github/JakeOh/202205_itw_bd34/blob/main/python07_list.ipynb\" target=\"_parent\"><img src=\"https://colab.research.google.com/assets/colab-badge.svg\" alt=\"Open In Colab\"/></a>"
      ]
    },
    {
      "cell_type": "markdown",
      "source": [
        "# List(리스트)"
      ],
      "metadata": {
        "id": "vY23J5EIKGTl"
      }
    },
    {
      "cell_type": "markdown",
      "source": [
        "*   list(리스트): 여러 개의 값들을 하나의 변수에 저장하기 위한 데이터 타입.\n",
        "*   element(원소, 요소): 리스트에 저장된 각각의 값.\n",
        "*   index(인덱스): 리스트에서 각각의 원소들이 저장된 위치(번호).\n",
        "    *   리스트의 인덱스는 **0**부터 시작!!\n",
        "    *   리스트의 마지막 원소의 인덱스는 (원소 개수 - 1).\n",
        "*   리스트는 원소들을 변경(추가, 삭제)할 수 있음.\n",
        "    *   튜플(tuple)과 다른 점!"
      ],
      "metadata": {
        "id": "YFW4enQpKLe8"
      }
    },
    {
      "cell_type": "code",
      "execution_count": null,
      "metadata": {
        "colab": {
          "base_uri": "https://localhost:8080/"
        },
        "id": "QwwgekuRJ_Yz",
        "outputId": "833afc77-8c4c-4cd7-b898-edfebbc5f2c5"
      },
      "outputs": [
        {
          "output_type": "stream",
          "name": "stdout",
          "text": [
            "[1, 2, 10, 20, 100]\n"
          ]
        }
      ],
      "source": [
        "# 숫자들을 저장하는 list\n",
        "numbers = [1, 2, 10, 20, 100]\n",
        "print(numbers)"
      ]
    },
    {
      "cell_type": "code",
      "source": [
        "print(type(numbers))"
      ],
      "metadata": {
        "colab": {
          "base_uri": "https://localhost:8080/"
        },
        "id": "iu1vmltXM3T1",
        "outputId": "37ae37e0-d65e-4dd3-a9fa-c2cf22c90b71"
      },
      "execution_count": null,
      "outputs": [
        {
          "output_type": "stream",
          "name": "stdout",
          "text": [
            "<class 'list'>\n"
          ]
        }
      ]
    },
    {
      "cell_type": "markdown",
      "source": [
        "## indexing\n",
        "\n",
        "인덱스를 사용해서 리스트의 원소를 사용하는 방법."
      ],
      "metadata": {
        "id": "BxRvC568NEZe"
      }
    },
    {
      "cell_type": "code",
      "source": [
        "print(numbers[0])  # 리스트에서 첫번째 원소"
      ],
      "metadata": {
        "colab": {
          "base_uri": "https://localhost:8080/"
        },
        "id": "9sPtrXlJNSEr",
        "outputId": "c2bf52c5-6813-4caa-d4b6-2728ceb14e5a"
      },
      "execution_count": null,
      "outputs": [
        {
          "output_type": "stream",
          "name": "stdout",
          "text": [
            "1\n"
          ]
        }
      ]
    },
    {
      "cell_type": "code",
      "source": [
        "print(numbers[4])  # 리스트의 마지막 원소"
      ],
      "metadata": {
        "colab": {
          "base_uri": "https://localhost:8080/"
        },
        "id": "6lSoxeDFOjtV",
        "outputId": "e31495c2-e112-4bcb-832b-64a55235861e"
      },
      "execution_count": null,
      "outputs": [
        {
          "output_type": "stream",
          "name": "stdout",
          "text": [
            "100\n"
          ]
        }
      ]
    },
    {
      "cell_type": "code",
      "source": [
        "# print(numbers[5])  #> IndexError가 발생함"
      ],
      "metadata": {
        "id": "F9Vl1oWwPAyv"
      },
      "execution_count": null,
      "outputs": []
    },
    {
      "cell_type": "code",
      "source": [
        "print(numbers[-1])  # 음수 인덱스를 사용해서 리스트의 가장 마지막 원소를 찾을 수도 있음."
      ],
      "metadata": {
        "colab": {
          "base_uri": "https://localhost:8080/"
        },
        "id": "KNOBNceEQOCc",
        "outputId": "d64675be-19ac-4ad0-9d7c-3e0a8fcc8ded"
      },
      "execution_count": null,
      "outputs": [
        {
          "output_type": "stream",
          "name": "stdout",
          "text": [
            "100\n"
          ]
        }
      ]
    },
    {
      "cell_type": "code",
      "source": [
        "# 리스트에서 끝에서 두번째 원소\n",
        "print(numbers[3])\n",
        "print(numbers[-2])"
      ],
      "metadata": {
        "colab": {
          "base_uri": "https://localhost:8080/"
        },
        "id": "rCOamQsQQdoV",
        "outputId": "10e88b96-d953-4974-e024-9912aa90402f"
      },
      "execution_count": null,
      "outputs": [
        {
          "output_type": "stream",
          "name": "stdout",
          "text": [
            "20\n",
            "20\n"
          ]
        }
      ]
    },
    {
      "cell_type": "markdown",
      "source": [
        "## slicing"
      ],
      "metadata": {
        "id": "aFRS7on7Rg-x"
      }
    },
    {
      "cell_type": "markdown",
      "source": [
        "```\n",
        "list_name[start:end]\n",
        "```\n",
        "\n",
        "*   리스트에서 start <= index < end 범위의 원소들을 선택.\n",
        "*   start를 생략하면 인덱스 0번 원소(리스트의 첫번째 원소)부터 선택.\n",
        "*   end를 생략하면 리스트의 마지막 원소까지 선택.\n",
        "*   slicing의 결과는 **새로운 리스트**!"
      ],
      "metadata": {
        "id": "I4YZb6z-RmUl"
      }
    },
    {
      "cell_type": "code",
      "source": [
        "print(numbers)"
      ],
      "metadata": {
        "colab": {
          "base_uri": "https://localhost:8080/"
        },
        "id": "AiBZJKLITcyf",
        "outputId": "7835862e-a5f8-40e6-b527-a93d28a2e822"
      },
      "execution_count": null,
      "outputs": [
        {
          "output_type": "stream",
          "name": "stdout",
          "text": [
            "[1, 2, 10, 20, 100]\n"
          ]
        }
      ]
    },
    {
      "cell_type": "code",
      "source": [
        "print(numbers[1:4])"
      ],
      "metadata": {
        "colab": {
          "base_uri": "https://localhost:8080/"
        },
        "id": "nY4woc26Texl",
        "outputId": "573507dc-4958-458a-f263-24302972b08f"
      },
      "execution_count": null,
      "outputs": [
        {
          "output_type": "stream",
          "name": "stdout",
          "text": [
            "[2, 10, 20]\n"
          ]
        }
      ]
    },
    {
      "cell_type": "code",
      "source": [
        "print(numbers[2:5])"
      ],
      "metadata": {
        "colab": {
          "base_uri": "https://localhost:8080/"
        },
        "id": "pYQX-YRmUMdG",
        "outputId": "821dd84a-a922-48a7-a71a-a0f8788d2c94"
      },
      "execution_count": null,
      "outputs": [
        {
          "output_type": "stream",
          "name": "stdout",
          "text": [
            "[10, 20, 100]\n"
          ]
        }
      ]
    },
    {
      "cell_type": "code",
      "source": [
        "print(numbers[2:])  # end를 생략하면 리스트의 끝까지 slicing."
      ],
      "metadata": {
        "colab": {
          "base_uri": "https://localhost:8080/"
        },
        "id": "MnPb4b-YUhFn",
        "outputId": "a5931a5a-c5d3-4fe8-bdfc-508041d87c17"
      },
      "execution_count": null,
      "outputs": [
        {
          "output_type": "stream",
          "name": "stdout",
          "text": [
            "[10, 20, 100]\n"
          ]
        }
      ]
    },
    {
      "cell_type": "code",
      "source": [
        "print(numbers[:2])  # start를 생략하면 리스트의 처음부터 end 인덱스까지 slicing."
      ],
      "metadata": {
        "colab": {
          "base_uri": "https://localhost:8080/"
        },
        "id": "QzTkD0tPU3vG",
        "outputId": "dcb78642-092a-4fa8-950b-b18a40009947"
      },
      "execution_count": null,
      "outputs": [
        {
          "output_type": "stream",
          "name": "stdout",
          "text": [
            "[1, 2]\n"
          ]
        }
      ]
    },
    {
      "cell_type": "code",
      "source": [
        "# 리스트에서 끝에서 2개 원소 선택\n",
        "print(numbers[-2:])"
      ],
      "metadata": {
        "colab": {
          "base_uri": "https://localhost:8080/"
        },
        "id": "3FnXm2gnVbRg",
        "outputId": "86d76f4b-822b-4959-9dc0-6411e446e3be"
      },
      "execution_count": null,
      "outputs": [
        {
          "output_type": "stream",
          "name": "stdout",
          "text": [
            "[20, 100]\n"
          ]
        }
      ]
    },
    {
      "cell_type": "code",
      "source": [
        "print(numbers[0:1])  # slicing -> 리스트\n",
        "print(numbers[0])  # indexing -> 숫자"
      ],
      "metadata": {
        "colab": {
          "base_uri": "https://localhost:8080/"
        },
        "id": "W2S-AF9WWD_W",
        "outputId": "ab866b07-a035-4d9e-a9dc-6bbb3a645873"
      },
      "execution_count": null,
      "outputs": [
        {
          "output_type": "stream",
          "name": "stdout",
          "text": [
            "[1]\n",
            "1\n"
          ]
        }
      ]
    },
    {
      "cell_type": "markdown",
      "source": [
        "## 문자열\n",
        "\n",
        "문자들의 리스트.\n",
        "*   인덱스를 사용할 수 있음.\n",
        "*   indexing: 인덱스를 사용해서 특정 위치에 있는 문자 한 개를 선택할 수 있음.\n",
        "*   slicing: 인덱스를 사용해서 문자열을 잘라낼 수 있음."
      ],
      "metadata": {
        "id": "P6ef9DcCv9Mb"
      }
    },
    {
      "cell_type": "code",
      "source": [
        "message = '안녕하세요, Python!'  # 14개의 문자를 가지고 있는 문자열.\n",
        "print(len(message))  # 문자열의 길이"
      ],
      "metadata": {
        "colab": {
          "base_uri": "https://localhost:8080/"
        },
        "id": "nk8f2oNBwhTs",
        "outputId": "5673ef71-46db-42af-ff47-2e22a5fa2864"
      },
      "execution_count": 1,
      "outputs": [
        {
          "output_type": "stream",
          "name": "stdout",
          "text": [
            "14\n"
          ]
        }
      ]
    },
    {
      "cell_type": "code",
      "source": [
        "# message 문자열에서 첫번째 문자 한 개를 출력\n",
        "print(message[0])"
      ],
      "metadata": {
        "colab": {
          "base_uri": "https://localhost:8080/"
        },
        "id": "klAc4EEVxIKr",
        "outputId": "437068fc-b296-41ce-b186-ebb46af8944e"
      },
      "execution_count": 2,
      "outputs": [
        {
          "output_type": "stream",
          "name": "stdout",
          "text": [
            "안\n"
          ]
        }
      ]
    },
    {
      "cell_type": "code",
      "source": [
        "# 문자열에서 마지막 문자 한 개를 선택\n",
        "print(message[-1])"
      ],
      "metadata": {
        "colab": {
          "base_uri": "https://localhost:8080/"
        },
        "id": "0Jl_akoHxZ2K",
        "outputId": "49f238a0-a109-46eb-8919-f9d2a2049ab8"
      },
      "execution_count": 3,
      "outputs": [
        {
          "output_type": "stream",
          "name": "stdout",
          "text": [
            "!\n"
          ]
        }
      ]
    },
    {
      "cell_type": "code",
      "source": [
        "# 문자열에서 첫 5개 문자들을 선택\n",
        "print(message[:5])"
      ],
      "metadata": {
        "colab": {
          "base_uri": "https://localhost:8080/"
        },
        "id": "RRUbh2coxlCz",
        "outputId": "f8780aa5-f1f8-4381-b7f7-39a27c66a0bf"
      },
      "execution_count": 4,
      "outputs": [
        {
          "output_type": "stream",
          "name": "stdout",
          "text": [
            "안녕하세요\n"
          ]
        }
      ]
    },
    {
      "cell_type": "code",
      "source": [
        "# 문자열에서 마지막 5개 문자들을 선택\n",
        "print(message[-5:])"
      ],
      "metadata": {
        "colab": {
          "base_uri": "https://localhost:8080/"
        },
        "id": "SXUUJoCWxy6r",
        "outputId": "4119a256-f200-428a-f1c4-3df06061612f"
      },
      "execution_count": 5,
      "outputs": [
        {
          "output_type": "stream",
          "name": "stdout",
          "text": [
            "thon!\n"
          ]
        }
      ]
    },
    {
      "cell_type": "markdown",
      "source": [
        "## list의 산술 연산: `+`, `*`"
      ],
      "metadata": {
        "id": "mbS7AEHFyk-b"
      }
    },
    {
      "cell_type": "code",
      "source": [
        "# 문자열에서의 +\n",
        "'Hello' + 'Python'"
      ],
      "metadata": {
        "colab": {
          "base_uri": "https://localhost:8080/",
          "height": 36
        },
        "id": "xONxyZ6eys4q",
        "outputId": "8e96efb3-2084-4c46-8494-93571b0f0386"
      },
      "execution_count": 6,
      "outputs": [
        {
          "output_type": "execute_result",
          "data": {
            "text/plain": [
              "'HelloPython'"
            ],
            "application/vnd.google.colaboratory.intrinsic+json": {
              "type": "string"
            }
          },
          "metadata": {},
          "execution_count": 6
        }
      ]
    },
    {
      "cell_type": "code",
      "source": [
        "# list에서의 +\n",
        "[1, 2, 3] + [10, 20, 30]"
      ],
      "metadata": {
        "colab": {
          "base_uri": "https://localhost:8080/"
        },
        "id": "VJHp11FUy7n6",
        "outputId": "4ada7ef5-8055-4672-9737-ee2c29223117"
      },
      "execution_count": 7,
      "outputs": [
        {
          "output_type": "execute_result",
          "data": {
            "text/plain": [
              "[1, 2, 3, 10, 20, 30]"
            ]
          },
          "metadata": {},
          "execution_count": 7
        }
      ]
    },
    {
      "cell_type": "code",
      "source": [
        "# 문자열에서의 *\n",
        "'Hello' * 3"
      ],
      "metadata": {
        "colab": {
          "base_uri": "https://localhost:8080/",
          "height": 36
        },
        "id": "VJJoxVTZzQ6k",
        "outputId": "54115a76-e9b8-4206-86fa-b9a341a922be"
      },
      "execution_count": 8,
      "outputs": [
        {
          "output_type": "execute_result",
          "data": {
            "text/plain": [
              "'HelloHelloHello'"
            ],
            "application/vnd.google.colaboratory.intrinsic+json": {
              "type": "string"
            }
          },
          "metadata": {},
          "execution_count": 8
        }
      ]
    },
    {
      "cell_type": "code",
      "source": [
        "# list에서의 *\n",
        "[1, 2, 3] * 3"
      ],
      "metadata": {
        "colab": {
          "base_uri": "https://localhost:8080/"
        },
        "id": "kLNVE42qzeuD",
        "outputId": "ecbe1d1b-fa1a-4d32-d994-30a6c2fa46c8"
      },
      "execution_count": 9,
      "outputs": [
        {
          "output_type": "execute_result",
          "data": {
            "text/plain": [
              "[1, 2, 3, 1, 2, 3, 1, 2, 3]"
            ]
          },
          "metadata": {},
          "execution_count": 9
        }
      ]
    },
    {
      "cell_type": "markdown",
      "source": [
        "## list의 기능들 - 함수(메서드, method)"
      ],
      "metadata": {
        "id": "7Ng4DOYDztkJ"
      }
    },
    {
      "cell_type": "markdown",
      "source": [
        "### 원소(element) 추가"
      ],
      "metadata": {
        "id": "t-e-lg_Fz70K"
      }
    },
    {
      "cell_type": "code",
      "source": [
        "numbers = [1, 2, 3, 4, 5]\n",
        "numbers.append(100)  # list.append(값): 값을 list의 가장 마지막에 추가.\n",
        "print(numbers)"
      ],
      "metadata": {
        "colab": {
          "base_uri": "https://localhost:8080/"
        },
        "id": "txI20Hiy0Cx8",
        "outputId": "c73430db-01fe-4a0d-c5fe-ae800ab41fc5"
      },
      "execution_count": 13,
      "outputs": [
        {
          "output_type": "stream",
          "name": "stdout",
          "text": [
            "[1, 2, 3, 4, 5, 100]\n"
          ]
        }
      ]
    },
    {
      "cell_type": "code",
      "source": [
        "# list.insert(index, object): list의 index 위치에 object(값)을 추가.\n",
        "numbers.insert(0, 123)  # numbers 리스트의 인덱스 0번 위치에 123을 추가.\n",
        "print(numbers)"
      ],
      "metadata": {
        "colab": {
          "base_uri": "https://localhost:8080/"
        },
        "id": "XVV4OEpt1fTZ",
        "outputId": "0639ff6b-510e-413a-999c-b7581f95a805"
      },
      "execution_count": 14,
      "outputs": [
        {
          "output_type": "stream",
          "name": "stdout",
          "text": [
            "[123, 1, 2, 3, 4, 5, 100]\n"
          ]
        }
      ]
    },
    {
      "cell_type": "code",
      "source": [
        "# list.extend(iterable): 리스트 이어붙이기(concatenate). + 연산과 동일.\n",
        "numbers1 = [1, 2, 3]\n",
        "numbers2 = [10, 20, 30]\n",
        "numbers1.extend(numbers2)  # numbers1 + numbers2\n",
        "print(numbers1)"
      ],
      "metadata": {
        "colab": {
          "base_uri": "https://localhost:8080/"
        },
        "id": "r1Ye_cSy2Gmr",
        "outputId": "b6106494-47f8-4c8b-a9b5-655419d15c61"
      },
      "execution_count": 17,
      "outputs": [
        {
          "output_type": "stream",
          "name": "stdout",
          "text": [
            "[1, 2, 3, 10, 20, 30]\n"
          ]
        }
      ]
    },
    {
      "cell_type": "code",
      "source": [
        "numbers1 = [1, 2, 3]\n",
        "numbers2 = [10, 20, 30]\n",
        "numbers1.append(numbers2)  # append 메서드는 리스트를 한 개의 원소로 추가함!\n",
        "print(numbers1)"
      ],
      "metadata": {
        "colab": {
          "base_uri": "https://localhost:8080/"
        },
        "id": "NsgLfM4W3rLR",
        "outputId": "106a6098-4c38-462b-976f-3bcfca1ba709"
      },
      "execution_count": 19,
      "outputs": [
        {
          "output_type": "stream",
          "name": "stdout",
          "text": [
            "[1, 2, 3, [10, 20, 30]]\n"
          ]
        }
      ]
    },
    {
      "cell_type": "markdown",
      "source": [
        "### 원소 삭제"
      ],
      "metadata": {
        "id": "ujj4YtgX8rmU"
      }
    },
    {
      "cell_type": "code",
      "source": [
        "# list.remove(값): 리스트에서 처음 등장하는 값 한 개를 삭제.\n",
        "numbers = [1, 2, 3, 1, 2, 10, 20]\n",
        "numbers.remove(2)\n",
        "print(numbers)"
      ],
      "metadata": {
        "colab": {
          "base_uri": "https://localhost:8080/"
        },
        "id": "47Vh9AIp8vFh",
        "outputId": "677d5b5d-fa22-44ed-f063-4e65af78af4c"
      },
      "execution_count": 20,
      "outputs": [
        {
          "output_type": "stream",
          "name": "stdout",
          "text": [
            "[1, 3, 1, 2, 10, 20]\n"
          ]
        }
      ]
    },
    {
      "cell_type": "code",
      "source": [
        "# list.pop(index): 인덱스 위치의 원소를 삭제. index를 전달하지 않으면 가장 마지막 원소를 삭제.\n",
        "numbers = [1, 2, 10, 20, 100, 200]\n",
        "numbers.pop(0)  # 리스트의 첫번째 원소(인덱스 0번 원소)를 삭제\n",
        "print(numbers)"
      ],
      "metadata": {
        "colab": {
          "base_uri": "https://localhost:8080/"
        },
        "id": "Qqs4HVfe9Tap",
        "outputId": "876a99bc-6b52-44e3-99e8-d7e92e2f80fc"
      },
      "execution_count": 21,
      "outputs": [
        {
          "output_type": "stream",
          "name": "stdout",
          "text": [
            "[2, 10, 20, 100, 200]\n"
          ]
        }
      ]
    },
    {
      "cell_type": "code",
      "source": [
        "numbers.pop()\n",
        "print(numbers)"
      ],
      "metadata": {
        "colab": {
          "base_uri": "https://localhost:8080/"
        },
        "id": "HlzgnUSe-Cjp",
        "outputId": "f97afd6b-107a-420d-e9c2-9c12cb45dced"
      },
      "execution_count": 22,
      "outputs": [
        {
          "output_type": "stream",
          "name": "stdout",
          "text": [
            "[2, 10, 20, 100]\n"
          ]
        }
      ]
    },
    {
      "cell_type": "code",
      "source": [
        "# list.clear(): 리스트의 모든 원소를 삭제.\n",
        "numbers.clear()\n",
        "print(numbers)"
      ],
      "metadata": {
        "colab": {
          "base_uri": "https://localhost:8080/"
        },
        "id": "wROyN-pX-bfP",
        "outputId": "946cdfd3-87b9-4228-d736-0b41e59c85b6"
      },
      "execution_count": 23,
      "outputs": [
        {
          "output_type": "stream",
          "name": "stdout",
          "text": [
            "[]\n"
          ]
        }
      ]
    },
    {
      "cell_type": "code",
      "source": [
        "len(numbers)  # 리스트의 원소의 개수"
      ],
      "metadata": {
        "colab": {
          "base_uri": "https://localhost:8080/"
        },
        "id": "mIdVa_7k-nbx",
        "outputId": "e2252707-3ef9-4c0a-a496-bc29648c2aaa"
      },
      "execution_count": 24,
      "outputs": [
        {
          "output_type": "execute_result",
          "data": {
            "text/plain": [
              "0"
            ]
          },
          "metadata": {},
          "execution_count": 24
        }
      ]
    },
    {
      "cell_type": "code",
      "source": [
        "numbers = [1, 2, 3]\n",
        "numbers[1] = 100  # 리스트에서 특정 위치(인덱스)의 원소 값을 변경.\n",
        "print(numbers)"
      ],
      "metadata": {
        "colab": {
          "base_uri": "https://localhost:8080/"
        },
        "id": "EiE922BJ-2LR",
        "outputId": "09349dbb-bcb9-4d89-f136-7ce8fddbec56"
      },
      "execution_count": 25,
      "outputs": [
        {
          "output_type": "stream",
          "name": "stdout",
          "text": [
            "[1, 100, 3]\n"
          ]
        }
      ]
    }
  ]
}