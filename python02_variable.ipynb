{
  "nbformat": 4,
  "nbformat_minor": 0,
  "metadata": {
    "colab": {
      "name": "python02_variable.ipynb",
      "provenance": [],
      "collapsed_sections": [],
      "authorship_tag": "ABX9TyOkgJa00QhKG8W4Bpc2vyVo",
      "include_colab_link": true
    },
    "kernelspec": {
      "name": "python3",
      "display_name": "Python 3"
    },
    "language_info": {
      "name": "python"
    }
  },
  "cells": [
    {
      "cell_type": "markdown",
      "metadata": {
        "id": "view-in-github",
        "colab_type": "text"
      },
      "source": [
        "<a href=\"https://colab.research.google.com/github/JakeOh/202205_itw_bd34/blob/main/python02_variable.ipynb\" target=\"_parent\"><img src=\"https://colab.research.google.com/assets/colab-badge.svg\" alt=\"Open In Colab\"/></a>"
      ]
    },
    {
      "cell_type": "markdown",
      "source": [
        "# Python Data Type(자료 타입)"
      ],
      "metadata": {
        "id": "aB1m4nbKyN69"
      }
    },
    {
      "cell_type": "markdown",
      "source": [
        "\n",
        "\n",
        "*   숫자 타입\n",
        "    *   정수(int)\n",
        "    *   실수(float)\n",
        "*   문자열(str)\n",
        "*   논리 타입(bool): True 또는 False 두 가지 상태를 저장하는 변수.\n",
        "\n"
      ],
      "metadata": {
        "id": "wFNPxFNDyYzD"
      }
    },
    {
      "cell_type": "markdown",
      "source": [
        "## 숫자 타입"
      ],
      "metadata": {
        "id": "KyWfcfLxJiBr"
      }
    },
    {
      "cell_type": "code",
      "execution_count": 1,
      "metadata": {
        "colab": {
          "base_uri": "https://localhost:8080/"
        },
        "id": "NaEc3uHuxPIG",
        "outputId": "f03f0bf6-e505-4f72-9762-a0b4bc8721aa"
      },
      "outputs": [
        {
          "output_type": "stream",
          "name": "stdout",
          "text": [
            "<class 'int'>\n",
            "n = 100\n"
          ]
        }
      ],
      "source": [
        "n = 100  # 변수 = 값\n",
        "print(type(n))  # 변수 n의 자료 타입을 출력\n",
        "print('n =', n)"
      ]
    },
    {
      "cell_type": "code",
      "source": [
        "n = 3.14\n",
        "print(type(n))\n",
        "print('n =', n)"
      ],
      "metadata": {
        "colab": {
          "base_uri": "https://localhost:8080/"
        },
        "id": "PZAuMyXWI8AK",
        "outputId": "b134b0ce-860c-47e0-f809-f4e5ad781956"
      },
      "execution_count": 2,
      "outputs": [
        {
          "output_type": "stream",
          "name": "stdout",
          "text": [
            "<class 'float'>\n",
            "n = 3.14\n"
          ]
        }
      ]
    },
    {
      "cell_type": "markdown",
      "source": [
        "## 문자열 타입"
      ],
      "metadata": {
        "id": "QHSar9eVKBPa"
      }
    },
    {
      "cell_type": "code",
      "source": [
        "s = '안녕하세요.'\n",
        "print(type(s))\n",
        "print(s)"
      ],
      "metadata": {
        "colab": {
          "base_uri": "https://localhost:8080/"
        },
        "id": "0PXQBtOWKPSK",
        "outputId": "d0daf54a-491f-49c4-be87-39080ee0564f"
      },
      "execution_count": 6,
      "outputs": [
        {
          "output_type": "stream",
          "name": "stdout",
          "text": [
            "<class 'str'>\n",
            "안녕하세요.\n"
          ]
        }
      ]
    },
    {
      "cell_type": "markdown",
      "source": [
        "파이썬에서 문자열은 작은 따옴표('')와 큰따옴표(\"\")를 모두 사용할 수 있음.\n",
        "\n",
        "아래의 두 문장은 같은 문장.\n",
        "\n",
        "```\n",
        "s = 'hello'\n",
        "s = \"hello\"\n",
        "```\n"
      ],
      "metadata": {
        "id": "-PH6lP9GLRdp"
      }
    },
    {
      "cell_type": "markdown",
      "source": [
        "## 논리 타입"
      ],
      "metadata": {
        "id": "urt1LNMaNJi5"
      }
    },
    {
      "cell_type": "code",
      "source": [
        "b = False  # 파이썬의 예약어(keyword)는 대소문자를 구분함!\n",
        "print(type(b))\n",
        "print(b)"
      ],
      "metadata": {
        "colab": {
          "base_uri": "https://localhost:8080/"
        },
        "id": "lMa1TTD6NONx",
        "outputId": "03043537-7af1-4fff-e8e8-d65e866e9a78"
      },
      "execution_count": 10,
      "outputs": [
        {
          "output_type": "stream",
          "name": "stdout",
          "text": [
            "<class 'bool'>\n",
            "False\n"
          ]
        }
      ]
    },
    {
      "cell_type": "code",
      "source": [
        "x = 5\n",
        "result = x > 0\n",
        "print(result)"
      ],
      "metadata": {
        "colab": {
          "base_uri": "https://localhost:8080/"
        },
        "id": "7t5HHQa7ODea",
        "outputId": "dc903d5b-dbf7-443f-986a-41104927f0f4"
      },
      "execution_count": 12,
      "outputs": [
        {
          "output_type": "stream",
          "name": "stdout",
          "text": [
            "True\n"
          ]
        }
      ]
    },
    {
      "cell_type": "markdown",
      "source": [
        "## 명시적 타입 변환(explicit type conversion/casting)\n",
        "\n",
        "*   `int(값)`: 값을 정수로 변환해서 리턴하는 함수.\n",
        "*   `float(값)`: 값을 실수로 변환해서 리턴하는 함수.\n",
        "*   `str(값)`: 값을 문자열로 변환해서 리턴하는 함수.\n"
      ],
      "metadata": {
        "id": "5n6-FF9MPMHl"
      }
    },
    {
      "cell_type": "code",
      "source": [
        "n_str_1 = '123'\n",
        "n_str_2 = '100'\n",
        "print(type(n_str_1))  #> 변수 n_str_1에 저장된 값의 자료 타입은 str(문자열)\n",
        "print(n_str_1 + n_str_2)  #> 문자열 + 문자열 => 문자열 이어붙이기(concatenate)"
      ],
      "metadata": {
        "colab": {
          "base_uri": "https://localhost:8080/"
        },
        "id": "8FTcZPKtVVEw",
        "outputId": "913bdaf3-77c1-4a7d-d778-6a0953009263"
      },
      "execution_count": 13,
      "outputs": [
        {
          "output_type": "stream",
          "name": "stdout",
          "text": [
            "<class 'str'>\n",
            "123100\n"
          ]
        }
      ]
    },
    {
      "cell_type": "code",
      "source": [
        "n1 = int(n_str_1)  #> 변수 n_str_1에 저장된 값을 정수로 변환해서 변수 n1에 저장.\n",
        "n2 = int(n_str_2)\n",
        "print(type(n1))\n",
        "print(n1 + n2)  #> 정수 + 정수 => 숫자들의 덧셈."
      ],
      "metadata": {
        "colab": {
          "base_uri": "https://localhost:8080/"
        },
        "id": "yk6Xhx-NWtER",
        "outputId": "9a5ee83d-78ca-4e22-d395-fe151a1994d8"
      },
      "execution_count": 14,
      "outputs": [
        {
          "output_type": "stream",
          "name": "stdout",
          "text": [
            "<class 'int'>\n",
            "223\n"
          ]
        }
      ]
    },
    {
      "cell_type": "code",
      "source": [
        "pi = '3.14'\n",
        "print(type(pi))\n",
        "pi = float(pi)  #> 변수 pi에 저장된 값을 실수(float) 타입으로 변환해서 다시 변수 pi에 저장.\n",
        "print(type(pi))"
      ],
      "metadata": {
        "colab": {
          "base_uri": "https://localhost:8080/"
        },
        "id": "lPD5BwEyX80D",
        "outputId": "4fb9736d-02a1-4445-e1fb-7b7782b8c095"
      },
      "execution_count": 16,
      "outputs": [
        {
          "output_type": "stream",
          "name": "stdout",
          "text": [
            "<class 'str'>\n",
            "<class 'float'>\n"
          ]
        }
      ]
    },
    {
      "cell_type": "code",
      "source": [
        "number = input('숫자를 입력하세요>>> ')\n",
        "number = float(number)\n",
        "print(type(number))"
      ],
      "metadata": {
        "colab": {
          "base_uri": "https://localhost:8080/"
        },
        "id": "y3VqzoT3Y16x",
        "outputId": "4c018914-1646-463d-e8b0-322af258ed70"
      },
      "execution_count": 18,
      "outputs": [
        {
          "output_type": "stream",
          "name": "stdout",
          "text": [
            "숫자를 입력하세요>>> 100\n",
            "<class 'float'>\n"
          ]
        }
      ]
    },
    {
      "cell_type": "code",
      "source": [
        "number = float(input('숫자를 입력하세요>>> '))\n",
        "print(type(number))"
      ],
      "metadata": {
        "colab": {
          "base_uri": "https://localhost:8080/"
        },
        "id": "cQOVXukaaKbl",
        "outputId": "6c5f8f85-048f-4386-bead-2f8391c34481"
      },
      "execution_count": 19,
      "outputs": [
        {
          "output_type": "stream",
          "name": "stdout",
          "text": [
            "숫자를 입력하세요>>> 3.14\n",
            "<class 'float'>\n"
          ]
        }
      ]
    },
    {
      "cell_type": "markdown",
      "source": [
        "# 연산자(Operator)"
      ],
      "metadata": {
        "id": "Un46glIlbW1P"
      }
    },
    {
      "cell_type": "markdown",
      "source": [
        "## 산술 연산자(arithmetic operators)\n",
        "\n",
        "*   종류: `+, -, *, /, **, //, %`\n",
        "*   일반적으로 숫자 타입(int, float)의 값에서 사용 가능.\n"
      ],
      "metadata": {
        "id": "psGFY7gGbiAo"
      }
    },
    {
      "cell_type": "code",
      "source": [
        "x, y = 10, 3\n",
        "\n",
        "print(f'{x} + {y} = {x + y}')\n",
        "print(f'{x} - {y} = {x - y}')\n",
        "print(f'{x} * {y} = {x * y}')\n",
        "print(f'{x} / {y} = {x / y}')\n",
        "print(f'{x}의 {y} 거듭제곱 = {x ** y}')\n",
        "print(f'{x}를 {y}로 나눈 몫 = {x // y}')\n",
        "print(f'{x}를 {y}롤 나눈 나머지 = {x % y}')"
      ],
      "metadata": {
        "colab": {
          "base_uri": "https://localhost:8080/"
        },
        "id": "W2St4bBca2jX",
        "outputId": "101cb22e-ac8a-4ea1-cf27-831cb41b0221"
      },
      "execution_count": 27,
      "outputs": [
        {
          "output_type": "stream",
          "name": "stdout",
          "text": [
            "10 + 3 = 13\n",
            "10 - 3 = 7\n",
            "10 * 3 = 30\n",
            "10 / 3 = 3.3333333333333335\n",
            "10의 3 거듭제곱 = 1000\n",
            "10를 3로 나눈 몫 = 3\n",
            "10를 3롤 나눈 나머지 = 1\n"
          ]
        }
      ]
    },
    {
      "cell_type": "markdown",
      "source": [
        "문자열(str) 타입에서 사용할 수 있는 산술 연산자:\n",
        "\n",
        "*   `+`: concatenate. 문자열 이어 붙이기. `str + str`.\n",
        "*   `*`: replicate. 문자열을 곱한 숫자만큼 복제하기. `str * int`, `int * str`.\n"
      ],
      "metadata": {
        "id": "ec11uNTniUAH"
      }
    },
    {
      "cell_type": "code",
      "source": [
        "print('Hello' + 'Python')"
      ],
      "metadata": {
        "colab": {
          "base_uri": "https://localhost:8080/"
        },
        "id": "FJZTuL6NjCmQ",
        "outputId": "b545e8a1-1fae-4064-be28-cd5c95046fad"
      },
      "execution_count": 28,
      "outputs": [
        {
          "output_type": "stream",
          "name": "stdout",
          "text": [
            "HelloPython\n"
          ]
        }
      ]
    },
    {
      "cell_type": "code",
      "source": [
        "print('Hello' * 5)"
      ],
      "metadata": {
        "colab": {
          "base_uri": "https://localhost:8080/"
        },
        "id": "O8TDET7WjLw4",
        "outputId": "fd1fc74f-4cc5-4bc8-e5e7-49bf1035fb89"
      },
      "execution_count": 29,
      "outputs": [
        {
          "output_type": "stream",
          "name": "stdout",
          "text": [
            "HelloHelloHelloHelloHello\n"
          ]
        }
      ]
    },
    {
      "cell_type": "markdown",
      "source": [
        "bool 타입의 값들을 산술 연산을 할 때는 True는 1, False는 0으로 자동 변환된 후 산술 연산이 수행됨."
      ],
      "metadata": {
        "id": "Lh_2bTOujbyD"
      }
    },
    {
      "cell_type": "code",
      "source": [
        "print(True + True)"
      ],
      "metadata": {
        "colab": {
          "base_uri": "https://localhost:8080/"
        },
        "id": "vIJzk3TTjqEv",
        "outputId": "45f7809d-7573-405c-a0c3-14694d3f105b"
      },
      "execution_count": 33,
      "outputs": [
        {
          "output_type": "stream",
          "name": "stdout",
          "text": [
            "2\n"
          ]
        }
      ]
    },
    {
      "cell_type": "code",
      "source": [
        "(True + True + True + False + True) / 5\n",
        "# (1 + 1 + 1 + 0 + 1) / 5"
      ],
      "metadata": {
        "colab": {
          "base_uri": "https://localhost:8080/"
        },
        "id": "FOQw-ADRkrnI",
        "outputId": "ad3e79fe-41ac-4a33-eb2d-45b086b2076f"
      },
      "execution_count": 34,
      "outputs": [
        {
          "output_type": "execute_result",
          "data": {
            "text/plain": [
              "0.8"
            ]
          },
          "metadata": {},
          "execution_count": 34
        }
      ]
    },
    {
      "cell_type": "markdown",
      "source": [
        "## 비교 연산자와 논리 연산자\n",
        "\n",
        "*   비교 연산자: `==, !=, >, >=, <, <=`, ...\n",
        "*   논리 연산자: `and, or, not`\n"
      ],
      "metadata": {
        "id": "_-vThC3Qlsij"
      }
    },
    {
      "cell_type": "code",
      "source": [
        "x = 100\n",
        "\n",
        "print(x == 100)\n",
        "print(x != 100)\n",
        "print(x > 0)\n",
        "print(x < 0)"
      ],
      "metadata": {
        "colab": {
          "base_uri": "https://localhost:8080/"
        },
        "id": "FxW05eALm-IX",
        "outputId": "63cbd88f-ae9c-47ba-9ef5-815777b3355b"
      },
      "execution_count": 35,
      "outputs": [
        {
          "output_type": "stream",
          "name": "stdout",
          "text": [
            "True\n",
            "False\n",
            "True\n",
            "False\n"
          ]
        }
      ]
    },
    {
      "cell_type": "code",
      "source": [
        "print((x > 50) and (x < 150))  # 50 < x < 150\n",
        "print((x > 100) or (x < 0))\n",
        "print(not (x > 100))  # x <= 100"
      ],
      "metadata": {
        "colab": {
          "base_uri": "https://localhost:8080/"
        },
        "id": "b0GgUq5DnkUH",
        "outputId": "7220d161-c586-40a1-db4c-1bbe7fc9a25a"
      },
      "execution_count": 38,
      "outputs": [
        {
          "output_type": "stream",
          "name": "stdout",
          "text": [
            "True\n",
            "False\n",
            "True\n"
          ]
        }
      ]
    },
    {
      "cell_type": "markdown",
      "source": [
        "## 할당 연산자, 복합 할당 연산자\n",
        "\n",
        "*   `=`: 할당 연산자. 오른쪽의 값을 왼쪽의 변수에 저장.\n",
        "*   복합 할당 연산자: 산술 연산자와 할당 연산자가 합쳐서 만들어진 연산자.\n",
        "    *   `+=, -=, *=, /=, //=, %=, ...`\n"
      ],
      "metadata": {
        "id": "BfhbaZfnpL-u"
      }
    },
    {
      "cell_type": "code",
      "source": [
        "x = 1  # 정숫값 1을 변수 x에 저장(할당).\n",
        "x += 1  # (1) x+1, (2) 결과를 변수 x에 저장(할당).\n",
        "# x = x + 1\n",
        "print(x)"
      ],
      "metadata": {
        "colab": {
          "base_uri": "https://localhost:8080/"
        },
        "id": "IX1gpgnuqFE3",
        "outputId": "cb40c7b4-6982-4aec-b31a-d34c7b6fd500"
      },
      "execution_count": 39,
      "outputs": [
        {
          "output_type": "stream",
          "name": "stdout",
          "text": [
            "2\n"
          ]
        }
      ]
    }
  ]
}