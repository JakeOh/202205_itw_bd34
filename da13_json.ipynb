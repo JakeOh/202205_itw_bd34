{
  "nbformat": 4,
  "nbformat_minor": 0,
  "metadata": {
    "colab": {
      "name": "da13_json.ipynb",
      "provenance": [],
      "collapsed_sections": [
        "z7-A9L6CBdm-"
      ],
      "authorship_tag": "ABX9TyM2w1qXd0f4c8KahHMuFY3K",
      "include_colab_link": true
    },
    "kernelspec": {
      "name": "python3",
      "display_name": "Python 3"
    },
    "language_info": {
      "name": "python"
    }
  },
  "cells": [
    {
      "cell_type": "markdown",
      "metadata": {
        "id": "view-in-github",
        "colab_type": "text"
      },
      "source": [
        "<a href=\"https://colab.research.google.com/github/JakeOh/202205_itw_bd34/blob/main/da13_json.ipynb\" target=\"_parent\"><img src=\"https://colab.research.google.com/assets/colab-badge.svg\" alt=\"Open In Colab\"/></a>"
      ]
    },
    {
      "cell_type": "markdown",
      "source": [
        "# JSON\n",
        "\n",
        "*   JSON(JavaScript Object Notation): 자바스크립트 객체 표현법.\n",
        "*   `{key1: value1, key2: value2, ...}` 형식의 문자열\n",
        "*   Python의 `dict` 클래스 객체의 문자열 표현과 비슷.\n",
        "*   `json` 모듈: JSON 형식 문자열(str) <---> `dict` 타입 객체(object)\n",
        "    *   `json.dumps(obj)`: Python 객체 obj를 JSON 형식의 문자열로 변환(serialization, 직렬화)해서 리턴.\n",
        "    *   `json.loads(s)`: JSON 형식의 문자열 s를 Python 객체로 변환(de-serialization, 역직렬화)해서 리턴.\n",
        "    *   `json.dump(obj, fp)`: Python 객체 obj를 문자열로 변환해서 파일 fp에 씀(write).\n",
        "    *   `json.load(fp)`: 파일 fp에서 JSON 형식의 문자열을 읽어서 Python 객체로 변환하고 리턴.\n"
      ],
      "metadata": {
        "id": "z7-A9L6CBdm-"
      }
    },
    {
      "cell_type": "markdown",
      "source": [
        "# Imports"
      ],
      "metadata": {
        "id": "GvqqpLVhD9NO"
      }
    },
    {
      "cell_type": "code",
      "execution_count": 1,
      "metadata": {
        "id": "zIkjZdF5BZTo"
      },
      "outputs": [],
      "source": [
        "import json  # JSON 읽기/쓰기 기능을 가지고 있는 파이썬 모듈\n",
        "import numpy as np\n",
        "import pandas as pd\n",
        "import matplotlib.pyplot as plt\n",
        "import seaborn as sns"
      ]
    },
    {
      "cell_type": "markdown",
      "source": [
        "# Serialization"
      ],
      "metadata": {
        "id": "uNsElmv5ESUO"
      }
    },
    {
      "cell_type": "code",
      "source": [
        "# 직렬화: Python 객체 ---> JSON 문자열\n",
        "person = {\n",
        "    'name': '홍길동',\n",
        "    'age': 16,\n",
        "    'phones': ['02-0000-0000', '010-1111-1111']\n",
        "}"
      ],
      "metadata": {
        "id": "0auEqsvaENH2"
      },
      "execution_count": 2,
      "outputs": []
    },
    {
      "cell_type": "code",
      "source": [
        "type(person)  #> dict 타입(객체)"
      ],
      "metadata": {
        "colab": {
          "base_uri": "https://localhost:8080/"
        },
        "id": "3NbPm-pwFbOu",
        "outputId": "aec78350-1eb9-4c0f-caf7-e2e760f3937b"
      },
      "execution_count": 4,
      "outputs": [
        {
          "output_type": "execute_result",
          "data": {
            "text/plain": [
              "dict"
            ]
          },
          "metadata": {},
          "execution_count": 4
        }
      ]
    },
    {
      "cell_type": "code",
      "source": [
        "person_json = json.dumps(person)\n",
        "person_json"
      ],
      "metadata": {
        "colab": {
          "base_uri": "https://localhost:8080/",
          "height": 36
        },
        "id": "j2PsesJUE6On",
        "outputId": "3a9c2282-be97-4d54-b2f6-acbe8195945e"
      },
      "execution_count": 5,
      "outputs": [
        {
          "output_type": "execute_result",
          "data": {
            "text/plain": [
              "'{\"name\": \"\\\\ud64d\\\\uae38\\\\ub3d9\", \"age\": 16, \"phones\": [\"02-0000-0000\", \"010-1111-1111\"]}'"
            ],
            "application/vnd.google.colaboratory.intrinsic+json": {
              "type": "string"
            }
          },
          "metadata": {},
          "execution_count": 5
        }
      ]
    },
    {
      "cell_type": "code",
      "source": [
        "type(person_json)  #> str 타입(문자열)"
      ],
      "metadata": {
        "colab": {
          "base_uri": "https://localhost:8080/"
        },
        "id": "CmEtBhd2FF6F",
        "outputId": "76688f12-9b35-459f-bb81-5db5fe3460b6"
      },
      "execution_count": 6,
      "outputs": [
        {
          "output_type": "execute_result",
          "data": {
            "text/plain": [
              "str"
            ]
          },
          "metadata": {},
          "execution_count": 6
        }
      ]
    },
    {
      "cell_type": "markdown",
      "source": [
        "# Deserialization"
      ],
      "metadata": {
        "id": "GqdHwLGVGFum"
      }
    },
    {
      "cell_type": "code",
      "source": [
        "# 역직렬화: JSON 형식의 문자열 ---> Python 객체(object)\n",
        "result = json.loads(person_json)\n",
        "result"
      ],
      "metadata": {
        "colab": {
          "base_uri": "https://localhost:8080/"
        },
        "id": "Ry5U57nlGK2G",
        "outputId": "32e10859-3626-4fa7-a5df-4563d17ec317"
      },
      "execution_count": 7,
      "outputs": [
        {
          "output_type": "execute_result",
          "data": {
            "text/plain": [
              "{'age': 16, 'name': '홍길동', 'phones': ['02-0000-0000', '010-1111-1111']}"
            ]
          },
          "metadata": {},
          "execution_count": 7
        }
      ]
    },
    {
      "cell_type": "code",
      "source": [
        "type(result)"
      ],
      "metadata": {
        "colab": {
          "base_uri": "https://localhost:8080/"
        },
        "id": "qWMltMRiGg3u",
        "outputId": "8dfe9bd0-462b-4f72-a580-0b5a5db6effb"
      },
      "execution_count": 8,
      "outputs": [
        {
          "output_type": "execute_result",
          "data": {
            "text/plain": [
              "dict"
            ]
          },
          "metadata": {},
          "execution_count": 8
        }
      ]
    },
    {
      "cell_type": "markdown",
      "source": [
        "# JSON 파일 쓰기(write)/읽기(read)"
      ],
      "metadata": {
        "id": "FQ73ZJozMJso"
      }
    },
    {
      "cell_type": "markdown",
      "source": [
        "*   pickle: binary(이진) 파일 읽기/쓰기\n",
        "*   json: text(텍스트) 파일 읽기/쓰기"
      ],
      "metadata": {
        "id": "0YyK0OCJMPpo"
      }
    },
    {
      "cell_type": "code",
      "source": [
        "with open('gildong.json', mode='wt') as f:  # 파일을 '텍스트 쓰기' 모드로 오픈.\n",
        "    # mode='rt'기본값, mode='w'와 mode='wt'는 같은 의미.\n",
        "    f.write(json.dumps(person))  # person 객체를 JSON 문자열로 변환 후 파일에 씀(write).\n",
        "    # with-as 구문 종료 후에는 f.close() 자동으로 호출됨."
      ],
      "metadata": {
        "id": "MhRwg7jNGhn3"
      },
      "execution_count": 10,
      "outputs": []
    },
    {
      "cell_type": "code",
      "source": [
        "with open('gildong.json') as f:  # 파일을 '텍스트 읽기(rt)' 모드로 오픈.\n",
        "    # mode='rt'가 기본값이므로 생략 가능.\n",
        "    line = f.readline()  # 파일의 첫번째 줄(line)을 읽음.\n",
        "    print(line)\n",
        "    obj = json.loads(line)  # 파일에서 읽은 문자열을 객체로 변환\n",
        "    print(obj)"
      ],
      "metadata": {
        "colab": {
          "base_uri": "https://localhost:8080/"
        },
        "id": "321uWqiGNzap",
        "outputId": "af72e8bb-023f-4268-a6af-e35f85569bde"
      },
      "execution_count": 12,
      "outputs": [
        {
          "output_type": "stream",
          "name": "stdout",
          "text": [
            "{\"name\": \"\\ud64d\\uae38\\ub3d9\", \"age\": 16, \"phones\": [\"02-0000-0000\", \"010-1111-1111\"]}\n",
            "{'name': '홍길동', 'age': 16, 'phones': ['02-0000-0000', '010-1111-1111']}\n"
          ]
        }
      ]
    },
    {
      "cell_type": "code",
      "source": [
        "file_name = 'movies.txt'\n",
        "with open(file_name, mode='w') as f:\n",
        "    # dict 객체 생성\n",
        "    movie1 = {'mid': 1, 'title': '브로커', 'genre': 'drama'}\n",
        "    movie2 = {'mid': 2, 'title': '범죄도시2', 'genre': 'action'}\n",
        "    movie3 = {'mid': 3, 'title': '짱구는 못말려'}\n",
        "    # dict 객체 ---> JSON 문자열\n",
        "    m1_s = json.dumps(movie1)\n",
        "    m2_s = json.dumps(movie2)\n",
        "    m3_s = json.dumps(movie3)\n",
        "    # 3개의 문자열을 한 줄씩 파일에 write\n",
        "    f.write(m1_s + '\\n')\n",
        "    f.write(m2_s + '\\n')\n",
        "    f.write(m3_s + '\\n')"
      ],
      "metadata": {
        "id": "0JdtIdEdPFmR"
      },
      "execution_count": 19,
      "outputs": []
    },
    {
      "cell_type": "code",
      "source": [
        "# movies.txt 파일에서 한 줄씩 읽으면서, 읽은 문자열을 dict 객체로 변환하고 리스트에 추가.\n",
        "movies = []\n",
        "with open(file_name, mode='rt') as f:\n",
        "    for line in f:\n",
        "        obj = json.loads(line.strip())\n",
        "        movies.append(obj)\n",
        "\n",
        "movies"
      ],
      "metadata": {
        "colab": {
          "base_uri": "https://localhost:8080/"
        },
        "id": "vlIlcgv-RAdo",
        "outputId": "2a90ab7b-eecf-4ba8-9f9d-fc5bcb5962e8"
      },
      "execution_count": 20,
      "outputs": [
        {
          "output_type": "execute_result",
          "data": {
            "text/plain": [
              "[{'genre': 'drama', 'mid': 1, 'title': '브로커'},\n",
              " {'genre': 'action', 'mid': 2, 'title': '범죄도시2'},\n",
              " {'mid': 3, 'title': '짱구는 못말려'}]"
            ]
          },
          "metadata": {},
          "execution_count": 20
        }
      ]
    },
    {
      "cell_type": "code",
      "source": [
        "# list comprehension\n",
        "with open(file_name) as f:\n",
        "    movies = [json.loads(line.strip()) for line in f]\n",
        "\n",
        "movies"
      ],
      "metadata": {
        "colab": {
          "base_uri": "https://localhost:8080/"
        },
        "id": "gyQSJnfgSQba",
        "outputId": "e5e03ae0-f280-43de-a07b-7b3ece9d0885"
      },
      "execution_count": 21,
      "outputs": [
        {
          "output_type": "execute_result",
          "data": {
            "text/plain": [
              "[{'genre': 'drama', 'mid': 1, 'title': '브로커'},\n",
              " {'genre': 'action', 'mid': 2, 'title': '범죄도시2'},\n",
              " {'mid': 3, 'title': '짱구는 못말려'}]"
            ]
          },
          "metadata": {},
          "execution_count": 21
        }
      ]
    },
    {
      "cell_type": "code",
      "source": [
        "df = pd.DataFrame(movies)\n",
        "df"
      ],
      "metadata": {
        "colab": {
          "base_uri": "https://localhost:8080/",
          "height": 143
        },
        "id": "Aay58SimTO6S",
        "outputId": "283617b8-821c-4495-9dcc-2b05dcca877c"
      },
      "execution_count": 22,
      "outputs": [
        {
          "output_type": "execute_result",
          "data": {
            "text/plain": [
              "   mid    title   genre\n",
              "0    1      브로커   drama\n",
              "1    2    범죄도시2  action\n",
              "2    3  짱구는 못말려     NaN"
            ],
            "text/html": [
              "\n",
              "  <div id=\"df-19538ed2-c406-4c54-831c-80b25f0ddd16\">\n",
              "    <div class=\"colab-df-container\">\n",
              "      <div>\n",
              "<style scoped>\n",
              "    .dataframe tbody tr th:only-of-type {\n",
              "        vertical-align: middle;\n",
              "    }\n",
              "\n",
              "    .dataframe tbody tr th {\n",
              "        vertical-align: top;\n",
              "    }\n",
              "\n",
              "    .dataframe thead th {\n",
              "        text-align: right;\n",
              "    }\n",
              "</style>\n",
              "<table border=\"1\" class=\"dataframe\">\n",
              "  <thead>\n",
              "    <tr style=\"text-align: right;\">\n",
              "      <th></th>\n",
              "      <th>mid</th>\n",
              "      <th>title</th>\n",
              "      <th>genre</th>\n",
              "    </tr>\n",
              "  </thead>\n",
              "  <tbody>\n",
              "    <tr>\n",
              "      <th>0</th>\n",
              "      <td>1</td>\n",
              "      <td>브로커</td>\n",
              "      <td>drama</td>\n",
              "    </tr>\n",
              "    <tr>\n",
              "      <th>1</th>\n",
              "      <td>2</td>\n",
              "      <td>범죄도시2</td>\n",
              "      <td>action</td>\n",
              "    </tr>\n",
              "    <tr>\n",
              "      <th>2</th>\n",
              "      <td>3</td>\n",
              "      <td>짱구는 못말려</td>\n",
              "      <td>NaN</td>\n",
              "    </tr>\n",
              "  </tbody>\n",
              "</table>\n",
              "</div>\n",
              "      <button class=\"colab-df-convert\" onclick=\"convertToInteractive('df-19538ed2-c406-4c54-831c-80b25f0ddd16')\"\n",
              "              title=\"Convert this dataframe to an interactive table.\"\n",
              "              style=\"display:none;\">\n",
              "        \n",
              "  <svg xmlns=\"http://www.w3.org/2000/svg\" height=\"24px\"viewBox=\"0 0 24 24\"\n",
              "       width=\"24px\">\n",
              "    <path d=\"M0 0h24v24H0V0z\" fill=\"none\"/>\n",
              "    <path d=\"M18.56 5.44l.94 2.06.94-2.06 2.06-.94-2.06-.94-.94-2.06-.94 2.06-2.06.94zm-11 1L8.5 8.5l.94-2.06 2.06-.94-2.06-.94L8.5 2.5l-.94 2.06-2.06.94zm10 10l.94 2.06.94-2.06 2.06-.94-2.06-.94-.94-2.06-.94 2.06-2.06.94z\"/><path d=\"M17.41 7.96l-1.37-1.37c-.4-.4-.92-.59-1.43-.59-.52 0-1.04.2-1.43.59L10.3 9.45l-7.72 7.72c-.78.78-.78 2.05 0 2.83L4 21.41c.39.39.9.59 1.41.59.51 0 1.02-.2 1.41-.59l7.78-7.78 2.81-2.81c.8-.78.8-2.07 0-2.86zM5.41 20L4 18.59l7.72-7.72 1.47 1.35L5.41 20z\"/>\n",
              "  </svg>\n",
              "      </button>\n",
              "      \n",
              "  <style>\n",
              "    .colab-df-container {\n",
              "      display:flex;\n",
              "      flex-wrap:wrap;\n",
              "      gap: 12px;\n",
              "    }\n",
              "\n",
              "    .colab-df-convert {\n",
              "      background-color: #E8F0FE;\n",
              "      border: none;\n",
              "      border-radius: 50%;\n",
              "      cursor: pointer;\n",
              "      display: none;\n",
              "      fill: #1967D2;\n",
              "      height: 32px;\n",
              "      padding: 0 0 0 0;\n",
              "      width: 32px;\n",
              "    }\n",
              "\n",
              "    .colab-df-convert:hover {\n",
              "      background-color: #E2EBFA;\n",
              "      box-shadow: 0px 1px 2px rgba(60, 64, 67, 0.3), 0px 1px 3px 1px rgba(60, 64, 67, 0.15);\n",
              "      fill: #174EA6;\n",
              "    }\n",
              "\n",
              "    [theme=dark] .colab-df-convert {\n",
              "      background-color: #3B4455;\n",
              "      fill: #D2E3FC;\n",
              "    }\n",
              "\n",
              "    [theme=dark] .colab-df-convert:hover {\n",
              "      background-color: #434B5C;\n",
              "      box-shadow: 0px 1px 3px 1px rgba(0, 0, 0, 0.15);\n",
              "      filter: drop-shadow(0px 1px 2px rgba(0, 0, 0, 0.3));\n",
              "      fill: #FFFFFF;\n",
              "    }\n",
              "  </style>\n",
              "\n",
              "      <script>\n",
              "        const buttonEl =\n",
              "          document.querySelector('#df-19538ed2-c406-4c54-831c-80b25f0ddd16 button.colab-df-convert');\n",
              "        buttonEl.style.display =\n",
              "          google.colab.kernel.accessAllowed ? 'block' : 'none';\n",
              "\n",
              "        async function convertToInteractive(key) {\n",
              "          const element = document.querySelector('#df-19538ed2-c406-4c54-831c-80b25f0ddd16');\n",
              "          const dataTable =\n",
              "            await google.colab.kernel.invokeFunction('convertToInteractive',\n",
              "                                                     [key], {});\n",
              "          if (!dataTable) return;\n",
              "\n",
              "          const docLinkHtml = 'Like what you see? Visit the ' +\n",
              "            '<a target=\"_blank\" href=https://colab.research.google.com/notebooks/data_table.ipynb>data table notebook</a>'\n",
              "            + ' to learn more about interactive tables.';\n",
              "          element.innerHTML = '';\n",
              "          dataTable['output_type'] = 'display_data';\n",
              "          await google.colab.output.renderOutput(dataTable, element);\n",
              "          const docLink = document.createElement('div');\n",
              "          docLink.innerHTML = docLinkHtml;\n",
              "          element.appendChild(docLink);\n",
              "        }\n",
              "      </script>\n",
              "    </div>\n",
              "  </div>\n",
              "  "
            ]
          },
          "metadata": {},
          "execution_count": 22
        }
      ]
    },
    {
      "cell_type": "markdown",
      "source": [
        "# bitly 데이터 셋"
      ],
      "metadata": {
        "id": "rDIWiu5Invfn"
      }
    },
    {
      "cell_type": "markdown",
      "source": [
        "*   https://github.com/wesm/pydata-book/raw/2nd-edition/datasets/bitly_usagov/example.txt 파일을 다운로드.\n",
        "    *   bit.ly 서비스를 이용해서 usa.gov 사이트에 접속한 클라이언트(브라우저)들의 로그 정보를 저장한 파일.\n",
        "*   다운로드한 파일을 Google Drive 또는 Colab 활성 세션에 업로드.\n",
        "*   업로드한 파일을 읽기 모드로 오픈.\n",
        "*   파일의 첫번째 줄부터 마지막 줄까지 한 줄씩 읽으면서 반복.\n",
        "    *   읽은 문자열(json-format)을 dict 타입 객체로 변환하고 리스트에 추가.\n",
        "*   파일 내용이 모두 append가 끝난 list를 DataFrame으로 변환.\n",
        "*   DataFrame 확인."
      ],
      "metadata": {
        "id": "EQYaLf1lomso"
      }
    },
    {
      "cell_type": "code",
      "source": [
        "# file_path = '/content/example.txt'  # 절대 경로\n",
        "with open('example.txt') as file:\n",
        "    records = [json.loads(s.strip()) for s in file]"
      ],
      "metadata": {
        "id": "olSox7d2TTfL"
      },
      "execution_count": 27,
      "outputs": []
    },
    {
      "cell_type": "code",
      "source": [
        "len(records)  #> 3,560개의 dict 객체들을 저장하는 리스트"
      ],
      "metadata": {
        "colab": {
          "base_uri": "https://localhost:8080/"
        },
        "id": "UtdcbaVrtI_D",
        "outputId": "2d05a03c-faf0-415b-bba6-a469f4b3239e"
      },
      "execution_count": 28,
      "outputs": [
        {
          "output_type": "execute_result",
          "data": {
            "text/plain": [
              "3560"
            ]
          },
          "metadata": {},
          "execution_count": 28
        }
      ]
    },
    {
      "cell_type": "code",
      "source": [
        "# 리스트의 첫번째 원소\n",
        "records[0]"
      ],
      "metadata": {
        "colab": {
          "base_uri": "https://localhost:8080/"
        },
        "id": "1FFlFKCntLgg",
        "outputId": "06c035d0-7afb-4f30-860e-0c1799cb482b"
      },
      "execution_count": 29,
      "outputs": [
        {
          "output_type": "execute_result",
          "data": {
            "text/plain": [
              "{'a': 'Mozilla/5.0 (Windows NT 6.1; WOW64) AppleWebKit/535.11 (KHTML, like Gecko) Chrome/17.0.963.78 Safari/535.11',\n",
              " 'al': 'en-US,en;q=0.8',\n",
              " 'c': 'US',\n",
              " 'cy': 'Danvers',\n",
              " 'g': 'A6qOVH',\n",
              " 'gr': 'MA',\n",
              " 'h': 'wfLQtf',\n",
              " 'hc': 1331822918,\n",
              " 'hh': '1.usa.gov',\n",
              " 'l': 'orofrog',\n",
              " 'll': [42.576698, -70.954903],\n",
              " 'nk': 1,\n",
              " 'r': 'http://www.facebook.com/l/7AQEFzjSi/1.usa.gov/wfLQtf',\n",
              " 't': 1331923247,\n",
              " 'tz': 'America/New_York',\n",
              " 'u': 'http://www.ncbi.nlm.nih.gov/pubmed/22415991'}"
            ]
          },
          "metadata": {},
          "execution_count": 29
        }
      ]
    },
    {
      "cell_type": "code",
      "source": [
        "# 리스트의 마지막 원소\n",
        "records[-1]"
      ],
      "metadata": {
        "colab": {
          "base_uri": "https://localhost:8080/"
        },
        "id": "Aj9WVs9utbsK",
        "outputId": "0994f812-b2b7-4619-d4fd-b03d861f5712"
      },
      "execution_count": 30,
      "outputs": [
        {
          "output_type": "execute_result",
          "data": {
            "text/plain": [
              "{'a': 'Mozilla/4.0 (compatible; MSIE 8.0; Windows NT 6.1; Trident/4.0; SLCC2; .NET CLR 2.0.50727; .NET CLR 3.5.30729; .NET CLR 3.0.30729; Media Center PC 6.0; MS-RTC LM 8; .NET4.0C; .NET4.0E; .NET CLR 1.1.4322)',\n",
              " 'al': 'en-US',\n",
              " 'c': 'US',\n",
              " 'cy': 'Mc Lean',\n",
              " 'g': 'qxKrTK',\n",
              " 'gr': 'VA',\n",
              " 'h': 'qxKrTK',\n",
              " 'hc': 1312897670,\n",
              " 'hh': '1.usa.gov',\n",
              " 'l': 'bitly',\n",
              " 'll': [38.935799, -77.162102],\n",
              " 'nk': 0,\n",
              " 'r': 'http://t.co/OEEEvwjU',\n",
              " 't': 1331926849,\n",
              " 'tz': 'America/New_York',\n",
              " 'u': 'http://herndon-va.gov/Content/public_safety/Public_Information/weekly_reports.aspx?cnlid=1736'}"
            ]
          },
          "metadata": {},
          "execution_count": 30
        }
      ]
    },
    {
      "cell_type": "code",
      "source": [
        "df = pd.DataFrame(records)"
      ],
      "metadata": {
        "id": "jUE-4d3munzx"
      },
      "execution_count": 31,
      "outputs": []
    },
    {
      "cell_type": "code",
      "source": [
        "df.head()"
      ],
      "metadata": {
        "colab": {
          "base_uri": "https://localhost:8080/",
          "height": 392
        },
        "id": "mNR__SKGusDR",
        "outputId": "1ec28203-b30e-4245-90d9-8e673958db51"
      },
      "execution_count": 32,
      "outputs": [
        {
          "output_type": "execute_result",
          "data": {
            "text/plain": [
              "                                                   a   c   nk  \\\n",
              "0  Mozilla/5.0 (Windows NT 6.1; WOW64) AppleWebKi...  US  1.0   \n",
              "1                             GoogleMaps/RochesterNY  US  0.0   \n",
              "2  Mozilla/4.0 (compatible; MSIE 8.0; Windows NT ...  US  1.0   \n",
              "3  Mozilla/5.0 (Macintosh; Intel Mac OS X 10_6_8)...  BR  0.0   \n",
              "4  Mozilla/5.0 (Windows NT 6.1; WOW64) AppleWebKi...  US  0.0   \n",
              "\n",
              "                  tz  gr       g       h         l              al         hh  \\\n",
              "0   America/New_York  MA  A6qOVH  wfLQtf   orofrog  en-US,en;q=0.8  1.usa.gov   \n",
              "1     America/Denver  UT  mwszkS  mwszkS     bitly             NaN       j.mp   \n",
              "2   America/New_York  DC  xxr3Qb  xxr3Qb     bitly           en-US  1.usa.gov   \n",
              "3  America/Sao_Paulo  27  zCaLwp  zUtuOu  alelex88           pt-br  1.usa.gov   \n",
              "4   America/New_York  MA  9b6kNl  9b6kNl     bitly  en-US,en;q=0.8     bit.ly   \n",
              "\n",
              "                                                   r  \\\n",
              "0  http://www.facebook.com/l/7AQEFzjSi/1.usa.gov/...   \n",
              "1                           http://www.AwareMap.com/   \n",
              "2                               http://t.co/03elZC4Q   \n",
              "3                                             direct   \n",
              "4                http://www.shrewsbury-ma.gov/selco/   \n",
              "\n",
              "                                                   u             t  \\\n",
              "0        http://www.ncbi.nlm.nih.gov/pubmed/22415991  1.331923e+09   \n",
              "1        http://www.monroecounty.gov/etc/911/rss.php  1.331923e+09   \n",
              "2  http://boxer.senate.gov/en/press/releases/0316...  1.331923e+09   \n",
              "3            http://apod.nasa.gov/apod/ap120312.html  1.331923e+09   \n",
              "4  http://www.shrewsbury-ma.gov/egov/gallery/1341...  1.331923e+09   \n",
              "\n",
              "             hc          cy                        ll  _heartbeat_   kw  \n",
              "0  1.331823e+09     Danvers   [42.576698, -70.954903]          NaN  NaN  \n",
              "1  1.308262e+09       Provo  [40.218102, -111.613297]          NaN  NaN  \n",
              "2  1.331920e+09  Washington     [38.9007, -77.043098]          NaN  NaN  \n",
              "3  1.331923e+09        Braz  [-23.549999, -46.616699]          NaN  NaN  \n",
              "4  1.273672e+09  Shrewsbury   [42.286499, -71.714699]          NaN  NaN  "
            ],
            "text/html": [
              "\n",
              "  <div id=\"df-baaf2c84-6063-420f-b017-c01ba09ef479\">\n",
              "    <div class=\"colab-df-container\">\n",
              "      <div>\n",
              "<style scoped>\n",
              "    .dataframe tbody tr th:only-of-type {\n",
              "        vertical-align: middle;\n",
              "    }\n",
              "\n",
              "    .dataframe tbody tr th {\n",
              "        vertical-align: top;\n",
              "    }\n",
              "\n",
              "    .dataframe thead th {\n",
              "        text-align: right;\n",
              "    }\n",
              "</style>\n",
              "<table border=\"1\" class=\"dataframe\">\n",
              "  <thead>\n",
              "    <tr style=\"text-align: right;\">\n",
              "      <th></th>\n",
              "      <th>a</th>\n",
              "      <th>c</th>\n",
              "      <th>nk</th>\n",
              "      <th>tz</th>\n",
              "      <th>gr</th>\n",
              "      <th>g</th>\n",
              "      <th>h</th>\n",
              "      <th>l</th>\n",
              "      <th>al</th>\n",
              "      <th>hh</th>\n",
              "      <th>r</th>\n",
              "      <th>u</th>\n",
              "      <th>t</th>\n",
              "      <th>hc</th>\n",
              "      <th>cy</th>\n",
              "      <th>ll</th>\n",
              "      <th>_heartbeat_</th>\n",
              "      <th>kw</th>\n",
              "    </tr>\n",
              "  </thead>\n",
              "  <tbody>\n",
              "    <tr>\n",
              "      <th>0</th>\n",
              "      <td>Mozilla/5.0 (Windows NT 6.1; WOW64) AppleWebKi...</td>\n",
              "      <td>US</td>\n",
              "      <td>1.0</td>\n",
              "      <td>America/New_York</td>\n",
              "      <td>MA</td>\n",
              "      <td>A6qOVH</td>\n",
              "      <td>wfLQtf</td>\n",
              "      <td>orofrog</td>\n",
              "      <td>en-US,en;q=0.8</td>\n",
              "      <td>1.usa.gov</td>\n",
              "      <td>http://www.facebook.com/l/7AQEFzjSi/1.usa.gov/...</td>\n",
              "      <td>http://www.ncbi.nlm.nih.gov/pubmed/22415991</td>\n",
              "      <td>1.331923e+09</td>\n",
              "      <td>1.331823e+09</td>\n",
              "      <td>Danvers</td>\n",
              "      <td>[42.576698, -70.954903]</td>\n",
              "      <td>NaN</td>\n",
              "      <td>NaN</td>\n",
              "    </tr>\n",
              "    <tr>\n",
              "      <th>1</th>\n",
              "      <td>GoogleMaps/RochesterNY</td>\n",
              "      <td>US</td>\n",
              "      <td>0.0</td>\n",
              "      <td>America/Denver</td>\n",
              "      <td>UT</td>\n",
              "      <td>mwszkS</td>\n",
              "      <td>mwszkS</td>\n",
              "      <td>bitly</td>\n",
              "      <td>NaN</td>\n",
              "      <td>j.mp</td>\n",
              "      <td>http://www.AwareMap.com/</td>\n",
              "      <td>http://www.monroecounty.gov/etc/911/rss.php</td>\n",
              "      <td>1.331923e+09</td>\n",
              "      <td>1.308262e+09</td>\n",
              "      <td>Provo</td>\n",
              "      <td>[40.218102, -111.613297]</td>\n",
              "      <td>NaN</td>\n",
              "      <td>NaN</td>\n",
              "    </tr>\n",
              "    <tr>\n",
              "      <th>2</th>\n",
              "      <td>Mozilla/4.0 (compatible; MSIE 8.0; Windows NT ...</td>\n",
              "      <td>US</td>\n",
              "      <td>1.0</td>\n",
              "      <td>America/New_York</td>\n",
              "      <td>DC</td>\n",
              "      <td>xxr3Qb</td>\n",
              "      <td>xxr3Qb</td>\n",
              "      <td>bitly</td>\n",
              "      <td>en-US</td>\n",
              "      <td>1.usa.gov</td>\n",
              "      <td>http://t.co/03elZC4Q</td>\n",
              "      <td>http://boxer.senate.gov/en/press/releases/0316...</td>\n",
              "      <td>1.331923e+09</td>\n",
              "      <td>1.331920e+09</td>\n",
              "      <td>Washington</td>\n",
              "      <td>[38.9007, -77.043098]</td>\n",
              "      <td>NaN</td>\n",
              "      <td>NaN</td>\n",
              "    </tr>\n",
              "    <tr>\n",
              "      <th>3</th>\n",
              "      <td>Mozilla/5.0 (Macintosh; Intel Mac OS X 10_6_8)...</td>\n",
              "      <td>BR</td>\n",
              "      <td>0.0</td>\n",
              "      <td>America/Sao_Paulo</td>\n",
              "      <td>27</td>\n",
              "      <td>zCaLwp</td>\n",
              "      <td>zUtuOu</td>\n",
              "      <td>alelex88</td>\n",
              "      <td>pt-br</td>\n",
              "      <td>1.usa.gov</td>\n",
              "      <td>direct</td>\n",
              "      <td>http://apod.nasa.gov/apod/ap120312.html</td>\n",
              "      <td>1.331923e+09</td>\n",
              "      <td>1.331923e+09</td>\n",
              "      <td>Braz</td>\n",
              "      <td>[-23.549999, -46.616699]</td>\n",
              "      <td>NaN</td>\n",
              "      <td>NaN</td>\n",
              "    </tr>\n",
              "    <tr>\n",
              "      <th>4</th>\n",
              "      <td>Mozilla/5.0 (Windows NT 6.1; WOW64) AppleWebKi...</td>\n",
              "      <td>US</td>\n",
              "      <td>0.0</td>\n",
              "      <td>America/New_York</td>\n",
              "      <td>MA</td>\n",
              "      <td>9b6kNl</td>\n",
              "      <td>9b6kNl</td>\n",
              "      <td>bitly</td>\n",
              "      <td>en-US,en;q=0.8</td>\n",
              "      <td>bit.ly</td>\n",
              "      <td>http://www.shrewsbury-ma.gov/selco/</td>\n",
              "      <td>http://www.shrewsbury-ma.gov/egov/gallery/1341...</td>\n",
              "      <td>1.331923e+09</td>\n",
              "      <td>1.273672e+09</td>\n",
              "      <td>Shrewsbury</td>\n",
              "      <td>[42.286499, -71.714699]</td>\n",
              "      <td>NaN</td>\n",
              "      <td>NaN</td>\n",
              "    </tr>\n",
              "  </tbody>\n",
              "</table>\n",
              "</div>\n",
              "      <button class=\"colab-df-convert\" onclick=\"convertToInteractive('df-baaf2c84-6063-420f-b017-c01ba09ef479')\"\n",
              "              title=\"Convert this dataframe to an interactive table.\"\n",
              "              style=\"display:none;\">\n",
              "        \n",
              "  <svg xmlns=\"http://www.w3.org/2000/svg\" height=\"24px\"viewBox=\"0 0 24 24\"\n",
              "       width=\"24px\">\n",
              "    <path d=\"M0 0h24v24H0V0z\" fill=\"none\"/>\n",
              "    <path d=\"M18.56 5.44l.94 2.06.94-2.06 2.06-.94-2.06-.94-.94-2.06-.94 2.06-2.06.94zm-11 1L8.5 8.5l.94-2.06 2.06-.94-2.06-.94L8.5 2.5l-.94 2.06-2.06.94zm10 10l.94 2.06.94-2.06 2.06-.94-2.06-.94-.94-2.06-.94 2.06-2.06.94z\"/><path d=\"M17.41 7.96l-1.37-1.37c-.4-.4-.92-.59-1.43-.59-.52 0-1.04.2-1.43.59L10.3 9.45l-7.72 7.72c-.78.78-.78 2.05 0 2.83L4 21.41c.39.39.9.59 1.41.59.51 0 1.02-.2 1.41-.59l7.78-7.78 2.81-2.81c.8-.78.8-2.07 0-2.86zM5.41 20L4 18.59l7.72-7.72 1.47 1.35L5.41 20z\"/>\n",
              "  </svg>\n",
              "      </button>\n",
              "      \n",
              "  <style>\n",
              "    .colab-df-container {\n",
              "      display:flex;\n",
              "      flex-wrap:wrap;\n",
              "      gap: 12px;\n",
              "    }\n",
              "\n",
              "    .colab-df-convert {\n",
              "      background-color: #E8F0FE;\n",
              "      border: none;\n",
              "      border-radius: 50%;\n",
              "      cursor: pointer;\n",
              "      display: none;\n",
              "      fill: #1967D2;\n",
              "      height: 32px;\n",
              "      padding: 0 0 0 0;\n",
              "      width: 32px;\n",
              "    }\n",
              "\n",
              "    .colab-df-convert:hover {\n",
              "      background-color: #E2EBFA;\n",
              "      box-shadow: 0px 1px 2px rgba(60, 64, 67, 0.3), 0px 1px 3px 1px rgba(60, 64, 67, 0.15);\n",
              "      fill: #174EA6;\n",
              "    }\n",
              "\n",
              "    [theme=dark] .colab-df-convert {\n",
              "      background-color: #3B4455;\n",
              "      fill: #D2E3FC;\n",
              "    }\n",
              "\n",
              "    [theme=dark] .colab-df-convert:hover {\n",
              "      background-color: #434B5C;\n",
              "      box-shadow: 0px 1px 3px 1px rgba(0, 0, 0, 0.15);\n",
              "      filter: drop-shadow(0px 1px 2px rgba(0, 0, 0, 0.3));\n",
              "      fill: #FFFFFF;\n",
              "    }\n",
              "  </style>\n",
              "\n",
              "      <script>\n",
              "        const buttonEl =\n",
              "          document.querySelector('#df-baaf2c84-6063-420f-b017-c01ba09ef479 button.colab-df-convert');\n",
              "        buttonEl.style.display =\n",
              "          google.colab.kernel.accessAllowed ? 'block' : 'none';\n",
              "\n",
              "        async function convertToInteractive(key) {\n",
              "          const element = document.querySelector('#df-baaf2c84-6063-420f-b017-c01ba09ef479');\n",
              "          const dataTable =\n",
              "            await google.colab.kernel.invokeFunction('convertToInteractive',\n",
              "                                                     [key], {});\n",
              "          if (!dataTable) return;\n",
              "\n",
              "          const docLinkHtml = 'Like what you see? Visit the ' +\n",
              "            '<a target=\"_blank\" href=https://colab.research.google.com/notebooks/data_table.ipynb>data table notebook</a>'\n",
              "            + ' to learn more about interactive tables.';\n",
              "          element.innerHTML = '';\n",
              "          dataTable['output_type'] = 'display_data';\n",
              "          await google.colab.output.renderOutput(dataTable, element);\n",
              "          const docLink = document.createElement('div');\n",
              "          docLink.innerHTML = docLinkHtml;\n",
              "          element.appendChild(docLink);\n",
              "        }\n",
              "      </script>\n",
              "    </div>\n",
              "  </div>\n",
              "  "
            ]
          },
          "metadata": {},
          "execution_count": 32
        }
      ]
    },
    {
      "cell_type": "code",
      "source": [
        "df.info()\n",
        "#> 반정형 데이터(json)를 정형 데이터(DataFrame)으로 변환하게 되면 보통 NA들이 많이 생기게 됨."
      ],
      "metadata": {
        "colab": {
          "base_uri": "https://localhost:8080/"
        },
        "id": "pc1Ma5uCvE6B",
        "outputId": "bab956df-5130-44df-e841-dd49f1809b9f"
      },
      "execution_count": 33,
      "outputs": [
        {
          "output_type": "stream",
          "name": "stdout",
          "text": [
            "<class 'pandas.core.frame.DataFrame'>\n",
            "RangeIndex: 3560 entries, 0 to 3559\n",
            "Data columns (total 18 columns):\n",
            " #   Column       Non-Null Count  Dtype  \n",
            "---  ------       --------------  -----  \n",
            " 0   a            3440 non-null   object \n",
            " 1   c            2919 non-null   object \n",
            " 2   nk           3440 non-null   float64\n",
            " 3   tz           3440 non-null   object \n",
            " 4   gr           2919 non-null   object \n",
            " 5   g            3440 non-null   object \n",
            " 6   h            3440 non-null   object \n",
            " 7   l            3440 non-null   object \n",
            " 8   al           3094 non-null   object \n",
            " 9   hh           3440 non-null   object \n",
            " 10  r            3440 non-null   object \n",
            " 11  u            3440 non-null   object \n",
            " 12  t            3440 non-null   float64\n",
            " 13  hc           3440 non-null   float64\n",
            " 14  cy           2919 non-null   object \n",
            " 15  ll           2919 non-null   object \n",
            " 16  _heartbeat_  120 non-null    float64\n",
            " 17  kw           93 non-null     object \n",
            "dtypes: float64(4), object(14)\n",
            "memory usage: 500.8+ KB\n"
          ]
        }
      ]
    },
    {
      "cell_type": "markdown",
      "source": [
        "## 사용자 접속 지역(시간대, tz) 분석\n",
        "\n",
        "*   사용자가 가장 많이 접속하는 시간대 지역\n"
      ],
      "metadata": {
        "id": "REEaQk2Gv6bj"
      }
    },
    {
      "cell_type": "code",
      "source": [
        "df['tz']"
      ],
      "metadata": {
        "colab": {
          "base_uri": "https://localhost:8080/"
        },
        "id": "iaTMWxFI1qxD",
        "outputId": "8d0d497c-2413-4315-a6c3-fbec3a1e4968"
      },
      "execution_count": 34,
      "outputs": [
        {
          "output_type": "execute_result",
          "data": {
            "text/plain": [
              "0          America/New_York\n",
              "1            America/Denver\n",
              "2          America/New_York\n",
              "3         America/Sao_Paulo\n",
              "4          America/New_York\n",
              "               ...         \n",
              "3555       America/New_York\n",
              "3556        America/Chicago\n",
              "3557         America/Denver\n",
              "3558    America/Los_Angeles\n",
              "3559       America/New_York\n",
              "Name: tz, Length: 3560, dtype: object"
            ]
          },
          "metadata": {},
          "execution_count": 34
        }
      ]
    },
    {
      "cell_type": "code",
      "source": [
        "df['tz'].value_counts()"
      ],
      "metadata": {
        "colab": {
          "base_uri": "https://localhost:8080/"
        },
        "id": "muLqRqts2D4v",
        "outputId": "cc2e8303-e308-4f12-94d6-8ad848de4d90"
      },
      "execution_count": 35,
      "outputs": [
        {
          "output_type": "execute_result",
          "data": {
            "text/plain": [
              "America/New_York        1251\n",
              "                         521\n",
              "America/Chicago          400\n",
              "America/Los_Angeles      382\n",
              "America/Denver           191\n",
              "                        ... \n",
              "Europe/Uzhgorod            1\n",
              "Australia/Queensland       1\n",
              "Europe/Sofia               1\n",
              "America/Costa_Rica         1\n",
              "America/Tegucigalpa        1\n",
              "Name: tz, Length: 97, dtype: int64"
            ]
          },
          "metadata": {},
          "execution_count": 35
        }
      ]
    },
    {
      "cell_type": "code",
      "source": [
        "# 데이터 프레임의 복사본을 생성\n",
        "df_clean = df.copy()"
      ],
      "metadata": {
        "id": "prhHzZhO2a8a"
      },
      "execution_count": 36,
      "outputs": []
    },
    {
      "cell_type": "code",
      "source": [
        "# tz 컬럼의 NA 또는 NaN을 'Missing' 문자열로 대체.\n",
        "df_clean['tz'] = df_clean['tz'].fillna('Missing')"
      ],
      "metadata": {
        "id": "WzP7pWPt26aF"
      },
      "execution_count": 37,
      "outputs": []
    },
    {
      "cell_type": "code",
      "source": [
        "df_clean['tz'].value_counts()"
      ],
      "metadata": {
        "colab": {
          "base_uri": "https://localhost:8080/"
        },
        "id": "NBLKfvg23aj0",
        "outputId": "5a36f1d1-e5ab-4f28-eaec-38c8e30fd2e4"
      },
      "execution_count": 38,
      "outputs": [
        {
          "output_type": "execute_result",
          "data": {
            "text/plain": [
              "America/New_York        1251\n",
              "                         521\n",
              "America/Chicago          400\n",
              "America/Los_Angeles      382\n",
              "America/Denver           191\n",
              "                        ... \n",
              "Europe/Uzhgorod            1\n",
              "Australia/Queensland       1\n",
              "Europe/Sofia               1\n",
              "America/Costa_Rica         1\n",
              "America/Tegucigalpa        1\n",
              "Name: tz, Length: 98, dtype: int64"
            ]
          },
          "metadata": {},
          "execution_count": 38
        }
      ]
    },
    {
      "cell_type": "code",
      "source": [
        "# tz 컬럼의 값이 빈 문자열('')인 경우 'Unknow' 문자열로 대체.\n",
        "df_clean.loc[df_clean['tz'] == '', 'tz'] = 'Unknown'"
      ],
      "metadata": {
        "id": "GRhbn9633dTK"
      },
      "execution_count": 41,
      "outputs": []
    },
    {
      "cell_type": "code",
      "source": [
        "df_clean['tz'].value_counts()"
      ],
      "metadata": {
        "colab": {
          "base_uri": "https://localhost:8080/"
        },
        "id": "3EY_Z5kS4ZqL",
        "outputId": "bc0fd195-6eef-4af0-85e4-d09fd4aa57b8"
      },
      "execution_count": 42,
      "outputs": [
        {
          "output_type": "execute_result",
          "data": {
            "text/plain": [
              "America/New_York        1251\n",
              "Unknown                  521\n",
              "America/Chicago          400\n",
              "America/Los_Angeles      382\n",
              "America/Denver           191\n",
              "                        ... \n",
              "Europe/Uzhgorod            1\n",
              "Australia/Queensland       1\n",
              "Europe/Sofia               1\n",
              "America/Costa_Rica         1\n",
              "America/Tegucigalpa        1\n",
              "Name: tz, Length: 98, dtype: int64"
            ]
          },
          "metadata": {},
          "execution_count": 42
        }
      ]
    },
    {
      "cell_type": "code",
      "source": [
        "df_clean.info()"
      ],
      "metadata": {
        "colab": {
          "base_uri": "https://localhost:8080/"
        },
        "id": "W471AFn_4fsz",
        "outputId": "95766b44-4d8f-442d-bafe-89da1d10fdca"
      },
      "execution_count": 43,
      "outputs": [
        {
          "output_type": "stream",
          "name": "stdout",
          "text": [
            "<class 'pandas.core.frame.DataFrame'>\n",
            "RangeIndex: 3560 entries, 0 to 3559\n",
            "Data columns (total 18 columns):\n",
            " #   Column       Non-Null Count  Dtype  \n",
            "---  ------       --------------  -----  \n",
            " 0   a            3440 non-null   object \n",
            " 1   c            2919 non-null   object \n",
            " 2   nk           3440 non-null   float64\n",
            " 3   tz           3560 non-null   object \n",
            " 4   gr           2919 non-null   object \n",
            " 5   g            3440 non-null   object \n",
            " 6   h            3440 non-null   object \n",
            " 7   l            3440 non-null   object \n",
            " 8   al           3094 non-null   object \n",
            " 9   hh           3440 non-null   object \n",
            " 10  r            3440 non-null   object \n",
            " 11  u            3440 non-null   object \n",
            " 12  t            3440 non-null   float64\n",
            " 13  hc           3440 non-null   float64\n",
            " 14  cy           2919 non-null   object \n",
            " 15  ll           2919 non-null   object \n",
            " 16  _heartbeat_  120 non-null    float64\n",
            " 17  kw           93 non-null     object \n",
            "dtypes: float64(4), object(14)\n",
            "memory usage: 500.8+ KB\n"
          ]
        }
      ]
    },
    {
      "cell_type": "code",
      "source": [
        "# 사용자들의 접속이 가장 많은 상위 10개 지역, 시각화\n",
        "tz_top10 = df_clean['tz'].value_counts().head(10)\n",
        "tz_top10"
      ],
      "metadata": {
        "colab": {
          "base_uri": "https://localhost:8080/"
        },
        "id": "4hxg7f7Z5jpO",
        "outputId": "d2f3736d-e562-457a-e095-63debc0bce4b"
      },
      "execution_count": 44,
      "outputs": [
        {
          "output_type": "execute_result",
          "data": {
            "text/plain": [
              "America/New_York       1251\n",
              "Unknown                 521\n",
              "America/Chicago         400\n",
              "America/Los_Angeles     382\n",
              "America/Denver          191\n",
              "Missing                 120\n",
              "Europe/London            74\n",
              "Asia/Tokyo               37\n",
              "Pacific/Honolulu         36\n",
              "Europe/Madrid            35\n",
              "Name: tz, dtype: int64"
            ]
          },
          "metadata": {},
          "execution_count": 44
        }
      ]
    },
    {
      "cell_type": "code",
      "source": [
        "sns.barplot(x=tz_top10.values, y=tz_top10.index)\n",
        "plt.show()"
      ],
      "metadata": {
        "colab": {
          "base_uri": "https://localhost:8080/",
          "height": 265
        },
        "id": "J8OBhlQp6hq0",
        "outputId": "0f096535-6668-4235-8ed6-9376473f76a4"
      },
      "execution_count": 45,
      "outputs": [
        {
          "output_type": "display_data",
          "data": {
            "text/plain": [
              "<Figure size 432x288 with 1 Axes>"
            ],
            "image/png": "[encoded data removed]"
          },
          "metadata": {
            "needs_background": "light"
          }
        }
      ]
    },
    {
      "cell_type": "code",
      "source": [
        "# 한국 timezone Asia/Seoul\n",
        "df_clean[df_clean['tz'].str.lower().str.contains('seoul')]"
      ],
      "metadata": {
        "colab": {
          "base_uri": "https://localhost:8080/",
          "height": 444
        },
        "id": "Pz9gPVGc6n_8",
        "outputId": "2ae34161-6a1b-433c-89ef-aa2e7443d276"
      },
      "execution_count": 46,
      "outputs": [
        {
          "output_type": "execute_result",
          "data": {
            "text/plain": [
              "                                                      a   c   nk          tz  \\\n",
              "1428  Mozilla/5.0 (Windows NT 5.1) AppleWebKit/535.1...  KR  1.0  Asia/Seoul   \n",
              "3154  Mozilla/5.0 (iPad; U; CPU iPhone OS 5_0_1 like...  KR  0.0  Asia/Seoul   \n",
              "3175  Mozilla/5.0 (iPad; U; CPU iPhone OS 5_0_1 like...  KR  1.0  Asia/Seoul   \n",
              "3496  Mozilla/5.0 (iPhone; CPU iPhone OS 5_0_1 like ...  KR  0.0  Asia/Seoul   \n",
              "3506  Mozilla/5.0 (iPhone; CPU iPhone OS 5_0_1 like ...  KR  0.0  Asia/Seoul   \n",
              "\n",
              "      gr       g       h         l              al         hh  \\\n",
              "1428  11  y7mqmw  w41aUb   rebroth  en-US,en;q=0.8  1.usa.gov   \n",
              "3154  11  wcndER  zkpJBR  bnjacobs           ko-kr  1.usa.gov   \n",
              "3175  11  wcndER  zkpJBR  bnjacobs           ko-kr  1.usa.gov   \n",
              "3496  11  wQacbF  AsWr9f   addthis           en-us  1.usa.gov   \n",
              "3506  11  wQacbF  AsWr9f   addthis           en-us  1.usa.gov   \n",
              "\n",
              "                                                      r  \\\n",
              "1428                               http://t.co/l16apDbA   \n",
              "3154  http://m.facebook.com/l.php?u=http%3A%2F%2F1.u...   \n",
              "3175  http://m.facebook.com/l.php?u=http%3A%2F%2F1.u...   \n",
              "3496  https://twitter.com/whitehouse/status/18067782...   \n",
              "3506                                             direct   \n",
              "\n",
              "                                                      u             t  \\\n",
              "1428            http://apod.nasa.gov/apod/ap120314.html  1.331925e+09   \n",
              "3154  http://www.nasa.gov/mission_pages/nustar/main/...  1.331926e+09   \n",
              "3175  http://www.nasa.gov/mission_pages/nustar/main/...  1.331926e+09   \n",
              "3496  http://www.whitehouse.gov/energy/gasprices#.T2...  1.331927e+09   \n",
              "3506  http://www.whitehouse.gov/energy/gasprices#.T2...  1.331927e+09   \n",
              "\n",
              "                hc     cy                       ll  _heartbeat_   kw  \n",
              "1428  1.331739e+09  Seoul  [37.566399, 126.999702]          NaN  NaN  \n",
              "3154  1.331923e+09  Seoul  [37.566399, 126.999702]          NaN  NaN  \n",
              "3175  1.331923e+09  Seoul  [37.566399, 126.999702]          NaN  NaN  \n",
              "3496  1.331912e+09  Seoul  [37.566399, 126.999702]          NaN  NaN  \n",
              "3506  1.331912e+09  Seoul  [37.566399, 126.999702]          NaN  NaN  "
            ],
            "text/html": [
              "\n",
              "  <div id=\"df-7382c3e0-1aea-4cb9-83b5-eaadd8705d6a\">\n",
              "    <div class=\"colab-df-container\">\n",
              "      <div>\n",
              "<style scoped>\n",
              "    .dataframe tbody tr th:only-of-type {\n",
              "        vertical-align: middle;\n",
              "    }\n",
              "\n",
              "    .dataframe tbody tr th {\n",
              "        vertical-align: top;\n",
              "    }\n",
              "\n",
              "    .dataframe thead th {\n",
              "        text-align: right;\n",
              "    }\n",
              "</style>\n",
              "<table border=\"1\" class=\"dataframe\">\n",
              "  <thead>\n",
              "    <tr style=\"text-align: right;\">\n",
              "      <th></th>\n",
              "      <th>a</th>\n",
              "      <th>c</th>\n",
              "      <th>nk</th>\n",
              "      <th>tz</th>\n",
              "      <th>gr</th>\n",
              "      <th>g</th>\n",
              "      <th>h</th>\n",
              "      <th>l</th>\n",
              "      <th>al</th>\n",
              "      <th>hh</th>\n",
              "      <th>r</th>\n",
              "      <th>u</th>\n",
              "      <th>t</th>\n",
              "      <th>hc</th>\n",
              "      <th>cy</th>\n",
              "      <th>ll</th>\n",
              "      <th>_heartbeat_</th>\n",
              "      <th>kw</th>\n",
              "    </tr>\n",
              "  </thead>\n",
              "  <tbody>\n",
              "    <tr>\n",
              "      <th>1428</th>\n",
              "      <td>Mozilla/5.0 (Windows NT 5.1) AppleWebKit/535.1...</td>\n",
              "      <td>KR</td>\n",
              "      <td>1.0</td>\n",
              "      <td>Asia/Seoul</td>\n",
              "      <td>11</td>\n",
              "      <td>y7mqmw</td>\n",
              "      <td>w41aUb</td>\n",
              "      <td>rebroth</td>\n",
              "      <td>en-US,en;q=0.8</td>\n",
              "      <td>1.usa.gov</td>\n",
              "      <td>http://t.co/l16apDbA</td>\n",
              "      <td>http://apod.nasa.gov/apod/ap120314.html</td>\n",
              "      <td>1.331925e+09</td>\n",
              "      <td>1.331739e+09</td>\n",
              "      <td>Seoul</td>\n",
              "      <td>[37.566399, 126.999702]</td>\n",
              "      <td>NaN</td>\n",
              "      <td>NaN</td>\n",
              "    </tr>\n",
              "    <tr>\n",
              "      <th>3154</th>\n",
              "      <td>Mozilla/5.0 (iPad; U; CPU iPhone OS 5_0_1 like...</td>\n",
              "      <td>KR</td>\n",
              "      <td>0.0</td>\n",
              "      <td>Asia/Seoul</td>\n",
              "      <td>11</td>\n",
              "      <td>wcndER</td>\n",
              "      <td>zkpJBR</td>\n",
              "      <td>bnjacobs</td>\n",
              "      <td>ko-kr</td>\n",
              "      <td>1.usa.gov</td>\n",
              "      <td>http://m.facebook.com/l.php?u=http%3A%2F%2F1.u...</td>\n",
              "      <td>http://www.nasa.gov/mission_pages/nustar/main/...</td>\n",
              "      <td>1.331926e+09</td>\n",
              "      <td>1.331923e+09</td>\n",
              "      <td>Seoul</td>\n",
              "      <td>[37.566399, 126.999702]</td>\n",
              "      <td>NaN</td>\n",
              "      <td>NaN</td>\n",
              "    </tr>\n",
              "    <tr>\n",
              "      <th>3175</th>\n",
              "      <td>Mozilla/5.0 (iPad; U; CPU iPhone OS 5_0_1 like...</td>\n",
              "      <td>KR</td>\n",
              "      <td>1.0</td>\n",
              "      <td>Asia/Seoul</td>\n",
              "      <td>11</td>\n",
              "      <td>wcndER</td>\n",
              "      <td>zkpJBR</td>\n",
              "      <td>bnjacobs</td>\n",
              "      <td>ko-kr</td>\n",
              "      <td>1.usa.gov</td>\n",
              "      <td>http://m.facebook.com/l.php?u=http%3A%2F%2F1.u...</td>\n",
              "      <td>http://www.nasa.gov/mission_pages/nustar/main/...</td>\n",
              "      <td>1.331926e+09</td>\n",
              "      <td>1.331923e+09</td>\n",
              "      <td>Seoul</td>\n",
              "      <td>[37.566399, 126.999702]</td>\n",
              "      <td>NaN</td>\n",
              "      <td>NaN</td>\n",
              "    </tr>\n",
              "    <tr>\n",
              "      <th>3496</th>\n",
              "      <td>Mozilla/5.0 (iPhone; CPU iPhone OS 5_0_1 like ...</td>\n",
              "      <td>KR</td>\n",
              "      <td>0.0</td>\n",
              "      <td>Asia/Seoul</td>\n",
              "      <td>11</td>\n",
              "      <td>wQacbF</td>\n",
              "      <td>AsWr9f</td>\n",
              "      <td>addthis</td>\n",
              "      <td>en-us</td>\n",
              "      <td>1.usa.gov</td>\n",
              "      <td>https://twitter.com/whitehouse/status/18067782...</td>\n",
              "      <td>http://www.whitehouse.gov/energy/gasprices#.T2...</td>\n",
              "      <td>1.331927e+09</td>\n",
              "      <td>1.331912e+09</td>\n",
              "      <td>Seoul</td>\n",
              "      <td>[37.566399, 126.999702]</td>\n",
              "      <td>NaN</td>\n",
              "      <td>NaN</td>\n",
              "    </tr>\n",
              "    <tr>\n",
              "      <th>3506</th>\n",
              "      <td>Mozilla/5.0 (iPhone; CPU iPhone OS 5_0_1 like ...</td>\n",
              "      <td>KR</td>\n",
              "      <td>0.0</td>\n",
              "      <td>Asia/Seoul</td>\n",
              "      <td>11</td>\n",
              "      <td>wQacbF</td>\n",
              "      <td>AsWr9f</td>\n",
              "      <td>addthis</td>\n",
              "      <td>en-us</td>\n",
              "      <td>1.usa.gov</td>\n",
              "      <td>direct</td>\n",
              "      <td>http://www.whitehouse.gov/energy/gasprices#.T2...</td>\n",
              "      <td>1.331927e+09</td>\n",
              "      <td>1.331912e+09</td>\n",
              "      <td>Seoul</td>\n",
              "      <td>[37.566399, 126.999702]</td>\n",
              "      <td>NaN</td>\n",
              "      <td>NaN</td>\n",
              "    </tr>\n",
              "  </tbody>\n",
              "</table>\n",
              "</div>\n",
              "      <button class=\"colab-df-convert\" onclick=\"convertToInteractive('df-7382c3e0-1aea-4cb9-83b5-eaadd8705d6a')\"\n",
              "              title=\"Convert this dataframe to an interactive table.\"\n",
              "              style=\"display:none;\">\n",
              "        \n",
              "  <svg xmlns=\"http://www.w3.org/2000/svg\" height=\"24px\"viewBox=\"0 0 24 24\"\n",
              "       width=\"24px\">\n",
              "    <path d=\"M0 0h24v24H0V0z\" fill=\"none\"/>\n",
              "    <path d=\"M18.56 5.44l.94 2.06.94-2.06 2.06-.94-2.06-.94-.94-2.06-.94 2.06-2.06.94zm-11 1L8.5 8.5l.94-2.06 2.06-.94-2.06-.94L8.5 2.5l-.94 2.06-2.06.94zm10 10l.94 2.06.94-2.06 2.06-.94-2.06-.94-.94-2.06-.94 2.06-2.06.94z\"/><path d=\"M17.41 7.96l-1.37-1.37c-.4-.4-.92-.59-1.43-.59-.52 0-1.04.2-1.43.59L10.3 9.45l-7.72 7.72c-.78.78-.78 2.05 0 2.83L4 21.41c.39.39.9.59 1.41.59.51 0 1.02-.2 1.41-.59l7.78-7.78 2.81-2.81c.8-.78.8-2.07 0-2.86zM5.41 20L4 18.59l7.72-7.72 1.47 1.35L5.41 20z\"/>\n",
              "  </svg>\n",
              "      </button>\n",
              "      \n",
              "  <style>\n",
              "    .colab-df-container {\n",
              "      display:flex;\n",
              "      flex-wrap:wrap;\n",
              "      gap: 12px;\n",
              "    }\n",
              "\n",
              "    .colab-df-convert {\n",
              "      background-color: #E8F0FE;\n",
              "      border: none;\n",
              "      border-radius: 50%;\n",
              "      cursor: pointer;\n",
              "      display: none;\n",
              "      fill: #1967D2;\n",
              "      height: 32px;\n",
              "      padding: 0 0 0 0;\n",
              "      width: 32px;\n",
              "    }\n",
              "\n",
              "    .colab-df-convert:hover {\n",
              "      background-color: #E2EBFA;\n",
              "      box-shadow: 0px 1px 2px rgba(60, 64, 67, 0.3), 0px 1px 3px 1px rgba(60, 64, 67, 0.15);\n",
              "      fill: #174EA6;\n",
              "    }\n",
              "\n",
              "    [theme=dark] .colab-df-convert {\n",
              "      background-color: #3B4455;\n",
              "      fill: #D2E3FC;\n",
              "    }\n",
              "\n",
              "    [theme=dark] .colab-df-convert:hover {\n",
              "      background-color: #434B5C;\n",
              "      box-shadow: 0px 1px 3px 1px rgba(0, 0, 0, 0.15);\n",
              "      filter: drop-shadow(0px 1px 2px rgba(0, 0, 0, 0.3));\n",
              "      fill: #FFFFFF;\n",
              "    }\n",
              "  </style>\n",
              "\n",
              "      <script>\n",
              "        const buttonEl =\n",
              "          document.querySelector('#df-7382c3e0-1aea-4cb9-83b5-eaadd8705d6a button.colab-df-convert');\n",
              "        buttonEl.style.display =\n",
              "          google.colab.kernel.accessAllowed ? 'block' : 'none';\n",
              "\n",
              "        async function convertToInteractive(key) {\n",
              "          const element = document.querySelector('#df-7382c3e0-1aea-4cb9-83b5-eaadd8705d6a');\n",
              "          const dataTable =\n",
              "            await google.colab.kernel.invokeFunction('convertToInteractive',\n",
              "                                                     [key], {});\n",
              "          if (!dataTable) return;\n",
              "\n",
              "          const docLinkHtml = 'Like what you see? Visit the ' +\n",
              "            '<a target=\"_blank\" href=https://colab.research.google.com/notebooks/data_table.ipynb>data table notebook</a>'\n",
              "            + ' to learn more about interactive tables.';\n",
              "          element.innerHTML = '';\n",
              "          dataTable['output_type'] = 'display_data';\n",
              "          await google.colab.output.renderOutput(dataTable, element);\n",
              "          const docLink = document.createElement('div');\n",
              "          docLink.innerHTML = docLinkHtml;\n",
              "          element.appendChild(docLink);\n",
              "        }\n",
              "      </script>\n",
              "    </div>\n",
              "  </div>\n",
              "  "
            ]
          },
          "metadata": {},
          "execution_count": 46
        }
      ]
    },
    {
      "cell_type": "markdown",
      "source": [
        "## 사용자 접속 국가(c) 분석\n",
        "\n",
        "*   가장 많이 접속한 국가 상위 10개, 시각화\n"
      ],
      "metadata": {
        "id": "nofEjMC17qZU"
      }
    },
    {
      "cell_type": "code",
      "source": [
        "df_clean['c']"
      ],
      "metadata": {
        "colab": {
          "base_uri": "https://localhost:8080/"
        },
        "id": "OUjMlZrs9HXd",
        "outputId": "1c9bfbfc-a18b-43e7-966a-9df62174a917"
      },
      "execution_count": 47,
      "outputs": [
        {
          "output_type": "execute_result",
          "data": {
            "text/plain": [
              "0       US\n",
              "1       US\n",
              "2       US\n",
              "3       BR\n",
              "4       US\n",
              "        ..\n",
              "3555    US\n",
              "3556    US\n",
              "3557    US\n",
              "3558    US\n",
              "3559    US\n",
              "Name: c, Length: 3560, dtype: object"
            ]
          },
          "metadata": {},
          "execution_count": 47
        }
      ]
    },
    {
      "cell_type": "code",
      "source": [
        "df_clean['c'].value_counts()"
      ],
      "metadata": {
        "colab": {
          "base_uri": "https://localhost:8080/"
        },
        "id": "ly2DoXJV9PRl",
        "outputId": "6735f271-01e4-418c-be28-68f74ef948bd"
      },
      "execution_count": 48,
      "outputs": [
        {
          "output_type": "execute_result",
          "data": {
            "text/plain": [
              "US    2305\n",
              "GB      74\n",
              "CA      60\n",
              "ES      37\n",
              "JP      37\n",
              "      ... \n",
              "PH       1\n",
              "CY       1\n",
              "MK       1\n",
              "SI       1\n",
              "HN       1\n",
              "Name: c, Length: 71, dtype: int64"
            ]
          },
          "metadata": {},
          "execution_count": 48
        }
      ]
    },
    {
      "cell_type": "code",
      "source": [
        "# NA/NaN을 'Missing'으로 대체\n",
        "df_clean['c'] = df_clean['c'].fillna('Missing')\n",
        "\n",
        "# 빈 문자열('')을 'Unknown'으로 대체\n",
        "df_clean.loc[df_clean['c'] == '', 'c'] = 'Unknown'"
      ],
      "metadata": {
        "id": "gT-M2F799lE8"
      },
      "execution_count": 51,
      "outputs": []
    },
    {
      "cell_type": "code",
      "source": [
        "df_clean['c'].value_counts()"
      ],
      "metadata": {
        "colab": {
          "base_uri": "https://localhost:8080/"
        },
        "id": "xDhCsvHZ-Kg9",
        "outputId": "0f1c7758-fee2-49e9-d59e-27b02f16a094"
      },
      "execution_count": 52,
      "outputs": [
        {
          "output_type": "execute_result",
          "data": {
            "text/plain": [
              "US         2305\n",
              "Missing     641\n",
              "GB           74\n",
              "CA           60\n",
              "ES           37\n",
              "           ... \n",
              "PH            1\n",
              "CY            1\n",
              "MK            1\n",
              "SI            1\n",
              "HN            1\n",
              "Name: c, Length: 72, dtype: int64"
            ]
          },
          "metadata": {},
          "execution_count": 52
        }
      ]
    },
    {
      "cell_type": "code",
      "source": [
        "country_top10 = df_clean['c'].value_counts().head(10)\n",
        "country_top10"
      ],
      "metadata": {
        "colab": {
          "base_uri": "https://localhost:8080/"
        },
        "id": "ZeaABbh_-Zkc",
        "outputId": "e80cc033-a958-4d60-e35b-4b09dc674b5f"
      },
      "execution_count": 53,
      "outputs": [
        {
          "output_type": "execute_result",
          "data": {
            "text/plain": [
              "US         2305\n",
              "Missing     641\n",
              "GB           74\n",
              "CA           60\n",
              "ES           37\n",
              "JP           37\n",
              "BR           35\n",
              "DE           28\n",
              "IT           27\n",
              "NL           22\n",
              "Name: c, dtype: int64"
            ]
          },
          "metadata": {},
          "execution_count": 53
        }
      ]
    },
    {
      "cell_type": "code",
      "source": [
        "sns.barplot(x=country_top10.values, y=country_top10.index)\n",
        "plt.show()"
      ],
      "metadata": {
        "colab": {
          "base_uri": "https://localhost:8080/",
          "height": 265
        },
        "id": "JEcgR_TY-fv1",
        "outputId": "0e3bf041-6279-4d8a-bf38-7e7f35b3c2a6"
      },
      "execution_count": 54,
      "outputs": [
        {
          "output_type": "display_data",
          "data": {
            "text/plain": [
              "<Figure size 432x288 with 1 Axes>"
            ],
            "image/png": "[encoded data removed]"
          },
          "metadata": {
            "needs_background": "light"
          }
        }
      ]
    },
    {
      "cell_type": "code",
      "source": [
        "df_clean['c'].value_counts().iloc[2:12]"
      ],
      "metadata": {
        "colab": {
          "base_uri": "https://localhost:8080/"
        },
        "id": "WSh0GyBJENEX",
        "outputId": "3b81e5d9-1402-47c0-90a2-809019c8f0e2"
      },
      "execution_count": 64,
      "outputs": [
        {
          "output_type": "execute_result",
          "data": {
            "text/plain": [
              "GB    74\n",
              "CA    60\n",
              "ES    37\n",
              "JP    37\n",
              "BR    35\n",
              "DE    28\n",
              "IT    27\n",
              "NL    22\n",
              "MX    19\n",
              "PL    16\n",
              "Name: c, dtype: int64"
            ]
          },
          "metadata": {},
          "execution_count": 64
        }
      ]
    },
    {
      "cell_type": "code",
      "source": [
        "# US과 Missing을 제외한 상위 10개 국가 시각화\n",
        "df_clean.loc[(df_clean['c'] != 'US') & (df_clean['c'] != 'Missing'), 'c'].value_counts().head(10)"
      ],
      "metadata": {
        "colab": {
          "base_uri": "https://localhost:8080/"
        },
        "id": "2Gz96PTP-vWl",
        "outputId": "9e670a67-ba0a-45e8-d263-f0cdd5a8cdd1"
      },
      "execution_count": 65,
      "outputs": [
        {
          "output_type": "execute_result",
          "data": {
            "text/plain": [
              "GB    74\n",
              "CA    60\n",
              "ES    37\n",
              "JP    37\n",
              "BR    35\n",
              "DE    28\n",
              "IT    27\n",
              "NL    22\n",
              "MX    19\n",
              "PL    16\n",
              "Name: c, dtype: int64"
            ]
          },
          "metadata": {},
          "execution_count": 65
        }
      ]
    },
    {
      "cell_type": "markdown",
      "source": [
        "## 사용자 접속 환경(OS) 분석\n",
        "\n",
        "*   a 컬럼(agent) 문자열을 분석해서 Windows/Non-Windows 분류"
      ],
      "metadata": {
        "id": "uIvSz6iMFaH6"
      }
    },
    {
      "cell_type": "code",
      "source": [
        "df_clean['a']"
      ],
      "metadata": {
        "colab": {
          "base_uri": "https://localhost:8080/"
        },
        "id": "-XBI0GAeEw-X",
        "outputId": "ae3dc317-9a1c-4e43-cad9-938cb7a2901c"
      },
      "execution_count": 66,
      "outputs": [
        {
          "output_type": "execute_result",
          "data": {
            "text/plain": [
              "0       Mozilla/5.0 (Windows NT 6.1; WOW64) AppleWebKi...\n",
              "1                                  GoogleMaps/RochesterNY\n",
              "2       Mozilla/4.0 (compatible; MSIE 8.0; Windows NT ...\n",
              "3       Mozilla/5.0 (Macintosh; Intel Mac OS X 10_6_8)...\n",
              "4       Mozilla/5.0 (Windows NT 6.1; WOW64) AppleWebKi...\n",
              "                              ...                        \n",
              "3555    Mozilla/4.0 (compatible; MSIE 9.0; Windows NT ...\n",
              "3556    Mozilla/5.0 (Windows NT 5.1) AppleWebKit/535.1...\n",
              "3557                               GoogleMaps/RochesterNY\n",
              "3558                                       GoogleProducer\n",
              "3559    Mozilla/4.0 (compatible; MSIE 8.0; Windows NT ...\n",
              "Name: a, Length: 3560, dtype: object"
            ]
          },
          "metadata": {},
          "execution_count": 66
        }
      ]
    },
    {
      "cell_type": "code",
      "source": [
        "df_clean.info()"
      ],
      "metadata": {
        "colab": {
          "base_uri": "https://localhost:8080/"
        },
        "id": "zQ1qefWXGPd6",
        "outputId": "5dc176c5-06bf-4539-f583-15f6ccf99998"
      },
      "execution_count": 67,
      "outputs": [
        {
          "output_type": "stream",
          "name": "stdout",
          "text": [
            "<class 'pandas.core.frame.DataFrame'>\n",
            "RangeIndex: 3560 entries, 0 to 3559\n",
            "Data columns (total 18 columns):\n",
            " #   Column       Non-Null Count  Dtype  \n",
            "---  ------       --------------  -----  \n",
            " 0   a            3440 non-null   object \n",
            " 1   c            3560 non-null   object \n",
            " 2   nk           3440 non-null   float64\n",
            " 3   tz           3560 non-null   object \n",
            " 4   gr           2919 non-null   object \n",
            " 5   g            3440 non-null   object \n",
            " 6   h            3440 non-null   object \n",
            " 7   l            3440 non-null   object \n",
            " 8   al           3094 non-null   object \n",
            " 9   hh           3440 non-null   object \n",
            " 10  r            3440 non-null   object \n",
            " 11  u            3440 non-null   object \n",
            " 12  t            3440 non-null   float64\n",
            " 13  hc           3440 non-null   float64\n",
            " 14  cy           2919 non-null   object \n",
            " 15  ll           2919 non-null   object \n",
            " 16  _heartbeat_  120 non-null    float64\n",
            " 17  kw           93 non-null     object \n",
            "dtypes: float64(4), object(14)\n",
            "memory usage: 500.8+ KB\n"
          ]
        }
      ]
    },
    {
      "cell_type": "code",
      "source": [
        "# a 컬럼이 NA(NaN)인 행들을 삭제 - NA(NaN, Null)가 아닌 행들을 선택\n",
        "df_clean = df_clean[df_clean['a'].notnull()]"
      ],
      "metadata": {
        "id": "7HEC2cw5HBGh"
      },
      "execution_count": 68,
      "outputs": []
    },
    {
      "cell_type": "markdown",
      "source": [
        "*   `pd.Series.notnull()`: 값이 Null이 아니면 True를 리턴.\n",
        "*   `pd.Series.isnull()`: 값이 Null이면 True를 리턴."
      ],
      "metadata": {
        "id": "CRWRCzjjH1xB"
      }
    },
    {
      "cell_type": "code",
      "source": [
        "df_clean.info()"
      ],
      "metadata": {
        "colab": {
          "base_uri": "https://localhost:8080/"
        },
        "id": "ydUdC761Hb_4",
        "outputId": "d67863a9-4dbf-4b23-9ef4-9b7ce4f12d78"
      },
      "execution_count": 69,
      "outputs": [
        {
          "output_type": "stream",
          "name": "stdout",
          "text": [
            "<class 'pandas.core.frame.DataFrame'>\n",
            "Int64Index: 3440 entries, 0 to 3559\n",
            "Data columns (total 18 columns):\n",
            " #   Column       Non-Null Count  Dtype  \n",
            "---  ------       --------------  -----  \n",
            " 0   a            3440 non-null   object \n",
            " 1   c            3440 non-null   object \n",
            " 2   nk           3440 non-null   float64\n",
            " 3   tz           3440 non-null   object \n",
            " 4   gr           2919 non-null   object \n",
            " 5   g            3440 non-null   object \n",
            " 6   h            3440 non-null   object \n",
            " 7   l            3440 non-null   object \n",
            " 8   al           3094 non-null   object \n",
            " 9   hh           3440 non-null   object \n",
            " 10  r            3440 non-null   object \n",
            " 11  u            3440 non-null   object \n",
            " 12  t            3440 non-null   float64\n",
            " 13  hc           3440 non-null   float64\n",
            " 14  cy           2919 non-null   object \n",
            " 15  ll           2919 non-null   object \n",
            " 16  _heartbeat_  0 non-null      float64\n",
            " 17  kw           93 non-null     object \n",
            "dtypes: float64(4), object(14)\n",
            "memory usage: 510.6+ KB\n"
          ]
        }
      ]
    },
    {
      "cell_type": "code",
      "source": [
        "# 'os' 파생 변수(컬럼) 추가\n",
        "# 'a' 컬럼에 'Windows' 문자열이 포함되어 있으면 Windows, 그렇지 않으면 Other를 저장.\n",
        "# np.where(조건식, 참일 때 선택할 값, 거짓일 때 선택할 값)\n",
        "df_clean['os'] = np.where(df_clean['a'].str.lower().str.contains('windows'), \n",
        "                          'Windows', 'Other')"
      ],
      "metadata": {
        "id": "dwQrevgkIQjW"
      },
      "execution_count": 70,
      "outputs": []
    },
    {
      "cell_type": "code",
      "source": [
        "df_clean['os'].value_counts()"
      ],
      "metadata": {
        "colab": {
          "base_uri": "https://localhost:8080/"
        },
        "id": "W8xPhRynJgBX",
        "outputId": "079e8877-dd47-441e-e0a2-8274a9ee5935"
      },
      "execution_count": 71,
      "outputs": [
        {
          "output_type": "execute_result",
          "data": {
            "text/plain": [
              "Windows    2246\n",
              "Other      1194\n",
              "Name: os, dtype: int64"
            ]
          },
          "metadata": {},
          "execution_count": 71
        }
      ]
    },
    {
      "cell_type": "code",
      "source": [
        "sns.countplot(x='os', data=df_clean)\n",
        "plt.show()"
      ],
      "metadata": {
        "colab": {
          "base_uri": "https://localhost:8080/",
          "height": 279
        },
        "id": "_9vomQqPJ0X4",
        "outputId": "ffe688a8-b3dd-43b8-ecff-96ba7bd1c84a"
      },
      "execution_count": 74,
      "outputs": [
        {
          "output_type": "display_data",
          "data": {
            "text/plain": [
              "<Figure size 432x288 with 1 Axes>"
            ],
            "image/png": "[encoded data removed]"
          },
          "metadata": {
            "needs_background": "light"
          }
        }
      ]
    },
    {
      "cell_type": "markdown",
      "source": [
        "### 사용자 시간대 접속 지역별, 운영 체제별 빈도수"
      ],
      "metadata": {
        "id": "tCgZgBvPLKci"
      }
    },
    {
      "cell_type": "code",
      "source": [
        "df_clean.groupby(['tz', 'os']).size()"
      ],
      "metadata": {
        "colab": {
          "base_uri": "https://localhost:8080/"
        },
        "id": "Xlm0fZ_aK50s",
        "outputId": "05fd9808-db80-456a-b902-760368a47924"
      },
      "execution_count": 75,
      "outputs": [
        {
          "output_type": "execute_result",
          "data": {
            "text/plain": [
              "tz                   os     \n",
              "Africa/Cairo         Windows      3\n",
              "Africa/Casablanca    Windows      1\n",
              "Africa/Ceuta         Windows      2\n",
              "Africa/Johannesburg  Windows      1\n",
              "Africa/Lusaka        Windows      1\n",
              "                               ... \n",
              "Pacific/Auckland     Other        3\n",
              "                     Windows      8\n",
              "Pacific/Honolulu     Windows     36\n",
              "Unknown              Other      245\n",
              "                     Windows    276\n",
              "Length: 149, dtype: int64"
            ]
          },
          "metadata": {},
          "execution_count": 75
        }
      ]
    }
  ]
}