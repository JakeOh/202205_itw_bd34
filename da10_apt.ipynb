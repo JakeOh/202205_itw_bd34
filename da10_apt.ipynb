{
  "nbformat": 4,
  "nbformat_minor": 0,
  "metadata": {
    "colab": {
      "name": "da10_apt.ipynb",
      "provenance": [],
      "collapsed_sections": [],
      "authorship_tag": "ABX9TyNATHjIeHyBeaWIHsaMC6HQ",
      "include_colab_link": true
    },
    "kernelspec": {
      "name": "python3",
      "display_name": "Python 3"
    },
    "language_info": {
      "name": "python"
    }
  },
  "cells": [
    {
      "cell_type": "markdown",
      "metadata": {
        "id": "view-in-github",
        "colab_type": "text"
      },
      "source": [
        "<a href=\"https://colab.research.google.com/github/JakeOh/202205_itw_bd34/blob/main/da10_apt.ipynb\" target=\"_parent\"><img src=\"https://colab.research.google.com/assets/colab-badge.svg\" alt=\"Open In Colab\"/></a>"
      ]
    },
    {
      "cell_type": "markdown",
      "source": [
        "# Colab에서 한글 폰트 사용하기"
      ],
      "metadata": {
        "id": "zGn2g-vrBV4g"
      }
    },
    {
      "cell_type": "markdown",
      "source": [
        "## Step 1. 한글 폰트 설치"
      ],
      "metadata": {
        "id": "_LQDKA9fBdrX"
      }
    },
    {
      "cell_type": "code",
      "source": [
        "# Jupyter notebook 환경에서 리눅스 명령어 실행\n",
        "!sudo apt-get install -y fonts-nanum\n",
        "!sudo fc-cache -fv\n",
        "!rm ~/.cache/matplotlib -rf"
      ],
      "metadata": {
        "colab": {
          "base_uri": "https://localhost:8080/"
        },
        "id": "wbYKymAYBkG3",
        "outputId": "591d6573-2f54-4301-bb99-dc0c296a8c14"
      },
      "execution_count": 1,
      "outputs": [
        {
          "output_type": "stream",
          "name": "stdout",
          "text": [
            "Reading package lists... Done\n",
            "Building dependency tree       \n",
            "Reading state information... Done\n",
            "The following package was automatically installed and is no longer required:\n",
            "  libnvidia-common-460\n",
            "Use 'sudo apt autoremove' to remove it.\n",
            "The following NEW packages will be installed:\n",
            "  fonts-nanum\n",
            "0 upgraded, 1 newly installed, 0 to remove and 45 not upgraded.\n",
            "Need to get 9,604 kB of archives.\n",
            "After this operation, 29.5 MB of additional disk space will be used.\n",
            "Get:1 http://archive.ubuntu.com/ubuntu bionic/universe amd64 fonts-nanum all 20170925-1 [9,604 kB]\n",
            "Fetched 9,604 kB in 3s (3,459 kB/s)\n",
            "debconf: unable to initialize frontend: Dialog\n",
            "debconf: (No usable dialog-like program is installed, so the dialog based frontend cannot be used. at /usr/share/perl5/Debconf/FrontEnd/Dialog.pm line 76, <> line 1.)\n",
            "debconf: falling back to frontend: Readline\n",
            "debconf: unable to initialize frontend: Readline\n",
            "debconf: (This frontend requires a controlling tty.)\n",
            "debconf: falling back to frontend: Teletype\n",
            "dpkg-preconfigure: unable to re-open stdin: \n",
            "Selecting previously unselected package fonts-nanum.\n",
            "(Reading database ... 155632 files and directories currently installed.)\n",
            "Preparing to unpack .../fonts-nanum_20170925-1_all.deb ...\n",
            "Unpacking fonts-nanum (20170925-1) ...\n",
            "Setting up fonts-nanum (20170925-1) ...\n",
            "Processing triggers for fontconfig (2.12.6-0ubuntu2) ...\n",
            "/usr/share/fonts: caching, new cache contents: 0 fonts, 1 dirs\n",
            "/usr/share/fonts/truetype: caching, new cache contents: 0 fonts, 3 dirs\n",
            "/usr/share/fonts/truetype/humor-sans: caching, new cache contents: 1 fonts, 0 dirs\n",
            "/usr/share/fonts/truetype/liberation: caching, new cache contents: 16 fonts, 0 dirs\n",
            "/usr/share/fonts/truetype/nanum: caching, new cache contents: 10 fonts, 0 dirs\n",
            "/usr/local/share/fonts: caching, new cache contents: 0 fonts, 0 dirs\n",
            "/root/.local/share/fonts: skipping, no such directory\n",
            "/root/.fonts: skipping, no such directory\n",
            "/var/cache/fontconfig: cleaning cache directory\n",
            "/root/.cache/fontconfig: not cleaning non-existent cache directory\n",
            "/root/.fontconfig: not cleaning non-existent cache directory\n",
            "fc-cache: succeeded\n"
          ]
        }
      ]
    },
    {
      "cell_type": "markdown",
      "source": [
        "## Step 2. Colab Runtime 재시작(Ctrl+M)"
      ],
      "metadata": {
        "id": "dT25pYLKC1Cg"
      }
    },
    {
      "cell_type": "markdown",
      "source": [
        "## Step 3. matplotlib 패키지에서 한글 폰트를 사용할 수 있도록 설정"
      ],
      "metadata": {
        "id": "8VypaUAVDNqg"
      }
    },
    {
      "cell_type": "code",
      "source": [
        "import matplotlib.pyplot as plt\n",
        "\n",
        "# pyplot에서 나눔바른고딕 폰트를 사용하도록 설정\n",
        "plt.rc('font', family='NanumBarunGothic')"
      ],
      "metadata": {
        "id": "RcOiuomaDUrn"
      },
      "execution_count": 1,
      "outputs": []
    },
    {
      "cell_type": "code",
      "source": [
        "# 한글 폰트 테스트\n",
        "import pandas as pd\n",
        "\n",
        "df = pd.DataFrame({'gu': ['강남구', '서초구'],\n",
        "                   'price': [10_000, 12_000]})\n",
        "\n",
        "plt.bar(x=df['gu'], height=df['price'])\n",
        "plt.show()"
      ],
      "metadata": {
        "colab": {
          "base_uri": "https://localhost:8080/",
          "height": 265
        },
        "id": "YICCsUMMDqha",
        "outputId": "902b7013-fee5-4e6c-a108-c30d10dc0885"
      },
      "execution_count": 4,
      "outputs": [
        {
          "output_type": "display_data",
          "data": {
            "text/plain": [
              "<Figure size 432x288 with 1 Axes>"
            ],
            "image/png": "[encoded data removed]"
          },
          "metadata": {
            "needs_background": "light"
          }
        }
      ]
    },
    {
      "cell_type": "markdown",
      "source": [
        "\n",
        "*   [apt_201910.csv](https://github.com/JakeOh/202205_itw_bd34/raw/main/datasets/apt_201910.csv) 파일을 읽고 DataFrame 생성\n",
        "    *   encoding 파라미터 설정\n",
        "    *   '가격' 컬럼에는 숫자 자릿수를 구분하는 comma가 사용되고 있음(예: 10,000)\n",
        "        *   '가격' 컬럼은 숫자 타입이어야 함!\n",
        "*   데이터 프레임 파악\n",
        "    *   info, head, tail, describe, dtypes, ...\n",
        "*   '시군구' 컬럼의 값을 이용해서, 'province' 파생 변수(도, 광역시 이름) 만듦.\n",
        "    *   '강원도 강릉시 견소동' -> '강원도'\n",
        "*   '계약년월' 컬럼의 값을 이용해서, 'year(계약년도)', 'month(계약월)' 파생 변수 만듦.\n",
        "    *   201910 -> 2019, 10\n",
        "*    서울특별시 아파트들의 동별 아파트 가격의 개수, 평균, 최솟값, 최댓값\n",
        "*    도/광역시별 아파트 가격 개수, 평균, 최솟값, 최댓값\n",
        "*    면적이  $84 m^2$  이상  $100 m^2$  미만의 서울특별시 아파트들 중에서, 동별 아파트 가격 개수, 평균, 최솟값, 최댓값\n",
        "*    면적이 $84 m^2$ 이상 $100 m^2$ 미만의 아파트들 중에서, 도/광역시별 아파트 가격 개수, 평균, 최솟값, 최댓값\n",
        "    *   결과를 평균의 내림차순으로 정렬해서 출력\n",
        "    *   결과를 최댓값의 내림차순으로 정렬해서 출력\n",
        "    *   결과를 최솟값의 오름차순으로 정렬해서 출력\n"
      ],
      "metadata": {
        "id": "e7wWh-0qQu4y"
      }
    },
    {
      "cell_type": "code",
      "execution_count": null,
      "metadata": {
        "id": "7rolDNrJQpcS"
      },
      "outputs": [],
      "source": [
        ""
      ]
    }
  ]
}