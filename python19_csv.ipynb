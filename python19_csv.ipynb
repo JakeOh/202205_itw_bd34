{
  "nbformat": 4,
  "nbformat_minor": 0,
  "metadata": {
    "colab": {
      "name": "python19_csv.ipynb",
      "provenance": [],
      "collapsed_sections": [],
      "mount_file_id": "1Ua-CHfVaMq0lwou-Rbn9T4anwCrY8w7U",
      "authorship_tag": "ABX9TyNOEukJad3ista+/sV8nEUd",
      "include_colab_link": true
    },
    "kernelspec": {
      "name": "python3",
      "display_name": "Python 3"
    },
    "language_info": {
      "name": "python"
    }
  },
  "cells": [
    {
      "cell_type": "markdown",
      "metadata": {
        "id": "view-in-github",
        "colab_type": "text"
      },
      "source": [
        "<a href=\"https://colab.research.google.com/github/JakeOh/202205_itw_bd34/blob/main/python19_csv.ipynb\" target=\"_parent\"><img src=\"https://colab.research.google.com/assets/colab-badge.svg\" alt=\"Open In Colab\"/></a>"
      ]
    },
    {
      "cell_type": "markdown",
      "source": [
        "*   Google Drive에 exam.csv 파일을 업로드\n",
        "*   Colab 연결(세션 활성화)\n",
        "*   Colab에 Google Drive 마운트(mount, 연결)"
      ],
      "metadata": {
        "id": "Z75Iyflm-eeM"
      }
    },
    {
      "cell_type": "code",
      "execution_count": 1,
      "metadata": {
        "id": "MR8kC3du-CsJ"
      },
      "outputs": [],
      "source": [
        "# 읽을 파일의 전체 경로\n",
        "file_path = '/content/drive/MyDrive/Colab Notebooks/lab_python/exam.csv'"
      ]
    },
    {
      "cell_type": "markdown",
      "source": [
        "1. exam.csv 파일을 open\n",
        "1. 파일의 첫번째 줄은 컬럼 이름들이기 때문에, 첫번째 줄은 읽고 무시.\n",
        "1. 파일의 두번째 줄부터 파일 끝(EOF)까지 4번 내용을 반복.\n",
        "1. 각 줄에서 읽은 내용을 쉼표(,)로 분리한 리스트를 빈 리스트에 append.\n",
        "> `[['1', '1', '50', '98', '50'], ['2', '1', '60', '97', '60'], ...]`\n",
        "1. 4번에서 만들어진 2차원 리스트는 문자열들을 저장하고 있는 리스트이기 때문에, 리스트의 모든 값들을 정수(int)로 변환\n",
        "> `[[1, 1, 50, 98, 50], [2, 1, 60, 97, 60], ...]`\n",
        "1. 수학 점수들로만 이루어진 1차원 리스트를 만듦.\n",
        "> `[50, 60, ...]`\n",
        "1. 수학 점수의 최댓값, 최솟값, 평균 출력.\n",
        "1. 1반 학생들의 수학 점수 총점, 평균, 최댓값, 최솟값 출력"
      ],
      "metadata": {
        "id": "TYU3lONr_OK6"
      }
    },
    {
      "cell_type": "code",
      "source": [
        "with open(file_path, 'rt') as f:  # 파일을 read text 모드로 open.\n",
        "    f.readline()  # 파일에서 첫번째 줄을 읽고 아무일도 하지 않음.\n",
        "    exam = []  # 각 줄에서 읽은 내용을 저장하기 위한 빈 리스트.\n",
        "    for line in f:  # 위에서 읽은 그 다음줄부터 파일 끝까지 한 줄씩 읽으면서\n",
        "        exam.append(line.strip().split(','))\n",
        "\n",
        "exam"
      ],
      "metadata": {
        "colab": {
          "base_uri": "https://localhost:8080/"
        },
        "id": "WL1q6SJ__Lo1",
        "outputId": "b3690acc-4a46-437d-a5e6-b6e42b38dd59"
      },
      "execution_count": 7,
      "outputs": [
        {
          "output_type": "execute_result",
          "data": {
            "text/plain": [
              "[['1', '1', '50', '98', '50'],\n",
              " ['2', '1', '60', '97', '60'],\n",
              " ['3', '1', '45', '86', '78'],\n",
              " ['4', '1', '30', '98', '58'],\n",
              " ['5', '2', '25', '80', '65'],\n",
              " ['6', '2', '50', '89', '98'],\n",
              " ['7', '2', '80', '90', '45'],\n",
              " ['8', '2', '90', '78', '25'],\n",
              " ['9', '3', '20', '98', '15'],\n",
              " ['10', '3', '50', '98', '45'],\n",
              " ['11', '3', '65', '65', '65'],\n",
              " ['12', '3', '45', '85', '32'],\n",
              " ['13', '4', '46', '98', '65'],\n",
              " ['14', '4', '48', '87', '12'],\n",
              " ['15', '4', '75', '56', '78'],\n",
              " ['16', '4', '58', '98', '65'],\n",
              " ['17', '5', '65', '68', '98'],\n",
              " ['18', '5', '80', '78', '90'],\n",
              " ['19', '5', '89', '68', '87'],\n",
              " ['20', '5', '78', '83', '58']]"
            ]
          },
          "metadata": {},
          "execution_count": 7
        }
      ]
    },
    {
      "cell_type": "code",
      "source": [
        "array = ['12', '34', '56']  # --> [12, 34, 56]\n",
        "for x in array:\n",
        "    x = int(x)  # array의 원소가 변경되는 것이 아니라, 변수 x의 값이 변경.\n",
        "print(array)  #> 원본 리스트 array는 아무런 변화가 없음!"
      ],
      "metadata": {
        "colab": {
          "base_uri": "https://localhost:8080/"
        },
        "id": "UcpmMjpCZiGn",
        "outputId": "1c1c184d-c528-4de0-bafe-3a0fd91681fc"
      },
      "execution_count": 8,
      "outputs": [
        {
          "output_type": "stream",
          "name": "stdout",
          "text": [
            "['12', '34', '56']\n"
          ]
        }
      ]
    },
    {
      "cell_type": "code",
      "source": [
        "for i, x in enumerate(array):  # enumerate(list): 리스트의 인덱스와 값을 함께 순회함.\n",
        "    array[i] = int(x)  # 리스트 array에서 꺼낸 값을 int로 변환하고 그 결과를 리스트의 해당 위치에 저장.\n",
        "print(array)"
      ],
      "metadata": {
        "colab": {
          "base_uri": "https://localhost:8080/"
        },
        "id": "yj_iSUxnblMo",
        "outputId": "7f4297bc-9d3f-4878-9f3a-a6a3a08ec290"
      },
      "execution_count": 9,
      "outputs": [
        {
          "output_type": "stream",
          "name": "stdout",
          "text": [
            "[12, 34, 56]\n"
          ]
        }
      ]
    },
    {
      "cell_type": "code",
      "source": [
        "array = ['12', '34', '56']\n",
        "numbers = []\n",
        "for x in array:\n",
        "    numbers.append(int(x))\n",
        "\n",
        "print(array)\n",
        "print(numbers)"
      ],
      "metadata": {
        "colab": {
          "base_uri": "https://localhost:8080/"
        },
        "id": "xV-FUY7CcHZH",
        "outputId": "18e10ed5-372a-41cf-a2e4-3717d269c59e"
      },
      "execution_count": 10,
      "outputs": [
        {
          "output_type": "stream",
          "name": "stdout",
          "text": [
            "['12', '34', '56']\n",
            "[12, 34, 56]\n"
          ]
        }
      ]
    },
    {
      "cell_type": "code",
      "source": [
        "for row in exam:\n",
        "    for i, x in enumerate(row):\n",
        "        row[i] = int(x)\n",
        "\n",
        "exam"
      ],
      "metadata": {
        "colab": {
          "base_uri": "https://localhost:8080/"
        },
        "id": "izBfOIREczlw",
        "outputId": "536afeaf-7255-478a-8e91-ee83ef8a2ce0"
      },
      "execution_count": 12,
      "outputs": [
        {
          "output_type": "execute_result",
          "data": {
            "text/plain": [
              "[[1, 1, 50, 98, 50],\n",
              " [2, 1, 60, 97, 60],\n",
              " [3, 1, 45, 86, 78],\n",
              " [4, 1, 30, 98, 58],\n",
              " [5, 2, 25, 80, 65],\n",
              " [6, 2, 50, 89, 98],\n",
              " [7, 2, 80, 90, 45],\n",
              " [8, 2, 90, 78, 25],\n",
              " [9, 3, 20, 98, 15],\n",
              " [10, 3, 50, 98, 45],\n",
              " [11, 3, 65, 65, 65],\n",
              " [12, 3, 45, 85, 32],\n",
              " [13, 4, 46, 98, 65],\n",
              " [14, 4, 48, 87, 12],\n",
              " [15, 4, 75, 56, 78],\n",
              " [16, 4, 58, 98, 65],\n",
              " [17, 5, 65, 68, 98],\n",
              " [18, 5, 80, 78, 90],\n",
              " [19, 5, 89, 68, 87],\n",
              " [20, 5, 78, 83, 58]]"
            ]
          },
          "metadata": {},
          "execution_count": 12
        }
      ]
    },
    {
      "cell_type": "code",
      "source": [
        "# math = []  # 수학 점수들을 저장할 빈 리스트.\n",
        "# for row in exam:\n",
        "#     math.append(row[2])  # 1차원 리스트에서 인덱스 2번 위치의 원소가 수학점수.\n",
        "math = [row[2] for row in exam]\n",
        "\n",
        "print(math)"
      ],
      "metadata": {
        "colab": {
          "base_uri": "https://localhost:8080/"
        },
        "id": "8Ynfa7ZReD-2",
        "outputId": "4d9dbcd8-e944-41d5-8ba9-1377ec2b2994"
      },
      "execution_count": 15,
      "outputs": [
        {
          "output_type": "stream",
          "name": "stdout",
          "text": [
            "[50, 60, 45, 30, 25, 50, 80, 90, 20, 50, 65, 45, 46, 48, 75, 58, 65, 80, 89, 78]\n"
          ]
        }
      ]
    },
    {
      "cell_type": "code",
      "source": [
        "print('max:', max(math))\n",
        "print('min:', min(math))\n",
        "print('mean:', sum(math) / len(math))"
      ],
      "metadata": {
        "colab": {
          "base_uri": "https://localhost:8080/"
        },
        "id": "WI-DTfh8fFy_",
        "outputId": "694e4105-fe09-4b99-d62d-91f899fbde5a"
      },
      "execution_count": 16,
      "outputs": [
        {
          "output_type": "stream",
          "name": "stdout",
          "text": [
            "max: 90\n",
            "min: 20\n",
            "mean: 57.45\n"
          ]
        }
      ]
    },
    {
      "cell_type": "code",
      "source": [
        "# 데이터가 id -> class 순서로 정렬되어 있고, 1반의 학생수가 4명인 것을 아는 경우:\n",
        "class1_math = math[:4]\n",
        "print(class1_math)"
      ],
      "metadata": {
        "colab": {
          "base_uri": "https://localhost:8080/"
        },
        "id": "WS3nbQkrgM93",
        "outputId": "7fe742ca-94b3-49e5-8452-2a30709dea61"
      },
      "execution_count": 17,
      "outputs": [
        {
          "output_type": "stream",
          "name": "stdout",
          "text": [
            "[50, 60, 45, 30]\n"
          ]
        }
      ]
    },
    {
      "cell_type": "code",
      "source": [
        "# 데이터가 무작위로 섞여 있는 경우:\n",
        "class1_math = []  # 1반 학생들의 수학 점수를 저장할 빈 리스트.\n",
        "for row in exam:\n",
        "    if row[1] == 1:  # class값이 1이면\n",
        "        class1_math.append(row[2])  # 수학 점수를 리스트에 추가.\n",
        "\n",
        "print(class1_math)"
      ],
      "metadata": {
        "colab": {
          "base_uri": "https://localhost:8080/"
        },
        "id": "GSQl0IHzhCke",
        "outputId": "aaeedaa4-ef38-4faf-a97c-d87febf74414"
      },
      "execution_count": 19,
      "outputs": [
        {
          "output_type": "stream",
          "name": "stdout",
          "text": [
            "[50, 60, 45, 30]\n"
          ]
        }
      ]
    },
    {
      "cell_type": "code",
      "source": [
        "class1_math = [row[2] for row in exam if row[1] == 1]\n",
        "print(class1_math)"
      ],
      "metadata": {
        "colab": {
          "base_uri": "https://localhost:8080/"
        },
        "id": "JnAyFrv5iVY3",
        "outputId": "36ea85c5-c3fc-4197-e66d-a98eaa45dcc8"
      },
      "execution_count": 20,
      "outputs": [
        {
          "output_type": "stream",
          "name": "stdout",
          "text": [
            "[50, 60, 45, 30]\n"
          ]
        }
      ]
    },
    {
      "cell_type": "code",
      "source": [
        "print('1반 수학 총점:', sum(class1_math))\n",
        "print('1반 수학 평균:', sum(class1_math) / len(class1_math))\n",
        "print('1반 수학 max:', max(class1_math))\n",
        "print('1반 수학 min:', min(class1_math))"
      ],
      "metadata": {
        "colab": {
          "base_uri": "https://localhost:8080/"
        },
        "id": "Qqozp3SEi2Zd",
        "outputId": "d83f5f86-e137-411b-81b9-0c9af03a8b58"
      },
      "execution_count": 21,
      "outputs": [
        {
          "output_type": "stream",
          "name": "stdout",
          "text": [
            "1반 수학 총점: 185\n",
            "1반 수학 평균: 46.25\n",
            "1반 수학 max: 60\n",
            "1반 수학 min: 30\n"
          ]
        }
      ]
    }
  ]
}