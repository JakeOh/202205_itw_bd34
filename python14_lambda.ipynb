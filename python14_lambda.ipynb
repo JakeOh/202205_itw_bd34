{
  "nbformat": 4,
  "nbformat_minor": 0,
  "metadata": {
    "colab": {
      "name": "python14_lambda.ipynb",
      "provenance": [],
      "collapsed_sections": [],
      "authorship_tag": "ABX9TyO0/f9CKNWmVTpcuH1m9c2i",
      "include_colab_link": true
    },
    "kernelspec": {
      "name": "python3",
      "display_name": "Python 3"
    },
    "language_info": {
      "name": "python"
    }
  },
  "cells": [
    {
      "cell_type": "markdown",
      "metadata": {
        "id": "view-in-github",
        "colab_type": "text"
      },
      "source": [
        "<a href=\"https://colab.research.google.com/github/JakeOh/202205_itw_bd34/blob/main/python14_lambda.ipynb\" target=\"_parent\"><img src=\"https://colab.research.google.com/assets/colab-badge.svg\" alt=\"Open In Colab\"/></a>"
      ]
    },
    {
      "cell_type": "markdown",
      "source": [
        "# 1급 객체(first-class object)로서의 함수"
      ],
      "metadata": {
        "id": "o8sXiOYt1XJ_"
      }
    },
    {
      "cell_type": "markdown",
      "source": [
        "함수(function)은 객체(object)이다.\n",
        "\n",
        "*   함수는 변수에 할당(저장)할 수 있음.\n",
        "*   함수의 argument로 다른 함수를 전달할 수 있음."
      ],
      "metadata": {
        "id": "E7R84gcG1eul"
      }
    },
    {
      "cell_type": "code",
      "execution_count": 5,
      "metadata": {
        "colab": {
          "base_uri": "https://localhost:8080/"
        },
        "id": "hx0a3Onh1ClY",
        "outputId": "616128d1-ea55-4d60-a262-54fdfbd000f6"
      },
      "outputs": [
        {
          "output_type": "execute_result",
          "data": {
            "text/plain": [
              "1"
            ]
          },
          "metadata": {},
          "execution_count": 5
        }
      ],
      "source": [
        "# 숫자는 객체(object)다. --> 숫자는 변수에 저장\n",
        "x = 1\n",
        "x"
      ]
    },
    {
      "cell_type": "code",
      "source": [
        "print(x)  # --> 숫자는 함수의 argument로 전달할 수 있음."
      ],
      "metadata": {
        "colab": {
          "base_uri": "https://localhost:8080/"
        },
        "id": "VRMuRfOS29QP",
        "outputId": "e0ee3c05-5dd9-422e-87fa-bba625e9a964"
      },
      "execution_count": 2,
      "outputs": [
        {
          "output_type": "stream",
          "name": "stdout",
          "text": [
            "1\n"
          ]
        }
      ]
    },
    {
      "cell_type": "code",
      "source": [
        "# 함수 정의\n",
        "def twice(x):\n",
        "    return 2 * x"
      ],
      "metadata": {
        "id": "zyf6AOyE3Cam"
      },
      "execution_count": 3,
      "outputs": []
    },
    {
      "cell_type": "code",
      "source": [
        "twice  # 함수 호출 아님! twice 라는 이름의 객체를 콘솔창에 출력."
      ],
      "metadata": {
        "colab": {
          "base_uri": "https://localhost:8080/"
        },
        "id": "A92xPNAV3lbQ",
        "outputId": "1d552362-bc23-4cc0-b5c9-7a69440f1c31"
      },
      "execution_count": 7,
      "outputs": [
        {
          "output_type": "execute_result",
          "data": {
            "text/plain": [
              "<function __main__.twice>"
            ]
          },
          "metadata": {},
          "execution_count": 7
        }
      ]
    },
    {
      "cell_type": "code",
      "source": [
        "twice(2)  # 함수 호출."
      ],
      "metadata": {
        "colab": {
          "base_uri": "https://localhost:8080/"
        },
        "id": "dneUcRxF4KrH",
        "outputId": "f09a00e6-bd02-405a-ab32-c6efe6dab4af"
      },
      "execution_count": 8,
      "outputs": [
        {
          "output_type": "execute_result",
          "data": {
            "text/plain": [
              "4"
            ]
          },
          "metadata": {},
          "execution_count": 8
        }
      ]
    },
    {
      "cell_type": "code",
      "source": [
        "result = twice(3)  # 함수 twice()의 호출 결과를 변수 result에 저장.\n",
        "result"
      ],
      "metadata": {
        "colab": {
          "base_uri": "https://localhost:8080/"
        },
        "id": "PnHTkSNG4i3v",
        "outputId": "58e8b17d-f84e-4312-f839-01d00732f665"
      },
      "execution_count": 11,
      "outputs": [
        {
          "output_type": "execute_result",
          "data": {
            "text/plain": [
              "6"
            ]
          },
          "metadata": {},
          "execution_count": 11
        }
      ]
    },
    {
      "cell_type": "code",
      "source": [
        "double = twice  # 함수 twice를 변수 double에 저장.\n",
        "double"
      ],
      "metadata": {
        "colab": {
          "base_uri": "https://localhost:8080/"
        },
        "id": "_hazEYfm4XVO",
        "outputId": "d3e23078-b243-4042-81d5-b5bfa7fbec58"
      },
      "execution_count": 12,
      "outputs": [
        {
          "output_type": "execute_result",
          "data": {
            "text/plain": [
              "<function __main__.twice>"
            ]
          },
          "metadata": {},
          "execution_count": 12
        }
      ]
    },
    {
      "cell_type": "code",
      "source": [
        "double(3)  # 변수 double은 함수이므로 호출할 수 있음."
      ],
      "metadata": {
        "colab": {
          "base_uri": "https://localhost:8080/"
        },
        "id": "Hp3CAdYU5WZo",
        "outputId": "b5e0de16-46b5-4eaa-ecc9-1bbca461dca7"
      },
      "execution_count": 13,
      "outputs": [
        {
          "output_type": "execute_result",
          "data": {
            "text/plain": [
              "6"
            ]
          },
          "metadata": {},
          "execution_count": 13
        }
      ]
    },
    {
      "cell_type": "code",
      "source": [
        "def calculate(x, y, fn):\n",
        "    \"\"\" fn(x, y)의 결과를 리턴.\n",
        "    \n",
        "    @param x: 숫자.\n",
        "    @param y: 숫자.\n",
        "    @param fn: 함수.\n",
        "    \"\"\"\n",
        "    result = fn(x, y)\n",
        "    return result"
      ],
      "metadata": {
        "id": "dgAYqwiv5yFo"
      },
      "execution_count": 15,
      "outputs": []
    },
    {
      "cell_type": "code",
      "source": [
        "def plus(x, y):\n",
        "    return x + y"
      ],
      "metadata": {
        "id": "xyxYjaO66RKp"
      },
      "execution_count": 16,
      "outputs": []
    },
    {
      "cell_type": "code",
      "source": [
        "calculate(1, 2, plus)\n",
        "#> calculate 함수를 호출할 때 파라미터 fn에 plus 함수를 argument로 전달."
      ],
      "metadata": {
        "colab": {
          "base_uri": "https://localhost:8080/"
        },
        "id": "hCxoEC5S6ofg",
        "outputId": "c576cc42-7336-45f1-c781-ee03b55ac8f3"
      },
      "execution_count": 17,
      "outputs": [
        {
          "output_type": "execute_result",
          "data": {
            "text/plain": [
              "3"
            ]
          },
          "metadata": {},
          "execution_count": 17
        }
      ]
    },
    {
      "cell_type": "code",
      "source": [
        "def minus(x, y):\n",
        "    return x - y"
      ],
      "metadata": {
        "id": "0le_wgq17_Ip"
      },
      "execution_count": 18,
      "outputs": []
    },
    {
      "cell_type": "code",
      "source": [
        "calculate(1, 2, minus)"
      ],
      "metadata": {
        "colab": {
          "base_uri": "https://localhost:8080/"
        },
        "id": "ncnoYhS98CSR",
        "outputId": "0b4f2912-f9d8-4e41-ede8-492ed801ee4c"
      },
      "execution_count": 19,
      "outputs": [
        {
          "output_type": "execute_result",
          "data": {
            "text/plain": [
              "-1"
            ]
          },
          "metadata": {},
          "execution_count": 19
        }
      ]
    },
    {
      "cell_type": "markdown",
      "source": [
        "# 람다 표현식(Lambda expression)"
      ],
      "metadata": {
        "id": "QsBVOoS4CHY7"
      }
    },
    {
      "cell_type": "markdown",
      "source": [
        "```\n",
        "lambda param1, param2, ...: expression\n",
        "```\n",
        "\n",
        "*   이름이 없는 함수.\n",
        "*   함수 이름을 만들지 않고, 함수의 파라미터 선언과 함수의 반환 값(식)만으로 함수를 정의 하는 방법.\n",
        "*   간단하게 정의할 수 있는 함수를 변수(파라미터)에 저장하기 위한 용도.\n"
      ],
      "metadata": {
        "id": "Iom8bduYCM4z"
      }
    },
    {
      "cell_type": "code",
      "source": [
        "plus_one = lambda x: x + 1  # argument x를 전달받아서 x+1을 리턴하는 함수."
      ],
      "metadata": {
        "id": "lBacJw1JDXl8"
      },
      "execution_count": 20,
      "outputs": []
    },
    {
      "cell_type": "code",
      "source": [
        "plus_one(1)"
      ],
      "metadata": {
        "colab": {
          "base_uri": "https://localhost:8080/"
        },
        "id": "t-3XdeOYDojc",
        "outputId": "2a0c851e-9934-4a64-d0a2-f04b91ef7987"
      },
      "execution_count": 23,
      "outputs": [
        {
          "output_type": "execute_result",
          "data": {
            "text/plain": [
              "2"
            ]
          },
          "metadata": {},
          "execution_count": 23
        }
      ]
    },
    {
      "cell_type": "code",
      "source": [
        "plus = lambda x, y: x + y  # argument로 x, y를 전달받아서 x + y를 리턴하는 함수."
      ],
      "metadata": {
        "id": "fANgigfdEAE0"
      },
      "execution_count": 24,
      "outputs": []
    },
    {
      "cell_type": "code",
      "source": [
        "plus(1, 2)"
      ],
      "metadata": {
        "colab": {
          "base_uri": "https://localhost:8080/"
        },
        "id": "GaBR-BLiEb59",
        "outputId": "2ef6e898-59f8-4f28-9c58-32f4ea5f67cd"
      },
      "execution_count": 25,
      "outputs": [
        {
          "output_type": "execute_result",
          "data": {
            "text/plain": [
              "3"
            ]
          },
          "metadata": {},
          "execution_count": 25
        }
      ]
    },
    {
      "cell_type": "code",
      "source": [
        "# 람다 표현식은 argument로 다른 함수에 전달할 수 있음.\n",
        "calculate(1, 2, lambda x, y: x + y)"
      ],
      "metadata": {
        "colab": {
          "base_uri": "https://localhost:8080/"
        },
        "id": "_fi-c1rBEe7b",
        "outputId": "9b445619-a8e6-4852-c2e0-715a92631355"
      },
      "execution_count": 26,
      "outputs": [
        {
          "output_type": "execute_result",
          "data": {
            "text/plain": [
              "3"
            ]
          },
          "metadata": {},
          "execution_count": 26
        }
      ]
    },
    {
      "cell_type": "code",
      "source": [
        "calculate(1, 2, lambda x, y: x - y)"
      ],
      "metadata": {
        "colab": {
          "base_uri": "https://localhost:8080/"
        },
        "id": "qvYPBeeIE348",
        "outputId": "7067074a-f494-41dd-8ff9-23a7477c42f7"
      },
      "execution_count": 27,
      "outputs": [
        {
          "output_type": "execute_result",
          "data": {
            "text/plain": [
              "-1"
            ]
          },
          "metadata": {},
          "execution_count": 27
        }
      ]
    },
    {
      "cell_type": "markdown",
      "source": [
        "## lambda 식을 argument로 전달받는 함수의 예"
      ],
      "metadata": {
        "id": "WOX-HgQlF3be"
      }
    },
    {
      "cell_type": "code",
      "source": [
        "numbers = [1, -2, -3, 4, 5, -6]"
      ],
      "metadata": {
        "id": "1yBhQZURGAUM"
      },
      "execution_count": 29,
      "outputs": []
    },
    {
      "cell_type": "code",
      "source": [
        "# numbers 리스트에서 양수들로만 이루어진 리스트 --> filtering\n",
        "result = filter(lambda x: x > 0, numbers)\n",
        "list(result)  # filtering된 결과를 list로 만듦."
      ],
      "metadata": {
        "colab": {
          "base_uri": "https://localhost:8080/"
        },
        "id": "78IdUCgKGo-d",
        "outputId": "7fa6ff92-7168-46be-87cc-de12dab28785"
      },
      "execution_count": 31,
      "outputs": [
        {
          "output_type": "execute_result",
          "data": {
            "text/plain": [
              "[1, 4, 5]"
            ]
          },
          "metadata": {},
          "execution_count": 31
        }
      ]
    },
    {
      "cell_type": "code",
      "source": [
        "# number 리스트에서 짝수들로만 이루어진 리스트 --> filtering\n",
        "result = filter(lambda x: x % 2 == 0, numbers)\n",
        "list(result)"
      ],
      "metadata": {
        "colab": {
          "base_uri": "https://localhost:8080/"
        },
        "id": "HD5hf7DGIUqI",
        "outputId": "84d5f5ab-5bbc-442b-b7fd-55f9781359d1"
      },
      "execution_count": 32,
      "outputs": [
        {
          "output_type": "execute_result",
          "data": {
            "text/plain": [
              "[-2, 4, -6]"
            ]
          },
          "metadata": {},
          "execution_count": 32
        }
      ]
    }
  ]
}