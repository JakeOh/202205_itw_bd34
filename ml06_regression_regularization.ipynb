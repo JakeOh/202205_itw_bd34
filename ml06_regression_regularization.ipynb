{
  "nbformat": 4,
  "nbformat_minor": 0,
  "metadata": {
    "colab": {
      "name": "ml06_regression_regularization.ipynb",
      "provenance": [],
      "collapsed_sections": [],
      "toc_visible": true,
      "authorship_tag": "ABX9TyNriTzeifWciQIhsI4n4jQQ",
      "include_colab_link": true
    },
    "kernelspec": {
      "name": "python3",
      "display_name": "Python 3"
    },
    "language_info": {
      "name": "python"
    }
  },
  "cells": [
    {
      "cell_type": "markdown",
      "metadata": {
        "id": "view-in-github",
        "colab_type": "text"
      },
      "source": [
        "<a href=\"https://colab.research.google.com/github/JakeOh/202205_itw_bd34/blob/main/ml06_regression_regularization.ipynb\" target=\"_parent\"><img src=\"https://colab.research.google.com/assets/colab-badge.svg\" alt=\"Open In Colab\"/></a>"
      ]
    },
    {
      "cell_type": "markdown",
      "source": [
        "# Imports"
      ],
      "metadata": {
        "id": "fbtLh66mHHYC"
      }
    },
    {
      "cell_type": "code",
      "execution_count": 1,
      "metadata": {
        "id": "DAx_JjTHG9kO"
      },
      "outputs": [],
      "source": [
        "import numpy as np\n",
        "import pandas as pd\n",
        "import matplotlib.pyplot as plt\n",
        "import seaborn as sns\n",
        "\n",
        "from sklearn.model_selection import train_test_split\n",
        "from sklearn.preprocessing import PolynomialFeatures, StandardScaler\n",
        "from sklearn.pipeline import Pipeline\n",
        "from sklearn.neighbors import KNeighborsRegressor\n",
        "from sklearn.linear_model import LinearRegression, Ridge, Lasso, ElasticNet\n",
        "from sklearn.metrics import r2_score, mean_squared_error"
      ]
    },
    {
      "cell_type": "markdown",
      "source": [
        "# 데이터 준비"
      ],
      "metadata": {
        "id": "n8ywLYVsIPvh"
      }
    },
    {
      "cell_type": "code",
      "source": [
        "# fish 데이터 셋\n",
        "fish_csv = 'https://github.com/rickiepark/hg-mldl/raw/master/fish.csv'"
      ],
      "metadata": {
        "id": "qCqAcwiqINbp"
      },
      "execution_count": 2,
      "outputs": []
    },
    {
      "cell_type": "code",
      "source": [
        "fish = pd.read_csv(fish_csv)"
      ],
      "metadata": {
        "id": "MibcwIyTIYRb"
      },
      "execution_count": 3,
      "outputs": []
    },
    {
      "cell_type": "code",
      "source": [
        "fish.head()"
      ],
      "metadata": {
        "colab": {
          "base_uri": "https://localhost:8080/",
          "height": 206
        },
        "id": "tylwF-MIIdbR",
        "outputId": "348d07d3-7b75-4075-d0ed-6f426af4c5c5"
      },
      "execution_count": 4,
      "outputs": [
        {
          "output_type": "execute_result",
          "data": {
            "text/plain": [
              "  Species  Weight  Length  Diagonal   Height   Width\n",
              "0   Bream   242.0    25.4      30.0  11.5200  4.0200\n",
              "1   Bream   290.0    26.3      31.2  12.4800  4.3056\n",
              "2   Bream   340.0    26.5      31.1  12.3778  4.6961\n",
              "3   Bream   363.0    29.0      33.5  12.7300  4.4555\n",
              "4   Bream   430.0    29.0      34.0  12.4440  5.1340"
            ],
            "text/html": [
              "\n",
              "  <div id=\"df-e0a31f20-c358-4e37-bb94-8aee4ae85e9d\">\n",
              "    <div class=\"colab-df-container\">\n",
              "      <div>\n",
              "<style scoped>\n",
              "    .dataframe tbody tr th:only-of-type {\n",
              "        vertical-align: middle;\n",
              "    }\n",
              "\n",
              "    .dataframe tbody tr th {\n",
              "        vertical-align: top;\n",
              "    }\n",
              "\n",
              "    .dataframe thead th {\n",
              "        text-align: right;\n",
              "    }\n",
              "</style>\n",
              "<table border=\"1\" class=\"dataframe\">\n",
              "  <thead>\n",
              "    <tr style=\"text-align: right;\">\n",
              "      <th></th>\n",
              "      <th>Species</th>\n",
              "      <th>Weight</th>\n",
              "      <th>Length</th>\n",
              "      <th>Diagonal</th>\n",
              "      <th>Height</th>\n",
              "      <th>Width</th>\n",
              "    </tr>\n",
              "  </thead>\n",
              "  <tbody>\n",
              "    <tr>\n",
              "      <th>0</th>\n",
              "      <td>Bream</td>\n",
              "      <td>242.0</td>\n",
              "      <td>25.4</td>\n",
              "      <td>30.0</td>\n",
              "      <td>11.5200</td>\n",
              "      <td>4.0200</td>\n",
              "    </tr>\n",
              "    <tr>\n",
              "      <th>1</th>\n",
              "      <td>Bream</td>\n",
              "      <td>290.0</td>\n",
              "      <td>26.3</td>\n",
              "      <td>31.2</td>\n",
              "      <td>12.4800</td>\n",
              "      <td>4.3056</td>\n",
              "    </tr>\n",
              "    <tr>\n",
              "      <th>2</th>\n",
              "      <td>Bream</td>\n",
              "      <td>340.0</td>\n",
              "      <td>26.5</td>\n",
              "      <td>31.1</td>\n",
              "      <td>12.3778</td>\n",
              "      <td>4.6961</td>\n",
              "    </tr>\n",
              "    <tr>\n",
              "      <th>3</th>\n",
              "      <td>Bream</td>\n",
              "      <td>363.0</td>\n",
              "      <td>29.0</td>\n",
              "      <td>33.5</td>\n",
              "      <td>12.7300</td>\n",
              "      <td>4.4555</td>\n",
              "    </tr>\n",
              "    <tr>\n",
              "      <th>4</th>\n",
              "      <td>Bream</td>\n",
              "      <td>430.0</td>\n",
              "      <td>29.0</td>\n",
              "      <td>34.0</td>\n",
              "      <td>12.4440</td>\n",
              "      <td>5.1340</td>\n",
              "    </tr>\n",
              "  </tbody>\n",
              "</table>\n",
              "</div>\n",
              "      <button class=\"colab-df-convert\" onclick=\"convertToInteractive('df-e0a31f20-c358-4e37-bb94-8aee4ae85e9d')\"\n",
              "              title=\"Convert this dataframe to an interactive table.\"\n",
              "              style=\"display:none;\">\n",
              "        \n",
              "  <svg xmlns=\"http://www.w3.org/2000/svg\" height=\"24px\"viewBox=\"0 0 24 24\"\n",
              "       width=\"24px\">\n",
              "    <path d=\"M0 0h24v24H0V0z\" fill=\"none\"/>\n",
              "    <path d=\"M18.56 5.44l.94 2.06.94-2.06 2.06-.94-2.06-.94-.94-2.06-.94 2.06-2.06.94zm-11 1L8.5 8.5l.94-2.06 2.06-.94-2.06-.94L8.5 2.5l-.94 2.06-2.06.94zm10 10l.94 2.06.94-2.06 2.06-.94-2.06-.94-.94-2.06-.94 2.06-2.06.94z\"/><path d=\"M17.41 7.96l-1.37-1.37c-.4-.4-.92-.59-1.43-.59-.52 0-1.04.2-1.43.59L10.3 9.45l-7.72 7.72c-.78.78-.78 2.05 0 2.83L4 21.41c.39.39.9.59 1.41.59.51 0 1.02-.2 1.41-.59l7.78-7.78 2.81-2.81c.8-.78.8-2.07 0-2.86zM5.41 20L4 18.59l7.72-7.72 1.47 1.35L5.41 20z\"/>\n",
              "  </svg>\n",
              "      </button>\n",
              "      \n",
              "  <style>\n",
              "    .colab-df-container {\n",
              "      display:flex;\n",
              "      flex-wrap:wrap;\n",
              "      gap: 12px;\n",
              "    }\n",
              "\n",
              "    .colab-df-convert {\n",
              "      background-color: #E8F0FE;\n",
              "      border: none;\n",
              "      border-radius: 50%;\n",
              "      cursor: pointer;\n",
              "      display: none;\n",
              "      fill: #1967D2;\n",
              "      height: 32px;\n",
              "      padding: 0 0 0 0;\n",
              "      width: 32px;\n",
              "    }\n",
              "\n",
              "    .colab-df-convert:hover {\n",
              "      background-color: #E2EBFA;\n",
              "      box-shadow: 0px 1px 2px rgba(60, 64, 67, 0.3), 0px 1px 3px 1px rgba(60, 64, 67, 0.15);\n",
              "      fill: #174EA6;\n",
              "    }\n",
              "\n",
              "    [theme=dark] .colab-df-convert {\n",
              "      background-color: #3B4455;\n",
              "      fill: #D2E3FC;\n",
              "    }\n",
              "\n",
              "    [theme=dark] .colab-df-convert:hover {\n",
              "      background-color: #434B5C;\n",
              "      box-shadow: 0px 1px 3px 1px rgba(0, 0, 0, 0.15);\n",
              "      filter: drop-shadow(0px 1px 2px rgba(0, 0, 0, 0.3));\n",
              "      fill: #FFFFFF;\n",
              "    }\n",
              "  </style>\n",
              "\n",
              "      <script>\n",
              "        const buttonEl =\n",
              "          document.querySelector('#df-e0a31f20-c358-4e37-bb94-8aee4ae85e9d button.colab-df-convert');\n",
              "        buttonEl.style.display =\n",
              "          google.colab.kernel.accessAllowed ? 'block' : 'none';\n",
              "\n",
              "        async function convertToInteractive(key) {\n",
              "          const element = document.querySelector('#df-e0a31f20-c358-4e37-bb94-8aee4ae85e9d');\n",
              "          const dataTable =\n",
              "            await google.colab.kernel.invokeFunction('convertToInteractive',\n",
              "                                                     [key], {});\n",
              "          if (!dataTable) return;\n",
              "\n",
              "          const docLinkHtml = 'Like what you see? Visit the ' +\n",
              "            '<a target=\"_blank\" href=https://colab.research.google.com/notebooks/data_table.ipynb>data table notebook</a>'\n",
              "            + ' to learn more about interactive tables.';\n",
              "          element.innerHTML = '';\n",
              "          dataTable['output_type'] = 'display_data';\n",
              "          await google.colab.output.renderOutput(dataTable, element);\n",
              "          const docLink = document.createElement('div');\n",
              "          docLink.innerHTML = docLinkHtml;\n",
              "          element.appendChild(docLink);\n",
              "        }\n",
              "      </script>\n",
              "    </div>\n",
              "  </div>\n",
              "  "
            ]
          },
          "metadata": {},
          "execution_count": 4
        }
      ]
    },
    {
      "cell_type": "code",
      "source": [
        "fish.info()"
      ],
      "metadata": {
        "colab": {
          "base_uri": "https://localhost:8080/"
        },
        "id": "NM_WdD-2Ij3x",
        "outputId": "8c3fa50a-e131-4821-aac3-4f180ec923a1"
      },
      "execution_count": 5,
      "outputs": [
        {
          "output_type": "stream",
          "name": "stdout",
          "text": [
            "<class 'pandas.core.frame.DataFrame'>\n",
            "RangeIndex: 159 entries, 0 to 158\n",
            "Data columns (total 6 columns):\n",
            " #   Column    Non-Null Count  Dtype  \n",
            "---  ------    --------------  -----  \n",
            " 0   Species   159 non-null    object \n",
            " 1   Weight    159 non-null    float64\n",
            " 2   Length    159 non-null    float64\n",
            " 3   Diagonal  159 non-null    float64\n",
            " 4   Height    159 non-null    float64\n",
            " 5   Width     159 non-null    float64\n",
            "dtypes: float64(5), object(1)\n",
            "memory usage: 7.6+ KB\n"
          ]
        }
      ]
    },
    {
      "cell_type": "markdown",
      "source": [
        "물고기(Perch, 농어)의 무게 예측\n",
        "\n",
        "`Weight ~ Length + Diagonal + Height + Width`"
      ],
      "metadata": {
        "id": "cqs-RenJIw-K"
      }
    },
    {
      "cell_type": "code",
      "source": [
        "# Perch(농어) 부분집합\n",
        "perch = fish[fish.Species == 'Perch']"
      ],
      "metadata": {
        "id": "-N-WJgDiJHEj"
      },
      "execution_count": 6,
      "outputs": []
    },
    {
      "cell_type": "code",
      "source": [
        "perch.head()"
      ],
      "metadata": {
        "colab": {
          "base_uri": "https://localhost:8080/",
          "height": 206
        },
        "id": "YPzTSLtUJYvK",
        "outputId": "d60ce367-4e23-4e4b-f212-c224848311de"
      },
      "execution_count": 7,
      "outputs": [
        {
          "output_type": "execute_result",
          "data": {
            "text/plain": [
              "   Species  Weight  Length  Diagonal  Height   Width\n",
              "72   Perch     5.9     8.4       8.8  2.1120  1.4080\n",
              "73   Perch    32.0    13.7      14.7  3.5280  1.9992\n",
              "74   Perch    40.0    15.0      16.0  3.8240  2.4320\n",
              "75   Perch    51.5    16.2      17.2  4.5924  2.6316\n",
              "76   Perch    70.0    17.4      18.5  4.5880  2.9415"
            ],
            "text/html": [
              "\n",
              "  <div id=\"df-48907b0c-93d1-4168-a85a-35acc977aa94\">\n",
              "    <div class=\"colab-df-container\">\n",
              "      <div>\n",
              "<style scoped>\n",
              "    .dataframe tbody tr th:only-of-type {\n",
              "        vertical-align: middle;\n",
              "    }\n",
              "\n",
              "    .dataframe tbody tr th {\n",
              "        vertical-align: top;\n",
              "    }\n",
              "\n",
              "    .dataframe thead th {\n",
              "        text-align: right;\n",
              "    }\n",
              "</style>\n",
              "<table border=\"1\" class=\"dataframe\">\n",
              "  <thead>\n",
              "    <tr style=\"text-align: right;\">\n",
              "      <th></th>\n",
              "      <th>Species</th>\n",
              "      <th>Weight</th>\n",
              "      <th>Length</th>\n",
              "      <th>Diagonal</th>\n",
              "      <th>Height</th>\n",
              "      <th>Width</th>\n",
              "    </tr>\n",
              "  </thead>\n",
              "  <tbody>\n",
              "    <tr>\n",
              "      <th>72</th>\n",
              "      <td>Perch</td>\n",
              "      <td>5.9</td>\n",
              "      <td>8.4</td>\n",
              "      <td>8.8</td>\n",
              "      <td>2.1120</td>\n",
              "      <td>1.4080</td>\n",
              "    </tr>\n",
              "    <tr>\n",
              "      <th>73</th>\n",
              "      <td>Perch</td>\n",
              "      <td>32.0</td>\n",
              "      <td>13.7</td>\n",
              "      <td>14.7</td>\n",
              "      <td>3.5280</td>\n",
              "      <td>1.9992</td>\n",
              "    </tr>\n",
              "    <tr>\n",
              "      <th>74</th>\n",
              "      <td>Perch</td>\n",
              "      <td>40.0</td>\n",
              "      <td>15.0</td>\n",
              "      <td>16.0</td>\n",
              "      <td>3.8240</td>\n",
              "      <td>2.4320</td>\n",
              "    </tr>\n",
              "    <tr>\n",
              "      <th>75</th>\n",
              "      <td>Perch</td>\n",
              "      <td>51.5</td>\n",
              "      <td>16.2</td>\n",
              "      <td>17.2</td>\n",
              "      <td>4.5924</td>\n",
              "      <td>2.6316</td>\n",
              "    </tr>\n",
              "    <tr>\n",
              "      <th>76</th>\n",
              "      <td>Perch</td>\n",
              "      <td>70.0</td>\n",
              "      <td>17.4</td>\n",
              "      <td>18.5</td>\n",
              "      <td>4.5880</td>\n",
              "      <td>2.9415</td>\n",
              "    </tr>\n",
              "  </tbody>\n",
              "</table>\n",
              "</div>\n",
              "      <button class=\"colab-df-convert\" onclick=\"convertToInteractive('df-48907b0c-93d1-4168-a85a-35acc977aa94')\"\n",
              "              title=\"Convert this dataframe to an interactive table.\"\n",
              "              style=\"display:none;\">\n",
              "        \n",
              "  <svg xmlns=\"http://www.w3.org/2000/svg\" height=\"24px\"viewBox=\"0 0 24 24\"\n",
              "       width=\"24px\">\n",
              "    <path d=\"M0 0h24v24H0V0z\" fill=\"none\"/>\n",
              "    <path d=\"M18.56 5.44l.94 2.06.94-2.06 2.06-.94-2.06-.94-.94-2.06-.94 2.06-2.06.94zm-11 1L8.5 8.5l.94-2.06 2.06-.94-2.06-.94L8.5 2.5l-.94 2.06-2.06.94zm10 10l.94 2.06.94-2.06 2.06-.94-2.06-.94-.94-2.06-.94 2.06-2.06.94z\"/><path d=\"M17.41 7.96l-1.37-1.37c-.4-.4-.92-.59-1.43-.59-.52 0-1.04.2-1.43.59L10.3 9.45l-7.72 7.72c-.78.78-.78 2.05 0 2.83L4 21.41c.39.39.9.59 1.41.59.51 0 1.02-.2 1.41-.59l7.78-7.78 2.81-2.81c.8-.78.8-2.07 0-2.86zM5.41 20L4 18.59l7.72-7.72 1.47 1.35L5.41 20z\"/>\n",
              "  </svg>\n",
              "      </button>\n",
              "      \n",
              "  <style>\n",
              "    .colab-df-container {\n",
              "      display:flex;\n",
              "      flex-wrap:wrap;\n",
              "      gap: 12px;\n",
              "    }\n",
              "\n",
              "    .colab-df-convert {\n",
              "      background-color: #E8F0FE;\n",
              "      border: none;\n",
              "      border-radius: 50%;\n",
              "      cursor: pointer;\n",
              "      display: none;\n",
              "      fill: #1967D2;\n",
              "      height: 32px;\n",
              "      padding: 0 0 0 0;\n",
              "      width: 32px;\n",
              "    }\n",
              "\n",
              "    .colab-df-convert:hover {\n",
              "      background-color: #E2EBFA;\n",
              "      box-shadow: 0px 1px 2px rgba(60, 64, 67, 0.3), 0px 1px 3px 1px rgba(60, 64, 67, 0.15);\n",
              "      fill: #174EA6;\n",
              "    }\n",
              "\n",
              "    [theme=dark] .colab-df-convert {\n",
              "      background-color: #3B4455;\n",
              "      fill: #D2E3FC;\n",
              "    }\n",
              "\n",
              "    [theme=dark] .colab-df-convert:hover {\n",
              "      background-color: #434B5C;\n",
              "      box-shadow: 0px 1px 3px 1px rgba(0, 0, 0, 0.15);\n",
              "      filter: drop-shadow(0px 1px 2px rgba(0, 0, 0, 0.3));\n",
              "      fill: #FFFFFF;\n",
              "    }\n",
              "  </style>\n",
              "\n",
              "      <script>\n",
              "        const buttonEl =\n",
              "          document.querySelector('#df-48907b0c-93d1-4168-a85a-35acc977aa94 button.colab-df-convert');\n",
              "        buttonEl.style.display =\n",
              "          google.colab.kernel.accessAllowed ? 'block' : 'none';\n",
              "\n",
              "        async function convertToInteractive(key) {\n",
              "          const element = document.querySelector('#df-48907b0c-93d1-4168-a85a-35acc977aa94');\n",
              "          const dataTable =\n",
              "            await google.colab.kernel.invokeFunction('convertToInteractive',\n",
              "                                                     [key], {});\n",
              "          if (!dataTable) return;\n",
              "\n",
              "          const docLinkHtml = 'Like what you see? Visit the ' +\n",
              "            '<a target=\"_blank\" href=https://colab.research.google.com/notebooks/data_table.ipynb>data table notebook</a>'\n",
              "            + ' to learn more about interactive tables.';\n",
              "          element.innerHTML = '';\n",
              "          dataTable['output_type'] = 'display_data';\n",
              "          await google.colab.output.renderOutput(dataTable, element);\n",
              "          const docLink = document.createElement('div');\n",
              "          docLink.innerHTML = docLinkHtml;\n",
              "          element.appendChild(docLink);\n",
              "        }\n",
              "      </script>\n",
              "    </div>\n",
              "  </div>\n",
              "  "
            ]
          },
          "metadata": {},
          "execution_count": 7
        }
      ]
    },
    {
      "cell_type": "code",
      "source": [
        "perch.info()"
      ],
      "metadata": {
        "colab": {
          "base_uri": "https://localhost:8080/"
        },
        "id": "MzIc-zpsJeaA",
        "outputId": "9f44e834-f7c6-4388-dff0-a8291d9ae321"
      },
      "execution_count": 8,
      "outputs": [
        {
          "output_type": "stream",
          "name": "stdout",
          "text": [
            "<class 'pandas.core.frame.DataFrame'>\n",
            "Int64Index: 56 entries, 72 to 127\n",
            "Data columns (total 6 columns):\n",
            " #   Column    Non-Null Count  Dtype  \n",
            "---  ------    --------------  -----  \n",
            " 0   Species   56 non-null     object \n",
            " 1   Weight    56 non-null     float64\n",
            " 2   Length    56 non-null     float64\n",
            " 3   Diagonal  56 non-null     float64\n",
            " 4   Height    56 non-null     float64\n",
            " 5   Width     56 non-null     float64\n",
            "dtypes: float64(5), object(1)\n",
            "memory usage: 3.1+ KB\n"
          ]
        }
      ]
    },
    {
      "cell_type": "code",
      "source": [
        "pd.options.display.max_rows = 8"
      ],
      "metadata": {
        "id": "urvSB5bpKFNQ"
      },
      "execution_count": 12,
      "outputs": []
    },
    {
      "cell_type": "code",
      "source": [
        "perch[['Length', 'Diagonal', 'Height', 'Width']]"
      ],
      "metadata": {
        "colab": {
          "base_uri": "https://localhost:8080/",
          "height": 361
        },
        "id": "4hY2WOLFJ6M4",
        "outputId": "4ce6460b-8422-461f-b4b1-5076ce155237"
      },
      "execution_count": 13,
      "outputs": [
        {
          "output_type": "execute_result",
          "data": {
            "text/plain": [
              "     Length  Diagonal   Height   Width\n",
              "72      8.4       8.8   2.1120  1.4080\n",
              "73     13.7      14.7   3.5280  1.9992\n",
              "74     15.0      16.0   3.8240  2.4320\n",
              "75     16.2      17.2   4.5924  2.6316\n",
              "..      ...       ...      ...     ...\n",
              "124    43.0      45.2  11.9328  7.2772\n",
              "125    43.0      45.5  12.5125  7.4165\n",
              "126    43.5      46.0  12.6040  8.1420\n",
              "127    44.0      46.6  12.4888  7.5958\n",
              "\n",
              "[56 rows x 4 columns]"
            ],
            "text/html": [
              "\n",
              "  <div id=\"df-f7b659ce-ddee-4493-a44f-18a5f1a903e5\">\n",
              "    <div class=\"colab-df-container\">\n",
              "      <div>\n",
              "<style scoped>\n",
              "    .dataframe tbody tr th:only-of-type {\n",
              "        vertical-align: middle;\n",
              "    }\n",
              "\n",
              "    .dataframe tbody tr th {\n",
              "        vertical-align: top;\n",
              "    }\n",
              "\n",
              "    .dataframe thead th {\n",
              "        text-align: right;\n",
              "    }\n",
              "</style>\n",
              "<table border=\"1\" class=\"dataframe\">\n",
              "  <thead>\n",
              "    <tr style=\"text-align: right;\">\n",
              "      <th></th>\n",
              "      <th>Length</th>\n",
              "      <th>Diagonal</th>\n",
              "      <th>Height</th>\n",
              "      <th>Width</th>\n",
              "    </tr>\n",
              "  </thead>\n",
              "  <tbody>\n",
              "    <tr>\n",
              "      <th>72</th>\n",
              "      <td>8.4</td>\n",
              "      <td>8.8</td>\n",
              "      <td>2.1120</td>\n",
              "      <td>1.4080</td>\n",
              "    </tr>\n",
              "    <tr>\n",
              "      <th>73</th>\n",
              "      <td>13.7</td>\n",
              "      <td>14.7</td>\n",
              "      <td>3.5280</td>\n",
              "      <td>1.9992</td>\n",
              "    </tr>\n",
              "    <tr>\n",
              "      <th>74</th>\n",
              "      <td>15.0</td>\n",
              "      <td>16.0</td>\n",
              "      <td>3.8240</td>\n",
              "      <td>2.4320</td>\n",
              "    </tr>\n",
              "    <tr>\n",
              "      <th>75</th>\n",
              "      <td>16.2</td>\n",
              "      <td>17.2</td>\n",
              "      <td>4.5924</td>\n",
              "      <td>2.6316</td>\n",
              "    </tr>\n",
              "    <tr>\n",
              "      <th>...</th>\n",
              "      <td>...</td>\n",
              "      <td>...</td>\n",
              "      <td>...</td>\n",
              "      <td>...</td>\n",
              "    </tr>\n",
              "    <tr>\n",
              "      <th>124</th>\n",
              "      <td>43.0</td>\n",
              "      <td>45.2</td>\n",
              "      <td>11.9328</td>\n",
              "      <td>7.2772</td>\n",
              "    </tr>\n",
              "    <tr>\n",
              "      <th>125</th>\n",
              "      <td>43.0</td>\n",
              "      <td>45.5</td>\n",
              "      <td>12.5125</td>\n",
              "      <td>7.4165</td>\n",
              "    </tr>\n",
              "    <tr>\n",
              "      <th>126</th>\n",
              "      <td>43.5</td>\n",
              "      <td>46.0</td>\n",
              "      <td>12.6040</td>\n",
              "      <td>8.1420</td>\n",
              "    </tr>\n",
              "    <tr>\n",
              "      <th>127</th>\n",
              "      <td>44.0</td>\n",
              "      <td>46.6</td>\n",
              "      <td>12.4888</td>\n",
              "      <td>7.5958</td>\n",
              "    </tr>\n",
              "  </tbody>\n",
              "</table>\n",
              "<p>56 rows × 4 columns</p>\n",
              "</div>\n",
              "      <button class=\"colab-df-convert\" onclick=\"convertToInteractive('df-f7b659ce-ddee-4493-a44f-18a5f1a903e5')\"\n",
              "              title=\"Convert this dataframe to an interactive table.\"\n",
              "              style=\"display:none;\">\n",
              "        \n",
              "  <svg xmlns=\"http://www.w3.org/2000/svg\" height=\"24px\"viewBox=\"0 0 24 24\"\n",
              "       width=\"24px\">\n",
              "    <path d=\"M0 0h24v24H0V0z\" fill=\"none\"/>\n",
              "    <path d=\"M18.56 5.44l.94 2.06.94-2.06 2.06-.94-2.06-.94-.94-2.06-.94 2.06-2.06.94zm-11 1L8.5 8.5l.94-2.06 2.06-.94-2.06-.94L8.5 2.5l-.94 2.06-2.06.94zm10 10l.94 2.06.94-2.06 2.06-.94-2.06-.94-.94-2.06-.94 2.06-2.06.94z\"/><path d=\"M17.41 7.96l-1.37-1.37c-.4-.4-.92-.59-1.43-.59-.52 0-1.04.2-1.43.59L10.3 9.45l-7.72 7.72c-.78.78-.78 2.05 0 2.83L4 21.41c.39.39.9.59 1.41.59.51 0 1.02-.2 1.41-.59l7.78-7.78 2.81-2.81c.8-.78.8-2.07 0-2.86zM5.41 20L4 18.59l7.72-7.72 1.47 1.35L5.41 20z\"/>\n",
              "  </svg>\n",
              "      </button>\n",
              "      \n",
              "  <style>\n",
              "    .colab-df-container {\n",
              "      display:flex;\n",
              "      flex-wrap:wrap;\n",
              "      gap: 12px;\n",
              "    }\n",
              "\n",
              "    .colab-df-convert {\n",
              "      background-color: #E8F0FE;\n",
              "      border: none;\n",
              "      border-radius: 50%;\n",
              "      cursor: pointer;\n",
              "      display: none;\n",
              "      fill: #1967D2;\n",
              "      height: 32px;\n",
              "      padding: 0 0 0 0;\n",
              "      width: 32px;\n",
              "    }\n",
              "\n",
              "    .colab-df-convert:hover {\n",
              "      background-color: #E2EBFA;\n",
              "      box-shadow: 0px 1px 2px rgba(60, 64, 67, 0.3), 0px 1px 3px 1px rgba(60, 64, 67, 0.15);\n",
              "      fill: #174EA6;\n",
              "    }\n",
              "\n",
              "    [theme=dark] .colab-df-convert {\n",
              "      background-color: #3B4455;\n",
              "      fill: #D2E3FC;\n",
              "    }\n",
              "\n",
              "    [theme=dark] .colab-df-convert:hover {\n",
              "      background-color: #434B5C;\n",
              "      box-shadow: 0px 1px 3px 1px rgba(0, 0, 0, 0.15);\n",
              "      filter: drop-shadow(0px 1px 2px rgba(0, 0, 0, 0.3));\n",
              "      fill: #FFFFFF;\n",
              "    }\n",
              "  </style>\n",
              "\n",
              "      <script>\n",
              "        const buttonEl =\n",
              "          document.querySelector('#df-f7b659ce-ddee-4493-a44f-18a5f1a903e5 button.colab-df-convert');\n",
              "        buttonEl.style.display =\n",
              "          google.colab.kernel.accessAllowed ? 'block' : 'none';\n",
              "\n",
              "        async function convertToInteractive(key) {\n",
              "          const element = document.querySelector('#df-f7b659ce-ddee-4493-a44f-18a5f1a903e5');\n",
              "          const dataTable =\n",
              "            await google.colab.kernel.invokeFunction('convertToInteractive',\n",
              "                                                     [key], {});\n",
              "          if (!dataTable) return;\n",
              "\n",
              "          const docLinkHtml = 'Like what you see? Visit the ' +\n",
              "            '<a target=\"_blank\" href=https://colab.research.google.com/notebooks/data_table.ipynb>data table notebook</a>'\n",
              "            + ' to learn more about interactive tables.';\n",
              "          element.innerHTML = '';\n",
              "          dataTable['output_type'] = 'display_data';\n",
              "          await google.colab.output.renderOutput(dataTable, element);\n",
              "          const docLink = document.createElement('div');\n",
              "          docLink.innerHTML = docLinkHtml;\n",
              "          element.appendChild(docLink);\n",
              "        }\n",
              "      </script>\n",
              "    </div>\n",
              "  </div>\n",
              "  "
            ]
          },
          "metadata": {},
          "execution_count": 13
        }
      ]
    },
    {
      "cell_type": "code",
      "source": [
        "# 특성(features) 배열\n",
        "X = perch.iloc[:, 2:].values.copy()"
      ],
      "metadata": {
        "id": "-KC1SpqRKPVT"
      },
      "execution_count": 15,
      "outputs": []
    },
    {
      "cell_type": "code",
      "source": [
        "X[:4]"
      ],
      "metadata": {
        "colab": {
          "base_uri": "https://localhost:8080/"
        },
        "id": "knPShEH9KjFh",
        "outputId": "f0b9b303-6dff-4ccb-8ed4-cc5d11f257bb"
      },
      "execution_count": 16,
      "outputs": [
        {
          "output_type": "execute_result",
          "data": {
            "text/plain": [
              "array([[ 8.4   ,  8.8   ,  2.112 ,  1.408 ],\n",
              "       [13.7   , 14.7   ,  3.528 ,  1.9992],\n",
              "       [15.    , 16.    ,  3.824 ,  2.432 ],\n",
              "       [16.2   , 17.2   ,  4.5924,  2.6316]])"
            ]
          },
          "metadata": {},
          "execution_count": 16
        }
      ]
    },
    {
      "cell_type": "code",
      "source": [
        "# 타겟(target) 배열\n",
        "y = perch['Weight'].values.copy()"
      ],
      "metadata": {
        "id": "kS4VVjSlKuop"
      },
      "execution_count": 19,
      "outputs": []
    },
    {
      "cell_type": "code",
      "source": [
        "y[:4]"
      ],
      "metadata": {
        "colab": {
          "base_uri": "https://localhost:8080/"
        },
        "id": "6mhnwFhkK75w",
        "outputId": "0b71c266-b2e9-4733-e269-c97c6beadd33"
      },
      "execution_count": 20,
      "outputs": [
        {
          "output_type": "execute_result",
          "data": {
            "text/plain": [
              "array([ 5.9, 32. , 40. , 51.5])"
            ]
          },
          "metadata": {},
          "execution_count": 20
        }
      ]
    },
    {
      "cell_type": "markdown",
      "source": [
        "# train/test split"
      ],
      "metadata": {
        "id": "hYzJz7aTLOZ5"
      }
    },
    {
      "cell_type": "code",
      "source": [
        "X_tr, X_te, y_tr, y_te = train_test_split(X, y,\n",
        "                                          test_size=0.25,\n",
        "                                          random_state=42)"
      ],
      "metadata": {
        "id": "7VcIwXRVK9kA"
      },
      "execution_count": 21,
      "outputs": []
    },
    {
      "cell_type": "code",
      "source": [
        "X_tr.shape, X_te.shape, y_tr.shape, y_te.shape"
      ],
      "metadata": {
        "colab": {
          "base_uri": "https://localhost:8080/"
        },
        "id": "9nK4_YWBLxTh",
        "outputId": "2a7d2f58-896d-45a9-8a82-aef8c4e3465a"
      },
      "execution_count": 22,
      "outputs": [
        {
          "output_type": "execute_result",
          "data": {
            "text/plain": [
              "((42, 4), (14, 4), (42,), (14,))"
            ]
          },
          "metadata": {},
          "execution_count": 22
        }
      ]
    },
    {
      "cell_type": "markdown",
      "source": [
        "# 1차항만 고려한 회귀"
      ],
      "metadata": {
        "id": "K4l2DPvNMEzC"
      }
    },
    {
      "cell_type": "markdown",
      "source": [
        "## KNN Regressor"
      ],
      "metadata": {
        "id": "cgDMVcZjMJbo"
      }
    },
    {
      "cell_type": "code",
      "source": [
        "knn = KNeighborsRegressor()  # KNN 회귀 모델 생성"
      ],
      "metadata": {
        "id": "UOi3PyI-L14w"
      },
      "execution_count": 23,
      "outputs": []
    },
    {
      "cell_type": "code",
      "source": [
        "knn.fit(X_tr, y_tr)  # 모델 훈련"
      ],
      "metadata": {
        "colab": {
          "base_uri": "https://localhost:8080/"
        },
        "id": "Zc7l1RTqMUUZ",
        "outputId": "9e931349-f4d5-4fd6-f0d4-4dbafbf78216"
      },
      "execution_count": 24,
      "outputs": [
        {
          "output_type": "execute_result",
          "data": {
            "text/plain": [
              "KNeighborsRegressor()"
            ]
          },
          "metadata": {},
          "execution_count": 24
        }
      ]
    },
    {
      "cell_type": "code",
      "source": [
        "tr_pred = knn.predict(X_tr)  # 훈련 셋 예측값"
      ],
      "metadata": {
        "id": "eM9dE4q8Mdm-"
      },
      "execution_count": 25,
      "outputs": []
    },
    {
      "cell_type": "code",
      "source": [
        "tr_pred[:4]"
      ],
      "metadata": {
        "colab": {
          "base_uri": "https://localhost:8080/"
        },
        "id": "GzOBHpwlMliJ",
        "outputId": "2bc4cb40-381f-4add-fdf2-bad3103f93d1"
      },
      "execution_count": 26,
      "outputs": [
        {
          "output_type": "execute_result",
          "data": {
            "text/plain": [
              "array([ 87.6, 123. ,  79.6,  70.6])"
            ]
          },
          "metadata": {},
          "execution_count": 26
        }
      ]
    },
    {
      "cell_type": "code",
      "source": [
        "y_tr[:4]"
      ],
      "metadata": {
        "colab": {
          "base_uri": "https://localhost:8080/"
        },
        "id": "dgg5jY5zMrpx",
        "outputId": "b696d475-0947-4614-f0b5-f6a6ac5e1520"
      },
      "execution_count": 27,
      "outputs": [
        {
          "output_type": "execute_result",
          "data": {
            "text/plain": [
              "array([ 85., 135.,  78.,  70.])"
            ]
          },
          "metadata": {},
          "execution_count": 27
        }
      ]
    },
    {
      "cell_type": "code",
      "source": [
        "# 훈련 셋 평가 점수: MSE, R2 score\n",
        "print('MSE:', mean_squared_error(y_tr, tr_pred))\n",
        "print('r2:', r2_score(y_tr, tr_pred))"
      ],
      "metadata": {
        "colab": {
          "base_uri": "https://localhost:8080/"
        },
        "id": "Ugl_CyrzM6Cy",
        "outputId": "bb24b9a5-f38d-455a-fd89-bd4785b225b0"
      },
      "execution_count": 29,
      "outputs": [
        {
          "output_type": "stream",
          "name": "stdout",
          "text": [
            "MSE: 2986.5723809523806\n",
            "r2: 0.97579760182756\n"
          ]
        }
      ]
    },
    {
      "cell_type": "code",
      "source": [
        "# 학습에 사용되지 않은 테스트 셋의 예측값.\n",
        "te_pred = knn.predict(X_te)"
      ],
      "metadata": {
        "id": "Z-_WZugrNM3x"
      },
      "execution_count": 31,
      "outputs": []
    },
    {
      "cell_type": "code",
      "source": [
        "te_pred"
      ],
      "metadata": {
        "colab": {
          "base_uri": "https://localhost:8080/"
        },
        "id": "FitXsDBoN0xx",
        "outputId": "6e2289d4-97fd-4c6d-851a-a08f4c97eba2"
      },
      "execution_count": 32,
      "outputs": [
        {
          "output_type": "execute_result",
          "data": {
            "text/plain": [
              "array([  60. ,   79.6,  248. ,  122. ,  130. ,  847. ,  311.4,  183.4,\n",
              "        847. ,  118. , 1043. ,   60. ,  248. ,  248. ])"
            ]
          },
          "metadata": {},
          "execution_count": 32
        }
      ]
    },
    {
      "cell_type": "code",
      "source": [
        "y_te"
      ],
      "metadata": {
        "colab": {
          "base_uri": "https://localhost:8080/"
        },
        "id": "ujtqyejLN2wZ",
        "outputId": "1265db48-2dc1-4409-a3d6-92ebeb26f9da"
      },
      "execution_count": 33,
      "outputs": [
        {
          "output_type": "execute_result",
          "data": {
            "text/plain": [
              "array([   5.9,  100. ,  250. ,  130. ,  130. ,  820. ,  320. ,  188. ,\n",
              "        900. ,  125. , 1000. ,   51.5,  250. ,  300. ])"
            ]
          },
          "metadata": {},
          "execution_count": 33
        }
      ]
    },
    {
      "cell_type": "code",
      "source": [
        "# 테스트 셋 평가 점수\n",
        "print('MSE:', mean_squared_error(y_te, te_pred))\n",
        "print('r2:', r2_score(y_te, te_pred))"
      ],
      "metadata": {
        "colab": {
          "base_uri": "https://localhost:8080/"
        },
        "id": "AyMAQ6BvN4lB",
        "outputId": "41fe3969-2ad9-4cd3-fca4-1384a257d9e5"
      },
      "execution_count": 35,
      "outputs": [
        {
          "output_type": "stream",
          "name": "stdout",
          "text": [
            "MSE: 837.3100000000001\n",
            "r2: 0.9916579819676246\n"
          ]
        }
      ]
    },
    {
      "cell_type": "markdown",
      "source": [
        "테스트 셋에서의 평가 점수가 훈련 셋에서의 점수보다 좋음 -> 과소적합"
      ],
      "metadata": {
        "id": "nYOFT0pcOlz5"
      }
    },
    {
      "cell_type": "markdown",
      "source": [
        "## Linear Regression"
      ],
      "metadata": {
        "id": "y9Ent80dO_R4"
      }
    },
    {
      "cell_type": "markdown",
      "source": [
        "$$\n",
        "\\hat{y} = w_0 + w_1 \\times x_1 + w_2 \\times x_2 + w_3 \\times x_3 + w_4 \\times x_4\n",
        "$$"
      ],
      "metadata": {
        "id": "AwiLK-9LPD75"
      }
    },
    {
      "cell_type": "code",
      "source": [
        "lin_reg = LinearRegression()  # 선형 회귀 모델 생성"
      ],
      "metadata": {
        "id": "40Deeqh5OQNQ"
      },
      "execution_count": 36,
      "outputs": []
    },
    {
      "cell_type": "code",
      "source": [
        "lin_reg.fit(X_tr, y_tr)  # 모델 훈련"
      ],
      "metadata": {
        "colab": {
          "base_uri": "https://localhost:8080/"
        },
        "id": "80iFMK8mQBUq",
        "outputId": "3160deb0-6f16-4493-b46f-b5cc481013c2"
      },
      "execution_count": 37,
      "outputs": [
        {
          "output_type": "execute_result",
          "data": {
            "text/plain": [
              "LinearRegression()"
            ]
          },
          "metadata": {},
          "execution_count": 37
        }
      ]
    },
    {
      "cell_type": "code",
      "source": [
        "lin_reg.intercept_  # 선형 회귀식에서 w0"
      ],
      "metadata": {
        "colab": {
          "base_uri": "https://localhost:8080/"
        },
        "id": "NAYu4wjXQFUQ",
        "outputId": "93ebc62e-6966-433d-c5c1-b4cccbf16be3"
      },
      "execution_count": 38,
      "outputs": [
        {
          "output_type": "execute_result",
          "data": {
            "text/plain": [
              "-610.0275364260515"
            ]
          },
          "metadata": {},
          "execution_count": 38
        }
      ]
    },
    {
      "cell_type": "code",
      "source": [
        "lin_reg.coef_  # 선형 회귀식에서 w1 ~ w4"
      ],
      "metadata": {
        "colab": {
          "base_uri": "https://localhost:8080/"
        },
        "id": "3f-2522BQJOw",
        "outputId": "d506f6ee-69f1-4792-db80-ab3cd0a9d392"
      },
      "execution_count": 39,
      "outputs": [
        {
          "output_type": "execute_result",
          "data": {
            "text/plain": [
              "array([-40.18338554,  47.80681727,  67.34086612,  35.34904264])"
            ]
          },
          "metadata": {},
          "execution_count": 39
        }
      ]
    },
    {
      "cell_type": "code",
      "source": [
        "# 훈련 셋 예측값\n",
        "tr_pred = lin_reg.predict(X_tr)"
      ],
      "metadata": {
        "id": "aTyKE9dNQpsa"
      },
      "execution_count": 40,
      "outputs": []
    },
    {
      "cell_type": "code",
      "source": [
        "# 훈련 셋 평가 점수\n",
        "print('MSE:', mean_squared_error(y_tr, tr_pred))\n",
        "print('r2:', r2_score(y_tr, tr_pred))"
      ],
      "metadata": {
        "colab": {
          "base_uri": "https://localhost:8080/"
        },
        "id": "_gLu4ossQvxp",
        "outputId": "84e6540c-5b96-4094-80fa-20ced70477ab"
      },
      "execution_count": 41,
      "outputs": [
        {
          "output_type": "stream",
          "name": "stdout",
          "text": [
            "MSE: 5340.176566753986\n",
            "r2: 0.9567246116638569\n"
          ]
        }
      ]
    },
    {
      "cell_type": "code",
      "source": [
        "# 테스트 셋 예측값\n",
        "te_pred = lin_reg.predict(X_te)"
      ],
      "metadata": {
        "id": "TqXKao7yQ5FJ"
      },
      "execution_count": 42,
      "outputs": []
    },
    {
      "cell_type": "code",
      "source": [
        "# 테스트 셋 평가 점수\n",
        "print('MSE:', mean_squared_error(y_te, te_pred))\n",
        "print('r2', r2_score(y_te, te_pred))"
      ],
      "metadata": {
        "colab": {
          "base_uri": "https://localhost:8080/"
        },
        "id": "RruiZMr1RGaY",
        "outputId": "7ae96863-41b7-4a94-ab52-6ec4fe2f095a"
      },
      "execution_count": 43,
      "outputs": [
        {
          "output_type": "stream",
          "name": "stdout",
          "text": [
            "MSE: 12140.410523504848\n",
            "r2 0.8790465615990273\n"
          ]
        }
      ]
    },
    {
      "cell_type": "markdown",
      "source": [
        "훈련 셋의 점수가 테스트 셋의 점수보다 좋음 -> 과대적합"
      ],
      "metadata": {
        "id": "JDuKIHlTRUbo"
      }
    },
    {
      "cell_type": "markdown",
      "source": [
        "# 2차항을 고려한 선형 회귀"
      ],
      "metadata": {
        "id": "UKDQZwzRWCCg"
      }
    },
    {
      "cell_type": "markdown",
      "source": [
        "$$\n",
        "\\hat{y} = w_0 + w_1 \\times x_1 + \\cdots + w_4 \\times x_4 + w_5 \\times {x_1}^2 + w_6 \\times {x_2}^2 + w_7 \\times x_1 x_2 + \\cdots\n",
        "$$"
      ],
      "metadata": {
        "id": "VQ8sUhceWFXf"
      }
    },
    {
      "cell_type": "code",
      "source": [
        "poly = PolynomialFeatures(include_bias=False)\n",
        "# degree=2: 기본값. 2차항까지만 고려.\n",
        "# interaction_only=False: 기본값. x1^2, x2^2, x1*x2, ... 등을 모두 추가.\n",
        "#   True로 설정하면 제곱항들은 무시되고, interaction 항들만 추가됨."
      ],
      "metadata": {
        "id": "zc0G5DeaRO5P"
      },
      "execution_count": 44,
      "outputs": []
    },
    {
      "cell_type": "code",
      "source": [
        "result = poly.fit_transform(X_tr)"
      ],
      "metadata": {
        "id": "EresvUMqYS1o"
      },
      "execution_count": 45,
      "outputs": []
    },
    {
      "cell_type": "code",
      "source": [
        "result[:2]"
      ],
      "metadata": {
        "colab": {
          "base_uri": "https://localhost:8080/"
        },
        "id": "f6xXtHGnYaon",
        "outputId": "be999409-7fa3-46b3-a299-e097fe86e761"
      },
      "execution_count": 46,
      "outputs": [
        {
          "output_type": "execute_result",
          "data": {
            "text/plain": [
              "array([[ 19.6       ,  20.8       ,   5.1376    ,   3.0368    ,\n",
              "        384.16      , 407.68      , 100.69696   ,  59.52128   ,\n",
              "        432.64      , 106.86208   ,  63.16544   ,  26.39493376,\n",
              "         15.60186368,   9.22215424],\n",
              "       [ 22.        ,  23.5       ,   5.875     ,   3.525     ,\n",
              "        484.        , 517.        , 129.25      ,  77.55      ,\n",
              "        552.25      , 138.0625    ,  82.8375    ,  34.515625  ,\n",
              "         20.709375  ,  12.425625  ]])"
            ]
          },
          "metadata": {},
          "execution_count": 46
        }
      ]
    },
    {
      "cell_type": "code",
      "source": [
        "poly.get_feature_names_out()"
      ],
      "metadata": {
        "colab": {
          "base_uri": "https://localhost:8080/"
        },
        "id": "rMVFauMgYrqA",
        "outputId": "206f43a5-0f40-4c71-875a-4855323dea70"
      },
      "execution_count": 47,
      "outputs": [
        {
          "output_type": "execute_result",
          "data": {
            "text/plain": [
              "array(['x0', 'x1', 'x2', 'x3', 'x0^2', 'x0 x1', 'x0 x2', 'x0 x3', 'x1^2',\n",
              "       'x1 x2', 'x1 x3', 'x2^2', 'x2 x3', 'x3^2'], dtype=object)"
            ]
          },
          "metadata": {},
          "execution_count": 47
        }
      ]
    },
    {
      "cell_type": "code",
      "source": [
        "poly = PolynomialFeatures(interaction_only=True, include_bias=False)"
      ],
      "metadata": {
        "id": "2GekpQrcZblR"
      },
      "execution_count": 48,
      "outputs": []
    },
    {
      "cell_type": "code",
      "source": [
        "result = poly.fit_transform(X_tr)"
      ],
      "metadata": {
        "id": "LCXWAoWiZg74"
      },
      "execution_count": 49,
      "outputs": []
    },
    {
      "cell_type": "code",
      "source": [
        "result[:2]"
      ],
      "metadata": {
        "colab": {
          "base_uri": "https://localhost:8080/"
        },
        "id": "My1ur9quZlJv",
        "outputId": "0f66531e-2bbf-4b31-81aa-3ffde5a1c194"
      },
      "execution_count": 50,
      "outputs": [
        {
          "output_type": "execute_result",
          "data": {
            "text/plain": [
              "array([[ 19.6       ,  20.8       ,   5.1376    ,   3.0368    ,\n",
              "        407.68      , 100.69696   ,  59.52128   , 106.86208   ,\n",
              "         63.16544   ,  15.60186368],\n",
              "       [ 22.        ,  23.5       ,   5.875     ,   3.525     ,\n",
              "        517.        , 129.25      ,  77.55      , 138.0625    ,\n",
              "         82.8375    ,  20.709375  ]])"
            ]
          },
          "metadata": {},
          "execution_count": 50
        }
      ]
    },
    {
      "cell_type": "code",
      "source": [
        "poly.get_feature_names_out()"
      ],
      "metadata": {
        "colab": {
          "base_uri": "https://localhost:8080/"
        },
        "id": "KzsdqEctZuzA",
        "outputId": "c10eb19c-1369-4439-9e9e-c1f4b1c414ce"
      },
      "execution_count": 51,
      "outputs": [
        {
          "output_type": "execute_result",
          "data": {
            "text/plain": [
              "array(['x0', 'x1', 'x2', 'x3', 'x0 x1', 'x0 x2', 'x0 x3', 'x1 x2',\n",
              "       'x1 x3', 'x2 x3'], dtype=object)"
            ]
          },
          "metadata": {},
          "execution_count": 51
        }
      ]
    },
    {
      "cell_type": "markdown",
      "source": [
        "## 2차항 추가, Scaling 하지 않는 경우"
      ],
      "metadata": {
        "id": "c2Zx3komadkD"
      }
    },
    {
      "cell_type": "code",
      "source": [
        "poly = PolynomialFeatures(include_bias=False)  # 변환기(transformer) - fit, transform\n",
        "lin_reg = LinearRegression()  # 예측기(estimator) - fit, predict, score\n",
        "# 변환기화 예측기 연결된 파이프라인 -> 머신 러닝 모델\n",
        "model = Pipeline([(\"poly\", poly),\n",
        "                  (\"lin_reg\", lin_reg)])"
      ],
      "metadata": {
        "id": "wkc889iCalQn"
      },
      "execution_count": 52,
      "outputs": []
    },
    {
      "cell_type": "code",
      "source": [
        "model.fit(X_tr, y_tr)  # 모델 훈련\n",
        "# (1) poly.fit_transform(X_tr)  --> (2) lin_reg.fit(X_tr_trans, y_tr)"
      ],
      "metadata": {
        "colab": {
          "base_uri": "https://localhost:8080/"
        },
        "id": "jGIV-w8qbdgh",
        "outputId": "3d65e2d1-604d-44fd-f345-5455ec58dc48"
      },
      "execution_count": 53,
      "outputs": [
        {
          "output_type": "execute_result",
          "data": {
            "text/plain": [
              "Pipeline(steps=[('poly', PolynomialFeatures(include_bias=False)),\n",
              "                ('lin_reg', LinearRegression())])"
            ]
          },
          "metadata": {},
          "execution_count": 53
        }
      ]
    },
    {
      "cell_type": "code",
      "source": [
        "model['poly'].get_feature_names_out()"
      ],
      "metadata": {
        "colab": {
          "base_uri": "https://localhost:8080/"
        },
        "id": "OF5n8e8-bzYI",
        "outputId": "e1a12198-6809-4075-ff3e-dd1fdd72d4fa"
      },
      "execution_count": 54,
      "outputs": [
        {
          "output_type": "execute_result",
          "data": {
            "text/plain": [
              "array(['x0', 'x1', 'x2', 'x3', 'x0^2', 'x0 x1', 'x0 x2', 'x0 x3', 'x1^2',\n",
              "       'x1 x2', 'x1 x3', 'x2^2', 'x2 x3', 'x3^2'], dtype=object)"
            ]
          },
          "metadata": {},
          "execution_count": 54
        }
      ]
    },
    {
      "cell_type": "code",
      "source": [
        "model['lin_reg'].coef_"
      ],
      "metadata": {
        "colab": {
          "base_uri": "https://localhost:8080/"
        },
        "id": "wEmEIAJFcZap",
        "outputId": "c8535b08-e938-4b7a-a866-29f0fb24c5e6"
      },
      "execution_count": 55,
      "outputs": [
        {
          "output_type": "execute_result",
          "data": {
            "text/plain": [
              "array([ -50.78509594,  124.88041222, -226.27583652, -211.15974936,\n",
              "        219.94801311, -378.27754255, -310.06984107,  301.69060933,\n",
              "        155.92749428,  315.3374506 , -269.45161891,   24.76034853,\n",
              "       -176.24019353,  126.39216926])"
            ]
          },
          "metadata": {},
          "execution_count": 55
        }
      ]
    },
    {
      "cell_type": "code",
      "source": [
        "tr_pred = model.predict(X_tr)  # 훈련 셋 예측값\n",
        "#  (1) poly.transform(X_tr)  -->  (2) lin_reg.predict(X_tr_trans)"
      ],
      "metadata": {
        "id": "DZn3aKF1c4A1"
      },
      "execution_count": 56,
      "outputs": []
    },
    {
      "cell_type": "code",
      "source": [
        "tr_pred[:4]"
      ],
      "metadata": {
        "colab": {
          "base_uri": "https://localhost:8080/"
        },
        "id": "h7MRHo2rdZw_",
        "outputId": "255a2e7e-8367-468d-95b0-09173779914d"
      },
      "execution_count": 57,
      "outputs": [
        {
          "output_type": "execute_result",
          "data": {
            "text/plain": [
              "array([ 86.22462498, 117.8371985 ,  65.36623277,  51.32036181])"
            ]
          },
          "metadata": {},
          "execution_count": 57
        }
      ]
    },
    {
      "cell_type": "code",
      "source": [
        "y_tr[:4]"
      ],
      "metadata": {
        "colab": {
          "base_uri": "https://localhost:8080/"
        },
        "id": "6OYaeNOldc43",
        "outputId": "c95184a6-7b71-4e1d-92cd-5967a30224e1"
      },
      "execution_count": 58,
      "outputs": [
        {
          "output_type": "execute_result",
          "data": {
            "text/plain": [
              "array([ 85., 135.,  78.,  70.])"
            ]
          },
          "metadata": {},
          "execution_count": 58
        }
      ]
    },
    {
      "cell_type": "code",
      "source": [
        "# 훈련 셋 평가 점수\n",
        "print('MSE:', mean_squared_error(y_tr, tr_pred))\n",
        "print('r2:', r2_score(y_tr, tr_pred))"
      ],
      "metadata": {
        "colab": {
          "base_uri": "https://localhost:8080/"
        },
        "id": "CunRjZ-adiuu",
        "outputId": "d95ea0ed-0171-4e6f-a39a-c722c4f641ee"
      },
      "execution_count": 59,
      "outputs": [
        {
          "output_type": "stream",
          "name": "stdout",
          "text": [
            "MSE: 986.5134830835684\n",
            "r2: 0.9920055538341062\n"
          ]
        }
      ]
    },
    {
      "cell_type": "code",
      "source": [
        "# 테스트 셋 예측\n",
        "te_pred = model.predict(X_te)"
      ],
      "metadata": {
        "id": "XEXb4syHds9g"
      },
      "execution_count": 60,
      "outputs": []
    },
    {
      "cell_type": "code",
      "source": [
        "# 테스트 셋 평가 점수\n",
        "print('MSE:', mean_squared_error(y_te, te_pred))\n",
        "print('r2:', r2_score(y_te, te_pred))"
      ],
      "metadata": {
        "colab": {
          "base_uri": "https://localhost:8080/"
        },
        "id": "qdyRkEMNeFAQ",
        "outputId": "60516a5e-cfff-47b5-e878-fa2291616cd8"
      },
      "execution_count": 61,
      "outputs": [
        {
          "output_type": "stream",
          "name": "stdout",
          "text": [
            "MSE: 5092.809112559572\n",
            "r2: 0.9492609601552375\n"
          ]
        }
      ]
    },
    {
      "cell_type": "markdown",
      "source": [
        "## 2차항 추가, Scaling 하는 경우"
      ],
      "metadata": {
        "id": "AiB4T466h9XH"
      }
    },
    {
      "cell_type": "code",
      "source": [
        "# 모델 생성\n",
        "model = Pipeline([('poly', PolynomialFeatures(include_bias=False)),\n",
        "                  ('scaler', StandardScaler()),\n",
        "                  ('reg', LinearRegression())])"
      ],
      "metadata": {
        "id": "EIGC1_d2ePw3"
      },
      "execution_count": 65,
      "outputs": []
    },
    {
      "cell_type": "code",
      "source": [
        "# 모델 훈련: \n",
        "# poly.fit_transform(X_tr) -> scaler.fit_transform(X_tr_p) -> reg.fit(X_tr_p_s, y_tr)\n",
        "model.fit(X_tr, y_tr)"
      ],
      "metadata": {
        "colab": {
          "base_uri": "https://localhost:8080/"
        },
        "id": "X_9pCYaloyBI",
        "outputId": "07bb647f-1640-45f5-e51e-48e111b7814e"
      },
      "execution_count": 67,
      "outputs": [
        {
          "output_type": "execute_result",
          "data": {
            "text/plain": [
              "Pipeline(steps=[('poly', PolynomialFeatures(include_bias=False)),\n",
              "                ('scaler', StandardScaler()), ('reg', LinearRegression())])"
            ]
          },
          "metadata": {},
          "execution_count": 67
        }
      ]
    },
    {
      "cell_type": "code",
      "source": [
        "# 훈련 셋 예측, 평가\n",
        "# poly.transform(X_tr) -> scaler.transform(X_tr_p) -> reg.predict(X_tr_p_s)\n",
        "tr_pred = model.predict(X_tr)\n",
        "print('mse:', mean_squared_error(y_tr, tr_pred))\n",
        "print('r2:', r2_score(y_tr, tr_pred))"
      ],
      "metadata": {
        "colab": {
          "base_uri": "https://localhost:8080/"
        },
        "id": "OoJyDYCHo0bu",
        "outputId": "f25c26c1-3c94-4048-a6ca-2f9c32d27a51"
      },
      "execution_count": 68,
      "outputs": [
        {
          "output_type": "stream",
          "name": "stdout",
          "text": [
            "mse: 986.5134830823616\n",
            "r2: 0.9920055538341159\n"
          ]
        }
      ]
    },
    {
      "cell_type": "code",
      "source": [
        "# 테스트 셋 예측, 평가\n",
        "te_pred = model.predict(X_te)\n",
        "print('mse:', mean_squared_error(y_te, te_pred))\n",
        "print('r2:', r2_score(y_te, te_pred))"
      ],
      "metadata": {
        "colab": {
          "base_uri": "https://localhost:8080/"
        },
        "id": "ekCPFsnmqadv",
        "outputId": "59895c04-7ec0-4f35-fde8-5f4d5df27546"
      },
      "execution_count": 69,
      "outputs": [
        {
          "output_type": "stream",
          "name": "stdout",
          "text": [
            "mse: 5092.809112554763\n",
            "r2: 0.9492609601552854\n"
          ]
        }
      ]
    },
    {
      "cell_type": "markdown",
      "source": [
        "# 5차항까지 추가, Scaling하는 경우"
      ],
      "metadata": {
        "id": "ZhZ7ttzOidnX"
      }
    },
    {
      "cell_type": "code",
      "source": [
        "model = Pipeline([('poly', PolynomialFeatures(degree=5, include_bias=False)),\n",
        "                  ('scaler', StandardScaler()),\n",
        "                  ('reg', LinearRegression())])"
      ],
      "metadata": {
        "id": "oJbi_plqimjA"
      },
      "execution_count": 70,
      "outputs": []
    },
    {
      "cell_type": "code",
      "source": [
        "model.fit(X_tr, y_tr)"
      ],
      "metadata": {
        "colab": {
          "base_uri": "https://localhost:8080/"
        },
        "id": "vOZhOp4e91ee",
        "outputId": "6a34c0b5-7f28-4627-be9f-c0b8c5578b51"
      },
      "execution_count": 71,
      "outputs": [
        {
          "output_type": "execute_result",
          "data": {
            "text/plain": [
              "Pipeline(steps=[('poly', PolynomialFeatures(degree=5, include_bias=False)),\n",
              "                ('scaler', StandardScaler()), ('reg', LinearRegression())])"
            ]
          },
          "metadata": {},
          "execution_count": 71
        }
      ]
    },
    {
      "cell_type": "code",
      "source": [
        "model['poly'].get_feature_names_out()"
      ],
      "metadata": {
        "colab": {
          "base_uri": "https://localhost:8080/"
        },
        "id": "7ZEpsc7a95yG",
        "outputId": "20583a6f-b582-4b15-c8f3-1d63da8736c3"
      },
      "execution_count": 72,
      "outputs": [
        {
          "output_type": "execute_result",
          "data": {
            "text/plain": [
              "array(['x0', 'x1', 'x2', 'x3', 'x0^2', 'x0 x1', 'x0 x2', 'x0 x3', 'x1^2',\n",
              "       'x1 x2', 'x1 x3', 'x2^2', 'x2 x3', 'x3^2', 'x0^3', 'x0^2 x1',\n",
              "       'x0^2 x2', 'x0^2 x3', 'x0 x1^2', 'x0 x1 x2', 'x0 x1 x3', 'x0 x2^2',\n",
              "       'x0 x2 x3', 'x0 x3^2', 'x1^3', 'x1^2 x2', 'x1^2 x3', 'x1 x2^2',\n",
              "       'x1 x2 x3', 'x1 x3^2', 'x2^3', 'x2^2 x3', 'x2 x3^2', 'x3^3',\n",
              "       'x0^4', 'x0^3 x1', 'x0^3 x2', 'x0^3 x3', 'x0^2 x1^2', 'x0^2 x1 x2',\n",
              "       'x0^2 x1 x3', 'x0^2 x2^2', 'x0^2 x2 x3', 'x0^2 x3^2', 'x0 x1^3',\n",
              "       'x0 x1^2 x2', 'x0 x1^2 x3', 'x0 x1 x2^2', 'x0 x1 x2 x3',\n",
              "       'x0 x1 x3^2', 'x0 x2^3', 'x0 x2^2 x3', 'x0 x2 x3^2', 'x0 x3^3',\n",
              "       'x1^4', 'x1^3 x2', 'x1^3 x3', 'x1^2 x2^2', 'x1^2 x2 x3',\n",
              "       'x1^2 x3^2', 'x1 x2^3', 'x1 x2^2 x3', 'x1 x2 x3^2', 'x1 x3^3',\n",
              "       'x2^4', 'x2^3 x3', 'x2^2 x3^2', 'x2 x3^3', 'x3^4', 'x0^5',\n",
              "       'x0^4 x1', 'x0^4 x2', 'x0^4 x3', 'x0^3 x1^2', 'x0^3 x1 x2',\n",
              "       'x0^3 x1 x3', 'x0^3 x2^2', 'x0^3 x2 x3', 'x0^3 x3^2', 'x0^2 x1^3',\n",
              "       'x0^2 x1^2 x2', 'x0^2 x1^2 x3', 'x0^2 x1 x2^2', 'x0^2 x1 x2 x3',\n",
              "       'x0^2 x1 x3^2', 'x0^2 x2^3', 'x0^2 x2^2 x3', 'x0^2 x2 x3^2',\n",
              "       'x0^2 x3^3', 'x0 x1^4', 'x0 x1^3 x2', 'x0 x1^3 x3', 'x0 x1^2 x2^2',\n",
              "       'x0 x1^2 x2 x3', 'x0 x1^2 x3^2', 'x0 x1 x2^3', 'x0 x1 x2^2 x3',\n",
              "       'x0 x1 x2 x3^2', 'x0 x1 x3^3', 'x0 x2^4', 'x0 x2^3 x3',\n",
              "       'x0 x2^2 x3^2', 'x0 x2 x3^3', 'x0 x3^4', 'x1^5', 'x1^4 x2',\n",
              "       'x1^4 x3', 'x1^3 x2^2', 'x1^3 x2 x3', 'x1^3 x3^2', 'x1^2 x2^3',\n",
              "       'x1^2 x2^2 x3', 'x1^2 x2 x3^2', 'x1^2 x3^3', 'x1 x2^4',\n",
              "       'x1 x2^3 x3', 'x1 x2^2 x3^2', 'x1 x2 x3^3', 'x1 x3^4', 'x2^5',\n",
              "       'x2^4 x3', 'x2^3 x3^2', 'x2^2 x3^3', 'x2 x3^4', 'x3^5'],\n",
              "      dtype=object)"
            ]
          },
          "metadata": {},
          "execution_count": 72
        }
      ]
    },
    {
      "cell_type": "code",
      "source": [
        "model['reg'].coef_"
      ],
      "metadata": {
        "colab": {
          "base_uri": "https://localhost:8080/"
        },
        "id": "qOtIwPI49-Et",
        "outputId": "6c0a0250-0ed3-4b2e-eb2f-23d500c89de2"
      },
      "execution_count": 73,
      "outputs": [
        {
          "output_type": "execute_result",
          "data": {
            "text/plain": [
              "array([ -133743.21143773,  -196099.10964875,   194549.30851684,\n",
              "          25557.55907496,   831847.05444447,   243410.82627434,\n",
              "        -790540.27537465,  -204934.16235738,   577307.10721961,\n",
              "          31185.90278828,    65312.22122636,  -689008.34337861,\n",
              "         654427.01492652,  -237250.88149414,  -281636.56846688,\n",
              "        -635944.42974516,   267762.92287007,   479362.69557319,\n",
              "        -684257.25954732,   149540.9080415 ,   225790.8099954 ,\n",
              "        -376013.08755925,  -118282.35170492, -1506295.26165139,\n",
              "        -425085.9424367 ,   371629.95158413,   348130.61825541,\n",
              "        -273807.89599778,    50424.23204717, -1023225.68809509,\n",
              "        1100902.01951553,   650412.73879288,  -394345.91057271,\n",
              "        1283341.46831935,  -307155.45141552,  -443247.11078211,\n",
              "         555682.07137427,  1057475.91653877,  -489359.41632248,\n",
              "         362527.54219546,   809931.35776582,   286096.30016696,\n",
              "         406795.47537258,  -197336.8940489 ,  -444740.05014186,\n",
              "         279312.32291294,   693604.86399524,    72415.02700665,\n",
              "         236630.3011507 ,  -255147.09152932,  -385873.16443503,\n",
              "          13913.37649417,  -574688.43819229,  -262169.3743669 ,\n",
              "        -308551.64120176,   306957.74884774,   709500.55169262,\n",
              "         -14009.31328077,   212818.17338688,  -144443.57593312,\n",
              "        -520205.34327747,   -68497.59556929,  -485709.93781939,\n",
              "          47989.73336431,  -139107.46319488,  -211412.2924182 ,\n",
              "        -597399.59199753,  -483039.51512815,   887032.51333954,\n",
              "         -66961.15677661,    -6576.57474627,  -155774.09415274,\n",
              "         317367.4793433 ,    60664.11759611,  -163556.27092168,\n",
              "         228022.47734135,    37857.94687702,  -337875.68690677,\n",
              "        -215995.28526243,   135221.11059575,  -152815.24188125,\n",
              "         170406.45782748,     6606.82635989,  -406419.68589277,\n",
              "        -321582.30329151,   117818.36771731,   -97369.40439697,\n",
              "        -320540.48869822,    77018.88666682,   217605.78362287,\n",
              "        -123026.67372186,   145145.21234983,     4889.04087927,\n",
              "        -433187.05346112,  -371265.96656845,   141056.27266822,\n",
              "        -113714.21918653,  -347737.71974915,    32706.27936736,\n",
              "          51032.93662577,   118119.99834739,   242328.11389569,\n",
              "         404124.5964963 ,   569670.78989956,   308380.58115068,\n",
              "         -73614.23932038,   152913.56298744,    33243.51408868,\n",
              "        -417552.57409829,  -364315.71782701,   204285.10533637,\n",
              "         -79090.83621352,  -311041.56812865,    66577.35172048,\n",
              "         232580.72790219,   215828.20993653,   311759.85263211,\n",
              "         464426.86256104,   606266.17510267,  -180096.24239363,\n",
              "        -272805.0973295 ,   125193.37766411,   480112.80825544,\n",
              "         184769.38756866, -1316978.94408817])"
            ]
          },
          "metadata": {},
          "execution_count": 73
        }
      ]
    },
    {
      "cell_type": "code",
      "source": [
        "tr_pred = model.predict(X_tr)\n",
        "print('train mse:', mean_squared_error(y_tr, tr_pred))\n",
        "print('train r2:', r2_score(y_tr, tr_pred))"
      ],
      "metadata": {
        "colab": {
          "base_uri": "https://localhost:8080/"
        },
        "id": "PHHYQ8kR-hN-",
        "outputId": "059ed05d-c2d9-4f80-d7c9-5773a3b3ef8c"
      },
      "execution_count": 74,
      "outputs": [
        {
          "output_type": "stream",
          "name": "stdout",
          "text": [
            "train mse: 4.351506028418873e-17\n",
            "train r2: 1.0\n"
          ]
        }
      ]
    },
    {
      "cell_type": "code",
      "source": [
        "print(y_tr[:5])\n",
        "print(tr_pred[:5])"
      ],
      "metadata": {
        "colab": {
          "base_uri": "https://localhost:8080/"
        },
        "id": "_Fq_w4vC-180",
        "outputId": "4e5777f2-5fee-4714-ae92-db0cb6e7d71d"
      },
      "execution_count": 75,
      "outputs": [
        {
          "output_type": "stream",
          "name": "stdout",
          "text": [
            "[ 85. 135.  78.  70. 700.]\n",
            "[ 85.         135.00000001  78.00000001  70.         700.        ]\n"
          ]
        }
      ]
    },
    {
      "cell_type": "code",
      "source": [
        "te_pred = model.predict(X_te)\n",
        "print('test mse:', mean_squared_error(y_te, te_pred))\n",
        "print('test r2:', r2_score(y_te, te_pred))"
      ],
      "metadata": {
        "colab": {
          "base_uri": "https://localhost:8080/"
        },
        "id": "y_3_k-MZ_HBv",
        "outputId": "b7d80dd0-a230-43e2-878b-e595f2aedb34"
      },
      "execution_count": 76,
      "outputs": [
        {
          "output_type": "stream",
          "name": "stdout",
          "text": [
            "test mse: 14199476.804941649\n",
            "test r2: -140.46766616560245\n"
          ]
        }
      ]
    },
    {
      "cell_type": "markdown",
      "source": [
        "5차항까지 고려했을 때 선형 회귀 모델은 과대적합이 너무 심한 모델.\n",
        "\n",
        "-> 일반화 성능이 안 좋음."
      ],
      "metadata": {
        "id": "rW8TyUYt_0Mu"
      }
    },
    {
      "cell_type": "markdown",
      "source": [
        "# 규제가 없는 선형 회귀 - 과대적합"
      ],
      "metadata": {
        "id": "T5BFllo4BX_1"
      }
    },
    {
      "cell_type": "code",
      "source": [
        "X = perch[['Length']].values.copy()\n",
        "y = perch['Weight'].values.copy()"
      ],
      "metadata": {
        "id": "QXjjUuO3_Vi1"
      },
      "execution_count": 77,
      "outputs": []
    },
    {
      "cell_type": "code",
      "source": [
        "X.shape, y.shape"
      ],
      "metadata": {
        "colab": {
          "base_uri": "https://localhost:8080/"
        },
        "id": "I7gHBMDwBteF",
        "outputId": "8569781b-5326-4dbc-93e3-fa22fd5ca417"
      },
      "execution_count": 78,
      "outputs": [
        {
          "output_type": "execute_result",
          "data": {
            "text/plain": [
              "((56, 1), (56,))"
            ]
          },
          "metadata": {},
          "execution_count": 78
        }
      ]
    },
    {
      "cell_type": "code",
      "source": [
        "X_tr, X_te, y_tr, y_te = train_test_split(X, y,\n",
        "                                          test_size=0.25,\n",
        "                                          random_state=42)"
      ],
      "metadata": {
        "id": "KKuDdjq2BwZW"
      },
      "execution_count": 79,
      "outputs": []
    },
    {
      "cell_type": "code",
      "source": [
        "# 모델 생성\n",
        "model = Pipeline([('poly', PolynomialFeatures(degree=1, include_bias=False)),\n",
        "                  ('scaler', StandardScaler()),\n",
        "                  ('reg', LinearRegression())])"
      ],
      "metadata": {
        "id": "yjZPAnTvB67F"
      },
      "execution_count": 98,
      "outputs": []
    },
    {
      "cell_type": "code",
      "source": [
        "# 모델 훈련\n",
        "model.fit(X_tr, y_tr)"
      ],
      "metadata": {
        "colab": {
          "base_uri": "https://localhost:8080/"
        },
        "id": "vXSo6P4HCmmX",
        "outputId": "6d492722-f491-464f-ff52-15d63d24916b"
      },
      "execution_count": 99,
      "outputs": [
        {
          "output_type": "execute_result",
          "data": {
            "text/plain": [
              "Pipeline(steps=[('poly', PolynomialFeatures(degree=1, include_bias=False)),\n",
              "                ('scaler', StandardScaler()), ('reg', LinearRegression())])"
            ]
          },
          "metadata": {},
          "execution_count": 99
        }
      ]
    },
    {
      "cell_type": "code",
      "source": [
        "model['reg'].coef_"
      ],
      "metadata": {
        "colab": {
          "base_uri": "https://localhost:8080/"
        },
        "id": "-E3XVqShCpX1",
        "outputId": "15203861-a889-40d4-f19e-54057a45ad99"
      },
      "execution_count": 100,
      "outputs": [
        {
          "output_type": "execute_result",
          "data": {
            "text/plain": [
              "array([340.55381311])"
            ]
          },
          "metadata": {},
          "execution_count": 100
        }
      ]
    },
    {
      "cell_type": "code",
      "source": [
        "# 훈련 셋 산점도\n",
        "plt.scatter(X_tr, y_tr, alpha=0.5, label='train', color='darkgray')\n",
        "\n",
        "# 테스트 셋 산점도\n",
        "plt.scatter(X_te, y_te, alpha=0.5, label='test', color='crimson')\n",
        "\n",
        "# 선형 회귀 곡선 시각화\n",
        "X_vals = np.arange(10, 45, 0.001).reshape((-1, 1))\n",
        "y_vals = model.predict(X_vals)\n",
        "plt.plot(X_vals, y_vals)\n",
        "\n",
        "plt.show()"
      ],
      "metadata": {
        "colab": {
          "base_uri": "https://localhost:8080/",
          "height": 265
        },
        "id": "PbJcDygpDHft",
        "outputId": "6a91e88f-eb09-41ce-bd6f-2c95ccf5318f"
      },
      "execution_count": 101,
      "outputs": [
        {
          "output_type": "display_data",
          "data": {
            "text/plain": [
              "<Figure size 432x288 with 1 Axes>"
            ],
            "image/png": "[encoded data removed]"
          },
          "metadata": {
            "needs_background": "light"
          }
        }
      ]
    },
    {
      "cell_type": "code",
      "source": [
        "def visualize_regression(X_tr, y_tr, X_te, y_te, degrees, estimator):\n",
        "    plt.figure(figsize=(10, 10))\n",
        "    # 훈련 셋 산점도\n",
        "    plt.scatter(X_tr, y_tr, color='darkgray', alpha=0.5)\n",
        "    # 테스트 셋 산점도\n",
        "    plt.scatter(X_te, y_te, color='orange', alpha=0.5)\n",
        "\n",
        "    # degree=(1, 2, 5, 10)에 대해서 반복\n",
        "    for d in degrees:\n",
        "        # Pipeline(Polynomial -> Scaler -> Regressor) 생성\n",
        "        model = Pipeline([('poly', PolynomialFeatures(degree=d, include_bias=False)),\n",
        "                        ('scaler', StandardScaler()),\n",
        "                        ('reg', estimator)])\n",
        "        # 모델을 훈련 데이터로 학습시킴.\n",
        "        model.fit(X_tr, y_tr)\n",
        "        print('degree =', d, ':', model['reg'].coef_)\n",
        "        # 회귀식을 시각화하기 위해서\n",
        "        X_vals = np.arange(10, 45, 0.001).reshape((-1, 1))  # 회귀식 시각화 필요한 x좌표\n",
        "        y_vals = model.predict(X_vals)  # 회귀식 시각화 필요한 y좌표\n",
        "        plt.plot(X_vals, y_vals, label=f'degree={d}')\n",
        "\n",
        "    plt.legend()\n",
        "    plt.grid()\n",
        "    plt.ylim((-100, 1200))\n",
        "    plt.show()"
      ],
      "metadata": {
        "id": "UtrH-gyfOPYQ"
      },
      "execution_count": 115,
      "outputs": []
    },
    {
      "cell_type": "code",
      "source": [
        "degrees = (1, 2, 5, 50)\n",
        "estimator = LinearRegression()\n",
        "visualize_regression(X_tr, y_tr, X_te, y_te, degrees, estimator)"
      ],
      "metadata": {
        "colab": {
          "base_uri": "https://localhost:8080/",
          "height": 911
        },
        "id": "VGTR-CWXVWbG",
        "outputId": "e3804a3f-d72e-424c-a026-eee0a54bc477"
      },
      "execution_count": 117,
      "outputs": [
        {
          "output_type": "stream",
          "name": "stdout",
          "text": [
            "degree = 1 : [340.55381311]\n",
            "degree = 2 : [-188.16429447  532.30423546]\n",
            "degree = 5 : [ 1090.51349849 -4377.12096334  5960.80924384 -2038.47216236\n",
            "  -298.04297802]\n",
            "degree = 50 : [ 6.98882833e+11 -1.00258489e+13  6.60296042e+13 -2.55034855e+14\n",
            "  6.09952960e+14 -8.49257804e+14  4.52273759e+14  4.19689312e+14\n",
            " -5.51591443e+14 -3.28854741e+14  4.59197104e+14  4.64717683e+14\n",
            " -2.50299728e+14 -5.52393976e+14 -1.60092632e+14  3.91786172e+14\n",
            "  5.11210317e+14  7.31510052e+13 -3.53270642e+14 -4.94712910e+14\n",
            " -1.96230307e+14  2.13080773e+14  4.96213319e+14  3.80309385e+14\n",
            "  1.75066814e+13 -3.44230648e+14 -4.87250016e+14 -3.02344800e+14\n",
            "  2.62593791e+13  3.30040038e+14  4.73494550e+14  3.40422044e+14\n",
            "  2.18521947e+13 -3.08247209e+14 -4.73280892e+14 -3.86850938e+14\n",
            " -8.61310505e+13  2.56242683e+14  4.63841120e+14  4.23130930e+14\n",
            "  1.23033768e+14 -2.34060437e+14 -4.83471867e+14 -4.17931846e+14\n",
            " -4.03199922e+13  4.12817710e+14  5.76576966e+14  1.26944300e+13\n",
            " -7.83101811e+14  3.32763612e+14]\n"
          ]
        },
        {
          "output_type": "display_data",
          "data": {
            "text/plain": [
              "<Figure size 720x720 with 1 Axes>"
            ],
            "image/png": "[encoded data removed]"
          },
          "metadata": {
            "needs_background": "light"
          }
        }
      ]
    },
    {
      "cell_type": "markdown",
      "source": [
        "# 규제(regularization)"
      ],
      "metadata": {
        "id": "EG89A8n3XdLX"
      }
    },
    {
      "cell_type": "markdown",
      "source": [
        "\n",
        "* 머신 러닝의 목적은 목적 함수(objective function)/비용 함수(cost function)/손실 함수(loss function)을 최소화하는 것.\n",
        "\n",
        "\n",
        "* 선형 회귀(linear regression)의 목적은 MSE(mean_squared_error)를 최소로 만드는 계수들($w_0, ..., w_m$)을 찾는 것. 즉, 선형 회귀의 목적 함수는 MSE(w).\n",
        "$$\n",
        "J(w) = MSE(w) \n",
        "     = \\dfrac{1}{N} \\sum_{i=1}^{N} (y_i - \\hat{y_i})^2 \n",
        "     = \\dfrac{1}{N} \\sum_{i=1}^{N} (y_i - (w_0 + \\sum_{j=1}^{m} w_{j} \\cdot x_{ij}))^2\n",
        "$$\n",
        "    * N: 샘플의 개수(DataFrame의 row의 개수)\n",
        "    * m: 특성의 개수(DataFrame의 column의 개수)\n",
        "    * $y_i$: `i`번째 샘플의 실젯값\n",
        "    * $\\hat{y_i}$: `i`번째 샘플의 예측값\n",
        "    * $x_{ij}$: `i`번째 샘플의 `j`번째 특성 값\n",
        "    * $w_j$: `j`번째 특성에 곱해주는 계수(기울기)\n",
        "\n",
        "* Ridge(`l2`) 규제의 목적은 아래의 비용 함수를 최소로 만드는 계수들($w_0, ..., w_m$)을 찾는 것.\n",
        "\n",
        "$$\n",
        "J(w) = MSE(w) + \\dfrac{\\alpha}{2} \\mid\\mid w \\mid\\mid ^2\n",
        "$$\n",
        "\n",
        "> Ridge 규제의 효과는 고차항들의 계수(coefficients, 기울기)를 작게 만들어서 곡선의 기울기를 완만하게 만들어 주게 됨. overfitting(과대적합)을 줄여주게 됨.\n",
        "\n",
        "* Lasso(`l1`) 규제의 목적은 아래의 비용 함수를 최소로 만드는 계수들($w_0, ..., w_m$)을 찾는 것.\n",
        "\n",
        "$$\n",
        "J(w) = MSE(w) + \\alpha \\mid\\mid w \\mid\\mid\n",
        "$$\n",
        "\n",
        "> Lasso 규제는 중요하지 않은 고차항들의 계수를 0으로 만들어 줌으로써, 곡선을 완만하게 만들어 주는 효과가 생김. 과대적합을 줄여주는 효과.\n",
        "\n",
        "* ElasticNet 규제의 목적은 아래의 비용 함수를 최소로 만드는 계수들($w_0, ..., w_m$)을 찾는 것.\n",
        "\n",
        "$$\n",
        "J(w) = MSE(w) + r \\alpha \\mid\\mid w \\mid\\mid \n",
        "              + \\dfrac{1 - r}{2} \\alpha \\mid\\mid w \\mid\\mid ^2\n",
        "$$\n",
        "\n",
        "> ElasticNet은 Ridge 규제와 Lasso 규제의 효과를 모두 가지고 있음.\n",
        "\n",
        "* Ridge, Lasso에서 $\\alpha$ 값이 크면 규제가 강해지고, $\\alpha$ 값이 작으면 규제가 약해짐($ \\alpha \\ge 0 $).\n",
        "* ElasticNet에서 $\\alpha$는 규제의 크기를 의미하고, $r$은 `l1` 규제의 비율($0 \\le r \\le 1$)을 의미함."
      ],
      "metadata": {
        "id": "YjAhoAqAXgmD"
      }
    }
  ]
}