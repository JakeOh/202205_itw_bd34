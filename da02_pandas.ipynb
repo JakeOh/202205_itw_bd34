{
  "nbformat": 4,
  "nbformat_minor": 0,
  "metadata": {
    "colab": {
      "name": "da02_pandas.ipynb",
      "provenance": [],
      "collapsed_sections": [],
      "authorship_tag": "ABX9TyO/IkIP26C+iJSdEl1KmBUj",
      "include_colab_link": true
    },
    "kernelspec": {
      "name": "python3",
      "display_name": "Python 3"
    },
    "language_info": {
      "name": "python"
    }
  },
  "cells": [
    {
      "cell_type": "markdown",
      "metadata": {
        "id": "view-in-github",
        "colab_type": "text"
      },
      "source": [
        "<a href=\"https://colab.research.google.com/github/JakeOh/202205_itw_bd34/blob/main/da02_pandas.ipynb\" target=\"_parent\"><img src=\"https://colab.research.google.com/assets/colab-badge.svg\" alt=\"Open In Colab\"/></a>"
      ]
    },
    {
      "cell_type": "markdown",
      "source": [
        "# 필요한 패키지 임포트"
      ],
      "metadata": {
        "id": "nmi9E68KOavF"
      }
    },
    {
      "cell_type": "code",
      "execution_count": 1,
      "metadata": {
        "id": "BQGLNLWxOUcz"
      },
      "outputs": [],
      "source": [
        "import numpy as np\n",
        "import pandas as pd"
      ]
    },
    {
      "cell_type": "markdown",
      "source": [
        "# Series"
      ],
      "metadata": {
        "id": "p3wTuNSnOkID"
      }
    },
    {
      "cell_type": "markdown",
      "source": [
        "`pd.Series`\n",
        "\n",
        "*   한가지 타입의 값 여러개를 저장할 수 있는 1차원 모양의 데이터 타입(클래스).\n",
        "*   축(axis) 레이블을 가지고 있는 1차원 배열(np.ndarray)\n",
        "    *   정수 기반의 인덱스와 축 레이블을 함께 갖음."
      ],
      "metadata": {
        "id": "zdJSSgwoPEJF"
      }
    },
    {
      "cell_type": "code",
      "source": [
        "s = pd.Series([1, 3, -5, -7])  # pd.Series 생성자 호출 -> pd.Series 클래스의 인스턴스 생성"
      ],
      "metadata": {
        "id": "C96qeBrmOiq1"
      },
      "execution_count": 2,
      "outputs": []
    },
    {
      "cell_type": "code",
      "source": [
        "s"
      ],
      "metadata": {
        "colab": {
          "base_uri": "https://localhost:8080/"
        },
        "id": "TICYkd96QVae",
        "outputId": "66e79098-bcb6-4608-ebf2-8e540e4a8862"
      },
      "execution_count": 3,
      "outputs": [
        {
          "output_type": "execute_result",
          "data": {
            "text/plain": [
              "0    1\n",
              "1    3\n",
              "2   -5\n",
              "3   -7\n",
              "dtype: int64"
            ]
          },
          "metadata": {},
          "execution_count": 3
        }
      ]
    },
    {
      "cell_type": "code",
      "source": [
        "type(s)"
      ],
      "metadata": {
        "colab": {
          "base_uri": "https://localhost:8080/"
        },
        "id": "PfYs1lpCQZtc",
        "outputId": "a426447d-a970-42a6-8f44-23c221c80334"
      },
      "execution_count": 4,
      "outputs": [
        {
          "output_type": "execute_result",
          "data": {
            "text/plain": [
              "pandas.core.series.Series"
            ]
          },
          "metadata": {},
          "execution_count": 4
        }
      ]
    },
    {
      "cell_type": "code",
      "source": [
        "s.index  # pd.Series 객체의 index 속성 -> 축 레이블"
      ],
      "metadata": {
        "colab": {
          "base_uri": "https://localhost:8080/"
        },
        "id": "ML4xY7z9RBy0",
        "outputId": "f974af71-318c-4712-fa03-cf93214ec3b2"
      },
      "execution_count": 5,
      "outputs": [
        {
          "output_type": "execute_result",
          "data": {
            "text/plain": [
              "RangeIndex(start=0, stop=4, step=1)"
            ]
          },
          "metadata": {},
          "execution_count": 5
        }
      ]
    },
    {
      "cell_type": "code",
      "source": [
        "s.values  # pd.Series 객체의 values 속성 -> 값들로만 이루어진 np.ndarray"
      ],
      "metadata": {
        "colab": {
          "base_uri": "https://localhost:8080/"
        },
        "id": "6pxLWiC6RK68",
        "outputId": "1b2fe66a-848c-4490-8390-ac6bfd915c95"
      },
      "execution_count": 6,
      "outputs": [
        {
          "output_type": "execute_result",
          "data": {
            "text/plain": [
              "array([ 1,  3, -5, -7])"
            ]
          },
          "metadata": {},
          "execution_count": 6
        }
      ]
    },
    {
      "cell_type": "code",
      "source": [
        "print(s.values)"
      ],
      "metadata": {
        "colab": {
          "base_uri": "https://localhost:8080/"
        },
        "id": "9up3s8y6RhOl",
        "outputId": "99197338-a3a8-47b6-d491-30312fe613a9"
      },
      "execution_count": 7,
      "outputs": [
        {
          "output_type": "stream",
          "name": "stdout",
          "text": [
            "[ 1  3 -5 -7]\n"
          ]
        }
      ]
    },
    {
      "cell_type": "markdown",
      "source": [
        "## indexing, slicing"
      ],
      "metadata": {
        "id": "LUfaLWefR_nD"
      }
    },
    {
      "cell_type": "code",
      "source": [
        "s[0]  # indexing"
      ],
      "metadata": {
        "colab": {
          "base_uri": "https://localhost:8080/"
        },
        "id": "W-GTEmlnRosk",
        "outputId": "247b04a9-1ac6-4317-98da-5fc14258cd27"
      },
      "execution_count": 8,
      "outputs": [
        {
          "output_type": "execute_result",
          "data": {
            "text/plain": [
              "1"
            ]
          },
          "metadata": {},
          "execution_count": 8
        }
      ]
    },
    {
      "cell_type": "code",
      "source": [
        "# s[-1]  #> Error 발생"
      ],
      "metadata": {
        "id": "20MtihGJSEuc"
      },
      "execution_count": null,
      "outputs": []
    },
    {
      "cell_type": "code",
      "source": [
        "s[0:1]  # slicing --> pd.Series"
      ],
      "metadata": {
        "colab": {
          "base_uri": "https://localhost:8080/"
        },
        "id": "W_g6paaJSie8",
        "outputId": "b7f658fe-d575-47c4-8273-3b6c0021d27c"
      },
      "execution_count": 10,
      "outputs": [
        {
          "output_type": "execute_result",
          "data": {
            "text/plain": [
              "0    1\n",
              "dtype: int64"
            ]
          },
          "metadata": {},
          "execution_count": 10
        }
      ]
    },
    {
      "cell_type": "code",
      "source": [
        "s[-2:]"
      ],
      "metadata": {
        "colab": {
          "base_uri": "https://localhost:8080/"
        },
        "id": "HYWomtqsSofi",
        "outputId": "e3827bf2-64c7-4d8a-b520-ea465c70a1ce"
      },
      "execution_count": 12,
      "outputs": [
        {
          "output_type": "execute_result",
          "data": {
            "text/plain": [
              "2   -5\n",
              "3   -7\n",
              "dtype: int64"
            ]
          },
          "metadata": {},
          "execution_count": 12
        }
      ]
    },
    {
      "cell_type": "markdown",
      "source": [
        "## `iloc` vs `loc`"
      ],
      "metadata": {
        "id": "OqbB19fPUvHj"
      }
    },
    {
      "cell_type": "markdown",
      "source": [
        "*   `iloc`: 정수 인덱스 기반으로 원소를 참조.\n",
        "*   `loc`: 축 레이블 기반으로 원소를 참조."
      ],
      "metadata": {
        "id": "rBNqMXdVU1_b"
      }
    },
    {
      "cell_type": "code",
      "source": [
        "s.loc[0]"
      ],
      "metadata": {
        "colab": {
          "base_uri": "https://localhost:8080/"
        },
        "id": "1AomlicYVQT0",
        "outputId": "89abbcf8-3065-4547-bbab-4ec23c076256"
      },
      "execution_count": 13,
      "outputs": [
        {
          "output_type": "execute_result",
          "data": {
            "text/plain": [
              "1"
            ]
          },
          "metadata": {},
          "execution_count": 13
        }
      ]
    },
    {
      "cell_type": "code",
      "source": [
        "s.loc[3]"
      ],
      "metadata": {
        "colab": {
          "base_uri": "https://localhost:8080/"
        },
        "id": "oCFQRve3Vfh8",
        "outputId": "dbd07275-363e-491b-aa51-22a68e546741"
      },
      "execution_count": 14,
      "outputs": [
        {
          "output_type": "execute_result",
          "data": {
            "text/plain": [
              "-7"
            ]
          },
          "metadata": {},
          "execution_count": 14
        }
      ]
    },
    {
      "cell_type": "code",
      "source": [
        "s.iloc[0]"
      ],
      "metadata": {
        "colab": {
          "base_uri": "https://localhost:8080/"
        },
        "id": "yR59MK-SVnTs",
        "outputId": "f9769f76-10d9-44a0-9e18-369e9f5f0a67"
      },
      "execution_count": 15,
      "outputs": [
        {
          "output_type": "execute_result",
          "data": {
            "text/plain": [
              "1"
            ]
          },
          "metadata": {},
          "execution_count": 15
        }
      ]
    },
    {
      "cell_type": "code",
      "source": [
        "print(s.iloc[3])\n",
        "print(s.iloc[-1])"
      ],
      "metadata": {
        "colab": {
          "base_uri": "https://localhost:8080/"
        },
        "id": "n56ylayXVs3b",
        "outputId": "67f1ce54-c3f5-4596-8526-a19c8273953a"
      },
      "execution_count": 17,
      "outputs": [
        {
          "output_type": "stream",
          "name": "stdout",
          "text": [
            "-7\n",
            "-7\n"
          ]
        }
      ]
    },
    {
      "cell_type": "code",
      "source": [
        "s.loc[0:1]"
      ],
      "metadata": {
        "colab": {
          "base_uri": "https://localhost:8080/"
        },
        "id": "hd8A_-C-VzIb",
        "outputId": "a89ac978-b83c-46b1-b820-504cfaa28aff"
      },
      "execution_count": 18,
      "outputs": [
        {
          "output_type": "execute_result",
          "data": {
            "text/plain": [
              "0    1\n",
              "1    3\n",
              "dtype: int64"
            ]
          },
          "metadata": {},
          "execution_count": 18
        }
      ]
    },
    {
      "cell_type": "code",
      "source": [
        "s.iloc[0:1]"
      ],
      "metadata": {
        "colab": {
          "base_uri": "https://localhost:8080/"
        },
        "id": "3YKDZCl5WHFE",
        "outputId": "bf1d3ed2-1199-4561-d8d5-2a42d0e64920"
      },
      "execution_count": 19,
      "outputs": [
        {
          "output_type": "execute_result",
          "data": {
            "text/plain": [
              "0    1\n",
              "dtype: int64"
            ]
          },
          "metadata": {},
          "execution_count": 19
        }
      ]
    }
  ]
}