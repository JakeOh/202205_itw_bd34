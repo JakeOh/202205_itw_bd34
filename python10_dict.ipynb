{
  "nbformat": 4,
  "nbformat_minor": 0,
  "metadata": {
    "colab": {
      "name": "python10_dict.ipynb",
      "provenance": [],
      "collapsed_sections": [],
      "authorship_tag": "ABX9TyPKs6OdGxWyRjEEjk6iapPD",
      "include_colab_link": true
    },
    "kernelspec": {
      "name": "python3",
      "display_name": "Python 3"
    },
    "language_info": {
      "name": "python"
    }
  },
  "cells": [
    {
      "cell_type": "markdown",
      "metadata": {
        "id": "view-in-github",
        "colab_type": "text"
      },
      "source": [
        "<a href=\"https://colab.research.google.com/github/JakeOh/202205_itw_bd34/blob/main/python10_dict.ipynb\" target=\"_parent\"><img src=\"https://colab.research.google.com/assets/colab-badge.svg\" alt=\"Open In Colab\"/></a>"
      ]
    },
    {
      "cell_type": "markdown",
      "source": [
        "# dict"
      ],
      "metadata": {
        "id": "uMvQ43_8-k6U"
      }
    },
    {
      "cell_type": "markdown",
      "source": [
        "dict:\n",
        "\n",
        "*   사전(dictionary) 형식의 데이터 타입.\n",
        "*   키(key)를 기반으로 값(value)을 저장하는 데이터 타입.\n",
        "    *   list, tuple: 인덱스(index)를 기반으로 값들을 저장하는 데이터 타입.\n",
        "    *   dict 타입에서 key의 역할은 list나 tuple에서의 인덱스와 마찬가지로, dict에 저장되어 있는 유일한 1개의 값을 참조하기 위한 용도.\n",
        "        * dict에서 key는 중복된 값을 허용하지 않음."
      ],
      "metadata": {
        "id": "e9M-fjZ7-qzV"
      }
    },
    {
      "cell_type": "code",
      "execution_count": 1,
      "metadata": {
        "colab": {
          "base_uri": "https://localhost:8080/"
        },
        "id": "vfSef4KT-dtb",
        "outputId": "20f5ec42-ea74-446b-baae-5f968505504c"
      },
      "outputs": [
        {
          "output_type": "stream",
          "name": "stdout",
          "text": [
            "{100: '홍길동', 101: '오쌤', 200: 'Scott'}\n",
            "<class 'dict'>\n"
          ]
        }
      ],
      "source": [
        "students = {100: '홍길동', 101: '오쌤', 200: 'Scott'}  # {key: value}\n",
        "print(students)\n",
        "print(type(students))"
      ]
    },
    {
      "cell_type": "code",
      "source": [
        ""
      ],
      "metadata": {
        "id": "ZTHB_QkmA2aH"
      },
      "execution_count": null,
      "outputs": []
    }
  ]
}