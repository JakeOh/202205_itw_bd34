{
  "nbformat": 4,
  "nbformat_minor": 0,
  "metadata": {
    "colab": {
      "name": "python17_use_module.ipynb",
      "provenance": [],
      "mount_file_id": "1v3I6OF_X2Ekb-zRFCRh_6zgpLs3ma5ML",
      "authorship_tag": "ABX9TyPBHhpLEdQZqVLyjX8IdTbC",
      "include_colab_link": true
    },
    "kernelspec": {
      "name": "python3",
      "display_name": "Python 3"
    },
    "language_info": {
      "name": "python"
    }
  },
  "cells": [
    {
      "cell_type": "markdown",
      "metadata": {
        "id": "view-in-github",
        "colab_type": "text"
      },
      "source": [
        "<a href=\"https://colab.research.google.com/github/JakeOh/202205_itw_bd34/blob/main/python17_use_module.ipynb\" target=\"_parent\"><img src=\"https://colab.research.google.com/assets/colab-badge.svg\" alt=\"Open In Colab\"/></a>"
      ]
    },
    {
      "cell_type": "markdown",
      "source": [
        "# Google Drive 연결(mount, 마운트)"
      ],
      "metadata": {
        "id": "9c7F8z5maK-7"
      }
    },
    {
      "cell_type": "markdown",
      "source": [
        "# Python 실행 환경 패스(path) 설정"
      ],
      "metadata": {
        "id": "gsf3lJzzaSVO"
      }
    },
    {
      "cell_type": "code",
      "execution_count": 1,
      "metadata": {
        "id": "GOQ_2TOtY8dG"
      },
      "outputs": [],
      "source": [
        "import sys"
      ]
    },
    {
      "cell_type": "code",
      "source": [
        "# my_module.py 파일이 저장된 폴더 경로를 python이 인식할 수 있도록 path 설정.\n",
        "sys.path.append('/content/drive/MyDrive/Colab Notebooks/lab_python')"
      ],
      "metadata": {
        "id": "suaKt19ZapAn"
      },
      "execution_count": 2,
      "outputs": []
    },
    {
      "cell_type": "markdown",
      "source": [
        "# module import"
      ],
      "metadata": {
        "id": "Jgb6KoRmbffR"
      }
    },
    {
      "cell_type": "markdown",
      "source": [
        "모듈(module): \n",
        "\n",
        "*   파이썬 코드로 작성된 파일(*.py)\n",
        "*   함수 정의, 클래스 정의, 상수 값.\n"
      ],
      "metadata": {
        "id": "rsdQpAy2bt0x"
      }
    },
    {
      "cell_type": "markdown",
      "source": [
        "## 모듈 이름을 import"
      ],
      "metadata": {
        "id": "s3Pzy84ucmao"
      }
    },
    {
      "cell_type": "code",
      "source": [
        "import my_module"
      ],
      "metadata": {
        "id": "2gJSqdKYbDuw"
      },
      "execution_count": 3,
      "outputs": []
    },
    {
      "cell_type": "code",
      "source": [
        "my_module.add(1, 2)  # my_module.py 모듈에 작성된 add() 함수 호출"
      ],
      "metadata": {
        "colab": {
          "base_uri": "https://localhost:8080/"
        },
        "id": "u2OZJyYlbr6A",
        "outputId": "147000da-aa29-4064-ce2e-20164825202d"
      },
      "execution_count": 4,
      "outputs": [
        {
          "output_type": "execute_result",
          "data": {
            "text/plain": [
              "3"
            ]
          },
          "metadata": {},
          "execution_count": 4
        }
      ]
    },
    {
      "cell_type": "markdown",
      "source": [
        "## 모듈의 특정 함수/클래스 이름을 import"
      ],
      "metadata": {
        "id": "C0NRGaCRc_Oz"
      }
    },
    {
      "cell_type": "code",
      "source": [
        "from my_module import subtract  # my_module 파일에서 함수 subtract만 import"
      ],
      "metadata": {
        "id": "OT1juOJvdHop"
      },
      "execution_count": 5,
      "outputs": []
    },
    {
      "cell_type": "code",
      "source": [
        "subtract(1, 2)"
      ],
      "metadata": {
        "colab": {
          "base_uri": "https://localhost:8080/"
        },
        "id": "N98QMxzGdXmB",
        "outputId": "5a4d3902-4fe1-4d0e-8748-913f71f6c9bc"
      },
      "execution_count": 6,
      "outputs": [
        {
          "output_type": "execute_result",
          "data": {
            "text/plain": [
              "-1"
            ]
          },
          "metadata": {},
          "execution_count": 6
        }
      ]
    },
    {
      "cell_type": "code",
      "source": [
        "t = my_module.Test('오쌤')\n",
        "t.hello()"
      ],
      "metadata": {
        "colab": {
          "base_uri": "https://localhost:8080/"
        },
        "id": "zqBCtyzmd9Jy",
        "outputId": "a30b3592-508f-47ea-8068-d55f08a20f0c"
      },
      "execution_count": 7,
      "outputs": [
        {
          "output_type": "stream",
          "name": "stdout",
          "text": [
            "안녕하세요, 오쌤!\n"
          ]
        }
      ]
    }
  ]
}