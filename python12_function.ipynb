{
  "nbformat": 4,
  "nbformat_minor": 0,
  "metadata": {
    "colab": {
      "name": "python12_function.ipynb",
      "provenance": [],
      "collapsed_sections": [],
      "authorship_tag": "ABX9TyNL0xSU6MHqmcdVuM2RbH1s",
      "include_colab_link": true
    },
    "kernelspec": {
      "name": "python3",
      "display_name": "Python 3"
    },
    "language_info": {
      "name": "python"
    }
  },
  "cells": [
    {
      "cell_type": "markdown",
      "metadata": {
        "id": "view-in-github",
        "colab_type": "text"
      },
      "source": [
        "<a href=\"https://colab.research.google.com/github/JakeOh/202205_itw_bd34/blob/main/python12_function.ipynb\" target=\"_parent\"><img src=\"https://colab.research.google.com/assets/colab-badge.svg\" alt=\"Open In Colab\"/></a>"
      ]
    },
    {
      "cell_type": "markdown",
      "source": [
        "# 함수(Function)"
      ],
      "metadata": {
        "id": "tjou8ip6KBeZ"
      }
    },
    {
      "cell_type": "markdown",
      "source": [
        "*   함수(**function**): 기능을 수행하는 코드 블록.\n",
        "*   인수(**argument**): 함수가 기능을 수행하기 위해서 값이 필요한 경우, 함수를 호출할 때 함수에게 전달하는 값(들).\n",
        "*   매개변수(**parameter**): 함수를 호출할 때 전달하는 값들(argument) 저장하기 위해서 함수를 정의할 때 선언하는 변수.\n",
        "*   반환값(**return value**): 함수가 기능을 수행한 후에 그 결과로 함수를 호출한 곳으로 반환해 주는 값.\n",
        "    *   반환값이 있는 함수도 있고, 반환값이 없는 함수도 있음."
      ],
      "metadata": {
        "id": "czBOgQ3XKHFo"
      }
    },
    {
      "cell_type": "code",
      "execution_count": 1,
      "metadata": {
        "colab": {
          "base_uri": "https://localhost:8080/"
        },
        "id": "l25DVcGJJ62L",
        "outputId": "7e4e1aab-aaf9-4434-c61d-79fb7aa4825d"
      },
      "outputs": [
        {
          "output_type": "stream",
          "name": "stdout",
          "text": [
            "5\n"
          ]
        }
      ],
      "source": [
        "result = len([1, 2, 3, 4, 5])\n",
        "print(result)\n",
        "\n",
        "# 함수: len\n",
        "# argument: [1, 2, 3, 4, 5] -> parameter에 저장되는 값.\n",
        "# 함수 호출: len([1, 2, 3, 4, 5])\n",
        "# 반환값: 5"
      ]
    },
    {
      "cell_type": "code",
      "source": [
        "result = print('안녕하세요.')\n",
        "print(result)\n",
        "\n",
        "# 함수: print\n",
        "# argument: '안녕하세요.'\n",
        "# 함수 호출: print('안녕하세요.')\n",
        "# 반환값: None - print 함수는 기능 수행 중에 아무런 값도 반환하지 않음."
      ],
      "metadata": {
        "colab": {
          "base_uri": "https://localhost:8080/"
        },
        "id": "oYqSf6i8OLE6",
        "outputId": "6f545664-a4df-4598-dab6-b22ffcfb6133"
      },
      "execution_count": 2,
      "outputs": [
        {
          "output_type": "stream",
          "name": "stdout",
          "text": [
            "안녕하세요.\n",
            "None\n"
          ]
        }
      ]
    },
    {
      "cell_type": "markdown",
      "source": [
        "# 함수 정의 방법"
      ],
      "metadata": {
        "id": "GiJM0f35PQb6"
      }
    },
    {
      "cell_type": "markdown",
      "source": [
        "\n",
        "```\n",
        "def function_name([param, ...]):\n",
        "    [\"\"\"문서화 주석(documentation): 함수에 대한 설명\"\"\"]\n",
        "    함수가 수행하는 기능을 코드 블록 작성\n",
        "    [return 반환값]\n",
        "```\n"
      ],
      "metadata": {
        "id": "327-J6kmPUzb"
      }
    },
    {
      "cell_type": "code",
      "source": [
        "def subtract(x, y):\n",
        "    \"\"\"숫자 2개(x, y)를 전달받아서, x-y 결과를 반환.\"\"\"\n",
        "    return x - y"
      ],
      "metadata": {
        "id": "WJWnWcw6OV7b"
      },
      "execution_count": 3,
      "outputs": []
    },
    {
      "cell_type": "code",
      "source": [
        "result = subtract(1, 2)\n",
        "print(result)"
      ],
      "metadata": {
        "colab": {
          "base_uri": "https://localhost:8080/"
        },
        "id": "4749SodQRR3s",
        "outputId": "c590ada7-1528-41c7-919a-915e3f2a2918"
      },
      "execution_count": 4,
      "outputs": [
        {
          "output_type": "stream",
          "name": "stdout",
          "text": [
            "-1\n"
          ]
        }
      ]
    },
    {
      "cell_type": "code",
      "source": [
        "result = subtract(2, 1)\n",
        "print(result)"
      ],
      "metadata": {
        "colab": {
          "base_uri": "https://localhost:8080/"
        },
        "id": "zi71-mt8Slj3",
        "outputId": "667fe4b6-20af-4e87-dece-52776629f2b2"
      },
      "execution_count": 5,
      "outputs": [
        {
          "output_type": "stream",
          "name": "stdout",
          "text": [
            "1\n"
          ]
        }
      ]
    },
    {
      "cell_type": "code",
      "source": [
        "def add(x, y):\n",
        "    \"\"\"두 숫자 x + y의 결과를 반환.\"\"\"\n",
        "    return x + y"
      ],
      "metadata": {
        "id": "TT-8IkNNUy-U"
      },
      "execution_count": 13,
      "outputs": []
    },
    {
      "cell_type": "code",
      "source": [
        "add(1, 3)"
      ],
      "metadata": {
        "colab": {
          "base_uri": "https://localhost:8080/"
        },
        "id": "H76hV3EAXmJ9",
        "outputId": "dd298a65-9723-4ab1-b726-dbbfd34abbd9"
      },
      "execution_count": 14,
      "outputs": [
        {
          "output_type": "execute_result",
          "data": {
            "text/plain": [
              "4"
            ]
          },
          "metadata": {},
          "execution_count": 14
        }
      ]
    },
    {
      "cell_type": "markdown",
      "source": [
        "## 2개 이상의 값을 반환하는 함수"
      ],
      "metadata": {
        "id": "hrRZ9c-Jbe5_"
      }
    },
    {
      "cell_type": "code",
      "source": [
        "def plus_and_minus(x, y):\n",
        "    \"\"\"2개 숫자의 x + y 값과 x - y 값을 반환.\"\"\"\n",
        "    return x + y, x - y"
      ],
      "metadata": {
        "id": "Er5C8ZsIZOCw"
      },
      "execution_count": 17,
      "outputs": []
    },
    {
      "cell_type": "code",
      "source": [
        "result = plus_and_minus(1, 2)\n",
        "print(result)  # 리턴되는 값은 2개 원소를 갖는 tuple"
      ],
      "metadata": {
        "colab": {
          "base_uri": "https://localhost:8080/"
        },
        "id": "8djidfiQZ_5O",
        "outputId": "b169912d-4304-4a90-b80e-261f8bb60aa5"
      },
      "execution_count": 18,
      "outputs": [
        {
          "output_type": "stream",
          "name": "stdout",
          "text": [
            "(3, -1)\n"
          ]
        }
      ]
    },
    {
      "cell_type": "code",
      "source": [
        "a, b = plus_and_minus(1, 2)  # tuple decomposition(분해): a, b = (3, -1)\n",
        "print(a, b)"
      ],
      "metadata": {
        "colab": {
          "base_uri": "https://localhost:8080/"
        },
        "id": "6RlK3Yh9a-In",
        "outputId": "06fc99a7-6cbf-4ecd-87c4-bad10783bbe9"
      },
      "execution_count": 19,
      "outputs": [
        {
          "output_type": "stream",
          "name": "stdout",
          "text": [
            "3 -1\n"
          ]
        }
      ]
    },
    {
      "cell_type": "markdown",
      "source": [
        "## 값을 반환하지 않는 함수"
      ],
      "metadata": {
        "id": "hgpx4u6tbk1v"
      }
    },
    {
      "cell_type": "code",
      "source": [
        "def repeat_message(message, n):\n",
        "    \"\"\"message를 n번 반복해서 출력.\n",
        "    \n",
        "    @param message: str.\n",
        "    @param n: int. 0 또는 양의 정수.\n",
        "    @return: None\n",
        "    \"\"\"\n",
        "    for _ in range(n):\n",
        "        print(message)\n",
        "    \n",
        "    return None\n",
        "    # 반환값이 없는 함수인 경우, 보통 return None 문장은 생략함."
      ],
      "metadata": {
        "id": "9uLKAlvpbrCA"
      },
      "execution_count": 20,
      "outputs": []
    },
    {
      "cell_type": "code",
      "source": [
        "repeat_message('안녕하세요', 3)"
      ],
      "metadata": {
        "colab": {
          "base_uri": "https://localhost:8080/"
        },
        "id": "XjE03EHqdZ2R",
        "outputId": "ea07e38f-81ba-4b38-969b-5c651d7286f4"
      },
      "execution_count": 21,
      "outputs": [
        {
          "output_type": "stream",
          "name": "stdout",
          "text": [
            "안녕하세요\n",
            "안녕하세요\n",
            "안녕하세요\n"
          ]
        }
      ]
    },
    {
      "cell_type": "code",
      "source": [
        "repeat_message('Hello, Python!', 5)\n",
        "print('함수 호출 끝')"
      ],
      "metadata": {
        "colab": {
          "base_uri": "https://localhost:8080/"
        },
        "id": "iuXp2KPuez6J",
        "outputId": "6154b6e7-0477-4d7b-a8cb-b7df713721cd"
      },
      "execution_count": 23,
      "outputs": [
        {
          "output_type": "stream",
          "name": "stdout",
          "text": [
            "Hello, Python!\n",
            "Hello, Python!\n",
            "Hello, Python!\n",
            "Hello, Python!\n",
            "Hello, Python!\n",
            "함수 호출 끝\n"
          ]
        }
      ]
    },
    {
      "cell_type": "markdown",
      "source": [
        "## 함수 정의 연습"
      ],
      "metadata": {
        "id": "R-XqoL9Ogqtp"
      }
    },
    {
      "cell_type": "code",
      "source": [
        "import random"
      ],
      "metadata": {
        "id": "wYBXTnQEhIyl"
      },
      "execution_count": 24,
      "outputs": []
    },
    {
      "cell_type": "markdown",
      "source": [
        "*   함수 이름: make_list\n",
        "*   기능: [start, end) 범위의 정수 난수 n개를 갖는 리스트를 반환."
      ],
      "metadata": {
        "id": "2nisi8THgtB5"
      }
    },
    {
      "cell_type": "code",
      "source": [
        "def make_list(start, end, n):\n",
        "    numbers = []  # n개의 난수를 저장할 빈 리스트\n",
        "    for _ in range(n):  # n번 반복하면서\n",
        "        # [start, end) 범위의 정수 난수를 리스트에 추가\n",
        "        numbers.append(random.randrange(start, end))\n",
        "\n",
        "    return numbers"
      ],
      "metadata": {
        "id": "a4kIRyU9e3JQ"
      },
      "execution_count": 25,
      "outputs": []
    },
    {
      "cell_type": "code",
      "source": [
        "make_list(0, 100, 10)"
      ],
      "metadata": {
        "colab": {
          "base_uri": "https://localhost:8080/"
        },
        "id": "jcUlp48mh_Kp",
        "outputId": "6b31731e-ec54-46bc-dd8e-8eb8164be428"
      },
      "execution_count": 26,
      "outputs": [
        {
          "output_type": "execute_result",
          "data": {
            "text/plain": [
              "[67, 96, 68, 0, 30, 34, 44, 81, 21, 0]"
            ]
          },
          "metadata": {},
          "execution_count": 26
        }
      ]
    },
    {
      "cell_type": "code",
      "source": [
        "make_list(0, 10, 5)"
      ],
      "metadata": {
        "colab": {
          "base_uri": "https://localhost:8080/"
        },
        "id": "e7NrMEhxiNhR",
        "outputId": "54825c48-730c-4dce-faf9-d93511ec04f5"
      },
      "execution_count": 27,
      "outputs": [
        {
          "output_type": "execute_result",
          "data": {
            "text/plain": [
              "[3, 7, 6, 4, 1]"
            ]
          },
          "metadata": {},
          "execution_count": 27
        }
      ]
    },
    {
      "cell_type": "markdown",
      "source": [
        "*   식(expression): 값(literal), 변수 이름, 연산의 결과, 함수 호출 결과\n",
        "    *   1, 'hello'\n",
        "    *   1 + 2, 1 > 2\n",
        "*   문장(statement): 가장 작은 코드 실행 단위.\n",
        "    *   `x = 1`\n",
        "    *   `print(x)`\n",
        "*   식(expression)은 문장(statement)의 일부가 됨.\n",
        "    *   `result = '짝수' if x % 2 == 0 else '홀수'`\n",
        "\n",
        "*   Jupyter notebook: 코드 셀, 콘솔, 텍스트 셀\n",
        "    *   Jupyter notebook의 편의 기능 중에, 코드 셀에서 가장 마지막 줄이 식(expression)인 경우 그 식을 평가(계산)해서 그 값을 콘솔 창에 출력해줌.\n",
        "    *   코드 셀의 가장 마지막이 아닌 줄에 문장이 아니라 식이 있으며, 그 식의 결과는 출력이 되지 않음."
      ],
      "metadata": {
        "id": "EoWAieVUmL71"
      }
    },
    {
      "cell_type": "code",
      "source": [
        "print(1 + 2)  # 식 1 + 2의 결과를 출력하세요."
      ],
      "metadata": {
        "colab": {
          "base_uri": "https://localhost:8080/"
        },
        "id": "tvvRy5YXo8Yc",
        "outputId": "f9557d71-376e-48e1-e9e4-1ae63954861f"
      },
      "execution_count": 34,
      "outputs": [
        {
          "output_type": "stream",
          "name": "stdout",
          "text": [
            "3\n"
          ]
        }
      ]
    },
    {
      "cell_type": "code",
      "source": [
        "1 + 3  # 식 1 + 3"
      ],
      "metadata": {
        "colab": {
          "base_uri": "https://localhost:8080/"
        },
        "id": "SNoKm2QNpKvU",
        "outputId": "dd4434f4-779c-454a-951d-902e6837ac35"
      },
      "execution_count": 35,
      "outputs": [
        {
          "output_type": "execute_result",
          "data": {
            "text/plain": [
              "4"
            ]
          },
          "metadata": {},
          "execution_count": 35
        }
      ]
    },
    {
      "cell_type": "code",
      "source": [
        "1 + 2  # 식\n",
        "1 + 3  # 식\n",
        "1 + 4  # 식"
      ],
      "metadata": {
        "colab": {
          "base_uri": "https://localhost:8080/"
        },
        "id": "ACdFVa5tpZ2s",
        "outputId": "17171b8e-829b-4208-b2be-701540f5e596"
      },
      "execution_count": 36,
      "outputs": [
        {
          "output_type": "execute_result",
          "data": {
            "text/plain": [
              "5"
            ]
          },
          "metadata": {},
          "execution_count": 36
        }
      ]
    },
    {
      "cell_type": "code",
      "source": [
        "print(1 + 2)  # 문장\n",
        "print(1 + 3)  # 문장\n",
        "1 + 4"
      ],
      "metadata": {
        "colab": {
          "base_uri": "https://localhost:8080/"
        },
        "id": "Z97kRugBpwJV",
        "outputId": "61ad9fce-6f41-4ca8-d433-af346520ca31"
      },
      "execution_count": 37,
      "outputs": [
        {
          "output_type": "stream",
          "name": "stdout",
          "text": [
            "3\n",
            "4\n"
          ]
        },
        {
          "output_type": "execute_result",
          "data": {
            "text/plain": [
              "5"
            ]
          },
          "metadata": {},
          "execution_count": 37
        }
      ]
    },
    {
      "cell_type": "code",
      "source": [
        "result = sum([1, 2, 3, 4, 5])  # sum() 함수의 호출 결과를 변수 result에 저장하세요.\n",
        "# print(result)  # 변수 result에 저장된 값을 출력하세요.\n",
        "result  # 식"
      ],
      "metadata": {
        "colab": {
          "base_uri": "https://localhost:8080/"
        },
        "id": "z0SwQ0Dxqkn9",
        "outputId": "e98dca76-2e2e-472e-a53c-9743edc5d746"
      },
      "execution_count": 41,
      "outputs": [
        {
          "output_type": "execute_result",
          "data": {
            "text/plain": [
              "15"
            ]
          },
          "metadata": {},
          "execution_count": 41
        }
      ]
    },
    {
      "cell_type": "code",
      "source": [
        "sum([1, 2, 3, 4])"
      ],
      "metadata": {
        "colab": {
          "base_uri": "https://localhost:8080/"
        },
        "id": "6jIabY2Sr3Yd",
        "outputId": "be27de73-b4eb-48ca-a6b1-a202a5037a14"
      },
      "execution_count": 42,
      "outputs": [
        {
          "output_type": "execute_result",
          "data": {
            "text/plain": [
              "10"
            ]
          },
          "metadata": {},
          "execution_count": 42
        }
      ]
    },
    {
      "cell_type": "markdown",
      "source": [
        "*   함수 이름: word_count\n",
        "*   기능: 문자열들을 원소로 갖는 리스트를 전달받아서, 리스트에 문자열이 몇 번 등장하는 지를 key와 value로 갖는 dictionary를 리턴.\n",
        "\n",
        "```\n",
        "result = word_count(['list', 'dict', 'list', 'tuple', 'tuple', 'tuple'])\n",
        "print(result)\n",
        "\n",
        ">>> {'list': 2, 'dict': 1, 'tuple': 3}\n",
        "```\n"
      ],
      "metadata": {
        "id": "hBPbZKtLsxSl"
      }
    }
  ]
}