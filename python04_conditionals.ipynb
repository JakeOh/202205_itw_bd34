{
  "nbformat": 4,
  "nbformat_minor": 0,
  "metadata": {
    "colab": {
      "name": "python04_conditionals.ipynb",
      "provenance": [],
      "collapsed_sections": [],
      "authorship_tag": "ABX9TyOAB8TRw2u33rrxQE5wSfjL",
      "include_colab_link": true
    },
    "kernelspec": {
      "name": "python3",
      "display_name": "Python 3"
    },
    "language_info": {
      "name": "python"
    }
  },
  "cells": [
    {
      "cell_type": "markdown",
      "metadata": {
        "id": "view-in-github",
        "colab_type": "text"
      },
      "source": [
        "<a href=\"https://colab.research.google.com/github/JakeOh/202205_itw_bd34/blob/main/python04_conditionals.ipynb\" target=\"_parent\"><img src=\"https://colab.research.google.com/assets/colab-badge.svg\" alt=\"Open In Colab\"/></a>"
      ]
    },
    {
      "cell_type": "markdown",
      "source": [
        "# 난수(random number) 만드는 방법"
      ],
      "metadata": {
        "id": "F2S5WBHw1ZS9"
      }
    },
    {
      "cell_type": "code",
      "execution_count": 1,
      "metadata": {
        "id": "3N69Phem0ok6"
      },
      "outputs": [],
      "source": [
        "import random  # 난수를 만들어 주는 함수들을 가지고 있는 모듈"
      ]
    },
    {
      "cell_type": "code",
      "source": [
        "# random.random(): 0 <= x < 1 범위의 (실수) 난수들을 생성.\n",
        "random.random()"
      ],
      "metadata": {
        "colab": {
          "base_uri": "https://localhost:8080/"
        },
        "id": "OrrRBg1j10RV",
        "outputId": "dda8b5f0-6d45-4914-e11d-6402f5079baa"
      },
      "execution_count": 34,
      "outputs": [
        {
          "output_type": "execute_result",
          "data": {
            "text/plain": [
              "0.9767762871013194"
            ]
          },
          "metadata": {},
          "execution_count": 34
        }
      ]
    },
    {
      "cell_type": "code",
      "source": [
        "# random.randrange(start, stop): start <= x < stop 범위의 정수 난수들을 생성.\n",
        "random.randrange(1, 4)"
      ],
      "metadata": {
        "colab": {
          "base_uri": "https://localhost:8080/"
        },
        "id": "sQ_uWH6Q2xNc",
        "outputId": "51402b5d-64c3-4129-9ee6-7d248c2be2af"
      },
      "execution_count": 22,
      "outputs": [
        {
          "output_type": "execute_result",
          "data": {
            "text/plain": [
              "2"
            ]
          },
          "metadata": {},
          "execution_count": 22
        }
      ]
    },
    {
      "cell_type": "code",
      "source": [
        "# random.randrange(stop): 0 <= x < stop 범위의 정수 난수들을 생성.\n",
        "random.randrange(4)"
      ],
      "metadata": {
        "colab": {
          "base_uri": "https://localhost:8080/"
        },
        "id": "2SPDdiPb3WFm",
        "outputId": "47d5db2c-f26c-4670-abcc-59ef1cd4551b"
      },
      "execution_count": 27,
      "outputs": [
        {
          "output_type": "execute_result",
          "data": {
            "text/plain": [
              "0"
            ]
          },
          "metadata": {},
          "execution_count": 27
        }
      ]
    },
    {
      "cell_type": "markdown",
      "source": [
        "# 가위,바위,보 게임 승패 결정"
      ],
      "metadata": {
        "id": "y6lcAolx4URe"
      }
    },
    {
      "cell_type": "markdown",
      "source": [
        "*   가위(1), 바위(2), 보(3)\n",
        "*   컴퓨터 - 1,2,3 중의 숫자 하나를 난수로 저장.\n",
        "*   사용자 - 1,2,3 중의 숫자 하나를 입력받아서 저장.\n",
        "*   가위/바위/보 게임 결과를 조건문을 사용해서 출력."
      ],
      "metadata": {
        "id": "uB7WluRQ4as2"
      }
    },
    {
      "cell_type": "code",
      "source": [
        "computer = random.randrange(1, 4)\n",
        "print(computer)"
      ],
      "metadata": {
        "colab": {
          "base_uri": "https://localhost:8080/"
        },
        "id": "HGqaqAEg4ZqI",
        "outputId": "137f351e-11ac-4c15-fc41-7d92e3372b57"
      },
      "execution_count": 41,
      "outputs": [
        {
          "output_type": "stream",
          "name": "stdout",
          "text": [
            "3\n"
          ]
        }
      ]
    },
    {
      "cell_type": "code",
      "source": [
        "print('=== 가위/바위/보 ===')\n",
        "print('[1] 가위')\n",
        "print('[2] 바위')\n",
        "print('[3] 보')\n",
        "user = int(input('선택>>> '))"
      ],
      "metadata": {
        "colab": {
          "base_uri": "https://localhost:8080/"
        },
        "id": "cUMSVP4N4-QG",
        "outputId": "46d68711-005e-47fd-e040-24d9063a05cf"
      },
      "execution_count": 42,
      "outputs": [
        {
          "name": "stdout",
          "output_type": "stream",
          "text": [
            "=== 가위/바위/보 ===\n",
            "[1] 가위\n",
            "[2] 바위\n",
            "[3] 보\n",
            "선택>>> 1\n"
          ]
        }
      ]
    },
    {
      "cell_type": "code",
      "source": [
        "# 게임 결과 출력"
      ],
      "metadata": {
        "id": "4GHlCA-N51t-"
      },
      "execution_count": null,
      "outputs": []
    }
  ]
}