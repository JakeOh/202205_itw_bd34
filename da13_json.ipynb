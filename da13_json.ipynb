{
  "nbformat": 4,
  "nbformat_minor": 0,
  "metadata": {
    "colab": {
      "name": "da13_json.ipynb",
      "provenance": [],
      "collapsed_sections": [],
      "authorship_tag": "ABX9TyMndLzcFth1ST3fozbqS2Eu",
      "include_colab_link": true
    },
    "kernelspec": {
      "name": "python3",
      "display_name": "Python 3"
    },
    "language_info": {
      "name": "python"
    }
  },
  "cells": [
    {
      "cell_type": "markdown",
      "metadata": {
        "id": "view-in-github",
        "colab_type": "text"
      },
      "source": [
        "<a href=\"https://colab.research.google.com/github/JakeOh/202205_itw_bd34/blob/main/da13_json.ipynb\" target=\"_parent\"><img src=\"https://colab.research.google.com/assets/colab-badge.svg\" alt=\"Open In Colab\"/></a>"
      ]
    },
    {
      "cell_type": "markdown",
      "source": [
        "# JSON\n",
        "\n",
        "*   JSON(JavaScript Object Notation): 자바스크립트 객체 표현법.\n",
        "*   `{key1: value1, key2: value2, ...}` 형식의 문자열\n",
        "*   Python의 `dict` 클래스 객체의 문자열 표현과 비슷.\n",
        "*   `json` 모듈: JSON 형식 문자열(str) <---> `dict` 타입 객체(object)\n",
        "    *   `json.dumps(obj)`: Python 객체 obj를 JSON 형식의 문자열로 변환(serialization, 직렬화)해서 리턴.\n",
        "    *   `json.loads(s)`: JSON 형식의 문자열 s를 Python 객체로 변환(de-serialization, 역직렬화)해서 리턴.\n",
        "    *   `json.dump(obj, fp)`: Python 객체 obj를 문자열로 변환해서 파일 fp에 씀(write).\n",
        "    *   `json.load(fp)`: 파일 fp에서 JSON 형식의 문자열을 읽어서 Python 객체로 변환하고 리턴.\n"
      ],
      "metadata": {
        "id": "z7-A9L6CBdm-"
      }
    },
    {
      "cell_type": "markdown",
      "source": [
        "# Imports"
      ],
      "metadata": {
        "id": "GvqqpLVhD9NO"
      }
    },
    {
      "cell_type": "code",
      "execution_count": 1,
      "metadata": {
        "id": "zIkjZdF5BZTo"
      },
      "outputs": [],
      "source": [
        "import json  # JSON 읽기/쓰기 기능을 가지고 있는 파이썬 모듈\n",
        "import numpy as np\n",
        "import pandas as pd\n",
        "import matplotlib.pyplot as plt\n",
        "import seaborn as sns"
      ]
    },
    {
      "cell_type": "markdown",
      "source": [
        "# Serialization"
      ],
      "metadata": {
        "id": "uNsElmv5ESUO"
      }
    },
    {
      "cell_type": "code",
      "source": [
        "# 직렬화: Python 객체 ---> JSON 문자열\n",
        "person = {\n",
        "    'name': '홍길동',\n",
        "    'age': 16,\n",
        "    'phones': ['02-0000-0000', '010-1111-1111']\n",
        "}"
      ],
      "metadata": {
        "id": "0auEqsvaENH2"
      },
      "execution_count": 2,
      "outputs": []
    },
    {
      "cell_type": "code",
      "source": [
        "type(person)  #> dict 타입(객체)"
      ],
      "metadata": {
        "colab": {
          "base_uri": "https://localhost:8080/"
        },
        "id": "3NbPm-pwFbOu",
        "outputId": "aec78350-1eb9-4c0f-caf7-e2e760f3937b"
      },
      "execution_count": 4,
      "outputs": [
        {
          "output_type": "execute_result",
          "data": {
            "text/plain": [
              "dict"
            ]
          },
          "metadata": {},
          "execution_count": 4
        }
      ]
    },
    {
      "cell_type": "code",
      "source": [
        "person_json = json.dumps(person)\n",
        "person_json"
      ],
      "metadata": {
        "colab": {
          "base_uri": "https://localhost:8080/",
          "height": 36
        },
        "id": "j2PsesJUE6On",
        "outputId": "3a9c2282-be97-4d54-b2f6-acbe8195945e"
      },
      "execution_count": 5,
      "outputs": [
        {
          "output_type": "execute_result",
          "data": {
            "text/plain": [
              "'{\"name\": \"\\\\ud64d\\\\uae38\\\\ub3d9\", \"age\": 16, \"phones\": [\"02-0000-0000\", \"010-1111-1111\"]}'"
            ],
            "application/vnd.google.colaboratory.intrinsic+json": {
              "type": "string"
            }
          },
          "metadata": {},
          "execution_count": 5
        }
      ]
    },
    {
      "cell_type": "code",
      "source": [
        "type(person_json)  #> str 타입(문자열)"
      ],
      "metadata": {
        "colab": {
          "base_uri": "https://localhost:8080/"
        },
        "id": "CmEtBhd2FF6F",
        "outputId": "76688f12-9b35-459f-bb81-5db5fe3460b6"
      },
      "execution_count": 6,
      "outputs": [
        {
          "output_type": "execute_result",
          "data": {
            "text/plain": [
              "str"
            ]
          },
          "metadata": {},
          "execution_count": 6
        }
      ]
    },
    {
      "cell_type": "markdown",
      "source": [
        "# Deserialization"
      ],
      "metadata": {
        "id": "GqdHwLGVGFum"
      }
    },
    {
      "cell_type": "code",
      "source": [
        "# 역직렬화: JSON 형식의 문자열 ---> Python 객체(object)\n",
        "result = json.loads(person_json)\n",
        "result"
      ],
      "metadata": {
        "colab": {
          "base_uri": "https://localhost:8080/"
        },
        "id": "Ry5U57nlGK2G",
        "outputId": "32e10859-3626-4fa7-a5df-4563d17ec317"
      },
      "execution_count": 7,
      "outputs": [
        {
          "output_type": "execute_result",
          "data": {
            "text/plain": [
              "{'age': 16, 'name': '홍길동', 'phones': ['02-0000-0000', '010-1111-1111']}"
            ]
          },
          "metadata": {},
          "execution_count": 7
        }
      ]
    },
    {
      "cell_type": "code",
      "source": [
        "type(result)"
      ],
      "metadata": {
        "colab": {
          "base_uri": "https://localhost:8080/"
        },
        "id": "qWMltMRiGg3u",
        "outputId": "8dfe9bd0-462b-4f72-a580-0b5a5db6effb"
      },
      "execution_count": 8,
      "outputs": [
        {
          "output_type": "execute_result",
          "data": {
            "text/plain": [
              "dict"
            ]
          },
          "metadata": {},
          "execution_count": 8
        }
      ]
    },
    {
      "cell_type": "code",
      "source": [
        ""
      ],
      "metadata": {
        "id": "MhRwg7jNGhn3"
      },
      "execution_count": null,
      "outputs": []
    }
  ]
}