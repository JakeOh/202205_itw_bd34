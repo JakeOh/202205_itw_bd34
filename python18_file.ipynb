{
  "nbformat": 4,
  "nbformat_minor": 0,
  "metadata": {
    "colab": {
      "name": "python18_file.ipynb",
      "provenance": [],
      "collapsed_sections": [],
      "mount_file_id": "1edixl-hzsdJ4L_N9GuZi_cWcpfpfE-hE",
      "authorship_tag": "ABX9TyM4gW8LbLoLaoWhWPF7zPY7",
      "include_colab_link": true
    },
    "kernelspec": {
      "name": "python3",
      "display_name": "Python 3"
    },
    "language_info": {
      "name": "python"
    }
  },
  "cells": [
    {
      "cell_type": "markdown",
      "metadata": {
        "id": "view-in-github",
        "colab_type": "text"
      },
      "source": [
        "<a href=\"https://colab.research.google.com/github/JakeOh/202205_itw_bd34/blob/main/python18_file.ipynb\" target=\"_parent\"><img src=\"https://colab.research.google.com/assets/colab-badge.svg\" alt=\"Open In Colab\"/></a>"
      ]
    },
    {
      "cell_type": "markdown",
      "source": [
        "# 파일 쓰기(file write)"
      ],
      "metadata": {
        "id": "XSoI_SXYAwMj"
      }
    },
    {
      "cell_type": "markdown",
      "source": [
        "1. 파일 열기(open)\n",
        "1. 파일 쓰기(write)\n",
        "1. 파일 닫기(close)\n",
        "\n",
        "```\n",
        "open(file, mode, ...)\n",
        "```\n",
        "\n",
        "*   `file`: 폴더(디렉토리) 이름을 포함한 전체 파일 이름(경로).\n",
        "    *   폴더 이름 없이 파일 이름만 사용한 경우에는 현재 작업 디렉토리의 파일을 의미함.\n",
        "*   `mode`:\n",
        "    *   r(read): 읽기. 기본값.\n",
        "    *   w(write): 쓰기. 기존에 작성된 내용이 모두 삭제되고 처음부터 다시 쓰기 시작.\n",
        "    *   a(append): 추가. 기존에 작성된 내용 뒤에 이어서 쓰기.\n",
        "    *   t(text): 텍스트. 기본값.\n",
        "    *   b(binary): 이진 데이터(이미지, 동영상, ...).\n"
      ],
      "metadata": {
        "id": "-qCXmW5dA48T"
      }
    },
    {
      "cell_type": "code",
      "execution_count": 5,
      "metadata": {
        "id": "p_zwPeyBAn7F"
      },
      "outputs": [],
      "source": [
        "# 1. 파일을 열고 그 결과를 변수에 저장.\n",
        "f = open(file='hello.txt', mode='wt')\n",
        "\n",
        "# 2. 열린 파일에 파일 내용을 작성.\n",
        "f.write('안녕하세요.\\n')  # '\\n': new line(줄바꿈)\n",
        "f.write('Hello\\n')\n",
        "f.write('Python\\n')\n",
        "\n",
        "# 3. 사용중이던 파일을 닫음.\n",
        "f.close()"
      ]
    },
    {
      "cell_type": "code",
      "source": [
        "# with-as 구문의 블록 안에서 파일 내용 읽기/쓰기만 작성하면, \n",
        "# 파일 닫기(close 메서드)는 자동으로 실행됨.\n",
        "# with open(...) as 변수:\n",
        "with open(file='hello.txt', mode='at') as f:\n",
        "    f.write('파일 append 테스트\\n')\n",
        "    f.write('123 456 789 0\\n')"
      ],
      "metadata": {
        "id": "riCNLMhzMZDS"
      },
      "execution_count": 8,
      "outputs": []
    },
    {
      "cell_type": "markdown",
      "source": [
        "파일을 open할 때 모드(mode)를 'w' 또는 'a'로 하는 경우에,\n",
        "*   파일이 존재하지 않으면 새로운 파일을 만듦.\n",
        "*   파일이 존재하면 있는 파일을 열어줌."
      ],
      "metadata": {
        "id": "TsnayEmIOe1a"
      }
    },
    {
      "cell_type": "markdown",
      "source": [
        "# 파일 읽기"
      ],
      "metadata": {
        "id": "Pa0UmrUQO45a"
      }
    },
    {
      "cell_type": "markdown",
      "source": [
        "1. 파일 열기(open)\n",
        "1. 파일 내용 읽기(read)\n",
        "1. 파일 닫기(close)\n",
        "\n",
        "`with-as` 구문을 사용하면 close() 메서드를 호출하지 않아도 자동으로 실행됨."
      ],
      "metadata": {
        "id": "oh7JK3GJPNWa"
      }
    },
    {
      "cell_type": "code",
      "source": [
        "with open(file='hello.txt', mode='rt') as f:\n",
        "    line = f.readline()\n",
        "    print(line)\n",
        "    line = f.readline()\n",
        "    print(line)"
      ],
      "metadata": {
        "colab": {
          "base_uri": "https://localhost:8080/"
        },
        "id": "CQDGL__xPwkz",
        "outputId": "bb1d18c9-bd03-420f-c8bb-895224165f7d"
      },
      "execution_count": 10,
      "outputs": [
        {
          "output_type": "stream",
          "name": "stdout",
          "text": [
            "안녕하세요.\n",
            "\n",
            "Hello\n",
            "\n"
          ]
        }
      ]
    },
    {
      "cell_type": "markdown",
      "source": [
        "파이썬의 파일 스트림(stream)은 반복 가능한 타입(iterable)임.\n",
        "파이썬의 파일 스트림은 `for-in` 구문에서 사용 가능."
      ],
      "metadata": {
        "id": "Qo9FWiblRhNK"
      }
    },
    {
      "cell_type": "code",
      "source": [
        "with open('hello.txt', mode='rt') as f:\n",
        "    for line in f:  \n",
        "        # 파일 스트림을 for-in 구문으로 사용하면 readline() 메서드가 자동으로 호출됨.\n",
        "        print(line.strip())\n",
        "        # str.strip(): 문자열의 처음과 끝에 있는 공백 문자들을 제거."
      ],
      "metadata": {
        "colab": {
          "base_uri": "https://localhost:8080/"
        },
        "id": "BRnjO-KURtVy",
        "outputId": "2d457209-855f-41d0-9345-162db192422a"
      },
      "execution_count": 15,
      "outputs": [
        {
          "output_type": "stream",
          "name": "stdout",
          "text": [
            "안녕하세요.\n",
            "Hello\n",
            "Python\n",
            "파일 append 테스트\n",
            "123 456 789 0\n"
          ]
        }
      ]
    },
    {
      "cell_type": "markdown",
      "source": [
        "# Google Drive에서 파일 쓰기/읽기"
      ],
      "metadata": {
        "id": "14C-YvKXX2mw"
      }
    },
    {
      "cell_type": "code",
      "source": [
        "# 파일을 쓰고 읽기 위한 Google Drive 폴더(디렉토리) 경로\n",
        "dir_path = '/content/drive/MyDrive/Colab Notebooks/lab_python'\n",
        "\n",
        "# 작성할 파일 이름\n",
        "file_name = 'emails.txt'"
      ],
      "metadata": {
        "id": "kL_Jem9TYJyo"
      },
      "execution_count": 17,
      "outputs": []
    },
    {
      "cell_type": "code",
      "source": [
        "import os  # os.path.join() 함수를 사용하기 위해서"
      ],
      "metadata": {
        "id": "UpURXVHjZRX5"
      },
      "execution_count": 18,
      "outputs": []
    },
    {
      "cell_type": "code",
      "source": [
        "# os.path.join(): 폴더의 이름과 파일을 이름을 해당 OS의 파일 구분자(/ 또는 \\)로 이어주는 함수.\n",
        "file_path = os.path.join(dir_path, file_name)\n",
        "print(file_path)"
      ],
      "metadata": {
        "colab": {
          "base_uri": "https://localhost:8080/"
        },
        "id": "xqtJzaKqZXJP",
        "outputId": "3407bf8e-97ad-48f9-9ce9-3c1d443bd79e"
      },
      "execution_count": 19,
      "outputs": [
        {
          "output_type": "stream",
          "name": "stdout",
          "text": [
            "/content/drive/MyDrive/Colab Notebooks/lab_python/emails.txt\n"
          ]
        }
      ]
    },
    {
      "cell_type": "code",
      "source": [
        "with open(file_path, 'wt') as f:\n",
        "    f.write('hgd@naver.com\\n')\n",
        "    f.write('gildong@kakao.com\\n')\n",
        "    f.write('gildong.hong@gmail.com\\n')\n",
        "    f.write('hgd1004@outlook.com\\n')"
      ],
      "metadata": {
        "id": "1YqEh6pOZ0Qg"
      },
      "execution_count": 20,
      "outputs": []
    },
    {
      "cell_type": "code",
      "source": [
        "# 작성된 파일을 열어서 한 줄씩 출력\n",
        "with open(file_path, 'rt') as f:\n",
        "    for line in f:  # 파일 f에서 한 줄씩 읽으면서 파일 끝(EOF)까지 반복\n",
        "        print(line.strip())"
      ],
      "metadata": {
        "colab": {
          "base_uri": "https://localhost:8080/"
        },
        "id": "AmmOf9hMbYzh",
        "outputId": "55284666-395f-49e6-923a-d2e6990731b3"
      },
      "execution_count": 22,
      "outputs": [
        {
          "output_type": "stream",
          "name": "stdout",
          "text": [
            "hgd@naver.com\n",
            "gildong@kakao.com\n",
            "gildong.hong@gmail.com\n",
            "hgd1004@outlook.com\n"
          ]
        }
      ]
    },
    {
      "cell_type": "code",
      "source": [
        "# emails.txt 파일을 읽어서, 이메일 도메인 주소들만 저장하는 리스트를 만들고 출력.\n",
        "with open(file_path, 'rt') as f:\n",
        "    domains = []  # 이메일 도메인들을 저장할 빈 리스트\n",
        "    for line in f:  # 파일에서 한 줄씩 읽으면서\n",
        "        idx = line.find('@')  # 파일에서 읽은 줄에서 '@'의 위치(인덱스)를 찾음.\n",
        "        domains.append(line[(idx + 1):-1])  # '@' 다음 위치부터 맨 끝의 '\\n' 제외하고 slicing.\n",
        "    \n",
        "print(domains)"
      ],
      "metadata": {
        "colab": {
          "base_uri": "https://localhost:8080/"
        },
        "id": "S24X9liUb-0Q",
        "outputId": "86260cd7-ca25-494f-e18b-242444026bb6"
      },
      "execution_count": 26,
      "outputs": [
        {
          "output_type": "stream",
          "name": "stdout",
          "text": [
            "['naver.com', 'kakao.com', 'gmail.com', 'outlook.com']\n"
          ]
        }
      ]
    },
    {
      "cell_type": "code",
      "source": [
        "'hgd1004@outlook.com\\n'.strip().split('@')[1]"
      ],
      "metadata": {
        "colab": {
          "base_uri": "https://localhost:8080/",
          "height": 36
        },
        "id": "s-ysexC5x7HF",
        "outputId": "550c4958-d6e0-4a8c-b672-49276624f399"
      },
      "execution_count": 32,
      "outputs": [
        {
          "output_type": "execute_result",
          "data": {
            "text/plain": [
              "'outlook.com'"
            ],
            "application/vnd.google.colaboratory.intrinsic+json": {
              "type": "string"
            }
          },
          "metadata": {},
          "execution_count": 32
        }
      ]
    },
    {
      "cell_type": "code",
      "source": [
        "with open(file_path, 'rt') as f:\n",
        "    domains = []\n",
        "    for line in f:\n",
        "        domains.append(line.strip().split('@')[1])\n",
        "\n",
        "print(domains)"
      ],
      "metadata": {
        "colab": {
          "base_uri": "https://localhost:8080/"
        },
        "id": "I1hNpg09zSy8",
        "outputId": "53ed6187-e52e-4fea-a79c-35512a4c2019"
      },
      "execution_count": 33,
      "outputs": [
        {
          "output_type": "stream",
          "name": "stdout",
          "text": [
            "['naver.com', 'kakao.com', 'gmail.com', 'outlook.com']\n"
          ]
        }
      ]
    },
    {
      "cell_type": "markdown",
      "source": [
        "# Binary File 쓰기/읽기"
      ],
      "metadata": {
        "id": "YYgPQ5JAz46u"
      }
    },
    {
      "cell_type": "markdown",
      "source": [
        "`pickle` 모듈:\n",
        "\n",
        "*   Python 객체(object) 타입을 이진 데이터(binary data) 형식으로 파일에 쓰거나 읽기 위해서 사용하는 타입.\n",
        "*   Python의 dict 타입을 파일에 쓰고, 파일에서 이진 데이터를 읽어서 dict로 변환할 수 있음.\n",
        "*   `pickle.dump(object, file)`: 객체(object)를 파일에 write.\n",
        "*   `pickle.load(file)`: 파일에서 이진 데이터를 읽어서 객체(object)를 리턴.\n"
      ],
      "metadata": {
        "id": "3Zh4_Zcr0BPc"
      }
    },
    {
      "cell_type": "code",
      "source": [
        "import pickle"
      ],
      "metadata": {
        "id": "rhoP4gn4zoNO"
      },
      "execution_count": 34,
      "outputs": []
    },
    {
      "cell_type": "code",
      "source": [
        "# 파일에 write를 할 dict 객체\n",
        "contact = {\n",
        "    'name': '오쌤',\n",
        "    'company': '아이티윌',\n",
        "    'phone': ['010-0000-0000', '02-1234-5678'],\n",
        "    'email': {'company': 'jake@itwill.co.kr', 'personal': 'jake@gmail.com'}\n",
        "}\n",
        "print(contact)"
      ],
      "metadata": {
        "colab": {
          "base_uri": "https://localhost:8080/"
        },
        "id": "sRsuci6T1bK9",
        "outputId": "ef7a195d-3011-4b48-fc2a-6914f8de350b"
      },
      "execution_count": 35,
      "outputs": [
        {
          "output_type": "stream",
          "name": "stdout",
          "text": [
            "{'name': '오쌤', 'company': '아이티윌', 'phone': ['010-0000-0000', '02-1234-5678'], 'email': {'company': 'jake@itwill.co.kr', 'personal': 'jake@gmail.com'}}\n"
          ]
        }
      ]
    },
    {
      "cell_type": "code",
      "source": [
        "binary_file = 'contact.pkl'\n",
        "# 이진 데이터 형식을 파일에 쓸 때에는, open() 함수에 mode='wb'를 반드시 전달해야 함.\n",
        "with open(binary_file, 'wb') as f:\n",
        "    pickle.dump(contact, f)"
      ],
      "metadata": {
        "id": "oaTKmhC32CMe"
      },
      "execution_count": 38,
      "outputs": []
    },
    {
      "cell_type": "code",
      "source": [
        "# 이진 데이터 형식으로 작성된 파일에서 내용을 읽을 때는 mode='rb'를 반드시 명시.\n",
        "with open(binary_file, 'rb') as f:\n",
        "    obj = pickle.load(f)\n",
        "    print(obj)"
      ],
      "metadata": {
        "colab": {
          "base_uri": "https://localhost:8080/"
        },
        "id": "16FLUpNS3XxE",
        "outputId": "39c57efc-81bc-4505-e7d5-543aa0cc78b6"
      },
      "execution_count": 39,
      "outputs": [
        {
          "output_type": "stream",
          "name": "stdout",
          "text": [
            "{'name': '오쌤', 'company': '아이티윌', 'phone': ['010-0000-0000', '02-1234-5678'], 'email': {'company': 'jake@itwill.co.kr', 'personal': 'jake@gmail.com'}}\n"
          ]
        }
      ]
    }
  ]
}