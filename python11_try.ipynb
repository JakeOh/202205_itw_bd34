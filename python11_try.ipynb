{
  "nbformat": 4,
  "nbformat_minor": 0,
  "metadata": {
    "colab": {
      "name": "python11_try.ipynb",
      "provenance": [],
      "collapsed_sections": [],
      "authorship_tag": "ABX9TyODgbd/oAB1LKAJQSFHtmd9",
      "include_colab_link": true
    },
    "kernelspec": {
      "name": "python3",
      "display_name": "Python 3"
    },
    "language_info": {
      "name": "python"
    }
  },
  "cells": [
    {
      "cell_type": "markdown",
      "metadata": {
        "id": "view-in-github",
        "colab_type": "text"
      },
      "source": [
        "<a href=\"https://colab.research.google.com/github/JakeOh/202205_itw_bd34/blob/main/python11_try.ipynb\" target=\"_parent\"><img src=\"https://colab.research.google.com/assets/colab-badge.svg\" alt=\"Open In Colab\"/></a>"
      ]
    },
    {
      "cell_type": "markdown",
      "source": [
        "# 오류(Error)의 종류"
      ],
      "metadata": {
        "id": "BGj01tM3tvt2"
      }
    },
    {
      "cell_type": "code",
      "source": [
        "# prnt('안녕하세요.')\n",
        "#> NameError 발생: 'prnt' 이름의 함수가 정의되어 있지 않기 때문에\n",
        "print('안녕하세요')"
      ],
      "metadata": {
        "colab": {
          "base_uri": "https://localhost:8080/"
        },
        "id": "93P1x_rBtvF_",
        "outputId": "6b8456a9-1564-4e40-a45c-77f3d1b16d60"
      },
      "execution_count": 2,
      "outputs": [
        {
          "output_type": "stream",
          "name": "stdout",
          "text": [
            "안녕하세요\n"
          ]
        }
      ]
    },
    {
      "cell_type": "code",
      "execution_count": 4,
      "metadata": {
        "id": "8g33GTWXtju9"
      },
      "outputs": [],
      "source": [
        "# n = int('100.')\n",
        "#> ValueError 발생: '100.' 문자열 literal(값)은 정수로 변환할 수 없기 때문에\n",
        "n = int('100')"
      ]
    },
    {
      "cell_type": "code",
      "source": [
        "# print(100 + '200')\n",
        "#> TypeError: '숫자 + 문자열'은 제공되지 않는 연산이기 때문에.\n",
        "print(100 + 200)\n",
        "print('100' + '200')"
      ],
      "metadata": {
        "colab": {
          "base_uri": "https://localhost:8080/"
        },
        "id": "UTdAvOcZwXi2",
        "outputId": "77bf9d1d-1a6e-4542-e1fe-db0f7a6a871f"
      },
      "execution_count": 6,
      "outputs": [
        {
          "output_type": "stream",
          "name": "stdout",
          "text": [
            "300\n",
            "100200\n"
          ]
        }
      ]
    },
    {
      "cell_type": "code",
      "source": [
        "numbers = [1, 2, 3]\n",
        "# print(numbers[3])\n",
        "#> IndexError: 리스트의 인덱스가 범위를 벗어났기 때문에.\n",
        "print(numbers[2])"
      ],
      "metadata": {
        "colab": {
          "base_uri": "https://localhost:8080/"
        },
        "id": "tpeWpoiTxxsv",
        "outputId": "02940b11-ba01-4552-8b83-830b4c2be099"
      },
      "execution_count": 8,
      "outputs": [
        {
          "output_type": "stream",
          "name": "stdout",
          "text": [
            "3\n"
          ]
        }
      ]
    },
    {
      "cell_type": "markdown",
      "source": [
        "프로그램 실행 중에 오류(error)가 발생하는 경우 해결 방법:\n",
        "\n",
        "*   오류가 발생한 위치와 원인을 파악해서 오류가 발생하지 않도록 코드를 수정.\n",
        "*   오류가 발생하더라도 프로그램이 (비정상적으로) 종료되지 않고 계속 실행될 수 있도록 처리.\n"
      ],
      "metadata": {
        "id": "plCzMYOby45_"
      }
    },
    {
      "cell_type": "markdown",
      "source": [
        "# try-except 구문"
      ],
      "metadata": {
        "id": "C5JQOTulyvWB"
      }
    },
    {
      "cell_type": "markdown",
      "source": [
        "\n",
        "```\n",
        "try:\n",
        "    (1) 실행할 코드 블록\n",
        "except [에러 이름 [as 변수]]:\n",
        "    (2) 에러가 발생했을 때 실행 코드 블록\n",
        "[else:\n",
        "    (3) try 블록이 에러 없이 정상적으로 모두 실행됐을 때 실행할 코드 블록]\n",
        "[finally:\n",
        "    (4) try 블록 실행 중에 에러 발생 여부에 상관없이 항상 실행할 코드 블록]\n",
        "```\n",
        "\n",
        "*   except에서 에러 이름을 생략하면, 모든 종류의 에러를 처리할 수 있음.\n",
        "*   except에서 에러 이름를 지정하면, 지정한 이름의 에러만 처리할 수 있음.\n",
        "*   처리해야 할 에러의 종류가 여러개가 있다면 except 구문을 여러개 사용할 수도 있음.\n",
        "*   try 구문의 실행 순서\n",
        "    *   에러가 발생하지 않은 경우: (1) -> (3) -> (4)\n",
        "    *   에러가 발생한 경우: (1) -> (2) -> (4)\n",
        "    "
      ],
      "metadata": {
        "id": "K04a1vjAzYuI"
      }
    },
    {
      "cell_type": "code",
      "source": [
        "x = float(input('숫자 입력>>> '))\n",
        "y = float(input('숫자 입력>>> '))\n",
        "print(f'{x} + {y} = {x + y}')\n",
        "print(f'{x} - {y} = {x - y}')\n",
        "print(f'{x} x {y} = {x * y}')\n",
        "print(f'{x} / {y} = {x / y}')"
      ],
      "metadata": {
        "colab": {
          "base_uri": "https://localhost:8080/"
        },
        "id": "-iRXGD-D1bow",
        "outputId": "d036ad48-6a85-44d2-fd66-6b783f5e4bcf"
      },
      "execution_count": 12,
      "outputs": [
        {
          "output_type": "stream",
          "name": "stdout",
          "text": [
            "숫자 입력>>> 1.0\n",
            "숫자 입력>>> 2.0\n",
            "1.0 + 2.0 = 3.0\n",
            "1.0 - 2.0 = -1.0\n",
            "1.0 x 2.0 = 2.0\n",
            "1.0 / 2.0 = 0.5\n"
          ]
        }
      ]
    },
    {
      "cell_type": "code",
      "source": [
        "try:\n",
        "    x = float(input('숫자 입력>>> '))\n",
        "    y = float(input('숫자 입력>>> '))\n",
        "    print(f'{x} + {y} = {x + y}')\n",
        "    print(f'{x} - {y} = {x - y}')\n",
        "    print(f'{x} x {y} = {x * y}')\n",
        "    print(f'{x} / {y} = {x / y}')\n",
        "except:\n",
        "    print('에러 발생...')"
      ],
      "metadata": {
        "colab": {
          "base_uri": "https://localhost:8080/"
        },
        "id": "QTIWt-1i8WfT",
        "outputId": "11a25fb6-a561-4410-bd5c-0cdd4789cdae"
      },
      "execution_count": 17,
      "outputs": [
        {
          "output_type": "stream",
          "name": "stdout",
          "text": [
            "숫자 입력>>> 1\n",
            "숫자 입력>>> 0\n",
            "1.0 + 0.0 = 1.0\n",
            "1.0 - 0.0 = 1.0\n",
            "1.0 x 0.0 = 0.0\n",
            "에러 발생...\n"
          ]
        }
      ]
    },
    {
      "cell_type": "code",
      "source": [
        "try:\n",
        "    x = float(input('숫자 입력>>> '))\n",
        "    y = float(input('숫자 입력>>> '))\n",
        "    print(f'{x} + {y} = {x + y}')\n",
        "    print(f'{x} - {y} = {x - y}')\n",
        "    print(f'{x} x {y} = {x * y}')\n",
        "    print(f'{x} / {y} = {x / y}')\n",
        "except ValueError as e:\n",
        "    print(e)\n",
        "    print('입력값은 숫자여야 합니다.')\n",
        "except ZeroDivisionError as e:\n",
        "    print(e)\n",
        "    print('0으로는 나눌 수 없습니다.')"
      ],
      "metadata": {
        "colab": {
          "base_uri": "https://localhost:8080/"
        },
        "id": "06wx2LfQ-FSL",
        "outputId": "ef04ee75-7e81-4056-f246-46f5b3c828f6"
      },
      "execution_count": 22,
      "outputs": [
        {
          "output_type": "stream",
          "name": "stdout",
          "text": [
            "숫자 입력>>> 1\n",
            "숫자 입력>>> 0\n",
            "1.0 + 0.0 = 1.0\n",
            "1.0 - 0.0 = 1.0\n",
            "1.0 x 0.0 = 0.0\n",
            "float division by zero\n",
            "0으로는 나눌 수 없습니다.\n"
          ]
        }
      ]
    },
    {
      "cell_type": "markdown",
      "source": [
        "## try-except 응용\n",
        "\n",
        "사용자에게 숫자를 입력하라고 알려주고, 숫자로 변환할 수 있는 문자열이면 변환 후에 정상 종료시키고, 에러가 발생하면 다시 입력하도록 코드 작성."
      ],
      "metadata": {
        "id": "Q3zHPojJAsAe"
      }
    },
    {
      "cell_type": "code",
      "source": [
        "while True:  # 무한 반복문\n",
        "    try:\n",
        "        x = float(input('숫자 입력>>> '))\n",
        "        print(f'x = {x}')\n",
        "        break  # while 반복문 종료\n",
        "    except Exception:  # 모든 종류의 예외(exception)을 처리\n",
        "        print('입력한 값은 숫자로 변환할 수 없습니다.')"
      ],
      "metadata": {
        "colab": {
          "base_uri": "https://localhost:8080/"
        },
        "id": "aVIAmIIbArCE",
        "outputId": "cb158f28-bd4f-43c8-fe2f-6dce1149cb3c"
      },
      "execution_count": 24,
      "outputs": [
        {
          "output_type": "stream",
          "name": "stdout",
          "text": [
            "숫자 입력>>> q\n",
            "입력한 값은 숫자로 변환할 수 없습니다.\n",
            "숫자 입력>>> qw\n",
            "입력한 값은 숫자로 변환할 수 없습니다.\n",
            "숫자 입력>>> qqq\n",
            "입력한 값은 숫자로 변환할 수 없습니다.\n",
            "숫자 입력>>> sasaa\n",
            "입력한 값은 숫자로 변환할 수 없습니다.\n",
            "숫자 입력>>> 1111\n",
            "x = 1111.0\n"
          ]
        }
      ]
    }
  ]
}