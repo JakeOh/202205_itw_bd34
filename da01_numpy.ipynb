{
  "nbformat": 4,
  "nbformat_minor": 0,
  "metadata": {
    "colab": {
      "name": "da01_numpy.ipynb",
      "provenance": [],
      "collapsed_sections": [],
      "authorship_tag": "ABX9TyNhcsH8MbGSi2YFWtP9QwAX",
      "include_colab_link": true
    },
    "kernelspec": {
      "name": "python3",
      "display_name": "Python 3"
    },
    "language_info": {
      "name": "python"
    }
  },
  "cells": [
    {
      "cell_type": "markdown",
      "metadata": {
        "id": "view-in-github",
        "colab_type": "text"
      },
      "source": [
        "<a href=\"https://colab.research.google.com/github/JakeOh/202205_itw_bd34/blob/main/da01_numpy.ipynb\" target=\"_parent\"><img src=\"https://colab.research.google.com/assets/colab-badge.svg\" alt=\"Open In Colab\"/></a>"
      ]
    },
    {
      "cell_type": "markdown",
      "source": [
        "# 데이터 분석 패키지"
      ],
      "metadata": {
        "id": "d8TVn65OZfhP"
      }
    },
    {
      "cell_type": "markdown",
      "source": [
        "*   NumPy: 다차원 배열을 다루는 패키지. 머신 러닝에서 중요하게 사용됨.\n",
        "*   pandas: 데이터프레임(DataFrame)과 시리즈(Series)를 다루는 패키지. 데이터 분석에서 가장 기본이 되는 패키지.\n",
        "*   matplotlib, seaborn: 데이터 시각화(그래프)\n",
        "*   scikit-learn: 머신 러닝에서 기본이 되는 패키지.\n",
        "*   keras, tensorflow: 딥러닝에서 사용되는 패키지.\n",
        "\n",
        "Google Colab은 데이터 분석과 머신 러닝에 필요한 대부분의 패키지들이 이미 설치되어 있음."
      ],
      "metadata": {
        "id": "AzqLuKMiZlut"
      }
    },
    {
      "cell_type": "code",
      "execution_count": 1,
      "metadata": {
        "id": "UkUCfB9vZCjT"
      },
      "outputs": [],
      "source": [
        "# 패키지 모듈 이름 import\n",
        "import numpy as np\n",
        "import pandas as pd\n",
        "import matplotlib\n",
        "import seaborn\n",
        "import sklearn\n",
        "import keras\n",
        "import tensorflow as tf"
      ]
    },
    {
      "cell_type": "code",
      "source": [
        "# Google Colab에 설치된 패키지 버전 확인\n",
        "print('NumPy verion:', np.__version__)\n",
        "print('pandas version:', pd.__version__)\n",
        "print('matplotlib version:', matplotlib.__version__)\n",
        "print('seaborn version:', seaborn.__version__)\n",
        "print('scikit-learn version:', sklearn.__version__)\n",
        "print('keras version:', keras.__version__)\n",
        "print('tensorflow version:', tf.__version__)"
      ],
      "metadata": {
        "colab": {
          "base_uri": "https://localhost:8080/"
        },
        "id": "lXXvG2-4cDot",
        "outputId": "92d01c80-ce8b-43d4-f094-9fb2482fc27c"
      },
      "execution_count": 2,
      "outputs": [
        {
          "output_type": "stream",
          "name": "stdout",
          "text": [
            "NumPy verion: 1.21.6\n",
            "pandas version: 1.3.5\n",
            "matplotlib version: 3.2.2\n",
            "seaborn version: 0.11.2\n",
            "scikit-learn version: 1.0.2\n",
            "keras version: 2.8.0\n",
            "tensorflow version: 2.8.0\n"
          ]
        }
      ]
    },
    {
      "cell_type": "markdown",
      "source": [
        "# Python list"
      ],
      "metadata": {
        "id": "goTzw3hGjq-C"
      }
    },
    {
      "cell_type": "markdown",
      "source": [
        "*   여러개의 값들을 저장할 수 있는 데이터 타입.\n",
        "*   인덱스를 기반으로 값들을 저장하는 데이터 타입.\n",
        "    *   indexing\n",
        "    *   slicing\n",
        "*   연산\n",
        "    *   `list + list`\n",
        "    *   `list * int ` 또는 `int * list`"
      ],
      "metadata": {
        "id": "8G1kvxLSjuZq"
      }
    },
    {
      "cell_type": "code",
      "source": [
        "num_list1 = [1, 2, 3]\n",
        "num_list2 = [10, 20, 30]"
      ],
      "metadata": {
        "id": "Ocko6dAEcuTU"
      },
      "execution_count": 3,
      "outputs": []
    },
    {
      "cell_type": "code",
      "source": [
        "# indexing\n",
        "print(num_list1[0])  # 리스트의 첫번째 원소 참조.\n",
        "print(num_list1[-1])  # 리스트의 마지막 원소 참조."
      ],
      "metadata": {
        "colab": {
          "base_uri": "https://localhost:8080/"
        },
        "id": "Oj-g58sjkjQb",
        "outputId": "834d4ad4-f0bd-4da8-c5cb-38f653e37dc8"
      },
      "execution_count": 4,
      "outputs": [
        {
          "output_type": "stream",
          "name": "stdout",
          "text": [
            "1\n",
            "3\n"
          ]
        }
      ]
    },
    {
      "cell_type": "code",
      "source": [
        "# slicing\n",
        "print(num_list1[:2])  # 리스트에서 첫 2개 원소로 이루어진 부분집합(리스트).\n",
        "print(num_list1[-2:])  # 리스트에서 마지막 2개 원소로 이루어진 부분집합(리스트)."
      ],
      "metadata": {
        "colab": {
          "base_uri": "https://localhost:8080/"
        },
        "id": "qUfQoQCck6NL",
        "outputId": "e0a9ca74-4809-4abd-be7a-4dc6d1fd6173"
      },
      "execution_count": 5,
      "outputs": [
        {
          "output_type": "stream",
          "name": "stdout",
          "text": [
            "[1, 2]\n",
            "[2, 3]\n"
          ]
        }
      ]
    },
    {
      "cell_type": "code",
      "source": [
        "num_list1 + num_list2  # num_list1.extend(num_list2)"
      ],
      "metadata": {
        "colab": {
          "base_uri": "https://localhost:8080/"
        },
        "id": "AkYhleOdlMwb",
        "outputId": "429d6934-362f-4734-cb35-a28092a67224"
      },
      "execution_count": 6,
      "outputs": [
        {
          "output_type": "execute_result",
          "data": {
            "text/plain": [
              "[1, 2, 3, 10, 20, 30]"
            ]
          },
          "metadata": {},
          "execution_count": 6
        }
      ]
    },
    {
      "cell_type": "code",
      "source": [
        "3 * num_list1"
      ],
      "metadata": {
        "colab": {
          "base_uri": "https://localhost:8080/"
        },
        "id": "4xvBna4QlSta",
        "outputId": "1077227a-04c0-441c-e410-4347cc2e8624"
      },
      "execution_count": 7,
      "outputs": [
        {
          "output_type": "execute_result",
          "data": {
            "text/plain": [
              "[1, 2, 3, 1, 2, 3, 1, 2, 3]"
            ]
          },
          "metadata": {},
          "execution_count": 7
        }
      ]
    },
    {
      "cell_type": "code",
      "source": [
        "# num_list1과 num_list2의 같은 인덱스의 원소들끼리의 덧셈으로 만들어진 리스트\n",
        "plus = []\n",
        "for x, y in zip(num_list1, num_list2):\n",
        "    plus.append(x + y)\n",
        "print(plus)"
      ],
      "metadata": {
        "colab": {
          "base_uri": "https://localhost:8080/"
        },
        "id": "xPZVT7adlwWO",
        "outputId": "b92ff827-40be-4ffe-910b-680d37ce32bd"
      },
      "execution_count": 8,
      "outputs": [
        {
          "output_type": "stream",
          "name": "stdout",
          "text": [
            "[11, 22, 33]\n"
          ]
        }
      ]
    },
    {
      "cell_type": "code",
      "source": [
        "[x + y for x, y in zip(num_list1, num_list2)]"
      ],
      "metadata": {
        "colab": {
          "base_uri": "https://localhost:8080/"
        },
        "id": "S47Dc-14ngE7",
        "outputId": "34c704ef-3a3f-4da1-a322-725600048d03"
      },
      "execution_count": 9,
      "outputs": [
        {
          "output_type": "execute_result",
          "data": {
            "text/plain": [
              "[11, 22, 33]"
            ]
          },
          "metadata": {},
          "execution_count": 9
        }
      ]
    },
    {
      "cell_type": "code",
      "source": [
        "# num_list1의 각각의 원소에 3을 곱한 값들로 이루어진 리스트.\n",
        "[3 * x for x in num_list1]"
      ],
      "metadata": {
        "colab": {
          "base_uri": "https://localhost:8080/"
        },
        "id": "W9GJWtIImMtT",
        "outputId": "69d6b6be-ff14-4246-ef53-8e799ea9ff1b"
      },
      "execution_count": 10,
      "outputs": [
        {
          "output_type": "execute_result",
          "data": {
            "text/plain": [
              "[3, 6, 9]"
            ]
          },
          "metadata": {},
          "execution_count": 10
        }
      ]
    },
    {
      "cell_type": "markdown",
      "source": [
        "# NumPy(Numerical Python)"
      ],
      "metadata": {
        "id": "ZKbHZz_qoH2i"
      }
    },
    {
      "cell_type": "markdown",
      "source": [
        "*   배열(array)을 쉽고 빠르게 연산(`+, -, *, /, ...`)하기 위한 라이브러리.\n",
        "*   NumPy 패키지의 대부분의 기능(함수, 메서드)들은 반복문의 기능을 가지고 있음.\n",
        "*   `np.ndarray` 클래스: NumPy 패키지의 기본 데이터 타입. n-dimensional array(n차원 배열).\n",
        "    *   `ndarray`는 같은 인덱스의 원소들끼리 연산을 수행함."
      ],
      "metadata": {
        "id": "23LsA8ZqoMmi"
      }
    },
    {
      "cell_type": "code",
      "source": [
        "num_arr1 = np.array([1, 2, 3])\n",
        "print(num_arr1)\n",
        "num_arr1"
      ],
      "metadata": {
        "colab": {
          "base_uri": "https://localhost:8080/"
        },
        "id": "EfnpIRfZn0UB",
        "outputId": "ce437a31-285c-4886-aa3d-a5318ad1308e"
      },
      "execution_count": 13,
      "outputs": [
        {
          "output_type": "stream",
          "name": "stdout",
          "text": [
            "[1 2 3]\n"
          ]
        },
        {
          "output_type": "execute_result",
          "data": {
            "text/plain": [
              "array([1, 2, 3])"
            ]
          },
          "metadata": {},
          "execution_count": 13
        }
      ]
    },
    {
      "cell_type": "code",
      "source": [
        "type(num_arr1)"
      ],
      "metadata": {
        "colab": {
          "base_uri": "https://localhost:8080/"
        },
        "id": "yXfvJOJSqA3e",
        "outputId": "08c01e59-3d71-41d4-8cf6-7325670682d9"
      },
      "execution_count": 14,
      "outputs": [
        {
          "output_type": "execute_result",
          "data": {
            "text/plain": [
              "numpy.ndarray"
            ]
          },
          "metadata": {},
          "execution_count": 14
        }
      ]
    },
    {
      "cell_type": "code",
      "source": [
        "num_arr2 = np.array([10, 20, 30])\n",
        "print(num_arr2)"
      ],
      "metadata": {
        "colab": {
          "base_uri": "https://localhost:8080/"
        },
        "id": "_RcT-8NbqLRL",
        "outputId": "e6ca8a51-52a8-4509-d1cf-4baf3671cbaa"
      },
      "execution_count": 15,
      "outputs": [
        {
          "output_type": "stream",
          "name": "stdout",
          "text": [
            "[10 20 30]\n"
          ]
        }
      ]
    },
    {
      "cell_type": "code",
      "source": [
        "# np.ndarray의 사칙 연산 - 배열은 element-wise(같은 인덱스의 원소들끼리) 연산 수행.\n",
        "print(num_arr1 + num_arr2)\n",
        "print(num_arr1 - num_arr2)\n",
        "print(num_arr1 * num_arr2)\n",
        "print(num_arr1 / num_arr2)"
      ],
      "metadata": {
        "colab": {
          "base_uri": "https://localhost:8080/"
        },
        "id": "k6gKFFxuqR3p",
        "outputId": "0ce1fdf5-3ec1-4c96-ec73-4c9b477b8952"
      },
      "execution_count": 16,
      "outputs": [
        {
          "output_type": "stream",
          "name": "stdout",
          "text": [
            "[11 22 33]\n",
            "[ -9 -18 -27]\n",
            "[10 40 90]\n",
            "[0.1 0.1 0.1]\n"
          ]
        }
      ]
    },
    {
      "cell_type": "code",
      "source": [
        "print(num_arr1 * 3)"
      ],
      "metadata": {
        "colab": {
          "base_uri": "https://localhost:8080/"
        },
        "id": "N2DGtaG_rrqK",
        "outputId": "c0a93c36-e0c8-49ce-d90b-ba77254ca1ed"
      },
      "execution_count": 17,
      "outputs": [
        {
          "output_type": "stream",
          "name": "stdout",
          "text": [
            "[3 6 9]\n"
          ]
        }
      ]
    },
    {
      "cell_type": "markdown",
      "source": [
        "# `np.ndarray` 클래스의 속성들"
      ],
      "metadata": {
        "id": "jOJCMQ02xamJ"
      }
    },
    {
      "cell_type": "code",
      "source": [
        "print(num_arr1)\n",
        "print('ndim:', num_arr1.ndim)  # 차원(dimension)\n",
        "print('size:', num_arr1.size)  # 배열의 원소의 개수(정수)\n",
        "print('shape:', num_arr1.shape)  # 배열의 각 차원에서의 원소의 개수(튜플)\n",
        "print('dtype:', num_arr1.dtype)  # 배열의 원소의 데이터 타입"
      ],
      "metadata": {
        "colab": {
          "base_uri": "https://localhost:8080/"
        },
        "id": "4ll0_q39xfoJ",
        "outputId": "4b2e20dd-9954-4c76-d2c9-b071cbaf89e2"
      },
      "execution_count": 19,
      "outputs": [
        {
          "output_type": "stream",
          "name": "stdout",
          "text": [
            "[1 2 3]\n",
            "ndim: 1\n",
            "size: 3\n",
            "shape: (3,)\n",
            "dtype: int64\n"
          ]
        }
      ]
    },
    {
      "cell_type": "markdown",
      "source": [
        "*   Python의 숫자 타입:\n",
        "    *   정수: `int`\n",
        "    *   실수: `float`\n",
        "*   np.ndarray의 숫자 타입:\n",
        "    *   정수: `int8, int16, int32, int64, ...`\n",
        "    *   실수: `float16, float32, float64, ...`"
      ],
      "metadata": {
        "id": "1l7D1_RZy4mS"
      }
    },
    {
      "cell_type": "code",
      "source": [
        "# 2차원 배열\n",
        "array = np.array([[1, 2, 3], \n",
        "                  [4, 5, 6]])\n",
        "print(array)"
      ],
      "metadata": {
        "colab": {
          "base_uri": "https://localhost:8080/"
        },
        "id": "sZNkQMHCxiW5",
        "outputId": "c2eddcba-6864-46a8-e211-e6cb89b85a2e"
      },
      "execution_count": 20,
      "outputs": [
        {
          "output_type": "stream",
          "name": "stdout",
          "text": [
            "[[1 2 3]\n",
            " [4 5 6]]\n"
          ]
        }
      ]
    },
    {
      "cell_type": "code",
      "source": [
        "print('ndim:', array.ndim)\n",
        "print('size:', array.size)\n",
        "print('shape:', array.shape)"
      ],
      "metadata": {
        "colab": {
          "base_uri": "https://localhost:8080/"
        },
        "id": "XSSLuVjLzwsp",
        "outputId": "eb7aaaa0-16ea-4308-a4d5-d034f8c7f2f1"
      },
      "execution_count": 21,
      "outputs": [
        {
          "output_type": "stream",
          "name": "stdout",
          "text": [
            "ndim: 2\n",
            "size: 6\n",
            "shape: (2, 3)\n"
          ]
        }
      ]
    },
    {
      "cell_type": "markdown",
      "source": [
        "# np.array 객체 생성 함수"
      ],
      "metadata": {
        "id": "cbjS2WA11VXh"
      }
    },
    {
      "cell_type": "code",
      "source": [
        "evens = np.array([0, 2, 4, 6, 8, 10])\n",
        "print(evens)"
      ],
      "metadata": {
        "colab": {
          "base_uri": "https://localhost:8080/"
        },
        "id": "AjUSvvPZ0PTJ",
        "outputId": "71443468-2bcb-4ac3-c008-0ea24d82ec1d"
      },
      "execution_count": 22,
      "outputs": [
        {
          "output_type": "stream",
          "name": "stdout",
          "text": [
            "[ 0  2  4  6  8 10]\n"
          ]
        }
      ]
    },
    {
      "cell_type": "code",
      "source": [
        "evens = np.array(range(0, 11, 2))\n",
        "print(evens)"
      ],
      "metadata": {
        "colab": {
          "base_uri": "https://localhost:8080/"
        },
        "id": "c1J6vT5t1q1p",
        "outputId": "a7d4e5af-3878-4a25-cf76-aa7f40366721"
      },
      "execution_count": 23,
      "outputs": [
        {
          "output_type": "stream",
          "name": "stdout",
          "text": [
            "[ 0  2  4  6  8 10]\n"
          ]
        }
      ]
    },
    {
      "cell_type": "code",
      "source": [
        "evens = np.arange(0, 11, 2)\n",
        "print(evens)"
      ],
      "metadata": {
        "colab": {
          "base_uri": "https://localhost:8080/"
        },
        "id": "72k8JpY-18np",
        "outputId": "d7b1f070-fe19-4b2f-fa5e-d99cd6c57bf1"
      },
      "execution_count": 24,
      "outputs": [
        {
          "output_type": "stream",
          "name": "stdout",
          "text": [
            "[ 0  2  4  6  8 10]\n"
          ]
        }
      ]
    },
    {
      "cell_type": "code",
      "source": [
        "# np.ndarray.reshape()\n",
        "array = evens.reshape((2, 3))\n",
        "print(array)"
      ],
      "metadata": {
        "colab": {
          "base_uri": "https://localhost:8080/"
        },
        "id": "dfEntmIn2Tch",
        "outputId": "1800d831-d653-4d18-d178-a64ff61bcacc"
      },
      "execution_count": 25,
      "outputs": [
        {
          "output_type": "stream",
          "name": "stdout",
          "text": [
            "[[ 0  2  4]\n",
            " [ 6  8 10]]\n"
          ]
        }
      ]
    },
    {
      "cell_type": "code",
      "source": [
        "array = evens.reshape((3, 2))\n",
        "print(array)"
      ],
      "metadata": {
        "colab": {
          "base_uri": "https://localhost:8080/"
        },
        "id": "8Bj0bzes27nA",
        "outputId": "5d667bca-0412-43d6-e138-f2b209cf09dc"
      },
      "execution_count": 26,
      "outputs": [
        {
          "output_type": "stream",
          "name": "stdout",
          "text": [
            "[[ 0  2]\n",
            " [ 4  6]\n",
            " [ 8 10]]\n"
          ]
        }
      ]
    },
    {
      "cell_type": "code",
      "source": [
        "# 메서드(함수) 연쇄 호출\n",
        "array = np.arange(12).reshape((3, 4))\n",
        "print(array)"
      ],
      "metadata": {
        "colab": {
          "base_uri": "https://localhost:8080/"
        },
        "id": "UHNx0tGj4Lko",
        "outputId": "a39f3317-322f-40ec-ad28-12b4815cae37"
      },
      "execution_count": 28,
      "outputs": [
        {
          "output_type": "stream",
          "name": "stdout",
          "text": [
            "[[ 0  1  2  3]\n",
            " [ 4  5  6  7]\n",
            " [ 8  9 10 11]]\n"
          ]
        }
      ]
    },
    {
      "cell_type": "code",
      "source": [
        "array = np.random.randint(0, 10, size=10)  \n",
        "#> [0, 10) 범위의 정수 난수 10개로 이루어진 배열.\n",
        "print(array)"
      ],
      "metadata": {
        "colab": {
          "base_uri": "https://localhost:8080/"
        },
        "id": "fo7CabuJ4WrI",
        "outputId": "9f92db17-ab5b-4190-832b-c328f4a9323f"
      },
      "execution_count": 29,
      "outputs": [
        {
          "output_type": "stream",
          "name": "stdout",
          "text": [
            "[6 6 8 0 0 8 2 4 1 9]\n"
          ]
        }
      ]
    },
    {
      "cell_type": "code",
      "source": [
        "array = np.random.randint(0, 10, size=(3, 4))\n",
        "#> [0, 10) 범위의 (3, 4) 모양(shape)의 2차원 배열.\n",
        "print(array)"
      ],
      "metadata": {
        "colab": {
          "base_uri": "https://localhost:8080/"
        },
        "id": "8mTtW7QX5qmw",
        "outputId": "a3b37484-943a-42a0-a34f-578eb0b4d089"
      },
      "execution_count": 30,
      "outputs": [
        {
          "output_type": "stream",
          "name": "stdout",
          "text": [
            "[[1 1 5 8]\n",
            " [4 4 4 9]\n",
            " [0 0 9 0]]\n"
          ]
        }
      ]
    },
    {
      "cell_type": "code",
      "source": [
        "array = np.random.rand(5)\n",
        "#> [0, 1) 범위의 균등 분포를 만족하는 실수 난수 5개로 이루어진 배열.\n",
        "print(array)"
      ],
      "metadata": {
        "colab": {
          "base_uri": "https://localhost:8080/"
        },
        "id": "r2zfyOaG5zqI",
        "outputId": "e4a78761-df64-4436-f60b-63fb12c4ab42"
      },
      "execution_count": 31,
      "outputs": [
        {
          "output_type": "stream",
          "name": "stdout",
          "text": [
            "[0.37503814 0.22534252 0.72540268 0.81159324 0.4033881 ]\n"
          ]
        }
      ]
    },
    {
      "cell_type": "code",
      "source": [
        "array = np.random.rand(3, 4)\n",
        "#> [0, 1) 범위의 균등 분포를 만족하는 난수들로 이루어진 (3, 4) 모양의 2차원 배열.\n",
        "print(array)"
      ],
      "metadata": {
        "colab": {
          "base_uri": "https://localhost:8080/"
        },
        "id": "KHZnMQfr6vew",
        "outputId": "6bdb8004-903e-4ae3-be0c-db9ebdf9a513"
      },
      "execution_count": 32,
      "outputs": [
        {
          "output_type": "stream",
          "name": "stdout",
          "text": [
            "[[0.35769149 0.70291097 0.22757881 0.60180568]\n",
            " [0.4582242  0.19247641 0.77613808 0.29483965]\n",
            " [0.35224405 0.66193466 0.98880889 0.72507913]]\n"
          ]
        }
      ]
    },
    {
      "cell_type": "code",
      "source": [
        "array = np.random.randn(5)\n",
        "#> 표준 정규 분포(평군=0, 표준편차=1)를 따르는 난수 5개로 이루어진 배열.\n",
        "print(array)"
      ],
      "metadata": {
        "colab": {
          "base_uri": "https://localhost:8080/"
        },
        "id": "ySje-mQL6-nY",
        "outputId": "d8aa8e1f-6c6c-4078-843d-9009a7939b67"
      },
      "execution_count": 33,
      "outputs": [
        {
          "output_type": "stream",
          "name": "stdout",
          "text": [
            "[ 1.11076091  0.6137942   0.81352269 -0.13014145 -0.08067435]\n"
          ]
        }
      ]
    },
    {
      "cell_type": "code",
      "source": [
        "array = np.random.randn(3, 4)\n",
        "#> 표준 정규 분포를 따르는 난수들로 이루어진 (3, 4) 모양의 2차원 배열.\n",
        "print(array)"
      ],
      "metadata": {
        "colab": {
          "base_uri": "https://localhost:8080/"
        },
        "id": "C-bF539175lg",
        "outputId": "42433653-e97a-4f42-c928-563b092314c8"
      },
      "execution_count": 34,
      "outputs": [
        {
          "output_type": "stream",
          "name": "stdout",
          "text": [
            "[[-0.03157193  0.32441207  0.59956339 -0.59114553]\n",
            " [-1.12851421  0.18349684 -0.3728609  -0.86563772]\n",
            " [ 1.0548441  -0.18234174  0.22161339  0.02411023]]\n"
          ]
        }
      ]
    }
  ]
}