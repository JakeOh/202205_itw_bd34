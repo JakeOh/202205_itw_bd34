{
  "nbformat": 4,
  "nbformat_minor": 0,
  "metadata": {
    "colab": {
      "name": "python12_function.ipynb",
      "provenance": [],
      "collapsed_sections": [],
      "authorship_tag": "ABX9TyNSXe2/i5ZfDBrgH0Gp5/OW",
      "include_colab_link": true
    },
    "kernelspec": {
      "name": "python3",
      "display_name": "Python 3"
    },
    "language_info": {
      "name": "python"
    }
  },
  "cells": [
    {
      "cell_type": "markdown",
      "metadata": {
        "id": "view-in-github",
        "colab_type": "text"
      },
      "source": [
        "<a href=\"https://colab.research.google.com/github/JakeOh/202205_itw_bd34/blob/main/python12_function.ipynb\" target=\"_parent\"><img src=\"https://colab.research.google.com/assets/colab-badge.svg\" alt=\"Open In Colab\"/></a>"
      ]
    },
    {
      "cell_type": "markdown",
      "source": [
        "# 함수(Function)"
      ],
      "metadata": {
        "id": "tjou8ip6KBeZ"
      }
    },
    {
      "cell_type": "markdown",
      "source": [
        "*   함수(**function**): 기능을 수행하는 코드 블록.\n",
        "*   인수(**argument**): 함수가 기능을 수행하기 위해서 값이 필요한 경우, 함수를 호출할 때 함수에게 전달하는 값(들).\n",
        "*   매개변수(**parameter**): 함수를 호출할 때 전달하는 값들(argument) 저장하기 위해서 함수를 정의할 때 선언하는 변수.\n",
        "*   반환값(**return value**): 함수가 기능을 수행한 후에 그 결과로 함수를 호출한 곳으로 반환해 주는 값.\n",
        "    *   반환값이 있는 함수도 있고, 반환값이 없는 함수도 있음."
      ],
      "metadata": {
        "id": "czBOgQ3XKHFo"
      }
    },
    {
      "cell_type": "code",
      "execution_count": 1,
      "metadata": {
        "colab": {
          "base_uri": "https://localhost:8080/"
        },
        "id": "l25DVcGJJ62L",
        "outputId": "15bfa278-6487-43bd-ee6c-713f1d2dabbf"
      },
      "outputs": [
        {
          "output_type": "stream",
          "name": "stdout",
          "text": [
            "5\n"
          ]
        }
      ],
      "source": [
        "result = len([1, 2, 3, 4, 5])\n",
        "print(result)\n",
        "\n",
        "# 함수: len\n",
        "# argument: [1, 2, 3, 4, 5] -> parameter에 저장되는 값.\n",
        "# 함수 호출: len([1, 2, 3, 4, 5])\n",
        "# 반환값: 5"
      ]
    },
    {
      "cell_type": "code",
      "source": [
        "result = print('안녕하세요.')\n",
        "print(result)\n",
        "\n",
        "# 함수: print\n",
        "# argument: '안녕하세요.'\n",
        "# 함수 호출: print('안녕하세요.')\n",
        "# 반환값: None - print 함수는 기능 수행 중에 아무런 값도 반환하지 않음."
      ],
      "metadata": {
        "colab": {
          "base_uri": "https://localhost:8080/"
        },
        "id": "oYqSf6i8OLE6",
        "outputId": "31830786-b3d6-4562-f974-3fb6056f12c9"
      },
      "execution_count": 2,
      "outputs": [
        {
          "output_type": "stream",
          "name": "stdout",
          "text": [
            "안녕하세요.\n",
            "None\n"
          ]
        }
      ]
    },
    {
      "cell_type": "markdown",
      "source": [
        "# 함수 정의 방법"
      ],
      "metadata": {
        "id": "GiJM0f35PQb6"
      }
    },
    {
      "cell_type": "markdown",
      "source": [
        "\n",
        "```\n",
        "def function_name([param, ...]):\n",
        "    [\"\"\"문서화 주석(documentation): 함수에 대한 설명\"\"\"]\n",
        "    함수가 수행하는 기능을 코드 블록 작성\n",
        "    [return 반환값]\n",
        "```\n"
      ],
      "metadata": {
        "id": "327-J6kmPUzb"
      }
    },
    {
      "cell_type": "code",
      "source": [
        "def subtract(x, y):\n",
        "    \"\"\"숫자 2개(x, y)를 전달받아서, x-y 결과를 반환.\"\"\"\n",
        "    return x - y"
      ],
      "metadata": {
        "id": "WJWnWcw6OV7b"
      },
      "execution_count": 3,
      "outputs": []
    },
    {
      "cell_type": "code",
      "source": [
        "result = subtract(1, 2)\n",
        "print(result)"
      ],
      "metadata": {
        "colab": {
          "base_uri": "https://localhost:8080/"
        },
        "id": "4749SodQRR3s",
        "outputId": "2818f4bc-bdc1-4dfd-b5dd-e15e07951bb7"
      },
      "execution_count": 4,
      "outputs": [
        {
          "output_type": "stream",
          "name": "stdout",
          "text": [
            "-1\n"
          ]
        }
      ]
    },
    {
      "cell_type": "code",
      "source": [
        "result = subtract(2, 1)\n",
        "print(result)"
      ],
      "metadata": {
        "colab": {
          "base_uri": "https://localhost:8080/"
        },
        "id": "zi71-mt8Slj3",
        "outputId": "5748ed3e-60ae-4114-cdeb-55d2bd4aa922"
      },
      "execution_count": 5,
      "outputs": [
        {
          "output_type": "stream",
          "name": "stdout",
          "text": [
            "1\n"
          ]
        }
      ]
    },
    {
      "cell_type": "code",
      "source": [
        "def add(x, y):\n",
        "    \"\"\"두 숫자 x + y의 결과를 반환.\"\"\"\n",
        "    return x + y"
      ],
      "metadata": {
        "id": "TT-8IkNNUy-U"
      },
      "execution_count": 6,
      "outputs": []
    },
    {
      "cell_type": "code",
      "source": [
        "add(1, 3)"
      ],
      "metadata": {
        "colab": {
          "base_uri": "https://localhost:8080/"
        },
        "id": "H76hV3EAXmJ9",
        "outputId": "e19ffabb-5196-41eb-fe19-97048a9fb4aa"
      },
      "execution_count": 7,
      "outputs": [
        {
          "output_type": "execute_result",
          "data": {
            "text/plain": [
              "4"
            ]
          },
          "metadata": {},
          "execution_count": 7
        }
      ]
    },
    {
      "cell_type": "markdown",
      "source": [
        "## 2개 이상의 값을 반환하는 함수"
      ],
      "metadata": {
        "id": "hrRZ9c-Jbe5_"
      }
    },
    {
      "cell_type": "code",
      "source": [
        "def plus_and_minus(x, y):\n",
        "    \"\"\"2개 숫자의 x + y 값과 x - y 값을 반환.\"\"\"\n",
        "    return x + y, x - y"
      ],
      "metadata": {
        "id": "Er5C8ZsIZOCw"
      },
      "execution_count": 8,
      "outputs": []
    },
    {
      "cell_type": "code",
      "source": [
        "result = plus_and_minus(1, 2)\n",
        "print(result)  # 리턴되는 값은 2개 원소를 갖는 tuple"
      ],
      "metadata": {
        "colab": {
          "base_uri": "https://localhost:8080/"
        },
        "id": "8djidfiQZ_5O",
        "outputId": "b8cd95de-cc05-4082-af52-bcd2012649f8"
      },
      "execution_count": 9,
      "outputs": [
        {
          "output_type": "stream",
          "name": "stdout",
          "text": [
            "(3, -1)\n"
          ]
        }
      ]
    },
    {
      "cell_type": "code",
      "source": [
        "a, b = plus_and_minus(1, 2)  # tuple decomposition(분해): a, b = (3, -1)\n",
        "print(a, b)"
      ],
      "metadata": {
        "colab": {
          "base_uri": "https://localhost:8080/"
        },
        "id": "6RlK3Yh9a-In",
        "outputId": "4c43e7d9-e753-4a25-9bca-d5f297cb3312"
      },
      "execution_count": 10,
      "outputs": [
        {
          "output_type": "stream",
          "name": "stdout",
          "text": [
            "3 -1\n"
          ]
        }
      ]
    },
    {
      "cell_type": "markdown",
      "source": [
        "## 값을 반환하지 않는 함수"
      ],
      "metadata": {
        "id": "hgpx4u6tbk1v"
      }
    },
    {
      "cell_type": "code",
      "source": [
        "def repeat_message(message, n):\n",
        "    \"\"\"message를 n번 반복해서 출력.\n",
        "    \n",
        "    @param message: str.\n",
        "    @param n: int. 0 또는 양의 정수.\n",
        "    @return: None\n",
        "    \"\"\"\n",
        "    for _ in range(n):\n",
        "        print(message)\n",
        "    \n",
        "    return None\n",
        "    # 반환값이 없는 함수인 경우, 보통 return None 문장은 생략함."
      ],
      "metadata": {
        "id": "9uLKAlvpbrCA"
      },
      "execution_count": 11,
      "outputs": []
    },
    {
      "cell_type": "code",
      "source": [
        "repeat_message('안녕하세요', 3)"
      ],
      "metadata": {
        "colab": {
          "base_uri": "https://localhost:8080/"
        },
        "id": "XjE03EHqdZ2R",
        "outputId": "5e949ab9-2a05-4c81-c800-c0c08e1ebe21"
      },
      "execution_count": 12,
      "outputs": [
        {
          "output_type": "stream",
          "name": "stdout",
          "text": [
            "안녕하세요\n",
            "안녕하세요\n",
            "안녕하세요\n"
          ]
        }
      ]
    },
    {
      "cell_type": "code",
      "source": [
        "repeat_message('Hello, Python!', 5)\n",
        "print('함수 호출 끝')"
      ],
      "metadata": {
        "colab": {
          "base_uri": "https://localhost:8080/"
        },
        "id": "iuXp2KPuez6J",
        "outputId": "326fa4a1-918f-4ccb-94a1-7c86db343e62"
      },
      "execution_count": 13,
      "outputs": [
        {
          "output_type": "stream",
          "name": "stdout",
          "text": [
            "Hello, Python!\n",
            "Hello, Python!\n",
            "Hello, Python!\n",
            "Hello, Python!\n",
            "Hello, Python!\n",
            "함수 호출 끝\n"
          ]
        }
      ]
    },
    {
      "cell_type": "markdown",
      "source": [
        "## 함수 정의 연습"
      ],
      "metadata": {
        "id": "R-XqoL9Ogqtp"
      }
    },
    {
      "cell_type": "code",
      "source": [
        "import random"
      ],
      "metadata": {
        "id": "wYBXTnQEhIyl"
      },
      "execution_count": 14,
      "outputs": []
    },
    {
      "cell_type": "markdown",
      "source": [
        "*   함수 이름: make_list\n",
        "*   기능: [start, end) 범위의 정수 난수 n개를 갖는 리스트를 반환."
      ],
      "metadata": {
        "id": "2nisi8THgtB5"
      }
    },
    {
      "cell_type": "code",
      "source": [
        "def make_list(start, end, n):\n",
        "    numbers = []  # n개의 난수를 저장할 빈 리스트\n",
        "    for _ in range(n):  # n번 반복하면서\n",
        "        # [start, end) 범위의 정수 난수를 리스트에 추가\n",
        "        numbers.append(random.randrange(start, end))\n",
        "\n",
        "    return numbers"
      ],
      "metadata": {
        "id": "a4kIRyU9e3JQ"
      },
      "execution_count": 15,
      "outputs": []
    },
    {
      "cell_type": "code",
      "source": [
        "make_list(0, 100, 10)"
      ],
      "metadata": {
        "colab": {
          "base_uri": "https://localhost:8080/"
        },
        "id": "jcUlp48mh_Kp",
        "outputId": "d4d4826a-9d65-455a-9845-9a36c82ed905"
      },
      "execution_count": 16,
      "outputs": [
        {
          "output_type": "execute_result",
          "data": {
            "text/plain": [
              "[28, 51, 90, 68, 29, 28, 1, 36, 6, 87]"
            ]
          },
          "metadata": {},
          "execution_count": 16
        }
      ]
    },
    {
      "cell_type": "code",
      "source": [
        "make_list(0, 10, 5)"
      ],
      "metadata": {
        "colab": {
          "base_uri": "https://localhost:8080/"
        },
        "id": "e7NrMEhxiNhR",
        "outputId": "4ccf04e6-0bca-45b5-9668-df97b1b811d9"
      },
      "execution_count": 17,
      "outputs": [
        {
          "output_type": "execute_result",
          "data": {
            "text/plain": [
              "[0, 1, 0, 7, 0]"
            ]
          },
          "metadata": {},
          "execution_count": 17
        }
      ]
    },
    {
      "cell_type": "markdown",
      "source": [
        "*   식(expression): 값(literal), 변수 이름, 연산의 결과, 함수 호출 결과\n",
        "    *   1, 'hello'\n",
        "    *   1 + 2, 1 > 2\n",
        "*   문장(statement): 가장 작은 코드 실행 단위.\n",
        "    *   `x = 1`\n",
        "    *   `print(x)`\n",
        "*   식(expression)은 문장(statement)의 일부가 됨.\n",
        "    *   `result = '짝수' if x % 2 == 0 else '홀수'`\n",
        "\n",
        "*   Jupyter notebook: 코드 셀, 콘솔, 텍스트 셀\n",
        "    *   Jupyter notebook의 편의 기능 중에, 코드 셀에서 가장 마지막 줄이 식(expression)인 경우 그 식을 평가(계산)해서 그 값을 콘솔 창에 출력해줌.\n",
        "    *   코드 셀의 가장 마지막이 아닌 줄에 문장이 아니라 식이 있으며, 그 식의 결과는 출력이 되지 않음."
      ],
      "metadata": {
        "id": "EoWAieVUmL71"
      }
    },
    {
      "cell_type": "code",
      "source": [
        "print(1 + 2)  # 식 1 + 2의 결과를 출력하세요."
      ],
      "metadata": {
        "colab": {
          "base_uri": "https://localhost:8080/"
        },
        "id": "tvvRy5YXo8Yc",
        "outputId": "2cab5c84-4055-4ca3-ad5b-b6e659f44342"
      },
      "execution_count": 18,
      "outputs": [
        {
          "output_type": "stream",
          "name": "stdout",
          "text": [
            "3\n"
          ]
        }
      ]
    },
    {
      "cell_type": "code",
      "source": [
        "1 + 3  # 식 1 + 3"
      ],
      "metadata": {
        "colab": {
          "base_uri": "https://localhost:8080/"
        },
        "id": "SNoKm2QNpKvU",
        "outputId": "31cfac15-64dc-4395-f65a-9f834060aae3"
      },
      "execution_count": 19,
      "outputs": [
        {
          "output_type": "execute_result",
          "data": {
            "text/plain": [
              "4"
            ]
          },
          "metadata": {},
          "execution_count": 19
        }
      ]
    },
    {
      "cell_type": "code",
      "source": [
        "1 + 2  # 식\n",
        "1 + 3  # 식\n",
        "1 + 4  # 식"
      ],
      "metadata": {
        "colab": {
          "base_uri": "https://localhost:8080/"
        },
        "id": "ACdFVa5tpZ2s",
        "outputId": "ad44187d-5663-4e5d-f91e-587697db0e9d"
      },
      "execution_count": 20,
      "outputs": [
        {
          "output_type": "execute_result",
          "data": {
            "text/plain": [
              "5"
            ]
          },
          "metadata": {},
          "execution_count": 20
        }
      ]
    },
    {
      "cell_type": "code",
      "source": [
        "print(1 + 2)  # 문장\n",
        "print(1 + 3)  # 문장\n",
        "1 + 4"
      ],
      "metadata": {
        "colab": {
          "base_uri": "https://localhost:8080/"
        },
        "id": "Z97kRugBpwJV",
        "outputId": "31310e9e-b295-4516-9443-d3e0092d9908"
      },
      "execution_count": 21,
      "outputs": [
        {
          "output_type": "stream",
          "name": "stdout",
          "text": [
            "3\n",
            "4\n"
          ]
        },
        {
          "output_type": "execute_result",
          "data": {
            "text/plain": [
              "5"
            ]
          },
          "metadata": {},
          "execution_count": 21
        }
      ]
    },
    {
      "cell_type": "code",
      "source": [
        "result = sum([1, 2, 3, 4, 5])  # sum() 함수의 호출 결과를 변수 result에 저장하세요.\n",
        "# print(result)  # 변수 result에 저장된 값을 출력하세요.\n",
        "result  # 식"
      ],
      "metadata": {
        "colab": {
          "base_uri": "https://localhost:8080/"
        },
        "id": "z0SwQ0Dxqkn9",
        "outputId": "da9a4f2e-b01f-4cfc-9ff4-55441ea02f4a"
      },
      "execution_count": 22,
      "outputs": [
        {
          "output_type": "execute_result",
          "data": {
            "text/plain": [
              "15"
            ]
          },
          "metadata": {},
          "execution_count": 22
        }
      ]
    },
    {
      "cell_type": "code",
      "source": [
        "sum([1, 2, 3, 4])"
      ],
      "metadata": {
        "colab": {
          "base_uri": "https://localhost:8080/"
        },
        "id": "6jIabY2Sr3Yd",
        "outputId": "85e3f245-f773-4a47-dc10-fad20129da2f"
      },
      "execution_count": 23,
      "outputs": [
        {
          "output_type": "execute_result",
          "data": {
            "text/plain": [
              "10"
            ]
          },
          "metadata": {},
          "execution_count": 23
        }
      ]
    },
    {
      "cell_type": "markdown",
      "source": [
        "*   함수 이름: word_count\n",
        "*   기능: 문자열들을 원소로 갖는 리스트를 전달받아서, 리스트에 문자열이 몇 번 등장하는 지를 key와 value로 갖는 dictionary를 리턴.\n",
        "\n",
        "```\n",
        "result = word_count(['list', 'dict', 'list', 'tuple', 'tuple', 'tuple'])\n",
        "print(result)\n",
        "\n",
        ">>> {'list': 2, 'dict': 1, 'tuple': 3}\n",
        "```\n"
      ],
      "metadata": {
        "id": "hBPbZKtLsxSl"
      }
    },
    {
      "cell_type": "code",
      "source": [
        "counts = {}\n",
        "print(counts)\n",
        "\n",
        "counts['list'] = 1\n",
        "print(counts)\n",
        "\n",
        "counts['dict'] = 1\n",
        "print(counts)\n",
        "\n",
        "counts['list'] += 1\n",
        "print(counts)"
      ],
      "metadata": {
        "colab": {
          "base_uri": "https://localhost:8080/"
        },
        "id": "08yWWMcAXg7w",
        "outputId": "8a9418de-811e-46b6-e5c9-f8dcb6b32d08"
      },
      "execution_count": 27,
      "outputs": [
        {
          "output_type": "stream",
          "name": "stdout",
          "text": [
            "{}\n",
            "{'list': 1}\n",
            "{'list': 1, 'dict': 1}\n",
            "{'list': 2, 'dict': 1}\n"
          ]
        }
      ]
    },
    {
      "cell_type": "code",
      "source": [
        "def word_count(array):\n",
        "    counts = {}  # 문자열을 키로 하고 문자열의 등장 횟수를 값으로 하는 dict를 만들기 위해서\n",
        "    for x in array:  # argument로 전달된 리스트에서 문자열을 하나씩 꺼내면서 반복\n",
        "        if x in counts:  # 리스트의 문자열이 dict에 있으면(dict의 키로 존재하면)\n",
        "            counts[x] += 1  # 문자열의 등장 횟수를 1 증가\n",
        "        else:  # 리스트의 문자열이 dict에 없으면(dict의 키로 존재하지 않으면)\n",
        "            counts[x] = 1  # 문자열이 처음 등장한 경우이므로, 등장 횟수는 1\n",
        "    return counts"
      ],
      "metadata": {
        "id": "v1TvpR8-WRpc"
      },
      "execution_count": 28,
      "outputs": []
    },
    {
      "cell_type": "code",
      "source": [
        "word_count(['list', 'dict', 'list', 'tuple', 'tuple', 'tuple'])"
      ],
      "metadata": {
        "colab": {
          "base_uri": "https://localhost:8080/"
        },
        "id": "QMfAYN7TZKwz",
        "outputId": "0fa208ce-d94c-4027-ffb8-85e3a5027934"
      },
      "execution_count": 29,
      "outputs": [
        {
          "output_type": "execute_result",
          "data": {
            "text/plain": [
              "{'dict': 1, 'list': 2, 'tuple': 3}"
            ]
          },
          "metadata": {},
          "execution_count": 29
        }
      ]
    },
    {
      "cell_type": "code",
      "source": [
        "word_count(['a', 'b', 'b', 'c', 'd', 'd', 'd'])"
      ],
      "metadata": {
        "colab": {
          "base_uri": "https://localhost:8080/"
        },
        "id": "l77DDeQEayRl",
        "outputId": "2abd13cf-25a9-4185-a479-f90b0c21ccdf"
      },
      "execution_count": 30,
      "outputs": [
        {
          "output_type": "execute_result",
          "data": {
            "text/plain": [
              "{'a': 1, 'b': 2, 'c': 1, 'd': 3}"
            ]
          },
          "metadata": {},
          "execution_count": 30
        }
      ]
    },
    {
      "cell_type": "code",
      "source": [
        "d = {'a': 1, 'b': 2}\n",
        "print(d.keys())\n",
        "for k in d.keys():\n",
        "    print(k)\n",
        "print()\n",
        "for k in d:\n",
        "    print(k)"
      ],
      "metadata": {
        "colab": {
          "base_uri": "https://localhost:8080/"
        },
        "id": "TXpKsx9ya6ac",
        "outputId": "acb6e0e1-c176-4699-8437-7a38bcb6d126"
      },
      "execution_count": 34,
      "outputs": [
        {
          "output_type": "stream",
          "name": "stdout",
          "text": [
            "dict_keys(['a', 'b'])\n",
            "a\n",
            "b\n",
            "\n",
            "a 1\n",
            "b 2\n"
          ]
        }
      ]
    }
  ]
}