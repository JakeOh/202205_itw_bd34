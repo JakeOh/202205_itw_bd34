{
  "nbformat": 4,
  "nbformat_minor": 0,
  "metadata": {
    "colab": {
      "name": "python15_oop.ipynb",
      "provenance": [],
      "collapsed_sections": [],
      "authorship_tag": "ABX9TyOz4Kg3eeOM2rBmr9p950F0",
      "include_colab_link": true
    },
    "kernelspec": {
      "name": "python3",
      "display_name": "Python 3"
    },
    "language_info": {
      "name": "python"
    }
  },
  "cells": [
    {
      "cell_type": "markdown",
      "metadata": {
        "id": "view-in-github",
        "colab_type": "text"
      },
      "source": [
        "<a href=\"https://colab.research.google.com/github/JakeOh/202205_itw_bd34/blob/main/python15_oop.ipynb\" target=\"_parent\"><img src=\"https://colab.research.google.com/assets/colab-badge.svg\" alt=\"Open In Colab\"/></a>"
      ]
    },
    {
      "cell_type": "markdown",
      "source": [
        "# 배경 설명"
      ],
      "metadata": {
        "id": "9l0eNxG0krv6"
      }
    },
    {
      "cell_type": "markdown",
      "source": [
        "## list, dict, 반복문 사용"
      ],
      "metadata": {
        "id": "KrHYA39mkxMP"
      }
    },
    {
      "cell_type": "code",
      "execution_count": 15,
      "metadata": {
        "id": "T4RDAYQzh8Ho"
      },
      "outputs": [],
      "source": [
        "students = [\n",
        "            {'name': 'Aaa', 'korean': 100, 'english': 95, 'math': 90},\n",
        "            {'name': 'Bbb', 'korean': 50, 'english': 100, 'math': 70},\n",
        "            {'name': 'Ccc', 'korean': 80, 'english': 88, 'math': 20},\n",
        "            {'name': 'Ddd', 'korean': 100, 'english': 100, 'math': 100}\n",
        "]"
      ]
    },
    {
      "cell_type": "code",
      "source": [
        "# students에 있는 각 학생들의 총점과 평균을 출력\n",
        "for s in students:\n",
        "    total = s['korean'] + s['english'] + s['math']  # 학생의 세 과목 총점\n",
        "    mean = total / 3  # 학생의 세 과목 평균 점수\n",
        "    print(f'이름: {s[\"name\"]}, 총점: {total}, 평균: {mean}')"
      ],
      "metadata": {
        "colab": {
          "base_uri": "https://localhost:8080/"
        },
        "id": "aVEk40tKlnXB",
        "outputId": "643d4638-615c-4a2e-d28f-489cd5829559"
      },
      "execution_count": 16,
      "outputs": [
        {
          "output_type": "stream",
          "name": "stdout",
          "text": [
            "이름: Aaa, 총점: 285, 평균: 95.0\n",
            "이름: Bbb, 총점: 220, 평균: 73.33333333333333\n",
            "이름: Ccc, 총점: 188, 평균: 62.666666666666664\n",
            "이름: Ddd, 총점: 300, 평균: 100.0\n"
          ]
        }
      ]
    },
    {
      "cell_type": "markdown",
      "source": [
        "위 코드의 문제점은 dict의 key가 학생마다 다르게 들어간 경우 에러가 발생할 수 있음.\n",
        "\n",
        "학생 한 명에 대한 dict를 함수를 사용해서 항상 동일한 key를 갖도록 만들면 되지 않을까?"
      ],
      "metadata": {
        "id": "derWlMpPqL38"
      }
    },
    {
      "cell_type": "markdown",
      "source": [
        "## 함수형 프로그래밍(Functional Programming)"
      ],
      "metadata": {
        "id": "mTrE1qSPqlK8"
      }
    },
    {
      "cell_type": "code",
      "source": [
        "def create_student(name, korean, english, math):\n",
        "    student = {'name': name,\n",
        "               'korean': korean,\n",
        "               'english': english,\n",
        "               'math': math}\n",
        "    return student"
      ],
      "metadata": {
        "id": "iaXPnOvOqqrx"
      },
      "execution_count": 17,
      "outputs": []
    },
    {
      "cell_type": "code",
      "source": [
        "stu1 = create_student('오쌤', 50, 70, 100)\n",
        "stu1"
      ],
      "metadata": {
        "colab": {
          "base_uri": "https://localhost:8080/"
        },
        "id": "r_gtGEwFwCz1",
        "outputId": "1ea0f23b-85a2-48d3-cb99-e79da5bdbf07"
      },
      "execution_count": 18,
      "outputs": [
        {
          "output_type": "execute_result",
          "data": {
            "text/plain": [
              "{'english': 70, 'korean': 50, 'math': 100, 'name': '오쌤'}"
            ]
          },
          "metadata": {},
          "execution_count": 18
        }
      ]
    },
    {
      "cell_type": "code",
      "source": [
        "def calc_total(student):\n",
        "    total = student['korean'] + student['english'] + student['math']\n",
        "    return total"
      ],
      "metadata": {
        "id": "AXexgRulwKO7"
      },
      "execution_count": 19,
      "outputs": []
    },
    {
      "cell_type": "code",
      "source": [
        "calc_total(stu1)"
      ],
      "metadata": {
        "colab": {
          "base_uri": "https://localhost:8080/"
        },
        "id": "SlWr4rZsyEEl",
        "outputId": "032bbb59-410b-4915-aa72-9d2641f091ce"
      },
      "execution_count": 20,
      "outputs": [
        {
          "output_type": "execute_result",
          "data": {
            "text/plain": [
              "220"
            ]
          },
          "metadata": {},
          "execution_count": 20
        }
      ]
    },
    {
      "cell_type": "code",
      "source": [
        "def calc_mean(student):\n",
        "    mean = calc_total(student) / 3\n",
        "    return mean"
      ],
      "metadata": {
        "id": "OMwpZcIQyGjl"
      },
      "execution_count": 21,
      "outputs": []
    },
    {
      "cell_type": "code",
      "source": [
        "calc_mean(stu1)"
      ],
      "metadata": {
        "colab": {
          "base_uri": "https://localhost:8080/"
        },
        "id": "IK58y8l_zSdN",
        "outputId": "c3a0f6bd-457a-42ef-bc29-5b0e81fe068c"
      },
      "execution_count": 22,
      "outputs": [
        {
          "output_type": "execute_result",
          "data": {
            "text/plain": [
              "73.33333333333333"
            ]
          },
          "metadata": {},
          "execution_count": 22
        }
      ]
    },
    {
      "cell_type": "code",
      "source": [
        "students = [\n",
        "            create_student('Aaa', 100, 90, 80),\n",
        "            create_student('Bbb', 50, 60, 70),\n",
        "            create_student('Ccc', 90, 92, 98)\n",
        "]\n",
        "students"
      ],
      "metadata": {
        "colab": {
          "base_uri": "https://localhost:8080/"
        },
        "id": "II1hq5NgzZhE",
        "outputId": "dee9015f-1b97-474d-badc-a62d066b7a8a"
      },
      "execution_count": 23,
      "outputs": [
        {
          "output_type": "execute_result",
          "data": {
            "text/plain": [
              "[{'english': 90, 'korean': 100, 'math': 80, 'name': 'Aaa'},\n",
              " {'english': 60, 'korean': 50, 'math': 70, 'name': 'Bbb'},\n",
              " {'english': 92, 'korean': 90, 'math': 98, 'name': 'Ccc'}]"
            ]
          },
          "metadata": {},
          "execution_count": 23
        }
      ]
    },
    {
      "cell_type": "code",
      "source": [
        "for s in students:\n",
        "    total = calc_total(s)\n",
        "    mean = calc_mean(s)\n",
        "    print(f'이름: {s[\"name\"]}, 총점: {total}, 평균: {mean}')"
      ],
      "metadata": {
        "colab": {
          "base_uri": "https://localhost:8080/"
        },
        "id": "2OK5yy3G0rkF",
        "outputId": "cc874033-1b39-4cc9-8347-74a1a4f02a43"
      },
      "execution_count": 24,
      "outputs": [
        {
          "output_type": "stream",
          "name": "stdout",
          "text": [
            "이름: Aaa, 총점: 270, 평균: 90.0\n",
            "이름: Bbb, 총점: 180, 평균: 60.0\n",
            "이름: Ccc, 총점: 280, 평균: 93.33333333333333\n"
          ]
        }
      ]
    },
    {
      "cell_type": "markdown",
      "source": [
        "함수형 프로그래밍 방식의 문제점은 총점, 평균을 계산하는 함수들이 학생 dict(국어, 영어, 수학 점수)와 매우 밀접한 관계를 맺고 있다는 점.\n",
        "\n",
        "서로 밀접한 관계를 가지고 있는 데이터(이름, 국어, 영어, 수학)들과 기능(함수: 평균, 총점 계산)들을 하나의 객체로 묶을 수 없을까?"
      ],
      "metadata": {
        "id": "egL_rKMz3osm"
      }
    },
    {
      "cell_type": "markdown",
      "source": [
        "# OOP(Object-Oriented Programming, 객체 지향 프로그래밍)"
      ],
      "metadata": {
        "id": "TrjsgcL44Rfm"
      }
    },
    {
      "cell_type": "markdown",
      "source": [
        "*   객체(object): 프로그램으로 구현할 대상. 데이터 + 기능 ==> 자료구조.\n",
        "*   클래스(class): 객체를 구현하기 위한 설계도. 프로그램 코드.\n",
        "    *   특성, 속성(attribute, property): 객체가 가져야 하는 데이터. 변수에 저장되는 값.\n",
        "    *   메서드(method): 객체가 가져야 하는 기능. 클래스 내부에서 정의하는 함수.\n",
        "    *   class = property + method\n",
        "*   인스턴스(instance): 설계도인 클래스에 따라서 메모리에 생성된 객체.\n",
        "*   인스턴스 생성(intanciate): 클래스의 인스턴스를 메모리에 적재하는 과정.\n",
        "*   생성자(constructor): 인스턴스를 생성해 주는 함수. 클래스 이름과 동일.\n",
        "    *   생성자를 호출하면 클래스에서 정의된 `__init__()` 메서드가 자동으로 호출됨."
      ],
      "metadata": {
        "id": "ZTmhqlRQ4c4O"
      }
    },
    {
      "cell_type": "code",
      "source": [
        "# 클래스 정의\n",
        "class Student:\n",
        "    # 객체의 속성들을 초기화(저장)하는 함수 - 생성자를 호출하면 자동으로 호출되는 메서드.\n",
        "    def __init__(self, name, korean, english, math):\n",
        "        self.name = name\n",
        "        self.korean = korean\n",
        "        self.english = english\n",
        "        self.math = math\n",
        "\n",
        "    # 학생(Student) 객체의 기능 - 메서드 정의\n",
        "    def calc_total(self):\n",
        "        total = self.korean + self.english + self.math\n",
        "        return total\n",
        "    \n",
        "    def calc_mean(self):\n",
        "        mean = self.calc_total() / 3\n",
        "        return mean"
      ],
      "metadata": {
        "id": "d8bjyj3D1z7P"
      },
      "execution_count": 25,
      "outputs": []
    },
    {
      "cell_type": "code",
      "source": [
        "gildong = Student('홍길동', 100, 50, 90)  # 생성자 호출.\n",
        "print(gildong)  # gildong 변수: 생성된 인스턴스의 주소값을 저장.\n",
        "print(type(gildong))"
      ],
      "metadata": {
        "colab": {
          "base_uri": "https://localhost:8080/"
        },
        "id": "itdHe5laEImz",
        "outputId": "283d0cb8-7e11-40dc-f8bf-50c5905bea93"
      },
      "execution_count": 26,
      "outputs": [
        {
          "output_type": "stream",
          "name": "stdout",
          "text": [
            "<__main__.Student object at 0x7f7e66a3ccd0>\n",
            "<class '__main__.Student'>\n"
          ]
        }
      ]
    },
    {
      "cell_type": "code",
      "source": [
        "# 객체(인스턴스) 참조(reference): 인스턴스가 저장된 메모리 주소로 객체를 찾아가는 것.\n",
        "print(gildong.name)  # 참조 연산자(reference operator): .\n",
        "print(gildong.korean)\n",
        "print(gildong.english)\n",
        "print(gildong.math)"
      ],
      "metadata": {
        "colab": {
          "base_uri": "https://localhost:8080/"
        },
        "id": "S44xlMwlF5XM",
        "outputId": "a642220f-02c6-47ee-cf25-e4e0b87796dd"
      },
      "execution_count": 27,
      "outputs": [
        {
          "output_type": "stream",
          "name": "stdout",
          "text": [
            "홍길동\n",
            "100\n",
            "50\n",
            "90\n"
          ]
        }
      ]
    },
    {
      "cell_type": "code",
      "source": [
        "print(gildong.calc_total())\n",
        "print(gildong.calc_mean())"
      ],
      "metadata": {
        "colab": {
          "base_uri": "https://localhost:8080/"
        },
        "id": "-UdSrKk7TBgm",
        "outputId": "ce309f1b-9533-4890-9039-05809022c6dc"
      },
      "execution_count": 28,
      "outputs": [
        {
          "output_type": "stream",
          "name": "stdout",
          "text": [
            "240\n",
            "80.0\n"
          ]
        }
      ]
    },
    {
      "cell_type": "code",
      "source": [
        "oh_ssam = Student(name='오쌤', korean=20, english=30, math=27)"
      ],
      "metadata": {
        "id": "Gl_qPe-Ys9JT"
      },
      "execution_count": 29,
      "outputs": []
    },
    {
      "cell_type": "code",
      "source": [
        "print(oh_ssam.name, oh_ssam.korean)"
      ],
      "metadata": {
        "colab": {
          "base_uri": "https://localhost:8080/"
        },
        "id": "GdXY0Fhdtq2T",
        "outputId": "cde11a51-35df-4c8f-e5ec-c393b66e9d14"
      },
      "execution_count": 30,
      "outputs": [
        {
          "output_type": "stream",
          "name": "stdout",
          "text": [
            "오쌤 20\n"
          ]
        }
      ]
    },
    {
      "cell_type": "code",
      "source": [
        "print(oh_ssam.calc_total())\n",
        "print(oh_ssam.calc_mean())"
      ],
      "metadata": {
        "colab": {
          "base_uri": "https://localhost:8080/"
        },
        "id": "4SXKKIWIuWED",
        "outputId": "de088eeb-ee5e-4a62-a707-3986361122c6"
      },
      "execution_count": 31,
      "outputs": [
        {
          "output_type": "stream",
          "name": "stdout",
          "text": [
            "77\n",
            "25.666666666666668\n"
          ]
        }
      ]
    },
    {
      "cell_type": "markdown",
      "source": [
        "# 클래스 작성 연습 1"
      ],
      "metadata": {
        "id": "hlwggrxI3Kc-"
      }
    },
    {
      "cell_type": "code",
      "source": [
        "import math  # math 모듈을 임포트(사용) - sqrt() 함수를 사용하기 위해서"
      ],
      "metadata": {
        "id": "y9-F-d-F4nqx"
      },
      "execution_count": 32,
      "outputs": []
    },
    {
      "cell_type": "code",
      "source": [
        "class Point:\n",
        "    \"\"\"2차원 평면 상의 점의 좌표(x, y)를 표현하는 클래스\"\"\"\n",
        "\n",
        "    def __init__(self, x=0, y=0):\n",
        "        self.x = x\n",
        "        self.y = y\n",
        "\n",
        "    def move(self, dx, dy):\n",
        "        \"\"\"점의 좌표를 원래 위치에서 x축의 방향으로 dx만큼,\n",
        "        y축의 방향으로 dy만큼 이동시키는 메서드\"\"\"\n",
        "        self.x += dx\n",
        "        self.y += dy\n",
        "\n",
        "    def distance(self, other):\n",
        "        \"\"\"현재 위치에서 다른 Point 객체 other까지의 거리를 리턴하는 메서드.\"\"\"\n",
        "        d = math.sqrt((self.x - other.x) ** 2 + (self.y - other.y) ** 2)\n",
        "        return d"
      ],
      "metadata": {
        "id": "gZ6cPc614pDP"
      },
      "execution_count": 33,
      "outputs": []
    },
    {
      "cell_type": "code",
      "source": [
        "pt1 = Point()  # default argument를 사용한 생성자 호출\n",
        "print(f'pt1=({pt1.x}, {pt1.y})')"
      ],
      "metadata": {
        "colab": {
          "base_uri": "https://localhost:8080/"
        },
        "id": "eXthhPbf9YT5",
        "outputId": "ffb9339b-e963-43b9-da85-5c1f2361a368"
      },
      "execution_count": 34,
      "outputs": [
        {
          "output_type": "stream",
          "name": "stdout",
          "text": [
            "pt1=(0, 0)\n"
          ]
        }
      ]
    },
    {
      "cell_type": "code",
      "source": [
        "pt2 = Point(x=3, y=4)\n",
        "print(f'pt2=({pt2.x}, {pt2.y})')"
      ],
      "metadata": {
        "colab": {
          "base_uri": "https://localhost:8080/"
        },
        "id": "JYEF_GPv_BvZ",
        "outputId": "579d2c0a-62ae-4301-e33b-86de89df73e6"
      },
      "execution_count": 35,
      "outputs": [
        {
          "output_type": "stream",
          "name": "stdout",
          "text": [
            "pt2=(3, 4)\n"
          ]
        }
      ]
    },
    {
      "cell_type": "code",
      "source": [
        "# pt1과 pt2 사이의 거리\n",
        "pt1.distance(pt2)"
      ],
      "metadata": {
        "colab": {
          "base_uri": "https://localhost:8080/"
        },
        "id": "uJ8LzK91ADWz",
        "outputId": "3f8c4f29-5594-4611-c859-8c8167d09307"
      },
      "execution_count": 36,
      "outputs": [
        {
          "output_type": "execute_result",
          "data": {
            "text/plain": [
              "5.0"
            ]
          },
          "metadata": {},
          "execution_count": 36
        }
      ]
    },
    {
      "cell_type": "code",
      "source": [
        "# pt2과 pt1 사이의 거리\n",
        "pt2.distance(pt1)"
      ],
      "metadata": {
        "colab": {
          "base_uri": "https://localhost:8080/"
        },
        "id": "TndA7C1DBewS",
        "outputId": "f39fa8bb-6073-4b40-abc6-b68dcf9fae55"
      },
      "execution_count": 38,
      "outputs": [
        {
          "output_type": "execute_result",
          "data": {
            "text/plain": [
              "5.0"
            ]
          },
          "metadata": {},
          "execution_count": 38
        }
      ]
    },
    {
      "cell_type": "code",
      "source": [
        "# pt1(0, 0)을 (1, 2)로 옮김\n",
        "pt1.move(1, 2)\n",
        "print(f'pt1=({pt1.x}, {pt1.y})')"
      ],
      "metadata": {
        "colab": {
          "base_uri": "https://localhost:8080/"
        },
        "id": "ynSjnPTIFtat",
        "outputId": "8d9c7306-af0c-4c52-8986-5dec90f79c6c"
      },
      "execution_count": 39,
      "outputs": [
        {
          "output_type": "stream",
          "name": "stdout",
          "text": [
            "pt1=(1, 2)\n"
          ]
        }
      ]
    },
    {
      "cell_type": "markdown",
      "source": [
        "# 클래스 작성 연습 2"
      ],
      "metadata": {
        "id": "RseVd-sFHRPM"
      }
    },
    {
      "cell_type": "code",
      "source": [
        "class Rectangle:\n",
        "    \"\"\"2차원 평면에서 직사각형을 표현하는 클래스\"\"\"\n",
        "\n",
        "    def __init__(self, x=0, y=0, width=0, height=0):\n",
        "        \"\"\"직사각형 객체의 속성들을 초기화.\n",
        "\n",
        "        x, y: 직사각형의 좌하단의 꼭지점의 x, y좌표.\n",
        "        width: 직사각형의 가로 길이.\n",
        "        height: 직사각형의 세로 길이.\n",
        "        \"\"\"\n",
        "        self.x = x\n",
        "        self.y = y\n",
        "        self.width = width\n",
        "        self.height = height\n",
        "\n",
        "    def area(self):\n",
        "        \"\"\"직사각형의 넓이를 리턴하는 메서드\"\"\"\n",
        "        return self.width * self.height\n",
        "\n",
        "    def perimeter(self):\n",
        "        \"\"\"직사각형의 둘레의 길이를 리턴하는 메서드\"\"\"\n",
        "        return (self.width + self.height) * 2\n",
        "\n",
        "    def resize(self, dw, dh):\n",
        "        \"\"\" 직사각형의 가로 길이를 dw만큼, \n",
        "        직사각형의 세로 길이를 dy만큼 변경하는 메서드\"\"\"\n",
        "        self.width += dw\n",
        "        self.height += dh\n",
        "\n",
        "    def center(self):\n",
        "        \"\"\"직사각형의 중심의 x, y좌표를 리턴하는 메서드\"\"\"\n",
        "        center_x = self.x + self.width / 2\n",
        "        center_y = self.y + self.height / 2\n",
        "        return center_x, center_y"
      ],
      "metadata": {
        "id": "o6GV-13IHTND"
      },
      "execution_count": 40,
      "outputs": []
    },
    {
      "cell_type": "code",
      "source": [
        "# 꼭지점의 좌표가 (0, 0)이고, 가로/세로 길이가 각각 3, 4인 직사각형\n",
        "rect1 = Rectangle(width=3, height=4)\n",
        "print(f'rect1: (x={rect1.x}, y={rect1.y}, w={rect1.width}, h={rect1.height})')"
      ],
      "metadata": {
        "colab": {
          "base_uri": "https://localhost:8080/"
        },
        "id": "sMe7AyWWi9Ck",
        "outputId": "45c29a0d-ed14-4560-ae15-e608e5e29bf5"
      },
      "execution_count": 41,
      "outputs": [
        {
          "output_type": "stream",
          "name": "stdout",
          "text": [
            "rect1: (x=0, y=0, w=3, h=4)\n"
          ]
        }
      ]
    },
    {
      "cell_type": "code",
      "source": [
        "# 꼭지점의 좌표가 (1, 1)이고 가로/세로 길이가 4, 3인 직사각형\n",
        "rect2 = Rectangle(x=1, y=1, width=40, height=30)\n",
        "print(f'rect2: (x={rect2.x}, y={rect2.y}, w={rect2.width}, h={rect2.height})')"
      ],
      "metadata": {
        "colab": {
          "base_uri": "https://localhost:8080/"
        },
        "id": "BKofVJc6lHm_",
        "outputId": "7b60319b-58c1-4f47-d063-8bcaaa179d9e"
      },
      "execution_count": 44,
      "outputs": [
        {
          "output_type": "stream",
          "name": "stdout",
          "text": [
            "rect2: (x=1, y=1, w=40, h=30)\n"
          ]
        }
      ]
    },
    {
      "cell_type": "code",
      "source": [
        "rect1.area()"
      ],
      "metadata": {
        "colab": {
          "base_uri": "https://localhost:8080/"
        },
        "id": "epj55dF1mmGi",
        "outputId": "cfd5c220-7650-4561-94d8-eabc5ccfc703"
      },
      "execution_count": 43,
      "outputs": [
        {
          "output_type": "execute_result",
          "data": {
            "text/plain": [
              "12"
            ]
          },
          "metadata": {},
          "execution_count": 43
        }
      ]
    },
    {
      "cell_type": "code",
      "source": [
        "rect2.area()"
      ],
      "metadata": {
        "colab": {
          "base_uri": "https://localhost:8080/"
        },
        "id": "lHrFHwIVnAKH",
        "outputId": "1ba6744e-46f4-42e2-91a0-36bdb0ac462e"
      },
      "execution_count": 45,
      "outputs": [
        {
          "output_type": "execute_result",
          "data": {
            "text/plain": [
              "1200"
            ]
          },
          "metadata": {},
          "execution_count": 45
        }
      ]
    },
    {
      "cell_type": "code",
      "source": [
        "rect1.perimeter()"
      ],
      "metadata": {
        "colab": {
          "base_uri": "https://localhost:8080/"
        },
        "id": "pDc8RTcWnVC_",
        "outputId": "00b3b4ce-035b-43a2-9517-2ae179d07edc"
      },
      "execution_count": 47,
      "outputs": [
        {
          "output_type": "execute_result",
          "data": {
            "text/plain": [
              "14"
            ]
          },
          "metadata": {},
          "execution_count": 47
        }
      ]
    },
    {
      "cell_type": "code",
      "source": [
        "center = rect1.center()\n",
        "print(center)\n",
        "x, y = rect1.center()  # tuple decomposition(분해)\n",
        "print(x, y)"
      ],
      "metadata": {
        "colab": {
          "base_uri": "https://localhost:8080/"
        },
        "id": "1O83NwxZnrkZ",
        "outputId": "d100774d-1d00-4c13-bf4a-7f046650fbbc"
      },
      "execution_count": 50,
      "outputs": [
        {
          "output_type": "stream",
          "name": "stdout",
          "text": [
            "(1.5, 2.0)\n",
            "1.5 2.0\n"
          ]
        }
      ]
    }
  ]
}