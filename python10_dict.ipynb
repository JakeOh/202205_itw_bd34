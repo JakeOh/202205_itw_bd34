{
  "nbformat": 4,
  "nbformat_minor": 0,
  "metadata": {
    "colab": {
      "name": "python10_dict.ipynb",
      "provenance": [],
      "collapsed_sections": [],
      "authorship_tag": "ABX9TyMOPhojLFdfDeMPl9UMG0GA",
      "include_colab_link": true
    },
    "kernelspec": {
      "name": "python3",
      "display_name": "Python 3"
    },
    "language_info": {
      "name": "python"
    }
  },
  "cells": [
    {
      "cell_type": "markdown",
      "metadata": {
        "id": "view-in-github",
        "colab_type": "text"
      },
      "source": [
        "<a href=\"https://colab.research.google.com/github/JakeOh/202205_itw_bd34/blob/main/python10_dict.ipynb\" target=\"_parent\"><img src=\"https://colab.research.google.com/assets/colab-badge.svg\" alt=\"Open In Colab\"/></a>"
      ]
    },
    {
      "cell_type": "markdown",
      "source": [
        "# dict"
      ],
      "metadata": {
        "id": "uMvQ43_8-k6U"
      }
    },
    {
      "cell_type": "markdown",
      "source": [
        "dict:\n",
        "\n",
        "*   사전(dictionary) 형식의 데이터 타입.\n",
        "*   키(key)를 기반으로 값(value)을 저장하는 데이터 타입.\n",
        "    *   list, tuple: 인덱스(index)를 기반으로 값들을 저장하는 데이터 타입.\n",
        "    *   dict 타입에서 key의 역할은 list나 tuple에서의 인덱스와 마찬가지로, dict에 저장되어 있는 유일한 1개의 값을 참조하기 위한 용도.\n",
        "        * dict에서 key는 중복된 값을 허용하지 않음."
      ],
      "metadata": {
        "id": "e9M-fjZ7-qzV"
      }
    },
    {
      "cell_type": "code",
      "execution_count": 1,
      "metadata": {
        "colab": {
          "base_uri": "https://localhost:8080/"
        },
        "id": "vfSef4KT-dtb",
        "outputId": "20f5ec42-ea74-446b-baae-5f968505504c"
      },
      "outputs": [
        {
          "output_type": "stream",
          "name": "stdout",
          "text": [
            "{100: '홍길동', 101: '오쌤', 200: 'Scott'}\n",
            "<class 'dict'>\n"
          ]
        }
      ],
      "source": [
        "students = {100: '홍길동', 101: '오쌤', 200: 'Scott'}  # {key: value}\n",
        "print(students)\n",
        "print(type(students))"
      ]
    },
    {
      "cell_type": "markdown",
      "source": [
        "## dict의 메서드"
      ],
      "metadata": {
        "id": "3DVE7YQ-Froo"
      }
    },
    {
      "cell_type": "code",
      "source": [
        "students.keys()  # dict.keys(): dict가 가지고 있는 키(key)들의 리스트."
      ],
      "metadata": {
        "colab": {
          "base_uri": "https://localhost:8080/"
        },
        "id": "ZTHB_QkmA2aH",
        "outputId": "4269650b-d446-4699-bc32-426bb48e1e66"
      },
      "execution_count": 2,
      "outputs": [
        {
          "output_type": "execute_result",
          "data": {
            "text/plain": [
              "dict_keys([100, 101, 200])"
            ]
          },
          "metadata": {},
          "execution_count": 2
        }
      ]
    },
    {
      "cell_type": "code",
      "source": [
        "students.values()  # dict.values(): dict가 가지고 있는 값(value)들의 리스트."
      ],
      "metadata": {
        "colab": {
          "base_uri": "https://localhost:8080/"
        },
        "id": "GySrXWduGU0v",
        "outputId": "03af185f-d6bb-44c4-e58f-f94d4ac682e5"
      },
      "execution_count": 3,
      "outputs": [
        {
          "output_type": "execute_result",
          "data": {
            "text/plain": [
              "dict_values(['홍길동', '오쌤', 'Scott'])"
            ]
          },
          "metadata": {},
          "execution_count": 3
        }
      ]
    },
    {
      "cell_type": "code",
      "source": [
        "students.items()  # dict.items(): (key, value) 튜플들의 리스트."
      ],
      "metadata": {
        "colab": {
          "base_uri": "https://localhost:8080/"
        },
        "id": "2mqSJDUpGXgH",
        "outputId": "9f1833c4-c77f-451a-90c0-c2bae5a201a9"
      },
      "execution_count": 4,
      "outputs": [
        {
          "output_type": "execute_result",
          "data": {
            "text/plain": [
              "dict_items([(100, '홍길동'), (101, '오쌤'), (200, 'Scott')])"
            ]
          },
          "metadata": {},
          "execution_count": 4
        }
      ]
    },
    {
      "cell_type": "code",
      "source": [
        "students.get(100)  # dict.get(key): key에 해당하는 value를 리턴."
      ],
      "metadata": {
        "colab": {
          "base_uri": "https://localhost:8080/",
          "height": 36
        },
        "id": "MYOIzJzsHhIS",
        "outputId": "d3867eb4-0437-4474-f457-2f757c453c4e"
      },
      "execution_count": 5,
      "outputs": [
        {
          "output_type": "execute_result",
          "data": {
            "text/plain": [
              "'홍길동'"
            ],
            "application/vnd.google.colaboratory.intrinsic+json": {
              "type": "string"
            }
          },
          "metadata": {},
          "execution_count": 5
        }
      ]
    },
    {
      "cell_type": "code",
      "source": [
        "students[100]  # get() 메서드의 역할을 인덱스 연산자([])로 할 수 있음."
      ],
      "metadata": {
        "colab": {
          "base_uri": "https://localhost:8080/",
          "height": 36
        },
        "id": "93IiwVl-H3CQ",
        "outputId": "47319726-1d80-4987-b99a-36adaf055603"
      },
      "execution_count": 6,
      "outputs": [
        {
          "output_type": "execute_result",
          "data": {
            "text/plain": [
              "'홍길동'"
            ],
            "application/vnd.google.colaboratory.intrinsic+json": {
              "type": "string"
            }
          },
          "metadata": {},
          "execution_count": 6
        }
      ]
    },
    {
      "cell_type": "markdown",
      "source": [
        "## dict의 아이템 추가/변경/삭제"
      ],
      "metadata": {
        "id": "zv6nQ688IPTg"
      }
    },
    {
      "cell_type": "code",
      "source": [
        "students  \n",
        "# 코드 셀에서 가장 마지막 라인이 식(또는 변수)이면 그 값이 콘솔창에 자동으로 출력됨."
      ],
      "metadata": {
        "colab": {
          "base_uri": "https://localhost:8080/"
        },
        "id": "YIrodx5fIXnY",
        "outputId": "1b54885c-d870-4530-ae27-876c67864861"
      },
      "execution_count": 10,
      "outputs": [
        {
          "output_type": "execute_result",
          "data": {
            "text/plain": [
              "{100: '홍길동', 101: '오쌤', 200: 'Scott'}"
            ]
          },
          "metadata": {},
          "execution_count": 10
        }
      ]
    },
    {
      "cell_type": "code",
      "source": [
        "# dict[new_key] = new_value: 키에 해당하는 값을 추가.\n",
        "students[300] = '홍길동'\n",
        "students"
      ],
      "metadata": {
        "colab": {
          "base_uri": "https://localhost:8080/"
        },
        "id": "hBfVtSO0IbuI",
        "outputId": "fb25ccf1-8282-4015-f91d-f10b6e50e93b"
      },
      "execution_count": 11,
      "outputs": [
        {
          "output_type": "execute_result",
          "data": {
            "text/plain": [
              "{100: '홍길동', 101: '오쌤', 200: 'Scott', 300: '홍길동'}"
            ]
          },
          "metadata": {},
          "execution_count": 11
        }
      ]
    },
    {
      "cell_type": "code",
      "source": [
        "# dict[key] = new_value: 기존 키의 값을 새로운 값으로 변경.\n",
        "students[100] = '김길동'\n",
        "students"
      ],
      "metadata": {
        "colab": {
          "base_uri": "https://localhost:8080/"
        },
        "id": "ZcTyGbLJJoCx",
        "outputId": "4d2e9916-1c36-4021-f881-0c8adb278654"
      },
      "execution_count": 12,
      "outputs": [
        {
          "output_type": "execute_result",
          "data": {
            "text/plain": [
              "{100: '김길동', 101: '오쌤', 200: 'Scott', 300: '홍길동'}"
            ]
          },
          "metadata": {},
          "execution_count": 12
        }
      ]
    },
    {
      "cell_type": "code",
      "source": [
        "students.pop(101)  # dict.pop(key): key에 해당하는 아이템을 삭제.\n",
        "students"
      ],
      "metadata": {
        "colab": {
          "base_uri": "https://localhost:8080/"
        },
        "id": "ibNwK-I6J6xQ",
        "outputId": "ced33779-4103-43c2-bf0c-c4fcdc72aeec"
      },
      "execution_count": 13,
      "outputs": [
        {
          "output_type": "execute_result",
          "data": {
            "text/plain": [
              "{100: '김길동', 200: 'Scott', 300: '홍길동'}"
            ]
          },
          "metadata": {},
          "execution_count": 13
        }
      ]
    },
    {
      "cell_type": "markdown",
      "source": [
        "## dict와 for 반복문"
      ],
      "metadata": {
        "id": "mzKZYmIwK59J"
      }
    },
    {
      "cell_type": "code",
      "source": [
        "book = {'title': '파이썬 라이브러리 데이터 분석',\n",
        "        'author': '웨스 매키니',\n",
        "        'price': 35_000}\n",
        "book"
      ],
      "metadata": {
        "colab": {
          "base_uri": "https://localhost:8080/"
        },
        "id": "AFj6e7K3LAeY",
        "outputId": "592d3375-34a2-42f2-cb31-8fc60ab954d0"
      },
      "execution_count": 14,
      "outputs": [
        {
          "output_type": "execute_result",
          "data": {
            "text/plain": [
              "{'author': '웨스 매키니', 'price': 35000, 'title': '파이썬 라이브러리 데이터 분석'}"
            ]
          },
          "metadata": {},
          "execution_count": 14
        }
      ]
    },
    {
      "cell_type": "code",
      "source": [
        "for k in book:\n",
        "    print(k)\n",
        "# for-in 구문에서 dict를 사용하면 key에 대해서 iteration(순회, 반복)을 수행함."
      ],
      "metadata": {
        "colab": {
          "base_uri": "https://localhost:8080/"
        },
        "id": "FcznNg6SMPDS",
        "outputId": "5444e0fc-0efc-4311-d3ce-494bfb3ae096"
      },
      "execution_count": 15,
      "outputs": [
        {
          "output_type": "stream",
          "name": "stdout",
          "text": [
            "title\n",
            "author\n",
            "price\n"
          ]
        }
      ]
    },
    {
      "cell_type": "code",
      "source": [
        "# for-in 구문으로 dict의 key와 value를 모두 출력\n",
        "for k in book:\n",
        "    print(k, ':', book[k])"
      ],
      "metadata": {
        "colab": {
          "base_uri": "https://localhost:8080/"
        },
        "id": "XvXECNTIMtDK",
        "outputId": "fb5707ff-25f4-4cc4-dcd7-f15e481d9c51"
      },
      "execution_count": 17,
      "outputs": [
        {
          "output_type": "stream",
          "name": "stdout",
          "text": [
            "title : 파이썬 라이브러리 데이터 분석\n",
            "author : 웨스 매키니\n",
            "price : 35000\n"
          ]
        }
      ]
    },
    {
      "cell_type": "code",
      "source": [
        "for k, v in book.items():\n",
        "    print(k, ':', v)"
      ],
      "metadata": {
        "colab": {
          "base_uri": "https://localhost:8080/"
        },
        "id": "JwAeaD_3OP2p",
        "outputId": "d0b3319f-19db-4400-b732-731563799e97"
      },
      "execution_count": 19,
      "outputs": [
        {
          "output_type": "stream",
          "name": "stdout",
          "text": [
            "title : 파이썬 라이브러리 데이터 분석\n",
            "author : 웨스 매키니\n",
            "price : 35000\n"
          ]
        }
      ]
    },
    {
      "cell_type": "code",
      "source": [
        ""
      ],
      "metadata": {
        "id": "04l1UNOjObcy"
      },
      "execution_count": null,
      "outputs": []
    }
  ]
}