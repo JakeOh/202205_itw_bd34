{
  "nbformat": 4,
  "nbformat_minor": 0,
  "metadata": {
    "colab": {
      "name": "python03_conditional.ipynb",
      "provenance": [],
      "collapsed_sections": [],
      "authorship_tag": "ABX9TyNjvK/Ja2OJqff49D4d1IAR",
      "include_colab_link": true
    },
    "kernelspec": {
      "name": "python3",
      "display_name": "Python 3"
    },
    "language_info": {
      "name": "python"
    }
  },
  "cells": [
    {
      "cell_type": "markdown",
      "metadata": {
        "id": "view-in-github",
        "colab_type": "text"
      },
      "source": [
        "<a href=\"https://colab.research.google.com/github/JakeOh/202205_itw_bd34/blob/main/python03_conditional.ipynb\" target=\"_parent\"><img src=\"https://colab.research.google.com/assets/colab-badge.svg\" alt=\"Open In Colab\"/></a>"
      ]
    },
    {
      "cell_type": "markdown",
      "source": [
        "# 조건문(Conditional Statement)"
      ],
      "metadata": {
        "id": "1Hc3X8_dwkBe"
      }
    },
    {
      "cell_type": "markdown",
      "source": [
        "## else 없는 조건문\n",
        "\n",
        "```\n",
        "if 조건식:\n",
        "    조건을 만족할 때 실행할 코드 블록(문장들).\n",
        "```\n",
        "\n",
        "*   `if 조건식` 뒤에는 반드시 콜론(:)을 써야 함. 블록 시작을 의미함.\n",
        "*   if 블록은 반드시 들여쓰기(indentation)를 해야 함.\n",
        "*   들여쓰기의 크기는 일정해야 함.\n"
      ],
      "metadata": {
        "id": "7ptbUcOTxXTe"
      }
    },
    {
      "cell_type": "code",
      "execution_count": 1,
      "metadata": {
        "id": "rid-ayMZwLtH",
        "colab": {
          "base_uri": "https://localhost:8080/"
        },
        "outputId": "514dbedc-0c1c-474b-b657-014af13bc929"
      },
      "outputs": [
        {
          "output_type": "stream",
          "name": "stdout",
          "text": [
            "end...\n"
          ]
        }
      ],
      "source": [
        "age = -16\n",
        "if age >= 0:\n",
        "    print(f'당신의 나이는 {age}살 이군요.')  # (1) if (내부) 블록\n",
        "print('end...')  # (2) if 블록이 끝났을 때 실행할 문장."
      ]
    },
    {
      "cell_type": "markdown",
      "source": [
        "## else 있는 조건문\n",
        "\n",
        "```\n",
        "if 조건식:\n",
        "    조건식을 만족할 때 실행할 코드 블록\n",
        "else:\n",
        "    조건식을 만족하지 못할 때 실행할 코드 블록\n",
        "```\n",
        "\n",
        "*   `if 조건식`과 `else` 뒤에는 반드시 콜론(:)을 써야 함.\n",
        "*   if 블록과 else 블록은 반드시 들여쓰기를 해야 함.\n",
        "*   들여쓰기의 크기는 일정해야 함.\n"
      ],
      "metadata": {
        "id": "A_V0CUH13gDl"
      }
    },
    {
      "cell_type": "code",
      "source": [
        "age = -16\n",
        "if age >= 0:\n",
        "    print('정상적인 나이 입력값')  # (1)\n",
        "else:\n",
        "    print('잘못된 나이 입력값')  # (2)\n",
        "print('end...')  # (3)"
      ],
      "metadata": {
        "colab": {
          "base_uri": "https://localhost:8080/"
        },
        "id": "HS9Yj-r52tGP",
        "outputId": "3b57814e-74bd-4fe9-c9ed-7b3e44301175"
      },
      "execution_count": 2,
      "outputs": [
        {
          "output_type": "stream",
          "name": "stdout",
          "text": [
            "잘못된 나이 입력값\n",
            "end...\n"
          ]
        }
      ]
    },
    {
      "cell_type": "markdown",
      "source": [
        "## Exercise\n",
        "\n",
        "*   정수 3개를 입력받고 변수에 저장\n",
        "*   정수 3개의 평균을 계산하고 출력\n",
        "*   평균이\n",
        "    *   90 이상이면, 'A'\n",
        "    *   80 이상이면, 'B'\n",
        "    *   70 이상이면, 'C'\n",
        "    *   70 미만이면, 'F' 출력\n",
        "    "
      ],
      "metadata": {
        "id": "xYpLpOFt8wf9"
      }
    },
    {
      "cell_type": "code",
      "source": [
        "# 정수 3개를 입력받고 변수에 저장\n",
        "score1 = int(input('정수 입력>>> '))\n",
        "score2 = int(input('정수 입력>>> '))\n",
        "score3 = int(input('정수 입력>>> '))\n",
        "\n",
        "# 정수 3개의 평균을 계산하고 출력\n",
        "mean = (score1 + score2 + score3) / 3\n",
        "print('평균 =', mean)\n",
        "\n",
        "# A, B, C, F 결정\n",
        "if mean >= 90:  # 평균이 90 이상이면\n",
        "    print('A')\n",
        "if 80 <= mean < 90:  # mean >= 80 and mean < 90:  # 평균이 (90 미만이고) 80 이상이면\n",
        "    print('B')\n",
        "if 70 <= mean < 80:  # 평균이 70 이상이고 80 미만이면\n",
        "    print('C')\n",
        "if mean < 70:  # 평균이 70 미만이면\n",
        "    print('F')"
      ],
      "metadata": {
        "colab": {
          "base_uri": "https://localhost:8080/"
        },
        "id": "Cn2vPNrVZ8PQ",
        "outputId": "3dcb22c9-860d-488b-d270-fe188d14cf7f"
      },
      "execution_count": 12,
      "outputs": [
        {
          "output_type": "stream",
          "name": "stdout",
          "text": [
            "정수 입력>>> 60\n",
            "정수 입력>>> 50\n",
            "정수 입력>>> 40\n",
            "평균 = 50.0\n",
            "F\n"
          ]
        }
      ]
    },
    {
      "cell_type": "markdown",
      "source": [
        "## Chained Conditionals\n",
        "\n",
        "```\n",
        "if 조건식1:\n",
        "    (조건식1)을 만족할 때 실행할 코드 블록\n",
        "elif 조건식2:\n",
        "    (조건식2)를 만족할 때 실행할 코드 블록\n",
        "...\n",
        "else:\n",
        "    위의 모든 조건식들을 만족하지 못할 때 실행할 코드 블록\n",
        "```\n",
        "\n",
        "*   모든 블록들은 들여쓰기를 해야 함.\n",
        "*   elif 블록은 1개 이상이 있을 수 있음.\n",
        "*   else 블록은 생략될 수 있음.\n"
      ],
      "metadata": {
        "id": "DGLXUJHLgY6E"
      }
    },
    {
      "cell_type": "code",
      "source": [
        "# 정수 3개를 입력받고 변수에 저장\n",
        "score1 = int(input('정수 입력>>> '))\n",
        "score2 = int(input('정수 입력>>> '))\n",
        "score3 = int(input('정수 입력>>> '))\n",
        "\n",
        "# 정수 3개의 평균을 계산하고 출력\n",
        "mean = (score1 + score2 + score3) / 3\n",
        "print('평균 =', mean)\n",
        "\n",
        "# A, B, C, F 결정\n",
        "if mean >= 90:\n",
        "    print('A')\n",
        "elif mean >= 80:  # 80 <= mean < 90 라고 검사할 필요 없음.\n",
        "    print('B')\n",
        "elif mean >= 70:\n",
        "    print('C')\n",
        "else:\n",
        "    print('F')"
      ],
      "metadata": {
        "colab": {
          "base_uri": "https://localhost:8080/"
        },
        "id": "sQnzAhAIiaap",
        "outputId": "c9e6f273-127f-4ea6-f9ab-ab1a963e33fd"
      },
      "execution_count": 14,
      "outputs": [
        {
          "output_type": "stream",
          "name": "stdout",
          "text": [
            "정수 입력>>> 85\n",
            "정수 입력>>> 86\n",
            "정수 입력>>> 87\n",
            "평균 = 86.0\n",
            "B\n"
          ]
        }
      ]
    },
    {
      "cell_type": "markdown",
      "source": [
        "*   숫자(실수) 1개를 입력 받고 변수에 저장.\n",
        "*   숫자 양수, 음수, 0인 지를 출력."
      ],
      "metadata": {
        "id": "_YdpycN7oO2r"
      }
    },
    {
      "cell_type": "code",
      "source": [
        "number = float(input('숫자 입력>>> '))\n",
        "if number > 0:\n",
        "    print('양수')\n",
        "elif number < 0:\n",
        "    print('음수')\n",
        "else:\n",
        "    print('0')"
      ],
      "metadata": {
        "colab": {
          "base_uri": "https://localhost:8080/"
        },
        "id": "oXWAlsIHoz5j",
        "outputId": "8757bc8d-d7aa-4dc4-d22f-3f2399923bab"
      },
      "execution_count": 18,
      "outputs": [
        {
          "output_type": "stream",
          "name": "stdout",
          "text": [
            "숫자 입력>>> -100\n",
            "음수\n"
          ]
        }
      ]
    },
    {
      "cell_type": "markdown",
      "source": [
        "## 중첩 조건문(nested conditionals)\n",
        "\n",
        "*   if 블록, elif 블록, else 블록 안에서 또다른 조건문(if, if-else, if-elif-else)을 사용하는 것.\n",
        "*   들여쓰기에 특히 주의! 들여쓰기 방법에 따라서 완전히 다른 실행 코드(로직)이 될 수 있음.\n",
        "*   elif 또는 논리 연산자(and, or)를 사용하는 문장을 중첩 조건문으로 만들 수 있음.\n",
        "\n",
        "```\n",
        "if 조건식1:\n",
        "    if 조건식2:\n",
        "        코드 블록 (1)\n",
        "    else:\n",
        "        코드 블록 (2)\n",
        "\n",
        "if 조건식1:\n",
        "    코드 블록 (1)\n",
        "else:\n",
        "    if 조건식2:\n",
        "        코드 블록 (2)\n",
        "    else:\n",
        "        코드 블록 (3)\n",
        "```\n"
      ],
      "metadata": {
        "id": "YLBImPsbqhMT"
      }
    },
    {
      "cell_type": "code",
      "source": [
        "number = float(input('숫자 입력>>> '))\n",
        "if number > 0:\n",
        "    print('positive number')\n",
        "else:  # number가 0보다 크지 않으면\n",
        "    if number == 0:\n",
        "        print('zero')\n",
        "    else:\n",
        "        print('negative number')"
      ],
      "metadata": {
        "colab": {
          "base_uri": "https://localhost:8080/"
        },
        "id": "ZdxJDenes8sz",
        "outputId": "27fdce45-1746-4b0f-9bec-6d8fdb38300c"
      },
      "execution_count": 24,
      "outputs": [
        {
          "output_type": "stream",
          "name": "stdout",
          "text": [
            "숫자 입력>>> 0\n",
            "zero\n"
          ]
        }
      ]
    },
    {
      "cell_type": "code",
      "source": [
        "x = int(input('정수 입력>>> '))\n",
        "y = int(input('정수 입력>>> '))\n",
        "z = int(input('정수 입력>>> '))\n",
        "\n",
        "mean = (x + y + z) / 3  # 평균\n",
        "print('mean =', mean)\n",
        "if mean >= 90:\n",
        "    print('A')\n",
        "else:\n",
        "    if mean >= 80:\n",
        "        print('B')\n",
        "    else:\n",
        "        if mean >= 70:\n",
        "            print('C')\n",
        "        else:\n",
        "            print('F')"
      ],
      "metadata": {
        "colab": {
          "base_uri": "https://localhost:8080/"
        },
        "id": "KDmQA26VvVO7",
        "outputId": "60d74aa6-942f-4992-cb6f-232b4c994f59"
      },
      "execution_count": 27,
      "outputs": [
        {
          "output_type": "stream",
          "name": "stdout",
          "text": [
            "정수 입력>>> 75\n",
            "정수 입력>>> 73\n",
            "정수 입력>>> 79\n",
            "mean = 75.66666666666667\n",
            "C\n"
          ]
        }
      ]
    }
  ]
}