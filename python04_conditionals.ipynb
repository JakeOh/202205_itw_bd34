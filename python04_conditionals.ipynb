{
  "nbformat": 4,
  "nbformat_minor": 0,
  "metadata": {
    "colab": {
      "name": "python04_conditionals.ipynb",
      "provenance": [],
      "collapsed_sections": [],
      "authorship_tag": "ABX9TyPB26E0EzPyQXlXljUXyaA2",
      "include_colab_link": true
    },
    "kernelspec": {
      "name": "python3",
      "display_name": "Python 3"
    },
    "language_info": {
      "name": "python"
    }
  },
  "cells": [
    {
      "cell_type": "markdown",
      "metadata": {
        "id": "view-in-github",
        "colab_type": "text"
      },
      "source": [
        "<a href=\"https://colab.research.google.com/github/JakeOh/202205_itw_bd34/blob/main/python04_conditionals.ipynb\" target=\"_parent\"><img src=\"https://colab.research.google.com/assets/colab-badge.svg\" alt=\"Open In Colab\"/></a>"
      ]
    },
    {
      "cell_type": "markdown",
      "source": [
        "# 난수(random number) 만드는 방법"
      ],
      "metadata": {
        "id": "F2S5WBHw1ZS9"
      }
    },
    {
      "cell_type": "code",
      "execution_count": 1,
      "metadata": {
        "id": "3N69Phem0ok6"
      },
      "outputs": [],
      "source": [
        "import random  # 난수를 만들어 주는 함수들을 가지고 있는 모듈"
      ]
    },
    {
      "cell_type": "code",
      "source": [
        "# random.random(): 0 <= x < 1 범위의 (실수) 난수들을 생성.\n",
        "random.random()"
      ],
      "metadata": {
        "colab": {
          "base_uri": "https://localhost:8080/"
        },
        "id": "OrrRBg1j10RV",
        "outputId": "dda8b5f0-6d45-4914-e11d-6402f5079baa"
      },
      "execution_count": 34,
      "outputs": [
        {
          "output_type": "execute_result",
          "data": {
            "text/plain": [
              "0.9767762871013194"
            ]
          },
          "metadata": {},
          "execution_count": 34
        }
      ]
    },
    {
      "cell_type": "code",
      "source": [
        "# random.randrange(start, stop): start <= x < stop 범위의 정수 난수들을 생성.\n",
        "random.randrange(1, 4)"
      ],
      "metadata": {
        "colab": {
          "base_uri": "https://localhost:8080/"
        },
        "id": "sQ_uWH6Q2xNc",
        "outputId": "51402b5d-64c3-4129-9ee6-7d248c2be2af"
      },
      "execution_count": 22,
      "outputs": [
        {
          "output_type": "execute_result",
          "data": {
            "text/plain": [
              "2"
            ]
          },
          "metadata": {},
          "execution_count": 22
        }
      ]
    },
    {
      "cell_type": "code",
      "source": [
        "# random.randrange(stop): 0 <= x < stop 범위의 정수 난수들을 생성.\n",
        "random.randrange(4)"
      ],
      "metadata": {
        "colab": {
          "base_uri": "https://localhost:8080/"
        },
        "id": "2SPDdiPb3WFm",
        "outputId": "47d5db2c-f26c-4670-abcc-59ef1cd4551b"
      },
      "execution_count": 27,
      "outputs": [
        {
          "output_type": "execute_result",
          "data": {
            "text/plain": [
              "0"
            ]
          },
          "metadata": {},
          "execution_count": 27
        }
      ]
    },
    {
      "cell_type": "markdown",
      "source": [
        "# 가위,바위,보 게임 승패 결정"
      ],
      "metadata": {
        "id": "y6lcAolx4URe"
      }
    },
    {
      "cell_type": "markdown",
      "source": [
        "*   가위(1), 바위(2), 보(3)\n",
        "*   컴퓨터 - 1,2,3 중의 숫자 하나를 난수로 저장.\n",
        "*   사용자 - 1,2,3 중의 숫자 하나를 입력받아서 저장.\n",
        "*   가위/바위/보 게임 결과를 조건문을 사용해서 출력."
      ],
      "metadata": {
        "id": "uB7WluRQ4as2"
      }
    },
    {
      "cell_type": "code",
      "source": [
        "computer = random.randrange(1, 4)\n",
        "print(computer)"
      ],
      "metadata": {
        "colab": {
          "base_uri": "https://localhost:8080/"
        },
        "id": "HGqaqAEg4ZqI",
        "outputId": "f65b34fc-ac61-46ca-9af4-5e98afa3dd56"
      },
      "execution_count": 44,
      "outputs": [
        {
          "output_type": "stream",
          "name": "stdout",
          "text": [
            "2\n"
          ]
        }
      ]
    },
    {
      "cell_type": "code",
      "source": [
        "print('=== 가위/바위/보 ===')\n",
        "print('[1] 가위')\n",
        "print('[2] 바위')\n",
        "print('[3] 보')\n",
        "user = int(input('선택>>> '))"
      ],
      "metadata": {
        "colab": {
          "base_uri": "https://localhost:8080/"
        },
        "id": "cUMSVP4N4-QG",
        "outputId": "78e18e6e-bfc0-4530-947e-4c90ab536ee1"
      },
      "execution_count": 50,
      "outputs": [
        {
          "name": "stdout",
          "output_type": "stream",
          "text": [
            "=== 가위/바위/보 ===\n",
            "[1] 가위\n",
            "[2] 바위\n",
            "[3] 보\n",
            "선택>>> 1\n"
          ]
        }
      ]
    },
    {
      "cell_type": "code",
      "source": [
        "# 게임 결과 출력\n",
        "if user == 1:            # user: 가위\n",
        "    if computer == 1:    # com: 가위\n",
        "        print('Tie')\n",
        "    elif computer == 2:  # com: 바위\n",
        "        print('Computer Win')\n",
        "    else:                # com: 보\n",
        "        print('User Win')\n",
        "elif user == 2:          # user: 바위\n",
        "    if computer == 1:    # com: 가위\n",
        "        print('User Win')\n",
        "    elif computer == 2:  # com: 바위\n",
        "        print('Tie')\n",
        "    else:                # com: 보\n",
        "        print('Computer Win')\n",
        "else:                    # user: 보\n",
        "    if computer == 1:    # com: 가위\n",
        "        print('Computer Win')\n",
        "    elif computer == 2:  # com: 바위\n",
        "        print('User Win')\n",
        "    else:                # com: 보\n",
        "        print('Tie')"
      ],
      "metadata": {
        "colab": {
          "base_uri": "https://localhost:8080/"
        },
        "id": "4GHlCA-N51t-",
        "outputId": "9e1327de-e054-4e33-b225-5c8a60e070a5"
      },
      "execution_count": 51,
      "outputs": [
        {
          "output_type": "stream",
          "name": "stdout",
          "text": [
            "Computer Win\n"
          ]
        }
      ]
    },
    {
      "cell_type": "code",
      "source": [
        "if user == 1 and computer == 1:\n",
        "    pass\n",
        "elif user == 1 and computer == 2:\n",
        "    pass\n",
        "elif user == 1 and computer == 3:\n",
        "    pass\n",
        "elif user == 2 and computer == 1:\n",
        "    pass\n",
        "elif user == 2 and computer == 2:\n",
        "    pass\n",
        "elif user == 2 and computer == 3:\n",
        "    pass\n",
        "elif user == 3 and computer == 1:\n",
        "    pass\n",
        "elif user == 3 and computer ==2:\n",
        "    pass\n",
        "elif user == 3 and computer == 3:\n",
        "    pass"
      ],
      "metadata": {
        "id": "EDtPnC4IV1-7"
      },
      "execution_count": null,
      "outputs": []
    },
    {
      "cell_type": "code",
      "source": [
        "if user == computer:\n",
        "    pass  # 비김\n",
        "elif user == 1:\n",
        "    if computer == 2:\n",
        "        pass\n",
        "    else:  # com=3\n",
        "        pass\n",
        "elif user == 2:\n",
        "    if computer == 1:\n",
        "        pass\n",
        "    else:  # com=3\n",
        "        pass\n",
        "else:\n",
        "    if computer == 1:\n",
        "        pass\n",
        "    else:  # com=2\n",
        "        pass"
      ],
      "metadata": {
        "id": "vfsTi4dLXbwC"
      },
      "execution_count": null,
      "outputs": []
    },
    {
      "cell_type": "code",
      "source": [
        "if user == computer:  # 비김\n",
        "    print('Tie')\n",
        "elif (user == 1 and computer == 3) or (user == 2 and computer == 1) or (user == 3 and computer == 2):  # user 이김\n",
        "    print('User win')\n",
        "else:  # computer 이김\n",
        "    print('Computer win')"
      ],
      "metadata": {
        "colab": {
          "base_uri": "https://localhost:8080/"
        },
        "id": "wDLpjMZWYvOb",
        "outputId": "0590365a-7feb-4513-c818-528c6f108bb8"
      },
      "execution_count": 52,
      "outputs": [
        {
          "output_type": "stream",
          "name": "stdout",
          "text": [
            "Computer win\n"
          ]
        }
      ]
    },
    {
      "cell_type": "code",
      "source": [
        "result = user - computer\n",
        "if result == 0:\n",
        "    print('Tie')\n",
        "elif result == 1 or result == -2:\n",
        "    print('User win')\n",
        "else:\n",
        "    print('Computer win')"
      ],
      "metadata": {
        "colab": {
          "base_uri": "https://localhost:8080/"
        },
        "id": "vorBprcNaW_D",
        "outputId": "88f6611f-022b-4dc0-c02f-f38d605bdd06"
      },
      "execution_count": 53,
      "outputs": [
        {
          "output_type": "stream",
          "name": "stdout",
          "text": [
            "Computer win\n"
          ]
        }
      ]
    }
  ]
}